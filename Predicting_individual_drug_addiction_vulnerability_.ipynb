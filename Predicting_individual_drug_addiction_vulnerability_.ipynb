{
  "nbformat": 4,
  "nbformat_minor": 0,
  "metadata": {
    "kernelspec": {
      "display_name": "Python 3",
      "language": "python",
      "name": "python3"
    },
    "language_info": {
      "codemirror_mode": {
        "name": "ipython",
        "version": 3
      },
      "file_extension": ".py",
      "mimetype": "text/x-python",
      "name": "python",
      "nbconvert_exporter": "python",
      "pygments_lexer": "ipython3",
      "version": "3.8.2"
    },
    "colab": {
      "name": "Predicting individual drug addiction vulnerability-###.ipynb",
      "provenance": [],
      "toc_visible": true
    }
  },
  "cells": [
    {
      "cell_type": "code",
      "metadata": {
        "id": "6ESbtcxNr5ja",
        "outputId": "d3910b08-9dfd-4db3-f430-1a7975fbae4c",
        "colab": {
          "base_uri": "https://localhost:8080/",
          "height": 617
        }
      },
      "source": [
        "import pandas as pd\n",
        "a= pd.read_excel('healthy.xlsx')\n",
        "a"
      ],
      "execution_count": 1,
      "outputs": [
        {
          "output_type": "execute_result",
          "data": {
            "text/html": [
              "<div>\n",
              "<style scoped>\n",
              "    .dataframe tbody tr th:only-of-type {\n",
              "        vertical-align: middle;\n",
              "    }\n",
              "\n",
              "    .dataframe tbody tr th {\n",
              "        vertical-align: top;\n",
              "    }\n",
              "\n",
              "    .dataframe thead th {\n",
              "        text-align: right;\n",
              "    }\n",
              "</style>\n",
              "<table border=\"1\" class=\"dataframe\">\n",
              "  <thead>\n",
              "    <tr style=\"text-align: right;\">\n",
              "      <th></th>\n",
              "      <th>Your age?</th>\n",
              "      <th>Gender?</th>\n",
              "      <th>Marital status?</th>\n",
              "      <th>Relationship status?(if unmarried)</th>\n",
              "      <th>broken family?(parents live separately)</th>\n",
              "      <th>Are you happy about your marriage/relationship?</th>\n",
              "      <th>financial situation of your family?</th>\n",
              "      <th>is/was any of your family members ever involved in drugs?</th>\n",
              "      <th>How is your relationship with your parents?</th>\n",
              "      <th>Are you often cursed by your closed ones for not being able to live up-to their expectations?</th>\n",
              "      <th>How successful are you among your family members?</th>\n",
              "      <th>current state of living?</th>\n",
              "      <th>Occupational status?</th>\n",
              "      <th>Occupational success?</th>\n",
              "      <th>How do you rate your workplace?</th>\n",
              "      <th>Occupational status compared to friends?</th>\n",
              "      <th>Number of friends/ accomplices?</th>\n",
              "      <th>Do you get influenced by your friends' activity?</th>\n",
              "      <th>How many of your friends have taken drugs ?</th>\n",
              "      <th>Do you like to hang out with friends?</th>\n",
              "      <th>Do you join parties/gatherings/hangouts where there's a frequent use of drugs?</th>\n",
              "      <th>How fast can you get in a society/community?</th>\n",
              "      <th>Do you have curiosity/fantasy about drugs?</th>\n",
              "      <th>Do you have access to drugs(could you manage if you wanted)?</th>\n",
              "      <th>Do you hate a drug addict as a person?</th>\n",
              "      <th>Are you satisfied with your life until 3w?</th>\n",
              "      <th>Are you happy with your physical outlook?</th>\n",
              "      <th>Are you suffering from any serious illness?</th>\n",
              "      <th>Have you lost any of your closed ones recently?</th>\n",
              "      <th>How do you rate your living place?</th>\n",
              "      <th>what is your religious mindset?</th>\n",
              "      <th>Are you involved in sports or any form of physical exercise?</th>\n",
              "      <th>Failed in love? (break-up, refusal of love etc. )</th>\n",
              "      <th>Do you enjoy taking risk/ having a new experience/ doing something thrilling?</th>\n",
              "      <th>Do you think that people don't find interest in conversation with you?</th>\n",
              "      <th>Do you believe in the notion that drugs relieve you from mental stress?</th>\n",
              "      <th>goal</th>\n",
              "    </tr>\n",
              "  </thead>\n",
              "  <tbody>\n",
              "    <tr>\n",
              "      <th>0</th>\n",
              "      <td>1.0</td>\n",
              "      <td>1</td>\n",
              "      <td>2</td>\n",
              "      <td>1.0</td>\n",
              "      <td>2</td>\n",
              "      <td>2.0</td>\n",
              "      <td>2.0</td>\n",
              "      <td>3</td>\n",
              "      <td>2</td>\n",
              "      <td>2.0</td>\n",
              "      <td>2.0</td>\n",
              "      <td>3.0</td>\n",
              "      <td>1.0</td>\n",
              "      <td>2.0</td>\n",
              "      <td>3.0</td>\n",
              "      <td>3.0</td>\n",
              "      <td>1.0</td>\n",
              "      <td>3.0</td>\n",
              "      <td>1.0</td>\n",
              "      <td>1.0</td>\n",
              "      <td>1.0</td>\n",
              "      <td>1.0</td>\n",
              "      <td>2.0</td>\n",
              "      <td>2.0</td>\n",
              "      <td>2.0</td>\n",
              "      <td>2.0</td>\n",
              "      <td>2.0</td>\n",
              "      <td>2.0</td>\n",
              "      <td>1.0</td>\n",
              "      <td>3.0</td>\n",
              "      <td>2.0</td>\n",
              "      <td>1.0</td>\n",
              "      <td>3.0</td>\n",
              "      <td>1.0</td>\n",
              "      <td>1.0</td>\n",
              "      <td>2.0</td>\n",
              "      <td>0</td>\n",
              "    </tr>\n",
              "    <tr>\n",
              "      <th>1</th>\n",
              "      <td>2.0</td>\n",
              "      <td>1</td>\n",
              "      <td>2</td>\n",
              "      <td>2.0</td>\n",
              "      <td>2</td>\n",
              "      <td>2.0</td>\n",
              "      <td>1.0</td>\n",
              "      <td>3</td>\n",
              "      <td>1</td>\n",
              "      <td>2.0</td>\n",
              "      <td>2.0</td>\n",
              "      <td>3.0</td>\n",
              "      <td>3.0</td>\n",
              "      <td>2.0</td>\n",
              "      <td>2.0</td>\n",
              "      <td>2.0</td>\n",
              "      <td>1.0</td>\n",
              "      <td>2.0</td>\n",
              "      <td>2.0</td>\n",
              "      <td>1.0</td>\n",
              "      <td>2.0</td>\n",
              "      <td>2.0</td>\n",
              "      <td>3.0</td>\n",
              "      <td>2.0</td>\n",
              "      <td>2.0</td>\n",
              "      <td>2.0</td>\n",
              "      <td>2.0</td>\n",
              "      <td>2.0</td>\n",
              "      <td>2.0</td>\n",
              "      <td>2.0</td>\n",
              "      <td>2.0</td>\n",
              "      <td>2.0</td>\n",
              "      <td>2.0</td>\n",
              "      <td>1.0</td>\n",
              "      <td>2.0</td>\n",
              "      <td>3.0</td>\n",
              "      <td>0</td>\n",
              "    </tr>\n",
              "    <tr>\n",
              "      <th>2</th>\n",
              "      <td>1.0</td>\n",
              "      <td>1</td>\n",
              "      <td>2</td>\n",
              "      <td>2.0</td>\n",
              "      <td>2</td>\n",
              "      <td>1.0</td>\n",
              "      <td>3.0</td>\n",
              "      <td>3</td>\n",
              "      <td>1</td>\n",
              "      <td>3.0</td>\n",
              "      <td>1.0</td>\n",
              "      <td>3.0</td>\n",
              "      <td>3.0</td>\n",
              "      <td>2.0</td>\n",
              "      <td>2.0</td>\n",
              "      <td>NaN</td>\n",
              "      <td>1.0</td>\n",
              "      <td>1.0</td>\n",
              "      <td>3.0</td>\n",
              "      <td>1.0</td>\n",
              "      <td>2.0</td>\n",
              "      <td>2.0</td>\n",
              "      <td>1.0</td>\n",
              "      <td>2.0</td>\n",
              "      <td>2.0</td>\n",
              "      <td>1.0</td>\n",
              "      <td>1.0</td>\n",
              "      <td>2.0</td>\n",
              "      <td>1.0</td>\n",
              "      <td>3.0</td>\n",
              "      <td>3.0</td>\n",
              "      <td>1.0</td>\n",
              "      <td>3.0</td>\n",
              "      <td>1.0</td>\n",
              "      <td>2.0</td>\n",
              "      <td>2.0</td>\n",
              "      <td>0</td>\n",
              "    </tr>\n",
              "    <tr>\n",
              "      <th>3</th>\n",
              "      <td>1.0</td>\n",
              "      <td>1</td>\n",
              "      <td>2</td>\n",
              "      <td>1.0</td>\n",
              "      <td>2</td>\n",
              "      <td>1.0</td>\n",
              "      <td>1.0</td>\n",
              "      <td>3</td>\n",
              "      <td>2</td>\n",
              "      <td>2.0</td>\n",
              "      <td>2.0</td>\n",
              "      <td>3.0</td>\n",
              "      <td>1.0</td>\n",
              "      <td>2.0</td>\n",
              "      <td>2.0</td>\n",
              "      <td>1.0</td>\n",
              "      <td>1.0</td>\n",
              "      <td>3.0</td>\n",
              "      <td>1.0</td>\n",
              "      <td>1.0</td>\n",
              "      <td>1.0</td>\n",
              "      <td>2.0</td>\n",
              "      <td>2.0</td>\n",
              "      <td>2.0</td>\n",
              "      <td>1.0</td>\n",
              "      <td>2.0</td>\n",
              "      <td>2.0</td>\n",
              "      <td>2.0</td>\n",
              "      <td>2.0</td>\n",
              "      <td>2.0</td>\n",
              "      <td>2.0</td>\n",
              "      <td>1.0</td>\n",
              "      <td>3.0</td>\n",
              "      <td>1.0</td>\n",
              "      <td>2.0</td>\n",
              "      <td>3.0</td>\n",
              "      <td>0</td>\n",
              "    </tr>\n",
              "    <tr>\n",
              "      <th>4</th>\n",
              "      <td>1.0</td>\n",
              "      <td>1</td>\n",
              "      <td>2</td>\n",
              "      <td>2.0</td>\n",
              "      <td>2</td>\n",
              "      <td>2.0</td>\n",
              "      <td>1.0</td>\n",
              "      <td>3</td>\n",
              "      <td>1</td>\n",
              "      <td>2.0</td>\n",
              "      <td>2.0</td>\n",
              "      <td>3.0</td>\n",
              "      <td>3.0</td>\n",
              "      <td>2.0</td>\n",
              "      <td>NaN</td>\n",
              "      <td>NaN</td>\n",
              "      <td>1.0</td>\n",
              "      <td>2.0</td>\n",
              "      <td>1.0</td>\n",
              "      <td>1.0</td>\n",
              "      <td>1.0</td>\n",
              "      <td>1.0</td>\n",
              "      <td>2.0</td>\n",
              "      <td>NaN</td>\n",
              "      <td>1.0</td>\n",
              "      <td>1.0</td>\n",
              "      <td>1.0</td>\n",
              "      <td>2.0</td>\n",
              "      <td>2.0</td>\n",
              "      <td>2.0</td>\n",
              "      <td>2.0</td>\n",
              "      <td>2.0</td>\n",
              "      <td>2.0</td>\n",
              "      <td>1.0</td>\n",
              "      <td>2.0</td>\n",
              "      <td>NaN</td>\n",
              "      <td>0</td>\n",
              "    </tr>\n",
              "    <tr>\n",
              "      <th>...</th>\n",
              "      <td>...</td>\n",
              "      <td>...</td>\n",
              "      <td>...</td>\n",
              "      <td>...</td>\n",
              "      <td>...</td>\n",
              "      <td>...</td>\n",
              "      <td>...</td>\n",
              "      <td>...</td>\n",
              "      <td>...</td>\n",
              "      <td>...</td>\n",
              "      <td>...</td>\n",
              "      <td>...</td>\n",
              "      <td>...</td>\n",
              "      <td>...</td>\n",
              "      <td>...</td>\n",
              "      <td>...</td>\n",
              "      <td>...</td>\n",
              "      <td>...</td>\n",
              "      <td>...</td>\n",
              "      <td>...</td>\n",
              "      <td>...</td>\n",
              "      <td>...</td>\n",
              "      <td>...</td>\n",
              "      <td>...</td>\n",
              "      <td>...</td>\n",
              "      <td>...</td>\n",
              "      <td>...</td>\n",
              "      <td>...</td>\n",
              "      <td>...</td>\n",
              "      <td>...</td>\n",
              "      <td>...</td>\n",
              "      <td>...</td>\n",
              "      <td>...</td>\n",
              "      <td>...</td>\n",
              "      <td>...</td>\n",
              "      <td>...</td>\n",
              "      <td>...</td>\n",
              "    </tr>\n",
              "    <tr>\n",
              "      <th>295</th>\n",
              "      <td>1.0</td>\n",
              "      <td>2</td>\n",
              "      <td>2</td>\n",
              "      <td>2.0</td>\n",
              "      <td>1</td>\n",
              "      <td>NaN</td>\n",
              "      <td>3.0</td>\n",
              "      <td>3</td>\n",
              "      <td>2</td>\n",
              "      <td>3.0</td>\n",
              "      <td>2.0</td>\n",
              "      <td>1.0</td>\n",
              "      <td>1.0</td>\n",
              "      <td>3.0</td>\n",
              "      <td>2.0</td>\n",
              "      <td>2.0</td>\n",
              "      <td>1.0</td>\n",
              "      <td>2.0</td>\n",
              "      <td>2.0</td>\n",
              "      <td>1.0</td>\n",
              "      <td>2.0</td>\n",
              "      <td>1.0</td>\n",
              "      <td>3.0</td>\n",
              "      <td>2.0</td>\n",
              "      <td>2.0</td>\n",
              "      <td>1.0</td>\n",
              "      <td>1.0</td>\n",
              "      <td>2.0</td>\n",
              "      <td>2.0</td>\n",
              "      <td>2.0</td>\n",
              "      <td>2.0</td>\n",
              "      <td>2.0</td>\n",
              "      <td>3.0</td>\n",
              "      <td>1.0</td>\n",
              "      <td>1.0</td>\n",
              "      <td>3.0</td>\n",
              "      <td>0</td>\n",
              "    </tr>\n",
              "    <tr>\n",
              "      <th>296</th>\n",
              "      <td>2.0</td>\n",
              "      <td>1</td>\n",
              "      <td>2</td>\n",
              "      <td>1.0</td>\n",
              "      <td>2</td>\n",
              "      <td>1.0</td>\n",
              "      <td>1.0</td>\n",
              "      <td>3</td>\n",
              "      <td>1</td>\n",
              "      <td>2.0</td>\n",
              "      <td>2.0</td>\n",
              "      <td>1.0</td>\n",
              "      <td>1.0</td>\n",
              "      <td>2.0</td>\n",
              "      <td>2.0</td>\n",
              "      <td>1.0</td>\n",
              "      <td>1.0</td>\n",
              "      <td>3.0</td>\n",
              "      <td>2.0</td>\n",
              "      <td>1.0</td>\n",
              "      <td>1.0</td>\n",
              "      <td>1.0</td>\n",
              "      <td>2.0</td>\n",
              "      <td>2.0</td>\n",
              "      <td>2.0</td>\n",
              "      <td>3.0</td>\n",
              "      <td>3.0</td>\n",
              "      <td>2.0</td>\n",
              "      <td>1.0</td>\n",
              "      <td>2.0</td>\n",
              "      <td>2.0</td>\n",
              "      <td>2.0</td>\n",
              "      <td>2.0</td>\n",
              "      <td>2.0</td>\n",
              "      <td>1.0</td>\n",
              "      <td>3.0</td>\n",
              "      <td>0</td>\n",
              "    </tr>\n",
              "    <tr>\n",
              "      <th>297</th>\n",
              "      <td>1.0</td>\n",
              "      <td>1</td>\n",
              "      <td>2</td>\n",
              "      <td>2.0</td>\n",
              "      <td>2</td>\n",
              "      <td>NaN</td>\n",
              "      <td>2.0</td>\n",
              "      <td>3</td>\n",
              "      <td>1</td>\n",
              "      <td>2.0</td>\n",
              "      <td>2.0</td>\n",
              "      <td>3.0</td>\n",
              "      <td>1.0</td>\n",
              "      <td>1.0</td>\n",
              "      <td>1.0</td>\n",
              "      <td>2.0</td>\n",
              "      <td>2.0</td>\n",
              "      <td>3.0</td>\n",
              "      <td>2.0</td>\n",
              "      <td>1.0</td>\n",
              "      <td>2.0</td>\n",
              "      <td>2.0</td>\n",
              "      <td>3.0</td>\n",
              "      <td>3.0</td>\n",
              "      <td>2.0</td>\n",
              "      <td>1.0</td>\n",
              "      <td>1.0</td>\n",
              "      <td>2.0</td>\n",
              "      <td>1.0</td>\n",
              "      <td>2.0</td>\n",
              "      <td>2.0</td>\n",
              "      <td>2.0</td>\n",
              "      <td>2.0</td>\n",
              "      <td>1.0</td>\n",
              "      <td>1.0</td>\n",
              "      <td>3.0</td>\n",
              "      <td>0</td>\n",
              "    </tr>\n",
              "    <tr>\n",
              "      <th>298</th>\n",
              "      <td>2.0</td>\n",
              "      <td>1</td>\n",
              "      <td>2</td>\n",
              "      <td>1.0</td>\n",
              "      <td>2</td>\n",
              "      <td>1.0</td>\n",
              "      <td>2.0</td>\n",
              "      <td>2</td>\n",
              "      <td>1</td>\n",
              "      <td>2.0</td>\n",
              "      <td>2.0</td>\n",
              "      <td>1.0</td>\n",
              "      <td>3.0</td>\n",
              "      <td>3.0</td>\n",
              "      <td>3.0</td>\n",
              "      <td>2.0</td>\n",
              "      <td>1.0</td>\n",
              "      <td>2.0</td>\n",
              "      <td>3.0</td>\n",
              "      <td>1.0</td>\n",
              "      <td>2.0</td>\n",
              "      <td>2.0</td>\n",
              "      <td>3.0</td>\n",
              "      <td>3.0</td>\n",
              "      <td>1.0</td>\n",
              "      <td>1.0</td>\n",
              "      <td>1.0</td>\n",
              "      <td>2.0</td>\n",
              "      <td>2.0</td>\n",
              "      <td>2.0</td>\n",
              "      <td>2.0</td>\n",
              "      <td>1.0</td>\n",
              "      <td>2.0</td>\n",
              "      <td>1.0</td>\n",
              "      <td>1.0</td>\n",
              "      <td>3.0</td>\n",
              "      <td>0</td>\n",
              "    </tr>\n",
              "    <tr>\n",
              "      <th>299</th>\n",
              "      <td>2.0</td>\n",
              "      <td>1</td>\n",
              "      <td>2</td>\n",
              "      <td>1.0</td>\n",
              "      <td>2</td>\n",
              "      <td>1.0</td>\n",
              "      <td>1.0</td>\n",
              "      <td>3</td>\n",
              "      <td>2</td>\n",
              "      <td>3.0</td>\n",
              "      <td>2.0</td>\n",
              "      <td>3.0</td>\n",
              "      <td>3.0</td>\n",
              "      <td>2.0</td>\n",
              "      <td>3.0</td>\n",
              "      <td>NaN</td>\n",
              "      <td>2.0</td>\n",
              "      <td>2.0</td>\n",
              "      <td>3.0</td>\n",
              "      <td>3.0</td>\n",
              "      <td>2.0</td>\n",
              "      <td>2.0</td>\n",
              "      <td>2.0</td>\n",
              "      <td>3.0</td>\n",
              "      <td>2.0</td>\n",
              "      <td>2.0</td>\n",
              "      <td>3.0</td>\n",
              "      <td>2.0</td>\n",
              "      <td>2.0</td>\n",
              "      <td>2.0</td>\n",
              "      <td>2.0</td>\n",
              "      <td>2.0</td>\n",
              "      <td>3.0</td>\n",
              "      <td>1.0</td>\n",
              "      <td>2.0</td>\n",
              "      <td>2.0</td>\n",
              "      <td>0</td>\n",
              "    </tr>\n",
              "  </tbody>\n",
              "</table>\n",
              "<p>300 rows × 37 columns</p>\n",
              "</div>"
            ],
            "text/plain": [
              "     Your age?   ...  goal\n",
              "0           1.0  ...     0\n",
              "1           2.0  ...     0\n",
              "2           1.0  ...     0\n",
              "3           1.0  ...     0\n",
              "4           1.0  ...     0\n",
              "..          ...  ...   ...\n",
              "295         1.0  ...     0\n",
              "296         2.0  ...     0\n",
              "297         1.0  ...     0\n",
              "298         2.0  ...     0\n",
              "299         2.0  ...     0\n",
              "\n",
              "[300 rows x 37 columns]"
            ]
          },
          "metadata": {
            "tags": []
          },
          "execution_count": 1
        }
      ]
    },
    {
      "cell_type": "code",
      "metadata": {
        "id": "KcWqwwV5r5jp"
      },
      "source": [
        "a=a.reset_index()"
      ],
      "execution_count": 2,
      "outputs": []
    },
    {
      "cell_type": "code",
      "metadata": {
        "id": "0Mj8R3-wr5j1",
        "outputId": "d8b8de3a-540e-468e-9ba8-042c3d9bb18d",
        "colab": {
          "base_uri": "https://localhost:8080/",
          "height": 400
        }
      },
      "source": [
        "a.head()"
      ],
      "execution_count": 3,
      "outputs": [
        {
          "output_type": "execute_result",
          "data": {
            "text/html": [
              "<div>\n",
              "<style scoped>\n",
              "    .dataframe tbody tr th:only-of-type {\n",
              "        vertical-align: middle;\n",
              "    }\n",
              "\n",
              "    .dataframe tbody tr th {\n",
              "        vertical-align: top;\n",
              "    }\n",
              "\n",
              "    .dataframe thead th {\n",
              "        text-align: right;\n",
              "    }\n",
              "</style>\n",
              "<table border=\"1\" class=\"dataframe\">\n",
              "  <thead>\n",
              "    <tr style=\"text-align: right;\">\n",
              "      <th></th>\n",
              "      <th>index</th>\n",
              "      <th>Your age?</th>\n",
              "      <th>Gender?</th>\n",
              "      <th>Marital status?</th>\n",
              "      <th>Relationship status?(if unmarried)</th>\n",
              "      <th>broken family?(parents live separately)</th>\n",
              "      <th>Are you happy about your marriage/relationship?</th>\n",
              "      <th>financial situation of your family?</th>\n",
              "      <th>is/was any of your family members ever involved in drugs?</th>\n",
              "      <th>How is your relationship with your parents?</th>\n",
              "      <th>Are you often cursed by your closed ones for not being able to live up-to their expectations?</th>\n",
              "      <th>How successful are you among your family members?</th>\n",
              "      <th>current state of living?</th>\n",
              "      <th>Occupational status?</th>\n",
              "      <th>Occupational success?</th>\n",
              "      <th>How do you rate your workplace?</th>\n",
              "      <th>Occupational status compared to friends?</th>\n",
              "      <th>Number of friends/ accomplices?</th>\n",
              "      <th>Do you get influenced by your friends' activity?</th>\n",
              "      <th>How many of your friends have taken drugs ?</th>\n",
              "      <th>Do you like to hang out with friends?</th>\n",
              "      <th>Do you join parties/gatherings/hangouts where there's a frequent use of drugs?</th>\n",
              "      <th>How fast can you get in a society/community?</th>\n",
              "      <th>Do you have curiosity/fantasy about drugs?</th>\n",
              "      <th>Do you have access to drugs(could you manage if you wanted)?</th>\n",
              "      <th>Do you hate a drug addict as a person?</th>\n",
              "      <th>Are you satisfied with your life until 3w?</th>\n",
              "      <th>Are you happy with your physical outlook?</th>\n",
              "      <th>Are you suffering from any serious illness?</th>\n",
              "      <th>Have you lost any of your closed ones recently?</th>\n",
              "      <th>How do you rate your living place?</th>\n",
              "      <th>what is your religious mindset?</th>\n",
              "      <th>Are you involved in sports or any form of physical exercise?</th>\n",
              "      <th>Failed in love? (break-up, refusal of love etc. )</th>\n",
              "      <th>Do you enjoy taking risk/ having a new experience/ doing something thrilling?</th>\n",
              "      <th>Do you think that people don't find interest in conversation with you?</th>\n",
              "      <th>Do you believe in the notion that drugs relieve you from mental stress?</th>\n",
              "      <th>goal</th>\n",
              "    </tr>\n",
              "  </thead>\n",
              "  <tbody>\n",
              "    <tr>\n",
              "      <th>0</th>\n",
              "      <td>0</td>\n",
              "      <td>1.0</td>\n",
              "      <td>1</td>\n",
              "      <td>2</td>\n",
              "      <td>1.0</td>\n",
              "      <td>2</td>\n",
              "      <td>2.0</td>\n",
              "      <td>2.0</td>\n",
              "      <td>3</td>\n",
              "      <td>2</td>\n",
              "      <td>2.0</td>\n",
              "      <td>2.0</td>\n",
              "      <td>3.0</td>\n",
              "      <td>1.0</td>\n",
              "      <td>2.0</td>\n",
              "      <td>3.0</td>\n",
              "      <td>3.0</td>\n",
              "      <td>1.0</td>\n",
              "      <td>3.0</td>\n",
              "      <td>1.0</td>\n",
              "      <td>1.0</td>\n",
              "      <td>1.0</td>\n",
              "      <td>1.0</td>\n",
              "      <td>2.0</td>\n",
              "      <td>2.0</td>\n",
              "      <td>2.0</td>\n",
              "      <td>2.0</td>\n",
              "      <td>2.0</td>\n",
              "      <td>2.0</td>\n",
              "      <td>1.0</td>\n",
              "      <td>3.0</td>\n",
              "      <td>2.0</td>\n",
              "      <td>1.0</td>\n",
              "      <td>3.0</td>\n",
              "      <td>1.0</td>\n",
              "      <td>1.0</td>\n",
              "      <td>2.0</td>\n",
              "      <td>0</td>\n",
              "    </tr>\n",
              "    <tr>\n",
              "      <th>1</th>\n",
              "      <td>1</td>\n",
              "      <td>2.0</td>\n",
              "      <td>1</td>\n",
              "      <td>2</td>\n",
              "      <td>2.0</td>\n",
              "      <td>2</td>\n",
              "      <td>2.0</td>\n",
              "      <td>1.0</td>\n",
              "      <td>3</td>\n",
              "      <td>1</td>\n",
              "      <td>2.0</td>\n",
              "      <td>2.0</td>\n",
              "      <td>3.0</td>\n",
              "      <td>3.0</td>\n",
              "      <td>2.0</td>\n",
              "      <td>2.0</td>\n",
              "      <td>2.0</td>\n",
              "      <td>1.0</td>\n",
              "      <td>2.0</td>\n",
              "      <td>2.0</td>\n",
              "      <td>1.0</td>\n",
              "      <td>2.0</td>\n",
              "      <td>2.0</td>\n",
              "      <td>3.0</td>\n",
              "      <td>2.0</td>\n",
              "      <td>2.0</td>\n",
              "      <td>2.0</td>\n",
              "      <td>2.0</td>\n",
              "      <td>2.0</td>\n",
              "      <td>2.0</td>\n",
              "      <td>2.0</td>\n",
              "      <td>2.0</td>\n",
              "      <td>2.0</td>\n",
              "      <td>2.0</td>\n",
              "      <td>1.0</td>\n",
              "      <td>2.0</td>\n",
              "      <td>3.0</td>\n",
              "      <td>0</td>\n",
              "    </tr>\n",
              "    <tr>\n",
              "      <th>2</th>\n",
              "      <td>2</td>\n",
              "      <td>1.0</td>\n",
              "      <td>1</td>\n",
              "      <td>2</td>\n",
              "      <td>2.0</td>\n",
              "      <td>2</td>\n",
              "      <td>1.0</td>\n",
              "      <td>3.0</td>\n",
              "      <td>3</td>\n",
              "      <td>1</td>\n",
              "      <td>3.0</td>\n",
              "      <td>1.0</td>\n",
              "      <td>3.0</td>\n",
              "      <td>3.0</td>\n",
              "      <td>2.0</td>\n",
              "      <td>2.0</td>\n",
              "      <td>NaN</td>\n",
              "      <td>1.0</td>\n",
              "      <td>1.0</td>\n",
              "      <td>3.0</td>\n",
              "      <td>1.0</td>\n",
              "      <td>2.0</td>\n",
              "      <td>2.0</td>\n",
              "      <td>1.0</td>\n",
              "      <td>2.0</td>\n",
              "      <td>2.0</td>\n",
              "      <td>1.0</td>\n",
              "      <td>1.0</td>\n",
              "      <td>2.0</td>\n",
              "      <td>1.0</td>\n",
              "      <td>3.0</td>\n",
              "      <td>3.0</td>\n",
              "      <td>1.0</td>\n",
              "      <td>3.0</td>\n",
              "      <td>1.0</td>\n",
              "      <td>2.0</td>\n",
              "      <td>2.0</td>\n",
              "      <td>0</td>\n",
              "    </tr>\n",
              "    <tr>\n",
              "      <th>3</th>\n",
              "      <td>3</td>\n",
              "      <td>1.0</td>\n",
              "      <td>1</td>\n",
              "      <td>2</td>\n",
              "      <td>1.0</td>\n",
              "      <td>2</td>\n",
              "      <td>1.0</td>\n",
              "      <td>1.0</td>\n",
              "      <td>3</td>\n",
              "      <td>2</td>\n",
              "      <td>2.0</td>\n",
              "      <td>2.0</td>\n",
              "      <td>3.0</td>\n",
              "      <td>1.0</td>\n",
              "      <td>2.0</td>\n",
              "      <td>2.0</td>\n",
              "      <td>1.0</td>\n",
              "      <td>1.0</td>\n",
              "      <td>3.0</td>\n",
              "      <td>1.0</td>\n",
              "      <td>1.0</td>\n",
              "      <td>1.0</td>\n",
              "      <td>2.0</td>\n",
              "      <td>2.0</td>\n",
              "      <td>2.0</td>\n",
              "      <td>1.0</td>\n",
              "      <td>2.0</td>\n",
              "      <td>2.0</td>\n",
              "      <td>2.0</td>\n",
              "      <td>2.0</td>\n",
              "      <td>2.0</td>\n",
              "      <td>2.0</td>\n",
              "      <td>1.0</td>\n",
              "      <td>3.0</td>\n",
              "      <td>1.0</td>\n",
              "      <td>2.0</td>\n",
              "      <td>3.0</td>\n",
              "      <td>0</td>\n",
              "    </tr>\n",
              "    <tr>\n",
              "      <th>4</th>\n",
              "      <td>4</td>\n",
              "      <td>1.0</td>\n",
              "      <td>1</td>\n",
              "      <td>2</td>\n",
              "      <td>2.0</td>\n",
              "      <td>2</td>\n",
              "      <td>2.0</td>\n",
              "      <td>1.0</td>\n",
              "      <td>3</td>\n",
              "      <td>1</td>\n",
              "      <td>2.0</td>\n",
              "      <td>2.0</td>\n",
              "      <td>3.0</td>\n",
              "      <td>3.0</td>\n",
              "      <td>2.0</td>\n",
              "      <td>NaN</td>\n",
              "      <td>NaN</td>\n",
              "      <td>1.0</td>\n",
              "      <td>2.0</td>\n",
              "      <td>1.0</td>\n",
              "      <td>1.0</td>\n",
              "      <td>1.0</td>\n",
              "      <td>1.0</td>\n",
              "      <td>2.0</td>\n",
              "      <td>NaN</td>\n",
              "      <td>1.0</td>\n",
              "      <td>1.0</td>\n",
              "      <td>1.0</td>\n",
              "      <td>2.0</td>\n",
              "      <td>2.0</td>\n",
              "      <td>2.0</td>\n",
              "      <td>2.0</td>\n",
              "      <td>2.0</td>\n",
              "      <td>2.0</td>\n",
              "      <td>1.0</td>\n",
              "      <td>2.0</td>\n",
              "      <td>NaN</td>\n",
              "      <td>0</td>\n",
              "    </tr>\n",
              "  </tbody>\n",
              "</table>\n",
              "</div>"
            ],
            "text/plain": [
              "   index  ...  goal\n",
              "0      0  ...     0\n",
              "1      1  ...     0\n",
              "2      2  ...     0\n",
              "3      3  ...     0\n",
              "4      4  ...     0\n",
              "\n",
              "[5 rows x 38 columns]"
            ]
          },
          "metadata": {
            "tags": []
          },
          "execution_count": 3
        }
      ]
    },
    {
      "cell_type": "code",
      "metadata": {
        "scrolled": true,
        "id": "w5VU_LKBr5j-",
        "outputId": "68ff7856-0d73-41a3-a1ff-054c42c6076d",
        "colab": {
          "base_uri": "https://localhost:8080/",
          "height": 649
        }
      },
      "source": [
        "a=a.set_index('index',drop=True)\n",
        "a"
      ],
      "execution_count": 4,
      "outputs": [
        {
          "output_type": "execute_result",
          "data": {
            "text/html": [
              "<div>\n",
              "<style scoped>\n",
              "    .dataframe tbody tr th:only-of-type {\n",
              "        vertical-align: middle;\n",
              "    }\n",
              "\n",
              "    .dataframe tbody tr th {\n",
              "        vertical-align: top;\n",
              "    }\n",
              "\n",
              "    .dataframe thead th {\n",
              "        text-align: right;\n",
              "    }\n",
              "</style>\n",
              "<table border=\"1\" class=\"dataframe\">\n",
              "  <thead>\n",
              "    <tr style=\"text-align: right;\">\n",
              "      <th></th>\n",
              "      <th>Your age?</th>\n",
              "      <th>Gender?</th>\n",
              "      <th>Marital status?</th>\n",
              "      <th>Relationship status?(if unmarried)</th>\n",
              "      <th>broken family?(parents live separately)</th>\n",
              "      <th>Are you happy about your marriage/relationship?</th>\n",
              "      <th>financial situation of your family?</th>\n",
              "      <th>is/was any of your family members ever involved in drugs?</th>\n",
              "      <th>How is your relationship with your parents?</th>\n",
              "      <th>Are you often cursed by your closed ones for not being able to live up-to their expectations?</th>\n",
              "      <th>How successful are you among your family members?</th>\n",
              "      <th>current state of living?</th>\n",
              "      <th>Occupational status?</th>\n",
              "      <th>Occupational success?</th>\n",
              "      <th>How do you rate your workplace?</th>\n",
              "      <th>Occupational status compared to friends?</th>\n",
              "      <th>Number of friends/ accomplices?</th>\n",
              "      <th>Do you get influenced by your friends' activity?</th>\n",
              "      <th>How many of your friends have taken drugs ?</th>\n",
              "      <th>Do you like to hang out with friends?</th>\n",
              "      <th>Do you join parties/gatherings/hangouts where there's a frequent use of drugs?</th>\n",
              "      <th>How fast can you get in a society/community?</th>\n",
              "      <th>Do you have curiosity/fantasy about drugs?</th>\n",
              "      <th>Do you have access to drugs(could you manage if you wanted)?</th>\n",
              "      <th>Do you hate a drug addict as a person?</th>\n",
              "      <th>Are you satisfied with your life until 3w?</th>\n",
              "      <th>Are you happy with your physical outlook?</th>\n",
              "      <th>Are you suffering from any serious illness?</th>\n",
              "      <th>Have you lost any of your closed ones recently?</th>\n",
              "      <th>How do you rate your living place?</th>\n",
              "      <th>what is your religious mindset?</th>\n",
              "      <th>Are you involved in sports or any form of physical exercise?</th>\n",
              "      <th>Failed in love? (break-up, refusal of love etc. )</th>\n",
              "      <th>Do you enjoy taking risk/ having a new experience/ doing something thrilling?</th>\n",
              "      <th>Do you think that people don't find interest in conversation with you?</th>\n",
              "      <th>Do you believe in the notion that drugs relieve you from mental stress?</th>\n",
              "      <th>goal</th>\n",
              "    </tr>\n",
              "    <tr>\n",
              "      <th>index</th>\n",
              "      <th></th>\n",
              "      <th></th>\n",
              "      <th></th>\n",
              "      <th></th>\n",
              "      <th></th>\n",
              "      <th></th>\n",
              "      <th></th>\n",
              "      <th></th>\n",
              "      <th></th>\n",
              "      <th></th>\n",
              "      <th></th>\n",
              "      <th></th>\n",
              "      <th></th>\n",
              "      <th></th>\n",
              "      <th></th>\n",
              "      <th></th>\n",
              "      <th></th>\n",
              "      <th></th>\n",
              "      <th></th>\n",
              "      <th></th>\n",
              "      <th></th>\n",
              "      <th></th>\n",
              "      <th></th>\n",
              "      <th></th>\n",
              "      <th></th>\n",
              "      <th></th>\n",
              "      <th></th>\n",
              "      <th></th>\n",
              "      <th></th>\n",
              "      <th></th>\n",
              "      <th></th>\n",
              "      <th></th>\n",
              "      <th></th>\n",
              "      <th></th>\n",
              "      <th></th>\n",
              "      <th></th>\n",
              "      <th></th>\n",
              "    </tr>\n",
              "  </thead>\n",
              "  <tbody>\n",
              "    <tr>\n",
              "      <th>0</th>\n",
              "      <td>1.0</td>\n",
              "      <td>1</td>\n",
              "      <td>2</td>\n",
              "      <td>1.0</td>\n",
              "      <td>2</td>\n",
              "      <td>2.0</td>\n",
              "      <td>2.0</td>\n",
              "      <td>3</td>\n",
              "      <td>2</td>\n",
              "      <td>2.0</td>\n",
              "      <td>2.0</td>\n",
              "      <td>3.0</td>\n",
              "      <td>1.0</td>\n",
              "      <td>2.0</td>\n",
              "      <td>3.0</td>\n",
              "      <td>3.0</td>\n",
              "      <td>1.0</td>\n",
              "      <td>3.0</td>\n",
              "      <td>1.0</td>\n",
              "      <td>1.0</td>\n",
              "      <td>1.0</td>\n",
              "      <td>1.0</td>\n",
              "      <td>2.0</td>\n",
              "      <td>2.0</td>\n",
              "      <td>2.0</td>\n",
              "      <td>2.0</td>\n",
              "      <td>2.0</td>\n",
              "      <td>2.0</td>\n",
              "      <td>1.0</td>\n",
              "      <td>3.0</td>\n",
              "      <td>2.0</td>\n",
              "      <td>1.0</td>\n",
              "      <td>3.0</td>\n",
              "      <td>1.0</td>\n",
              "      <td>1.0</td>\n",
              "      <td>2.0</td>\n",
              "      <td>0</td>\n",
              "    </tr>\n",
              "    <tr>\n",
              "      <th>1</th>\n",
              "      <td>2.0</td>\n",
              "      <td>1</td>\n",
              "      <td>2</td>\n",
              "      <td>2.0</td>\n",
              "      <td>2</td>\n",
              "      <td>2.0</td>\n",
              "      <td>1.0</td>\n",
              "      <td>3</td>\n",
              "      <td>1</td>\n",
              "      <td>2.0</td>\n",
              "      <td>2.0</td>\n",
              "      <td>3.0</td>\n",
              "      <td>3.0</td>\n",
              "      <td>2.0</td>\n",
              "      <td>2.0</td>\n",
              "      <td>2.0</td>\n",
              "      <td>1.0</td>\n",
              "      <td>2.0</td>\n",
              "      <td>2.0</td>\n",
              "      <td>1.0</td>\n",
              "      <td>2.0</td>\n",
              "      <td>2.0</td>\n",
              "      <td>3.0</td>\n",
              "      <td>2.0</td>\n",
              "      <td>2.0</td>\n",
              "      <td>2.0</td>\n",
              "      <td>2.0</td>\n",
              "      <td>2.0</td>\n",
              "      <td>2.0</td>\n",
              "      <td>2.0</td>\n",
              "      <td>2.0</td>\n",
              "      <td>2.0</td>\n",
              "      <td>2.0</td>\n",
              "      <td>1.0</td>\n",
              "      <td>2.0</td>\n",
              "      <td>3.0</td>\n",
              "      <td>0</td>\n",
              "    </tr>\n",
              "    <tr>\n",
              "      <th>2</th>\n",
              "      <td>1.0</td>\n",
              "      <td>1</td>\n",
              "      <td>2</td>\n",
              "      <td>2.0</td>\n",
              "      <td>2</td>\n",
              "      <td>1.0</td>\n",
              "      <td>3.0</td>\n",
              "      <td>3</td>\n",
              "      <td>1</td>\n",
              "      <td>3.0</td>\n",
              "      <td>1.0</td>\n",
              "      <td>3.0</td>\n",
              "      <td>3.0</td>\n",
              "      <td>2.0</td>\n",
              "      <td>2.0</td>\n",
              "      <td>NaN</td>\n",
              "      <td>1.0</td>\n",
              "      <td>1.0</td>\n",
              "      <td>3.0</td>\n",
              "      <td>1.0</td>\n",
              "      <td>2.0</td>\n",
              "      <td>2.0</td>\n",
              "      <td>1.0</td>\n",
              "      <td>2.0</td>\n",
              "      <td>2.0</td>\n",
              "      <td>1.0</td>\n",
              "      <td>1.0</td>\n",
              "      <td>2.0</td>\n",
              "      <td>1.0</td>\n",
              "      <td>3.0</td>\n",
              "      <td>3.0</td>\n",
              "      <td>1.0</td>\n",
              "      <td>3.0</td>\n",
              "      <td>1.0</td>\n",
              "      <td>2.0</td>\n",
              "      <td>2.0</td>\n",
              "      <td>0</td>\n",
              "    </tr>\n",
              "    <tr>\n",
              "      <th>3</th>\n",
              "      <td>1.0</td>\n",
              "      <td>1</td>\n",
              "      <td>2</td>\n",
              "      <td>1.0</td>\n",
              "      <td>2</td>\n",
              "      <td>1.0</td>\n",
              "      <td>1.0</td>\n",
              "      <td>3</td>\n",
              "      <td>2</td>\n",
              "      <td>2.0</td>\n",
              "      <td>2.0</td>\n",
              "      <td>3.0</td>\n",
              "      <td>1.0</td>\n",
              "      <td>2.0</td>\n",
              "      <td>2.0</td>\n",
              "      <td>1.0</td>\n",
              "      <td>1.0</td>\n",
              "      <td>3.0</td>\n",
              "      <td>1.0</td>\n",
              "      <td>1.0</td>\n",
              "      <td>1.0</td>\n",
              "      <td>2.0</td>\n",
              "      <td>2.0</td>\n",
              "      <td>2.0</td>\n",
              "      <td>1.0</td>\n",
              "      <td>2.0</td>\n",
              "      <td>2.0</td>\n",
              "      <td>2.0</td>\n",
              "      <td>2.0</td>\n",
              "      <td>2.0</td>\n",
              "      <td>2.0</td>\n",
              "      <td>1.0</td>\n",
              "      <td>3.0</td>\n",
              "      <td>1.0</td>\n",
              "      <td>2.0</td>\n",
              "      <td>3.0</td>\n",
              "      <td>0</td>\n",
              "    </tr>\n",
              "    <tr>\n",
              "      <th>4</th>\n",
              "      <td>1.0</td>\n",
              "      <td>1</td>\n",
              "      <td>2</td>\n",
              "      <td>2.0</td>\n",
              "      <td>2</td>\n",
              "      <td>2.0</td>\n",
              "      <td>1.0</td>\n",
              "      <td>3</td>\n",
              "      <td>1</td>\n",
              "      <td>2.0</td>\n",
              "      <td>2.0</td>\n",
              "      <td>3.0</td>\n",
              "      <td>3.0</td>\n",
              "      <td>2.0</td>\n",
              "      <td>NaN</td>\n",
              "      <td>NaN</td>\n",
              "      <td>1.0</td>\n",
              "      <td>2.0</td>\n",
              "      <td>1.0</td>\n",
              "      <td>1.0</td>\n",
              "      <td>1.0</td>\n",
              "      <td>1.0</td>\n",
              "      <td>2.0</td>\n",
              "      <td>NaN</td>\n",
              "      <td>1.0</td>\n",
              "      <td>1.0</td>\n",
              "      <td>1.0</td>\n",
              "      <td>2.0</td>\n",
              "      <td>2.0</td>\n",
              "      <td>2.0</td>\n",
              "      <td>2.0</td>\n",
              "      <td>2.0</td>\n",
              "      <td>2.0</td>\n",
              "      <td>1.0</td>\n",
              "      <td>2.0</td>\n",
              "      <td>NaN</td>\n",
              "      <td>0</td>\n",
              "    </tr>\n",
              "    <tr>\n",
              "      <th>...</th>\n",
              "      <td>...</td>\n",
              "      <td>...</td>\n",
              "      <td>...</td>\n",
              "      <td>...</td>\n",
              "      <td>...</td>\n",
              "      <td>...</td>\n",
              "      <td>...</td>\n",
              "      <td>...</td>\n",
              "      <td>...</td>\n",
              "      <td>...</td>\n",
              "      <td>...</td>\n",
              "      <td>...</td>\n",
              "      <td>...</td>\n",
              "      <td>...</td>\n",
              "      <td>...</td>\n",
              "      <td>...</td>\n",
              "      <td>...</td>\n",
              "      <td>...</td>\n",
              "      <td>...</td>\n",
              "      <td>...</td>\n",
              "      <td>...</td>\n",
              "      <td>...</td>\n",
              "      <td>...</td>\n",
              "      <td>...</td>\n",
              "      <td>...</td>\n",
              "      <td>...</td>\n",
              "      <td>...</td>\n",
              "      <td>...</td>\n",
              "      <td>...</td>\n",
              "      <td>...</td>\n",
              "      <td>...</td>\n",
              "      <td>...</td>\n",
              "      <td>...</td>\n",
              "      <td>...</td>\n",
              "      <td>...</td>\n",
              "      <td>...</td>\n",
              "      <td>...</td>\n",
              "    </tr>\n",
              "    <tr>\n",
              "      <th>295</th>\n",
              "      <td>1.0</td>\n",
              "      <td>2</td>\n",
              "      <td>2</td>\n",
              "      <td>2.0</td>\n",
              "      <td>1</td>\n",
              "      <td>NaN</td>\n",
              "      <td>3.0</td>\n",
              "      <td>3</td>\n",
              "      <td>2</td>\n",
              "      <td>3.0</td>\n",
              "      <td>2.0</td>\n",
              "      <td>1.0</td>\n",
              "      <td>1.0</td>\n",
              "      <td>3.0</td>\n",
              "      <td>2.0</td>\n",
              "      <td>2.0</td>\n",
              "      <td>1.0</td>\n",
              "      <td>2.0</td>\n",
              "      <td>2.0</td>\n",
              "      <td>1.0</td>\n",
              "      <td>2.0</td>\n",
              "      <td>1.0</td>\n",
              "      <td>3.0</td>\n",
              "      <td>2.0</td>\n",
              "      <td>2.0</td>\n",
              "      <td>1.0</td>\n",
              "      <td>1.0</td>\n",
              "      <td>2.0</td>\n",
              "      <td>2.0</td>\n",
              "      <td>2.0</td>\n",
              "      <td>2.0</td>\n",
              "      <td>2.0</td>\n",
              "      <td>3.0</td>\n",
              "      <td>1.0</td>\n",
              "      <td>1.0</td>\n",
              "      <td>3.0</td>\n",
              "      <td>0</td>\n",
              "    </tr>\n",
              "    <tr>\n",
              "      <th>296</th>\n",
              "      <td>2.0</td>\n",
              "      <td>1</td>\n",
              "      <td>2</td>\n",
              "      <td>1.0</td>\n",
              "      <td>2</td>\n",
              "      <td>1.0</td>\n",
              "      <td>1.0</td>\n",
              "      <td>3</td>\n",
              "      <td>1</td>\n",
              "      <td>2.0</td>\n",
              "      <td>2.0</td>\n",
              "      <td>1.0</td>\n",
              "      <td>1.0</td>\n",
              "      <td>2.0</td>\n",
              "      <td>2.0</td>\n",
              "      <td>1.0</td>\n",
              "      <td>1.0</td>\n",
              "      <td>3.0</td>\n",
              "      <td>2.0</td>\n",
              "      <td>1.0</td>\n",
              "      <td>1.0</td>\n",
              "      <td>1.0</td>\n",
              "      <td>2.0</td>\n",
              "      <td>2.0</td>\n",
              "      <td>2.0</td>\n",
              "      <td>3.0</td>\n",
              "      <td>3.0</td>\n",
              "      <td>2.0</td>\n",
              "      <td>1.0</td>\n",
              "      <td>2.0</td>\n",
              "      <td>2.0</td>\n",
              "      <td>2.0</td>\n",
              "      <td>2.0</td>\n",
              "      <td>2.0</td>\n",
              "      <td>1.0</td>\n",
              "      <td>3.0</td>\n",
              "      <td>0</td>\n",
              "    </tr>\n",
              "    <tr>\n",
              "      <th>297</th>\n",
              "      <td>1.0</td>\n",
              "      <td>1</td>\n",
              "      <td>2</td>\n",
              "      <td>2.0</td>\n",
              "      <td>2</td>\n",
              "      <td>NaN</td>\n",
              "      <td>2.0</td>\n",
              "      <td>3</td>\n",
              "      <td>1</td>\n",
              "      <td>2.0</td>\n",
              "      <td>2.0</td>\n",
              "      <td>3.0</td>\n",
              "      <td>1.0</td>\n",
              "      <td>1.0</td>\n",
              "      <td>1.0</td>\n",
              "      <td>2.0</td>\n",
              "      <td>2.0</td>\n",
              "      <td>3.0</td>\n",
              "      <td>2.0</td>\n",
              "      <td>1.0</td>\n",
              "      <td>2.0</td>\n",
              "      <td>2.0</td>\n",
              "      <td>3.0</td>\n",
              "      <td>3.0</td>\n",
              "      <td>2.0</td>\n",
              "      <td>1.0</td>\n",
              "      <td>1.0</td>\n",
              "      <td>2.0</td>\n",
              "      <td>1.0</td>\n",
              "      <td>2.0</td>\n",
              "      <td>2.0</td>\n",
              "      <td>2.0</td>\n",
              "      <td>2.0</td>\n",
              "      <td>1.0</td>\n",
              "      <td>1.0</td>\n",
              "      <td>3.0</td>\n",
              "      <td>0</td>\n",
              "    </tr>\n",
              "    <tr>\n",
              "      <th>298</th>\n",
              "      <td>2.0</td>\n",
              "      <td>1</td>\n",
              "      <td>2</td>\n",
              "      <td>1.0</td>\n",
              "      <td>2</td>\n",
              "      <td>1.0</td>\n",
              "      <td>2.0</td>\n",
              "      <td>2</td>\n",
              "      <td>1</td>\n",
              "      <td>2.0</td>\n",
              "      <td>2.0</td>\n",
              "      <td>1.0</td>\n",
              "      <td>3.0</td>\n",
              "      <td>3.0</td>\n",
              "      <td>3.0</td>\n",
              "      <td>2.0</td>\n",
              "      <td>1.0</td>\n",
              "      <td>2.0</td>\n",
              "      <td>3.0</td>\n",
              "      <td>1.0</td>\n",
              "      <td>2.0</td>\n",
              "      <td>2.0</td>\n",
              "      <td>3.0</td>\n",
              "      <td>3.0</td>\n",
              "      <td>1.0</td>\n",
              "      <td>1.0</td>\n",
              "      <td>1.0</td>\n",
              "      <td>2.0</td>\n",
              "      <td>2.0</td>\n",
              "      <td>2.0</td>\n",
              "      <td>2.0</td>\n",
              "      <td>1.0</td>\n",
              "      <td>2.0</td>\n",
              "      <td>1.0</td>\n",
              "      <td>1.0</td>\n",
              "      <td>3.0</td>\n",
              "      <td>0</td>\n",
              "    </tr>\n",
              "    <tr>\n",
              "      <th>299</th>\n",
              "      <td>2.0</td>\n",
              "      <td>1</td>\n",
              "      <td>2</td>\n",
              "      <td>1.0</td>\n",
              "      <td>2</td>\n",
              "      <td>1.0</td>\n",
              "      <td>1.0</td>\n",
              "      <td>3</td>\n",
              "      <td>2</td>\n",
              "      <td>3.0</td>\n",
              "      <td>2.0</td>\n",
              "      <td>3.0</td>\n",
              "      <td>3.0</td>\n",
              "      <td>2.0</td>\n",
              "      <td>3.0</td>\n",
              "      <td>NaN</td>\n",
              "      <td>2.0</td>\n",
              "      <td>2.0</td>\n",
              "      <td>3.0</td>\n",
              "      <td>3.0</td>\n",
              "      <td>2.0</td>\n",
              "      <td>2.0</td>\n",
              "      <td>2.0</td>\n",
              "      <td>3.0</td>\n",
              "      <td>2.0</td>\n",
              "      <td>2.0</td>\n",
              "      <td>3.0</td>\n",
              "      <td>2.0</td>\n",
              "      <td>2.0</td>\n",
              "      <td>2.0</td>\n",
              "      <td>2.0</td>\n",
              "      <td>2.0</td>\n",
              "      <td>3.0</td>\n",
              "      <td>1.0</td>\n",
              "      <td>2.0</td>\n",
              "      <td>2.0</td>\n",
              "      <td>0</td>\n",
              "    </tr>\n",
              "  </tbody>\n",
              "</table>\n",
              "<p>300 rows × 37 columns</p>\n",
              "</div>"
            ],
            "text/plain": [
              "       Your age?   ...  goal\n",
              "index              ...      \n",
              "0             1.0  ...     0\n",
              "1             2.0  ...     0\n",
              "2             1.0  ...     0\n",
              "3             1.0  ...     0\n",
              "4             1.0  ...     0\n",
              "...           ...  ...   ...\n",
              "295           1.0  ...     0\n",
              "296           2.0  ...     0\n",
              "297           1.0  ...     0\n",
              "298           2.0  ...     0\n",
              "299           2.0  ...     0\n",
              "\n",
              "[300 rows x 37 columns]"
            ]
          },
          "metadata": {
            "tags": []
          },
          "execution_count": 4
        }
      ]
    },
    {
      "cell_type": "code",
      "metadata": {
        "id": "3IpaDE2Hr5kF"
      },
      "source": [
        "a.rename(columns={'Are you often cursed by your closed ones for not being able to live up-to their expectations?':'curse_for_exp',\n",
        "                 'what is your religious mindset?' : 'religious_mindset',\n",
        "                  'Marital status?': 'marital_status',\n",
        "                  \"Do you get influenced by your friends' activity?\": 'friends_influence',\n",
        "                  'How successful are you among your family members?':'success_in_family',\n",
        "                  'Do you believe in the notion that drugs relieve you from mental stress?':'Belief_in_notion',\n",
        "                  'Current state of living':'living_condition',\n",
        "                  'Number of friends/ accomplices?':'friends_no.',\n",
        "                  'How fast can you get in a society/community?':'socializing_capability',\n",
        "                  'How is your relationship with your parents?':'relation_w_parents',\n",
        "                  'Are you happy about your marriage/relationship?':'happiness_in_relationship',\n",
        "                  'Do you have access to drugs(could you manage if you wanted)?': 'access_to_drugs',\n",
        "                  'is/was any of your family members ever involved in drugs?': 'fam_in_drugs',\n",
        "                  'financial situation of your family?': 'financial_condition',\n",
        "                  'broken family?(parents live separately)':'broken_family',\n",
        "                  'Relationship status?(if unmarried)': 'reln_status',\n",
        "                  'Are you happy with your physical outlook?':'outlook_concept',\n",
        "                  'Are you suffering from any serious illness?':'major_illness',\n",
        "                  'Have you lost any of your closed ones recently?':'lost_closed_ones',\n",
        "                  'How do you rate your workplace?': 'work_rating',\n",
        "                  'Are you involved in sports or any form of physical exercise?': 'physical_ex.',\n",
        "                  'Failed in love? (break-up, refusal of love etc. )':'failed_love',\n",
        "                  'Do you enjoy taking risk/ having a new experience/ doing something thrilling?':'risk_tendency',\n",
        "                  \"Do you think that people don't find interest in conversation with you?\":'lack_interest',\n",
        "                  'current state of living?':'living_with',\n",
        "                  'Occupational status?':'occupation_stat',\n",
        "                  'Occupational success?':'occupation_succ',\n",
        "                  'Occupational status compared to friends?':'occupation_v_friends',\n",
        "                  'How many of your friends have taken drugs ?':'friends_w_drugs',\n",
        "                  'Do you like to hang out with friends?':'hangout_type',\n",
        "                  \"Do you join parties/gatherings/hangouts where there's a frequent use of drugs?\": 'party_join',\n",
        "                  'Do you have curiosity/fantasy about drugs?':'curiosity_in_drugs',\n",
        "                  'Do you hate a drug addict as a person?':'hate_addict',\n",
        "                  'Are you satisfied with your life until 3w?':'life_satis.',\n",
        "                  'Gender?':'sex',\n",
        "                  'Your age? ': 'age',\n",
        "                  'How do you rate your living place?':'home_rating'\n",
        "                  \n",
        "                   },inplace=True)\n"
      ],
      "execution_count": 5,
      "outputs": []
    },
    {
      "cell_type": "code",
      "metadata": {
        "id": "NWLnJWcBr5kN"
      },
      "source": [
        "#a.replace(r'^\\s*$', np.nan, regex=True)\n",
        "#a['work_rating'].fillna('janina',inplace=True)\n",
        "#a['work_rating'].replace('borin','ordinary',inplace=True)\n",
        "#a['friends_influence'].value_counts()"
      ],
      "execution_count": 6,
      "outputs": []
    },
    {
      "cell_type": "code",
      "metadata": {
        "id": "KQnQebD8r5kV",
        "outputId": "627c5d66-14e1-49bf-99da-a9a3e52aab11",
        "colab": {
          "base_uri": "https://localhost:8080/",
          "height": 72
        }
      },
      "source": [
        "#a['reln_status'].replace('Prefer not to say','In a relationship',inplace= True)\n",
        "a['reln_status'].value_counts()"
      ],
      "execution_count": 7,
      "outputs": [
        {
          "output_type": "execute_result",
          "data": {
            "text/plain": [
              "2.0    181\n",
              "1.0    114\n",
              "Name: reln_status, dtype: int64"
            ]
          },
          "metadata": {
            "tags": []
          },
          "execution_count": 7
        }
      ]
    },
    {
      "cell_type": "code",
      "metadata": {
        "id": "WVTQRbXQr5kb"
      },
      "source": [
        "\n",
        "#a.insert(0,'goal','NO')"
      ],
      "execution_count": 8,
      "outputs": []
    },
    {
      "cell_type": "code",
      "metadata": {
        "id": "Pjb281DKr5kg",
        "outputId": "cf200bcb-3fd1-412c-c285-5d450b5c0129",
        "colab": {
          "base_uri": "https://localhost:8080/",
          "height": 90
        }
      },
      "source": [
        "a['age'].value_counts()"
      ],
      "execution_count": 9,
      "outputs": [
        {
          "output_type": "execute_result",
          "data": {
            "text/plain": [
              "1.0    247\n",
              "2.0     49\n",
              "3.0      2\n",
              "Name: age, dtype: int64"
            ]
          },
          "metadata": {
            "tags": []
          },
          "execution_count": 9
        }
      ]
    },
    {
      "cell_type": "code",
      "metadata": {
        "scrolled": true,
        "id": "qsztwoGbr5kn",
        "outputId": "dec210fa-6b82-4471-8600-782ac8a7ca2c",
        "colab": {
          "base_uri": "https://localhost:8080/",
          "height": 475
        }
      },
      "source": [
        "a"
      ],
      "execution_count": 10,
      "outputs": [
        {
          "output_type": "execute_result",
          "data": {
            "text/html": [
              "<div>\n",
              "<style scoped>\n",
              "    .dataframe tbody tr th:only-of-type {\n",
              "        vertical-align: middle;\n",
              "    }\n",
              "\n",
              "    .dataframe tbody tr th {\n",
              "        vertical-align: top;\n",
              "    }\n",
              "\n",
              "    .dataframe thead th {\n",
              "        text-align: right;\n",
              "    }\n",
              "</style>\n",
              "<table border=\"1\" class=\"dataframe\">\n",
              "  <thead>\n",
              "    <tr style=\"text-align: right;\">\n",
              "      <th></th>\n",
              "      <th>age</th>\n",
              "      <th>sex</th>\n",
              "      <th>marital_status</th>\n",
              "      <th>reln_status</th>\n",
              "      <th>broken_family</th>\n",
              "      <th>happiness_in_relationship</th>\n",
              "      <th>financial_condition</th>\n",
              "      <th>fam_in_drugs</th>\n",
              "      <th>relation_w_parents</th>\n",
              "      <th>curse_for_exp</th>\n",
              "      <th>success_in_family</th>\n",
              "      <th>living_with</th>\n",
              "      <th>occupation_stat</th>\n",
              "      <th>occupation_succ</th>\n",
              "      <th>work_rating</th>\n",
              "      <th>occupation_v_friends</th>\n",
              "      <th>friends_no.</th>\n",
              "      <th>friends_influence</th>\n",
              "      <th>friends_w_drugs</th>\n",
              "      <th>hangout_type</th>\n",
              "      <th>party_join</th>\n",
              "      <th>socializing_capability</th>\n",
              "      <th>curiosity_in_drugs</th>\n",
              "      <th>access_to_drugs</th>\n",
              "      <th>hate_addict</th>\n",
              "      <th>life_satis.</th>\n",
              "      <th>outlook_concept</th>\n",
              "      <th>major_illness</th>\n",
              "      <th>lost_closed_ones</th>\n",
              "      <th>home_rating</th>\n",
              "      <th>religious_mindset</th>\n",
              "      <th>physical_ex.</th>\n",
              "      <th>failed_love</th>\n",
              "      <th>risk_tendency</th>\n",
              "      <th>lack_interest</th>\n",
              "      <th>Belief_in_notion</th>\n",
              "      <th>goal</th>\n",
              "    </tr>\n",
              "    <tr>\n",
              "      <th>index</th>\n",
              "      <th></th>\n",
              "      <th></th>\n",
              "      <th></th>\n",
              "      <th></th>\n",
              "      <th></th>\n",
              "      <th></th>\n",
              "      <th></th>\n",
              "      <th></th>\n",
              "      <th></th>\n",
              "      <th></th>\n",
              "      <th></th>\n",
              "      <th></th>\n",
              "      <th></th>\n",
              "      <th></th>\n",
              "      <th></th>\n",
              "      <th></th>\n",
              "      <th></th>\n",
              "      <th></th>\n",
              "      <th></th>\n",
              "      <th></th>\n",
              "      <th></th>\n",
              "      <th></th>\n",
              "      <th></th>\n",
              "      <th></th>\n",
              "      <th></th>\n",
              "      <th></th>\n",
              "      <th></th>\n",
              "      <th></th>\n",
              "      <th></th>\n",
              "      <th></th>\n",
              "      <th></th>\n",
              "      <th></th>\n",
              "      <th></th>\n",
              "      <th></th>\n",
              "      <th></th>\n",
              "      <th></th>\n",
              "      <th></th>\n",
              "    </tr>\n",
              "  </thead>\n",
              "  <tbody>\n",
              "    <tr>\n",
              "      <th>0</th>\n",
              "      <td>1.0</td>\n",
              "      <td>1</td>\n",
              "      <td>2</td>\n",
              "      <td>1.0</td>\n",
              "      <td>2</td>\n",
              "      <td>2.0</td>\n",
              "      <td>2.0</td>\n",
              "      <td>3</td>\n",
              "      <td>2</td>\n",
              "      <td>2.0</td>\n",
              "      <td>2.0</td>\n",
              "      <td>3.0</td>\n",
              "      <td>1.0</td>\n",
              "      <td>2.0</td>\n",
              "      <td>3.0</td>\n",
              "      <td>3.0</td>\n",
              "      <td>1.0</td>\n",
              "      <td>3.0</td>\n",
              "      <td>1.0</td>\n",
              "      <td>1.0</td>\n",
              "      <td>1.0</td>\n",
              "      <td>1.0</td>\n",
              "      <td>2.0</td>\n",
              "      <td>2.0</td>\n",
              "      <td>2.0</td>\n",
              "      <td>2.0</td>\n",
              "      <td>2.0</td>\n",
              "      <td>2.0</td>\n",
              "      <td>1.0</td>\n",
              "      <td>3.0</td>\n",
              "      <td>2.0</td>\n",
              "      <td>1.0</td>\n",
              "      <td>3.0</td>\n",
              "      <td>1.0</td>\n",
              "      <td>1.0</td>\n",
              "      <td>2.0</td>\n",
              "      <td>0</td>\n",
              "    </tr>\n",
              "    <tr>\n",
              "      <th>1</th>\n",
              "      <td>2.0</td>\n",
              "      <td>1</td>\n",
              "      <td>2</td>\n",
              "      <td>2.0</td>\n",
              "      <td>2</td>\n",
              "      <td>2.0</td>\n",
              "      <td>1.0</td>\n",
              "      <td>3</td>\n",
              "      <td>1</td>\n",
              "      <td>2.0</td>\n",
              "      <td>2.0</td>\n",
              "      <td>3.0</td>\n",
              "      <td>3.0</td>\n",
              "      <td>2.0</td>\n",
              "      <td>2.0</td>\n",
              "      <td>2.0</td>\n",
              "      <td>1.0</td>\n",
              "      <td>2.0</td>\n",
              "      <td>2.0</td>\n",
              "      <td>1.0</td>\n",
              "      <td>2.0</td>\n",
              "      <td>2.0</td>\n",
              "      <td>3.0</td>\n",
              "      <td>2.0</td>\n",
              "      <td>2.0</td>\n",
              "      <td>2.0</td>\n",
              "      <td>2.0</td>\n",
              "      <td>2.0</td>\n",
              "      <td>2.0</td>\n",
              "      <td>2.0</td>\n",
              "      <td>2.0</td>\n",
              "      <td>2.0</td>\n",
              "      <td>2.0</td>\n",
              "      <td>1.0</td>\n",
              "      <td>2.0</td>\n",
              "      <td>3.0</td>\n",
              "      <td>0</td>\n",
              "    </tr>\n",
              "    <tr>\n",
              "      <th>2</th>\n",
              "      <td>1.0</td>\n",
              "      <td>1</td>\n",
              "      <td>2</td>\n",
              "      <td>2.0</td>\n",
              "      <td>2</td>\n",
              "      <td>1.0</td>\n",
              "      <td>3.0</td>\n",
              "      <td>3</td>\n",
              "      <td>1</td>\n",
              "      <td>3.0</td>\n",
              "      <td>1.0</td>\n",
              "      <td>3.0</td>\n",
              "      <td>3.0</td>\n",
              "      <td>2.0</td>\n",
              "      <td>2.0</td>\n",
              "      <td>NaN</td>\n",
              "      <td>1.0</td>\n",
              "      <td>1.0</td>\n",
              "      <td>3.0</td>\n",
              "      <td>1.0</td>\n",
              "      <td>2.0</td>\n",
              "      <td>2.0</td>\n",
              "      <td>1.0</td>\n",
              "      <td>2.0</td>\n",
              "      <td>2.0</td>\n",
              "      <td>1.0</td>\n",
              "      <td>1.0</td>\n",
              "      <td>2.0</td>\n",
              "      <td>1.0</td>\n",
              "      <td>3.0</td>\n",
              "      <td>3.0</td>\n",
              "      <td>1.0</td>\n",
              "      <td>3.0</td>\n",
              "      <td>1.0</td>\n",
              "      <td>2.0</td>\n",
              "      <td>2.0</td>\n",
              "      <td>0</td>\n",
              "    </tr>\n",
              "    <tr>\n",
              "      <th>3</th>\n",
              "      <td>1.0</td>\n",
              "      <td>1</td>\n",
              "      <td>2</td>\n",
              "      <td>1.0</td>\n",
              "      <td>2</td>\n",
              "      <td>1.0</td>\n",
              "      <td>1.0</td>\n",
              "      <td>3</td>\n",
              "      <td>2</td>\n",
              "      <td>2.0</td>\n",
              "      <td>2.0</td>\n",
              "      <td>3.0</td>\n",
              "      <td>1.0</td>\n",
              "      <td>2.0</td>\n",
              "      <td>2.0</td>\n",
              "      <td>1.0</td>\n",
              "      <td>1.0</td>\n",
              "      <td>3.0</td>\n",
              "      <td>1.0</td>\n",
              "      <td>1.0</td>\n",
              "      <td>1.0</td>\n",
              "      <td>2.0</td>\n",
              "      <td>2.0</td>\n",
              "      <td>2.0</td>\n",
              "      <td>1.0</td>\n",
              "      <td>2.0</td>\n",
              "      <td>2.0</td>\n",
              "      <td>2.0</td>\n",
              "      <td>2.0</td>\n",
              "      <td>2.0</td>\n",
              "      <td>2.0</td>\n",
              "      <td>1.0</td>\n",
              "      <td>3.0</td>\n",
              "      <td>1.0</td>\n",
              "      <td>2.0</td>\n",
              "      <td>3.0</td>\n",
              "      <td>0</td>\n",
              "    </tr>\n",
              "    <tr>\n",
              "      <th>4</th>\n",
              "      <td>1.0</td>\n",
              "      <td>1</td>\n",
              "      <td>2</td>\n",
              "      <td>2.0</td>\n",
              "      <td>2</td>\n",
              "      <td>2.0</td>\n",
              "      <td>1.0</td>\n",
              "      <td>3</td>\n",
              "      <td>1</td>\n",
              "      <td>2.0</td>\n",
              "      <td>2.0</td>\n",
              "      <td>3.0</td>\n",
              "      <td>3.0</td>\n",
              "      <td>2.0</td>\n",
              "      <td>NaN</td>\n",
              "      <td>NaN</td>\n",
              "      <td>1.0</td>\n",
              "      <td>2.0</td>\n",
              "      <td>1.0</td>\n",
              "      <td>1.0</td>\n",
              "      <td>1.0</td>\n",
              "      <td>1.0</td>\n",
              "      <td>2.0</td>\n",
              "      <td>NaN</td>\n",
              "      <td>1.0</td>\n",
              "      <td>1.0</td>\n",
              "      <td>1.0</td>\n",
              "      <td>2.0</td>\n",
              "      <td>2.0</td>\n",
              "      <td>2.0</td>\n",
              "      <td>2.0</td>\n",
              "      <td>2.0</td>\n",
              "      <td>2.0</td>\n",
              "      <td>1.0</td>\n",
              "      <td>2.0</td>\n",
              "      <td>NaN</td>\n",
              "      <td>0</td>\n",
              "    </tr>\n",
              "    <tr>\n",
              "      <th>...</th>\n",
              "      <td>...</td>\n",
              "      <td>...</td>\n",
              "      <td>...</td>\n",
              "      <td>...</td>\n",
              "      <td>...</td>\n",
              "      <td>...</td>\n",
              "      <td>...</td>\n",
              "      <td>...</td>\n",
              "      <td>...</td>\n",
              "      <td>...</td>\n",
              "      <td>...</td>\n",
              "      <td>...</td>\n",
              "      <td>...</td>\n",
              "      <td>...</td>\n",
              "      <td>...</td>\n",
              "      <td>...</td>\n",
              "      <td>...</td>\n",
              "      <td>...</td>\n",
              "      <td>...</td>\n",
              "      <td>...</td>\n",
              "      <td>...</td>\n",
              "      <td>...</td>\n",
              "      <td>...</td>\n",
              "      <td>...</td>\n",
              "      <td>...</td>\n",
              "      <td>...</td>\n",
              "      <td>...</td>\n",
              "      <td>...</td>\n",
              "      <td>...</td>\n",
              "      <td>...</td>\n",
              "      <td>...</td>\n",
              "      <td>...</td>\n",
              "      <td>...</td>\n",
              "      <td>...</td>\n",
              "      <td>...</td>\n",
              "      <td>...</td>\n",
              "      <td>...</td>\n",
              "    </tr>\n",
              "    <tr>\n",
              "      <th>295</th>\n",
              "      <td>1.0</td>\n",
              "      <td>2</td>\n",
              "      <td>2</td>\n",
              "      <td>2.0</td>\n",
              "      <td>1</td>\n",
              "      <td>NaN</td>\n",
              "      <td>3.0</td>\n",
              "      <td>3</td>\n",
              "      <td>2</td>\n",
              "      <td>3.0</td>\n",
              "      <td>2.0</td>\n",
              "      <td>1.0</td>\n",
              "      <td>1.0</td>\n",
              "      <td>3.0</td>\n",
              "      <td>2.0</td>\n",
              "      <td>2.0</td>\n",
              "      <td>1.0</td>\n",
              "      <td>2.0</td>\n",
              "      <td>2.0</td>\n",
              "      <td>1.0</td>\n",
              "      <td>2.0</td>\n",
              "      <td>1.0</td>\n",
              "      <td>3.0</td>\n",
              "      <td>2.0</td>\n",
              "      <td>2.0</td>\n",
              "      <td>1.0</td>\n",
              "      <td>1.0</td>\n",
              "      <td>2.0</td>\n",
              "      <td>2.0</td>\n",
              "      <td>2.0</td>\n",
              "      <td>2.0</td>\n",
              "      <td>2.0</td>\n",
              "      <td>3.0</td>\n",
              "      <td>1.0</td>\n",
              "      <td>1.0</td>\n",
              "      <td>3.0</td>\n",
              "      <td>0</td>\n",
              "    </tr>\n",
              "    <tr>\n",
              "      <th>296</th>\n",
              "      <td>2.0</td>\n",
              "      <td>1</td>\n",
              "      <td>2</td>\n",
              "      <td>1.0</td>\n",
              "      <td>2</td>\n",
              "      <td>1.0</td>\n",
              "      <td>1.0</td>\n",
              "      <td>3</td>\n",
              "      <td>1</td>\n",
              "      <td>2.0</td>\n",
              "      <td>2.0</td>\n",
              "      <td>1.0</td>\n",
              "      <td>1.0</td>\n",
              "      <td>2.0</td>\n",
              "      <td>2.0</td>\n",
              "      <td>1.0</td>\n",
              "      <td>1.0</td>\n",
              "      <td>3.0</td>\n",
              "      <td>2.0</td>\n",
              "      <td>1.0</td>\n",
              "      <td>1.0</td>\n",
              "      <td>1.0</td>\n",
              "      <td>2.0</td>\n",
              "      <td>2.0</td>\n",
              "      <td>2.0</td>\n",
              "      <td>3.0</td>\n",
              "      <td>3.0</td>\n",
              "      <td>2.0</td>\n",
              "      <td>1.0</td>\n",
              "      <td>2.0</td>\n",
              "      <td>2.0</td>\n",
              "      <td>2.0</td>\n",
              "      <td>2.0</td>\n",
              "      <td>2.0</td>\n",
              "      <td>1.0</td>\n",
              "      <td>3.0</td>\n",
              "      <td>0</td>\n",
              "    </tr>\n",
              "    <tr>\n",
              "      <th>297</th>\n",
              "      <td>1.0</td>\n",
              "      <td>1</td>\n",
              "      <td>2</td>\n",
              "      <td>2.0</td>\n",
              "      <td>2</td>\n",
              "      <td>NaN</td>\n",
              "      <td>2.0</td>\n",
              "      <td>3</td>\n",
              "      <td>1</td>\n",
              "      <td>2.0</td>\n",
              "      <td>2.0</td>\n",
              "      <td>3.0</td>\n",
              "      <td>1.0</td>\n",
              "      <td>1.0</td>\n",
              "      <td>1.0</td>\n",
              "      <td>2.0</td>\n",
              "      <td>2.0</td>\n",
              "      <td>3.0</td>\n",
              "      <td>2.0</td>\n",
              "      <td>1.0</td>\n",
              "      <td>2.0</td>\n",
              "      <td>2.0</td>\n",
              "      <td>3.0</td>\n",
              "      <td>3.0</td>\n",
              "      <td>2.0</td>\n",
              "      <td>1.0</td>\n",
              "      <td>1.0</td>\n",
              "      <td>2.0</td>\n",
              "      <td>1.0</td>\n",
              "      <td>2.0</td>\n",
              "      <td>2.0</td>\n",
              "      <td>2.0</td>\n",
              "      <td>2.0</td>\n",
              "      <td>1.0</td>\n",
              "      <td>1.0</td>\n",
              "      <td>3.0</td>\n",
              "      <td>0</td>\n",
              "    </tr>\n",
              "    <tr>\n",
              "      <th>298</th>\n",
              "      <td>2.0</td>\n",
              "      <td>1</td>\n",
              "      <td>2</td>\n",
              "      <td>1.0</td>\n",
              "      <td>2</td>\n",
              "      <td>1.0</td>\n",
              "      <td>2.0</td>\n",
              "      <td>2</td>\n",
              "      <td>1</td>\n",
              "      <td>2.0</td>\n",
              "      <td>2.0</td>\n",
              "      <td>1.0</td>\n",
              "      <td>3.0</td>\n",
              "      <td>3.0</td>\n",
              "      <td>3.0</td>\n",
              "      <td>2.0</td>\n",
              "      <td>1.0</td>\n",
              "      <td>2.0</td>\n",
              "      <td>3.0</td>\n",
              "      <td>1.0</td>\n",
              "      <td>2.0</td>\n",
              "      <td>2.0</td>\n",
              "      <td>3.0</td>\n",
              "      <td>3.0</td>\n",
              "      <td>1.0</td>\n",
              "      <td>1.0</td>\n",
              "      <td>1.0</td>\n",
              "      <td>2.0</td>\n",
              "      <td>2.0</td>\n",
              "      <td>2.0</td>\n",
              "      <td>2.0</td>\n",
              "      <td>1.0</td>\n",
              "      <td>2.0</td>\n",
              "      <td>1.0</td>\n",
              "      <td>1.0</td>\n",
              "      <td>3.0</td>\n",
              "      <td>0</td>\n",
              "    </tr>\n",
              "    <tr>\n",
              "      <th>299</th>\n",
              "      <td>2.0</td>\n",
              "      <td>1</td>\n",
              "      <td>2</td>\n",
              "      <td>1.0</td>\n",
              "      <td>2</td>\n",
              "      <td>1.0</td>\n",
              "      <td>1.0</td>\n",
              "      <td>3</td>\n",
              "      <td>2</td>\n",
              "      <td>3.0</td>\n",
              "      <td>2.0</td>\n",
              "      <td>3.0</td>\n",
              "      <td>3.0</td>\n",
              "      <td>2.0</td>\n",
              "      <td>3.0</td>\n",
              "      <td>NaN</td>\n",
              "      <td>2.0</td>\n",
              "      <td>2.0</td>\n",
              "      <td>3.0</td>\n",
              "      <td>3.0</td>\n",
              "      <td>2.0</td>\n",
              "      <td>2.0</td>\n",
              "      <td>2.0</td>\n",
              "      <td>3.0</td>\n",
              "      <td>2.0</td>\n",
              "      <td>2.0</td>\n",
              "      <td>3.0</td>\n",
              "      <td>2.0</td>\n",
              "      <td>2.0</td>\n",
              "      <td>2.0</td>\n",
              "      <td>2.0</td>\n",
              "      <td>2.0</td>\n",
              "      <td>3.0</td>\n",
              "      <td>1.0</td>\n",
              "      <td>2.0</td>\n",
              "      <td>2.0</td>\n",
              "      <td>0</td>\n",
              "    </tr>\n",
              "  </tbody>\n",
              "</table>\n",
              "<p>300 rows × 37 columns</p>\n",
              "</div>"
            ],
            "text/plain": [
              "       age  sex  marital_status  ...  lack_interest  Belief_in_notion  goal\n",
              "index                            ...                                       \n",
              "0      1.0    1               2  ...            1.0               2.0     0\n",
              "1      2.0    1               2  ...            2.0               3.0     0\n",
              "2      1.0    1               2  ...            2.0               2.0     0\n",
              "3      1.0    1               2  ...            2.0               3.0     0\n",
              "4      1.0    1               2  ...            2.0               NaN     0\n",
              "...    ...  ...             ...  ...            ...               ...   ...\n",
              "295    1.0    2               2  ...            1.0               3.0     0\n",
              "296    2.0    1               2  ...            1.0               3.0     0\n",
              "297    1.0    1               2  ...            1.0               3.0     0\n",
              "298    2.0    1               2  ...            1.0               3.0     0\n",
              "299    2.0    1               2  ...            2.0               2.0     0\n",
              "\n",
              "[300 rows x 37 columns]"
            ]
          },
          "metadata": {
            "tags": []
          },
          "execution_count": 10
        }
      ]
    },
    {
      "cell_type": "code",
      "metadata": {
        "id": "zuCSZ8okr5ku",
        "outputId": "e46ec8b1-62b2-49fd-ab84-032d35681050",
        "colab": {
          "base_uri": "https://localhost:8080/",
          "height": 237
        }
      },
      "source": [
        "a.columns"
      ],
      "execution_count": 11,
      "outputs": [
        {
          "output_type": "execute_result",
          "data": {
            "text/plain": [
              "Index(['age', 'sex', 'marital_status', 'reln_status', 'broken_family',\n",
              "       'happiness_in_relationship', 'financial_condition', 'fam_in_drugs',\n",
              "       'relation_w_parents', 'curse_for_exp', 'success_in_family',\n",
              "       'living_with', 'occupation_stat', 'occupation_succ', 'work_rating',\n",
              "       'occupation_v_friends', 'friends_no.', 'friends_influence',\n",
              "       'friends_w_drugs', 'hangout_type', 'party_join',\n",
              "       'socializing_capability', 'curiosity_in_drugs', 'access_to_drugs',\n",
              "       'hate_addict', 'life_satis.', 'outlook_concept', 'major_illness',\n",
              "       'lost_closed_ones', 'home_rating', 'religious_mindset', 'physical_ex.',\n",
              "       'failed_love', 'risk_tendency', 'lack_interest', 'Belief_in_notion',\n",
              "       'goal'],\n",
              "      dtype='object')"
            ]
          },
          "metadata": {
            "tags": []
          },
          "execution_count": 11
        }
      ]
    },
    {
      "cell_type": "code",
      "metadata": {
        "id": "ezFY9vTWr5k1",
        "outputId": "b5564816-2617-4bee-f602-fb0be8b45137",
        "colab": {
          "base_uri": "https://localhost:8080/",
          "height": 90
        }
      },
      "source": [
        "a['age'].value_counts()"
      ],
      "execution_count": 12,
      "outputs": [
        {
          "output_type": "execute_result",
          "data": {
            "text/plain": [
              "1.0    247\n",
              "2.0     49\n",
              "3.0      2\n",
              "Name: age, dtype: int64"
            ]
          },
          "metadata": {
            "tags": []
          },
          "execution_count": 12
        }
      ]
    },
    {
      "cell_type": "code",
      "metadata": {
        "id": "gyIxoR99r5k7",
        "outputId": "8e0f65ea-fb96-40a8-b876-ecdb95546d63",
        "colab": {
          "base_uri": "https://localhost:8080/",
          "height": 90
        }
      },
      "source": [
        "a['access_to_drugs'].value_counts()"
      ],
      "execution_count": 13,
      "outputs": [
        {
          "output_type": "execute_result",
          "data": {
            "text/plain": [
              "3.0    141\n",
              "2.0    123\n",
              "1.0     27\n",
              "Name: access_to_drugs, dtype: int64"
            ]
          },
          "metadata": {
            "tags": []
          },
          "execution_count": 13
        }
      ]
    },
    {
      "cell_type": "code",
      "metadata": {
        "id": "sEjyuIXNr5lD"
      },
      "source": [
        "b=pd.read_excel('addicted.xlsx')\n",
        "b= b.reset_index()"
      ],
      "execution_count": 14,
      "outputs": []
    },
    {
      "cell_type": "code",
      "metadata": {
        "id": "9ZjzO9wqr5lI"
      },
      "source": [
        "b=b.set_index('index',drop=True)"
      ],
      "execution_count": 15,
      "outputs": []
    },
    {
      "cell_type": "code",
      "metadata": {
        "id": "I5_ZoaFTr5lP",
        "outputId": "b5312524-572a-4602-daca-7a6466552e73",
        "colab": {
          "base_uri": "https://localhost:8080/",
          "height": 649
        }
      },
      "source": [
        "b"
      ],
      "execution_count": 16,
      "outputs": [
        {
          "output_type": "execute_result",
          "data": {
            "text/html": [
              "<div>\n",
              "<style scoped>\n",
              "    .dataframe tbody tr th:only-of-type {\n",
              "        vertical-align: middle;\n",
              "    }\n",
              "\n",
              "    .dataframe tbody tr th {\n",
              "        vertical-align: top;\n",
              "    }\n",
              "\n",
              "    .dataframe thead th {\n",
              "        text-align: right;\n",
              "    }\n",
              "</style>\n",
              "<table border=\"1\" class=\"dataframe\">\n",
              "  <thead>\n",
              "    <tr style=\"text-align: right;\">\n",
              "      <th></th>\n",
              "      <th>Your age?</th>\n",
              "      <th>Gender?</th>\n",
              "      <th>Marital status?</th>\n",
              "      <th>broken family?(parents live separately)</th>\n",
              "      <th>Relationship status?(if unmarried)</th>\n",
              "      <th>Are you happy about your marriage/relationship?</th>\n",
              "      <th>financial situation of your family?</th>\n",
              "      <th>is/was any of your family members ever involved in drugs?</th>\n",
              "      <th>How is your relationship with your parents?</th>\n",
              "      <th>Are you often cursed by your closed ones for not being able to live up-to their expectations?</th>\n",
              "      <th>How successful are you among your family members?</th>\n",
              "      <th>current state of living?</th>\n",
              "      <th>Occupational status?</th>\n",
              "      <th>Occupational success?</th>\n",
              "      <th>How do you rate your workplace?</th>\n",
              "      <th>Occupational status compared to friends?</th>\n",
              "      <th>Number of friends/ accomplices?</th>\n",
              "      <th>Do you get influenced by your friends' activity?</th>\n",
              "      <th>How many of your friends have taken drugs ?</th>\n",
              "      <th>Do you like to hang out with friends?</th>\n",
              "      <th>Do you join parties/gatherings/hangouts where there's a frequent use of drugs?</th>\n",
              "      <th>How fast can you get in a society/community?</th>\n",
              "      <th>Do you have curiosity/fantasy about drugs?</th>\n",
              "      <th>Do you have access to drugs(could you manage if you wanted)?</th>\n",
              "      <th>Do you hate a drug addict as a person?</th>\n",
              "      <th>Are you satisfied with your life until 3w?</th>\n",
              "      <th>Are you happy with your physical outlook?</th>\n",
              "      <th>Are you suffering from any serious illness?</th>\n",
              "      <th>Have you lost any of your closed ones recently?</th>\n",
              "      <th>How do you rate your living place?</th>\n",
              "      <th>what is your religious mindset?</th>\n",
              "      <th>Are you involved in sports or any form of physical exercise?</th>\n",
              "      <th>Failed in love? (break-up, refusal of love etc. )</th>\n",
              "      <th>Do you enjoy taking risk/ having a new experience/ doing something thrilling?</th>\n",
              "      <th>Do you think that people don't find interest in conversation with you?</th>\n",
              "      <th>Do you believe in the notion that drugs relieve you from mental stress?</th>\n",
              "      <th>goal</th>\n",
              "    </tr>\n",
              "    <tr>\n",
              "      <th>index</th>\n",
              "      <th></th>\n",
              "      <th></th>\n",
              "      <th></th>\n",
              "      <th></th>\n",
              "      <th></th>\n",
              "      <th></th>\n",
              "      <th></th>\n",
              "      <th></th>\n",
              "      <th></th>\n",
              "      <th></th>\n",
              "      <th></th>\n",
              "      <th></th>\n",
              "      <th></th>\n",
              "      <th></th>\n",
              "      <th></th>\n",
              "      <th></th>\n",
              "      <th></th>\n",
              "      <th></th>\n",
              "      <th></th>\n",
              "      <th></th>\n",
              "      <th></th>\n",
              "      <th></th>\n",
              "      <th></th>\n",
              "      <th></th>\n",
              "      <th></th>\n",
              "      <th></th>\n",
              "      <th></th>\n",
              "      <th></th>\n",
              "      <th></th>\n",
              "      <th></th>\n",
              "      <th></th>\n",
              "      <th></th>\n",
              "      <th></th>\n",
              "      <th></th>\n",
              "      <th></th>\n",
              "      <th></th>\n",
              "      <th></th>\n",
              "    </tr>\n",
              "  </thead>\n",
              "  <tbody>\n",
              "    <tr>\n",
              "      <th>0</th>\n",
              "      <td>2</td>\n",
              "      <td>1</td>\n",
              "      <td>2</td>\n",
              "      <td>2</td>\n",
              "      <td>2.0</td>\n",
              "      <td>2</td>\n",
              "      <td>1</td>\n",
              "      <td>3</td>\n",
              "      <td>3</td>\n",
              "      <td>1</td>\n",
              "      <td>2</td>\n",
              "      <td>1</td>\n",
              "      <td>2</td>\n",
              "      <td>2</td>\n",
              "      <td>1</td>\n",
              "      <td>3.0</td>\n",
              "      <td>1</td>\n",
              "      <td>3</td>\n",
              "      <td>1</td>\n",
              "      <td>2</td>\n",
              "      <td>1</td>\n",
              "      <td>1</td>\n",
              "      <td>3</td>\n",
              "      <td>2</td>\n",
              "      <td>2</td>\n",
              "      <td>3</td>\n",
              "      <td>1</td>\n",
              "      <td>2</td>\n",
              "      <td>1</td>\n",
              "      <td>1</td>\n",
              "      <td>2</td>\n",
              "      <td>1</td>\n",
              "      <td>2.0</td>\n",
              "      <td>2</td>\n",
              "      <td>2</td>\n",
              "      <td>1</td>\n",
              "      <td>1</td>\n",
              "    </tr>\n",
              "    <tr>\n",
              "      <th>1</th>\n",
              "      <td>3</td>\n",
              "      <td>1</td>\n",
              "      <td>2</td>\n",
              "      <td>2</td>\n",
              "      <td>2.0</td>\n",
              "      <td>1</td>\n",
              "      <td>1</td>\n",
              "      <td>3</td>\n",
              "      <td>3</td>\n",
              "      <td>1</td>\n",
              "      <td>3</td>\n",
              "      <td>1</td>\n",
              "      <td>2</td>\n",
              "      <td>3</td>\n",
              "      <td>3</td>\n",
              "      <td>3.0</td>\n",
              "      <td>3</td>\n",
              "      <td>2</td>\n",
              "      <td>1</td>\n",
              "      <td>3</td>\n",
              "      <td>2</td>\n",
              "      <td>3</td>\n",
              "      <td>2</td>\n",
              "      <td>1</td>\n",
              "      <td>2</td>\n",
              "      <td>3</td>\n",
              "      <td>1</td>\n",
              "      <td>2</td>\n",
              "      <td>1</td>\n",
              "      <td>1</td>\n",
              "      <td>2</td>\n",
              "      <td>2</td>\n",
              "      <td>NaN</td>\n",
              "      <td>1</td>\n",
              "      <td>2</td>\n",
              "      <td>1</td>\n",
              "      <td>1</td>\n",
              "    </tr>\n",
              "    <tr>\n",
              "      <th>2</th>\n",
              "      <td>1</td>\n",
              "      <td>1</td>\n",
              "      <td>2</td>\n",
              "      <td>2</td>\n",
              "      <td>2.0</td>\n",
              "      <td>2</td>\n",
              "      <td>1</td>\n",
              "      <td>2</td>\n",
              "      <td>3</td>\n",
              "      <td>1</td>\n",
              "      <td>3</td>\n",
              "      <td>1</td>\n",
              "      <td>1</td>\n",
              "      <td>2</td>\n",
              "      <td>2</td>\n",
              "      <td>3.0</td>\n",
              "      <td>2</td>\n",
              "      <td>1</td>\n",
              "      <td>1</td>\n",
              "      <td>2</td>\n",
              "      <td>2</td>\n",
              "      <td>2</td>\n",
              "      <td>1</td>\n",
              "      <td>2</td>\n",
              "      <td>1</td>\n",
              "      <td>2</td>\n",
              "      <td>2</td>\n",
              "      <td>2</td>\n",
              "      <td>1</td>\n",
              "      <td>1</td>\n",
              "      <td>3</td>\n",
              "      <td>1</td>\n",
              "      <td>1.0</td>\n",
              "      <td>1</td>\n",
              "      <td>2</td>\n",
              "      <td>1</td>\n",
              "      <td>1</td>\n",
              "    </tr>\n",
              "    <tr>\n",
              "      <th>3</th>\n",
              "      <td>3</td>\n",
              "      <td>1</td>\n",
              "      <td>2</td>\n",
              "      <td>2</td>\n",
              "      <td>2.0</td>\n",
              "      <td>3</td>\n",
              "      <td>3</td>\n",
              "      <td>1</td>\n",
              "      <td>3</td>\n",
              "      <td>1</td>\n",
              "      <td>3</td>\n",
              "      <td>1</td>\n",
              "      <td>2</td>\n",
              "      <td>3</td>\n",
              "      <td>3</td>\n",
              "      <td>3.0</td>\n",
              "      <td>1</td>\n",
              "      <td>2</td>\n",
              "      <td>1</td>\n",
              "      <td>1</td>\n",
              "      <td>1</td>\n",
              "      <td>1</td>\n",
              "      <td>1</td>\n",
              "      <td>1</td>\n",
              "      <td>2</td>\n",
              "      <td>3</td>\n",
              "      <td>1</td>\n",
              "      <td>1</td>\n",
              "      <td>1</td>\n",
              "      <td>3</td>\n",
              "      <td>2</td>\n",
              "      <td>2</td>\n",
              "      <td>1.0</td>\n",
              "      <td>1</td>\n",
              "      <td>1</td>\n",
              "      <td>1</td>\n",
              "      <td>1</td>\n",
              "    </tr>\n",
              "    <tr>\n",
              "      <th>4</th>\n",
              "      <td>2</td>\n",
              "      <td>1</td>\n",
              "      <td>2</td>\n",
              "      <td>2</td>\n",
              "      <td>2.0</td>\n",
              "      <td>2</td>\n",
              "      <td>1</td>\n",
              "      <td>3</td>\n",
              "      <td>3</td>\n",
              "      <td>1</td>\n",
              "      <td>3</td>\n",
              "      <td>1</td>\n",
              "      <td>2</td>\n",
              "      <td>3</td>\n",
              "      <td>3</td>\n",
              "      <td>3.0</td>\n",
              "      <td>1</td>\n",
              "      <td>2</td>\n",
              "      <td>1</td>\n",
              "      <td>2</td>\n",
              "      <td>1</td>\n",
              "      <td>1</td>\n",
              "      <td>1</td>\n",
              "      <td>1</td>\n",
              "      <td>2</td>\n",
              "      <td>3</td>\n",
              "      <td>2</td>\n",
              "      <td>2</td>\n",
              "      <td>2</td>\n",
              "      <td>2</td>\n",
              "      <td>3</td>\n",
              "      <td>2</td>\n",
              "      <td>2.0</td>\n",
              "      <td>2</td>\n",
              "      <td>2</td>\n",
              "      <td>1</td>\n",
              "      <td>1</td>\n",
              "    </tr>\n",
              "    <tr>\n",
              "      <th>...</th>\n",
              "      <td>...</td>\n",
              "      <td>...</td>\n",
              "      <td>...</td>\n",
              "      <td>...</td>\n",
              "      <td>...</td>\n",
              "      <td>...</td>\n",
              "      <td>...</td>\n",
              "      <td>...</td>\n",
              "      <td>...</td>\n",
              "      <td>...</td>\n",
              "      <td>...</td>\n",
              "      <td>...</td>\n",
              "      <td>...</td>\n",
              "      <td>...</td>\n",
              "      <td>...</td>\n",
              "      <td>...</td>\n",
              "      <td>...</td>\n",
              "      <td>...</td>\n",
              "      <td>...</td>\n",
              "      <td>...</td>\n",
              "      <td>...</td>\n",
              "      <td>...</td>\n",
              "      <td>...</td>\n",
              "      <td>...</td>\n",
              "      <td>...</td>\n",
              "      <td>...</td>\n",
              "      <td>...</td>\n",
              "      <td>...</td>\n",
              "      <td>...</td>\n",
              "      <td>...</td>\n",
              "      <td>...</td>\n",
              "      <td>...</td>\n",
              "      <td>...</td>\n",
              "      <td>...</td>\n",
              "      <td>...</td>\n",
              "      <td>...</td>\n",
              "      <td>...</td>\n",
              "    </tr>\n",
              "    <tr>\n",
              "      <th>181</th>\n",
              "      <td>1</td>\n",
              "      <td>1</td>\n",
              "      <td>2</td>\n",
              "      <td>1</td>\n",
              "      <td>2.0</td>\n",
              "      <td>3</td>\n",
              "      <td>3</td>\n",
              "      <td>3</td>\n",
              "      <td>1</td>\n",
              "      <td>2</td>\n",
              "      <td>3</td>\n",
              "      <td>3</td>\n",
              "      <td>3</td>\n",
              "      <td>2</td>\n",
              "      <td>3</td>\n",
              "      <td>2.0</td>\n",
              "      <td>3</td>\n",
              "      <td>2</td>\n",
              "      <td>2</td>\n",
              "      <td>1</td>\n",
              "      <td>1</td>\n",
              "      <td>1</td>\n",
              "      <td>2</td>\n",
              "      <td>3</td>\n",
              "      <td>2</td>\n",
              "      <td>2</td>\n",
              "      <td>2</td>\n",
              "      <td>1</td>\n",
              "      <td>2</td>\n",
              "      <td>2</td>\n",
              "      <td>2</td>\n",
              "      <td>1</td>\n",
              "      <td>3.0</td>\n",
              "      <td>1</td>\n",
              "      <td>2</td>\n",
              "      <td>2</td>\n",
              "      <td>1</td>\n",
              "    </tr>\n",
              "    <tr>\n",
              "      <th>182</th>\n",
              "      <td>1</td>\n",
              "      <td>1</td>\n",
              "      <td>2</td>\n",
              "      <td>2</td>\n",
              "      <td>1.0</td>\n",
              "      <td>3</td>\n",
              "      <td>1</td>\n",
              "      <td>3</td>\n",
              "      <td>2</td>\n",
              "      <td>1</td>\n",
              "      <td>1</td>\n",
              "      <td>1</td>\n",
              "      <td>2</td>\n",
              "      <td>3</td>\n",
              "      <td>3</td>\n",
              "      <td>1.0</td>\n",
              "      <td>2</td>\n",
              "      <td>2</td>\n",
              "      <td>1</td>\n",
              "      <td>3</td>\n",
              "      <td>1</td>\n",
              "      <td>3</td>\n",
              "      <td>2</td>\n",
              "      <td>2</td>\n",
              "      <td>1</td>\n",
              "      <td>1</td>\n",
              "      <td>2</td>\n",
              "      <td>2</td>\n",
              "      <td>2</td>\n",
              "      <td>1</td>\n",
              "      <td>2</td>\n",
              "      <td>2</td>\n",
              "      <td>3.0</td>\n",
              "      <td>1</td>\n",
              "      <td>2</td>\n",
              "      <td>3</td>\n",
              "      <td>1</td>\n",
              "    </tr>\n",
              "    <tr>\n",
              "      <th>183</th>\n",
              "      <td>2</td>\n",
              "      <td>1</td>\n",
              "      <td>2</td>\n",
              "      <td>2</td>\n",
              "      <td>2.0</td>\n",
              "      <td>1</td>\n",
              "      <td>1</td>\n",
              "      <td>1</td>\n",
              "      <td>3</td>\n",
              "      <td>1</td>\n",
              "      <td>2</td>\n",
              "      <td>3</td>\n",
              "      <td>1</td>\n",
              "      <td>3</td>\n",
              "      <td>3</td>\n",
              "      <td>2.0</td>\n",
              "      <td>3</td>\n",
              "      <td>2</td>\n",
              "      <td>2</td>\n",
              "      <td>2</td>\n",
              "      <td>1</td>\n",
              "      <td>3</td>\n",
              "      <td>1</td>\n",
              "      <td>1</td>\n",
              "      <td>2</td>\n",
              "      <td>3</td>\n",
              "      <td>1</td>\n",
              "      <td>2</td>\n",
              "      <td>2</td>\n",
              "      <td>2</td>\n",
              "      <td>3</td>\n",
              "      <td>2</td>\n",
              "      <td>1.0</td>\n",
              "      <td>1</td>\n",
              "      <td>2</td>\n",
              "      <td>1</td>\n",
              "      <td>1</td>\n",
              "    </tr>\n",
              "    <tr>\n",
              "      <th>184</th>\n",
              "      <td>3</td>\n",
              "      <td>1</td>\n",
              "      <td>2</td>\n",
              "      <td>1</td>\n",
              "      <td>2.0</td>\n",
              "      <td>3</td>\n",
              "      <td>1</td>\n",
              "      <td>3</td>\n",
              "      <td>1</td>\n",
              "      <td>3</td>\n",
              "      <td>3</td>\n",
              "      <td>3</td>\n",
              "      <td>3</td>\n",
              "      <td>2</td>\n",
              "      <td>2</td>\n",
              "      <td>2.0</td>\n",
              "      <td>3</td>\n",
              "      <td>1</td>\n",
              "      <td>1</td>\n",
              "      <td>1</td>\n",
              "      <td>2</td>\n",
              "      <td>2</td>\n",
              "      <td>1</td>\n",
              "      <td>2</td>\n",
              "      <td>2</td>\n",
              "      <td>3</td>\n",
              "      <td>3</td>\n",
              "      <td>2</td>\n",
              "      <td>2</td>\n",
              "      <td>3</td>\n",
              "      <td>2</td>\n",
              "      <td>2</td>\n",
              "      <td>1.0</td>\n",
              "      <td>2</td>\n",
              "      <td>1</td>\n",
              "      <td>1</td>\n",
              "      <td>1</td>\n",
              "    </tr>\n",
              "    <tr>\n",
              "      <th>185</th>\n",
              "      <td>1</td>\n",
              "      <td>1</td>\n",
              "      <td>2</td>\n",
              "      <td>2</td>\n",
              "      <td>2.0</td>\n",
              "      <td>3</td>\n",
              "      <td>2</td>\n",
              "      <td>3</td>\n",
              "      <td>2</td>\n",
              "      <td>1</td>\n",
              "      <td>1</td>\n",
              "      <td>1</td>\n",
              "      <td>1</td>\n",
              "      <td>2</td>\n",
              "      <td>3</td>\n",
              "      <td>1.0</td>\n",
              "      <td>2</td>\n",
              "      <td>2</td>\n",
              "      <td>1</td>\n",
              "      <td>2</td>\n",
              "      <td>1</td>\n",
              "      <td>3</td>\n",
              "      <td>2</td>\n",
              "      <td>1</td>\n",
              "      <td>2</td>\n",
              "      <td>2</td>\n",
              "      <td>2</td>\n",
              "      <td>2</td>\n",
              "      <td>1</td>\n",
              "      <td>3</td>\n",
              "      <td>2</td>\n",
              "      <td>1</td>\n",
              "      <td>2.0</td>\n",
              "      <td>2</td>\n",
              "      <td>2</td>\n",
              "      <td>2</td>\n",
              "      <td>1</td>\n",
              "    </tr>\n",
              "  </tbody>\n",
              "</table>\n",
              "<p>186 rows × 37 columns</p>\n",
              "</div>"
            ],
            "text/plain": [
              "       Your age?   ...  goal\n",
              "index              ...      \n",
              "0               2  ...     1\n",
              "1               3  ...     1\n",
              "2               1  ...     1\n",
              "3               3  ...     1\n",
              "4               2  ...     1\n",
              "...           ...  ...   ...\n",
              "181             1  ...     1\n",
              "182             1  ...     1\n",
              "183             2  ...     1\n",
              "184             3  ...     1\n",
              "185             1  ...     1\n",
              "\n",
              "[186 rows x 37 columns]"
            ]
          },
          "metadata": {
            "tags": []
          },
          "execution_count": 16
        }
      ]
    },
    {
      "cell_type": "code",
      "metadata": {
        "id": "6Defi8-Nr5lU"
      },
      "source": [
        "b.rename(columns={'Are you often cursed by your closed ones for not being able to live up-to their expectations?':'curse_for_exp',\n",
        "                 'what is your religious mindset?' : 'religious_mindset',\n",
        "                  'Marital status?': 'marital_status',\n",
        "                  \"Do you get influenced by your friends' activity?\": 'friends_influence',\n",
        "                  'How successful are you among your family members?':'success_in_family',\n",
        "                  'Do you believe in the notion that drugs relieve you from mental stress?':'Belief_in_notion',\n",
        "                  'Current state of living':'living_condition',\n",
        "                  'Number of friends/ accomplices?':'friends_no.',\n",
        "                  'How fast can you get in a society/community?':'socializing_capability',\n",
        "                  'How is your relationship with your parents?':'relation_w_parents',\n",
        "                  'Are you happy about your marriage/relationship?':'happiness_in_relationship',\n",
        "                  'Do you have access to drugs(could you manage if you wanted)?': 'access_to_drugs',\n",
        "                  'is/was any of your family members ever involved in drugs?': 'fam_in_drugs',\n",
        "                  'financial situation of your family?': 'financial_condition',\n",
        "                  'broken family?(parents live separately)':'broken_family',\n",
        "                  'Relationship status?(if unmarried)': 'reln_status',\n",
        "                  'Are you happy with your physical outlook?':'outlook_concept',\n",
        "                  'Are you suffering from any serious illness?':'major_illness',\n",
        "                  'Have you lost any of your closed ones recently?':'lost_closed_ones',\n",
        "                  'How do you rate your workplace?': 'work_rating',\n",
        "                  'Are you involved in sports or any form of physical exercise?': 'physical_ex.',\n",
        "                  'Failed in love? (break-up, refusal of love etc. )':'failed_love',\n",
        "                  'Do you enjoy taking risk/ having a new experience/ doing something thrilling?':'risk_tendency',\n",
        "                  \"Do you think that people don't find interest in conversation with you?\":'lack_interest',\n",
        "                  'current state of living?':'living_with',\n",
        "                  'Occupational status?':'occupation_stat',\n",
        "                  'Occupational success?':'occupation_succ',\n",
        "                  'Occupational status compared to friends?':'occupation_v_friends',\n",
        "                  'How many of your friends have taken drugs ?':'friends_w_drugs',\n",
        "                  'Do you like to hang out with friends?':'hangout_type',\n",
        "                  \"Do you join parties/gatherings/hangouts where there's a frequent use of drugs?\": 'party_join',\n",
        "                  'Do you have curiosity/fantasy about drugs?':'curiosity_in_drugs',\n",
        "                  'Do you hate a drug addict as a person?':'hate_addict',\n",
        "                  'Are you satisfied with your life until 3w?':'life_satis.',\n",
        "                  'Gender?':'sex',\n",
        "                  'Your age? ': 'age',\n",
        "                  'How do you rate your living place?':'home_rating'\n",
        "                  \n",
        "                   },inplace=True)\n"
      ],
      "execution_count": 17,
      "outputs": []
    },
    {
      "cell_type": "code",
      "metadata": {
        "id": "o4qFxnEPr5lZ"
      },
      "source": [
        "#b.insert(0,'goal','no')"
      ],
      "execution_count": 18,
      "outputs": []
    },
    {
      "cell_type": "code",
      "metadata": {
        "id": "5GQUeP73r5le",
        "outputId": "8f75ff40-92ef-4668-c202-c25511ccd2fd",
        "colab": {
          "base_uri": "https://localhost:8080/",
          "height": 258
        }
      },
      "source": [
        "b.head()"
      ],
      "execution_count": 19,
      "outputs": [
        {
          "output_type": "execute_result",
          "data": {
            "text/html": [
              "<div>\n",
              "<style scoped>\n",
              "    .dataframe tbody tr th:only-of-type {\n",
              "        vertical-align: middle;\n",
              "    }\n",
              "\n",
              "    .dataframe tbody tr th {\n",
              "        vertical-align: top;\n",
              "    }\n",
              "\n",
              "    .dataframe thead th {\n",
              "        text-align: right;\n",
              "    }\n",
              "</style>\n",
              "<table border=\"1\" class=\"dataframe\">\n",
              "  <thead>\n",
              "    <tr style=\"text-align: right;\">\n",
              "      <th></th>\n",
              "      <th>age</th>\n",
              "      <th>sex</th>\n",
              "      <th>marital_status</th>\n",
              "      <th>broken_family</th>\n",
              "      <th>reln_status</th>\n",
              "      <th>happiness_in_relationship</th>\n",
              "      <th>financial_condition</th>\n",
              "      <th>fam_in_drugs</th>\n",
              "      <th>relation_w_parents</th>\n",
              "      <th>curse_for_exp</th>\n",
              "      <th>success_in_family</th>\n",
              "      <th>living_with</th>\n",
              "      <th>occupation_stat</th>\n",
              "      <th>occupation_succ</th>\n",
              "      <th>work_rating</th>\n",
              "      <th>occupation_v_friends</th>\n",
              "      <th>friends_no.</th>\n",
              "      <th>friends_influence</th>\n",
              "      <th>friends_w_drugs</th>\n",
              "      <th>hangout_type</th>\n",
              "      <th>party_join</th>\n",
              "      <th>socializing_capability</th>\n",
              "      <th>curiosity_in_drugs</th>\n",
              "      <th>access_to_drugs</th>\n",
              "      <th>hate_addict</th>\n",
              "      <th>life_satis.</th>\n",
              "      <th>outlook_concept</th>\n",
              "      <th>major_illness</th>\n",
              "      <th>lost_closed_ones</th>\n",
              "      <th>home_rating</th>\n",
              "      <th>religious_mindset</th>\n",
              "      <th>physical_ex.</th>\n",
              "      <th>failed_love</th>\n",
              "      <th>risk_tendency</th>\n",
              "      <th>lack_interest</th>\n",
              "      <th>Belief_in_notion</th>\n",
              "      <th>goal</th>\n",
              "    </tr>\n",
              "    <tr>\n",
              "      <th>index</th>\n",
              "      <th></th>\n",
              "      <th></th>\n",
              "      <th></th>\n",
              "      <th></th>\n",
              "      <th></th>\n",
              "      <th></th>\n",
              "      <th></th>\n",
              "      <th></th>\n",
              "      <th></th>\n",
              "      <th></th>\n",
              "      <th></th>\n",
              "      <th></th>\n",
              "      <th></th>\n",
              "      <th></th>\n",
              "      <th></th>\n",
              "      <th></th>\n",
              "      <th></th>\n",
              "      <th></th>\n",
              "      <th></th>\n",
              "      <th></th>\n",
              "      <th></th>\n",
              "      <th></th>\n",
              "      <th></th>\n",
              "      <th></th>\n",
              "      <th></th>\n",
              "      <th></th>\n",
              "      <th></th>\n",
              "      <th></th>\n",
              "      <th></th>\n",
              "      <th></th>\n",
              "      <th></th>\n",
              "      <th></th>\n",
              "      <th></th>\n",
              "      <th></th>\n",
              "      <th></th>\n",
              "      <th></th>\n",
              "      <th></th>\n",
              "    </tr>\n",
              "  </thead>\n",
              "  <tbody>\n",
              "    <tr>\n",
              "      <th>0</th>\n",
              "      <td>2</td>\n",
              "      <td>1</td>\n",
              "      <td>2</td>\n",
              "      <td>2</td>\n",
              "      <td>2.0</td>\n",
              "      <td>2</td>\n",
              "      <td>1</td>\n",
              "      <td>3</td>\n",
              "      <td>3</td>\n",
              "      <td>1</td>\n",
              "      <td>2</td>\n",
              "      <td>1</td>\n",
              "      <td>2</td>\n",
              "      <td>2</td>\n",
              "      <td>1</td>\n",
              "      <td>3.0</td>\n",
              "      <td>1</td>\n",
              "      <td>3</td>\n",
              "      <td>1</td>\n",
              "      <td>2</td>\n",
              "      <td>1</td>\n",
              "      <td>1</td>\n",
              "      <td>3</td>\n",
              "      <td>2</td>\n",
              "      <td>2</td>\n",
              "      <td>3</td>\n",
              "      <td>1</td>\n",
              "      <td>2</td>\n",
              "      <td>1</td>\n",
              "      <td>1</td>\n",
              "      <td>2</td>\n",
              "      <td>1</td>\n",
              "      <td>2.0</td>\n",
              "      <td>2</td>\n",
              "      <td>2</td>\n",
              "      <td>1</td>\n",
              "      <td>1</td>\n",
              "    </tr>\n",
              "    <tr>\n",
              "      <th>1</th>\n",
              "      <td>3</td>\n",
              "      <td>1</td>\n",
              "      <td>2</td>\n",
              "      <td>2</td>\n",
              "      <td>2.0</td>\n",
              "      <td>1</td>\n",
              "      <td>1</td>\n",
              "      <td>3</td>\n",
              "      <td>3</td>\n",
              "      <td>1</td>\n",
              "      <td>3</td>\n",
              "      <td>1</td>\n",
              "      <td>2</td>\n",
              "      <td>3</td>\n",
              "      <td>3</td>\n",
              "      <td>3.0</td>\n",
              "      <td>3</td>\n",
              "      <td>2</td>\n",
              "      <td>1</td>\n",
              "      <td>3</td>\n",
              "      <td>2</td>\n",
              "      <td>3</td>\n",
              "      <td>2</td>\n",
              "      <td>1</td>\n",
              "      <td>2</td>\n",
              "      <td>3</td>\n",
              "      <td>1</td>\n",
              "      <td>2</td>\n",
              "      <td>1</td>\n",
              "      <td>1</td>\n",
              "      <td>2</td>\n",
              "      <td>2</td>\n",
              "      <td>NaN</td>\n",
              "      <td>1</td>\n",
              "      <td>2</td>\n",
              "      <td>1</td>\n",
              "      <td>1</td>\n",
              "    </tr>\n",
              "    <tr>\n",
              "      <th>2</th>\n",
              "      <td>1</td>\n",
              "      <td>1</td>\n",
              "      <td>2</td>\n",
              "      <td>2</td>\n",
              "      <td>2.0</td>\n",
              "      <td>2</td>\n",
              "      <td>1</td>\n",
              "      <td>2</td>\n",
              "      <td>3</td>\n",
              "      <td>1</td>\n",
              "      <td>3</td>\n",
              "      <td>1</td>\n",
              "      <td>1</td>\n",
              "      <td>2</td>\n",
              "      <td>2</td>\n",
              "      <td>3.0</td>\n",
              "      <td>2</td>\n",
              "      <td>1</td>\n",
              "      <td>1</td>\n",
              "      <td>2</td>\n",
              "      <td>2</td>\n",
              "      <td>2</td>\n",
              "      <td>1</td>\n",
              "      <td>2</td>\n",
              "      <td>1</td>\n",
              "      <td>2</td>\n",
              "      <td>2</td>\n",
              "      <td>2</td>\n",
              "      <td>1</td>\n",
              "      <td>1</td>\n",
              "      <td>3</td>\n",
              "      <td>1</td>\n",
              "      <td>1.0</td>\n",
              "      <td>1</td>\n",
              "      <td>2</td>\n",
              "      <td>1</td>\n",
              "      <td>1</td>\n",
              "    </tr>\n",
              "    <tr>\n",
              "      <th>3</th>\n",
              "      <td>3</td>\n",
              "      <td>1</td>\n",
              "      <td>2</td>\n",
              "      <td>2</td>\n",
              "      <td>2.0</td>\n",
              "      <td>3</td>\n",
              "      <td>3</td>\n",
              "      <td>1</td>\n",
              "      <td>3</td>\n",
              "      <td>1</td>\n",
              "      <td>3</td>\n",
              "      <td>1</td>\n",
              "      <td>2</td>\n",
              "      <td>3</td>\n",
              "      <td>3</td>\n",
              "      <td>3.0</td>\n",
              "      <td>1</td>\n",
              "      <td>2</td>\n",
              "      <td>1</td>\n",
              "      <td>1</td>\n",
              "      <td>1</td>\n",
              "      <td>1</td>\n",
              "      <td>1</td>\n",
              "      <td>1</td>\n",
              "      <td>2</td>\n",
              "      <td>3</td>\n",
              "      <td>1</td>\n",
              "      <td>1</td>\n",
              "      <td>1</td>\n",
              "      <td>3</td>\n",
              "      <td>2</td>\n",
              "      <td>2</td>\n",
              "      <td>1.0</td>\n",
              "      <td>1</td>\n",
              "      <td>1</td>\n",
              "      <td>1</td>\n",
              "      <td>1</td>\n",
              "    </tr>\n",
              "    <tr>\n",
              "      <th>4</th>\n",
              "      <td>2</td>\n",
              "      <td>1</td>\n",
              "      <td>2</td>\n",
              "      <td>2</td>\n",
              "      <td>2.0</td>\n",
              "      <td>2</td>\n",
              "      <td>1</td>\n",
              "      <td>3</td>\n",
              "      <td>3</td>\n",
              "      <td>1</td>\n",
              "      <td>3</td>\n",
              "      <td>1</td>\n",
              "      <td>2</td>\n",
              "      <td>3</td>\n",
              "      <td>3</td>\n",
              "      <td>3.0</td>\n",
              "      <td>1</td>\n",
              "      <td>2</td>\n",
              "      <td>1</td>\n",
              "      <td>2</td>\n",
              "      <td>1</td>\n",
              "      <td>1</td>\n",
              "      <td>1</td>\n",
              "      <td>1</td>\n",
              "      <td>2</td>\n",
              "      <td>3</td>\n",
              "      <td>2</td>\n",
              "      <td>2</td>\n",
              "      <td>2</td>\n",
              "      <td>2</td>\n",
              "      <td>3</td>\n",
              "      <td>2</td>\n",
              "      <td>2.0</td>\n",
              "      <td>2</td>\n",
              "      <td>2</td>\n",
              "      <td>1</td>\n",
              "      <td>1</td>\n",
              "    </tr>\n",
              "  </tbody>\n",
              "</table>\n",
              "</div>"
            ],
            "text/plain": [
              "       age  sex  marital_status  ...  lack_interest  Belief_in_notion  goal\n",
              "index                            ...                                       \n",
              "0        2    1               2  ...              2                 1     1\n",
              "1        3    1               2  ...              2                 1     1\n",
              "2        1    1               2  ...              2                 1     1\n",
              "3        3    1               2  ...              1                 1     1\n",
              "4        2    1               2  ...              2                 1     1\n",
              "\n",
              "[5 rows x 37 columns]"
            ]
          },
          "metadata": {
            "tags": []
          },
          "execution_count": 19
        }
      ]
    },
    {
      "cell_type": "code",
      "metadata": {
        "id": "Tv09lJQPr5lk",
        "outputId": "8bef14c1-fa5e-474f-c8fa-1908381968e7",
        "colab": {
          "base_uri": "https://localhost:8080/",
          "height": 237
        }
      },
      "source": [
        "b.columns"
      ],
      "execution_count": 20,
      "outputs": [
        {
          "output_type": "execute_result",
          "data": {
            "text/plain": [
              "Index(['age', 'sex', 'marital_status', 'broken_family', 'reln_status',\n",
              "       'happiness_in_relationship', 'financial_condition', 'fam_in_drugs',\n",
              "       'relation_w_parents', 'curse_for_exp', 'success_in_family',\n",
              "       'living_with', 'occupation_stat', 'occupation_succ', 'work_rating',\n",
              "       'occupation_v_friends', 'friends_no.', 'friends_influence',\n",
              "       'friends_w_drugs', 'hangout_type', 'party_join',\n",
              "       'socializing_capability', 'curiosity_in_drugs', 'access_to_drugs',\n",
              "       'hate_addict', 'life_satis.', 'outlook_concept', 'major_illness',\n",
              "       'lost_closed_ones', 'home_rating', 'religious_mindset', 'physical_ex.',\n",
              "       'failed_love', 'risk_tendency', 'lack_interest', 'Belief_in_notion',\n",
              "       'goal'],\n",
              "      dtype='object')"
            ]
          },
          "metadata": {
            "tags": []
          },
          "execution_count": 20
        }
      ]
    },
    {
      "cell_type": "code",
      "metadata": {
        "id": "1MIPCc13r5ln"
      },
      "source": [
        ""
      ],
      "execution_count": 20,
      "outputs": []
    },
    {
      "cell_type": "code",
      "metadata": {
        "id": "3haklGtUr5lw",
        "outputId": "3e33f515-9fe5-4bc3-f688-324466a8e25f",
        "colab": {
          "base_uri": "https://localhost:8080/",
          "height": 72
        }
      },
      "source": [
        "b['sex'].value_counts()"
      ],
      "execution_count": 21,
      "outputs": [
        {
          "output_type": "execute_result",
          "data": {
            "text/plain": [
              "1    165\n",
              "2     21\n",
              "Name: sex, dtype: int64"
            ]
          },
          "metadata": {
            "tags": []
          },
          "execution_count": 21
        }
      ]
    },
    {
      "cell_type": "code",
      "metadata": {
        "id": "eHfqB5Zzr5l1",
        "outputId": "e921ce2b-952f-42a6-dbba-ab2359da0c11",
        "colab": {
          "base_uri": "https://localhost:8080/",
          "height": 72
        }
      },
      "source": [
        "b['reln_status'].value_counts('dfs')"
      ],
      "execution_count": 22,
      "outputs": [
        {
          "output_type": "execute_result",
          "data": {
            "text/plain": [
              "2.0    0.821622\n",
              "1.0    0.178378\n",
              "Name: reln_status, dtype: float64"
            ]
          },
          "metadata": {
            "tags": []
          },
          "execution_count": 22
        }
      ]
    },
    {
      "cell_type": "code",
      "metadata": {
        "id": "_pjrR84rr5l5",
        "outputId": "21b9c3b6-e229-41ad-a261-e1cf0c3ed1d7",
        "colab": {
          "base_uri": "https://localhost:8080/",
          "height": 72
        }
      },
      "source": [
        "a['reln_status'].value_counts('df')"
      ],
      "execution_count": 23,
      "outputs": [
        {
          "output_type": "execute_result",
          "data": {
            "text/plain": [
              "2.0    0.613559\n",
              "1.0    0.386441\n",
              "Name: reln_status, dtype: float64"
            ]
          },
          "metadata": {
            "tags": []
          },
          "execution_count": 23
        }
      ]
    },
    {
      "cell_type": "code",
      "metadata": {
        "id": "tbjnqnR3r5l_",
        "outputId": "721b1ee9-186c-4aef-9f6a-d76fb3a67263",
        "colab": {
          "base_uri": "https://localhost:8080/",
          "height": 90
        }
      },
      "source": [
        "a['financial_condition'].value_counts('vg')"
      ],
      "execution_count": 24,
      "outputs": [
        {
          "output_type": "execute_result",
          "data": {
            "text/plain": [
              "2.0    0.615385\n",
              "1.0    0.301003\n",
              "3.0    0.083612\n",
              "Name: financial_condition, dtype: float64"
            ]
          },
          "metadata": {
            "tags": []
          },
          "execution_count": 24
        }
      ]
    },
    {
      "cell_type": "code",
      "metadata": {
        "id": "KWuN8ufcr5mD",
        "outputId": "b290d3de-6f52-40d8-99ca-d540b0c5c933",
        "colab": {
          "base_uri": "https://localhost:8080/",
          "height": 90
        }
      },
      "source": [
        "b['financial_condition'].value_counts('d')"
      ],
      "execution_count": 25,
      "outputs": [
        {
          "output_type": "execute_result",
          "data": {
            "text/plain": [
              "3    0.376344\n",
              "1    0.349462\n",
              "2    0.274194\n",
              "Name: financial_condition, dtype: float64"
            ]
          },
          "metadata": {
            "tags": []
          },
          "execution_count": 25
        }
      ]
    },
    {
      "cell_type": "code",
      "metadata": {
        "scrolled": true,
        "id": "rpldZ1bIr5mI",
        "outputId": "91817a31-4ae6-4124-f548-9c1ef30814f0",
        "colab": {
          "base_uri": "https://localhost:8080/",
          "height": 256
        }
      },
      "source": [
        "b['goal']"
      ],
      "execution_count": 26,
      "outputs": [
        {
          "output_type": "execute_result",
          "data": {
            "text/plain": [
              "index\n",
              "0      1\n",
              "1      1\n",
              "2      1\n",
              "3      1\n",
              "4      1\n",
              "      ..\n",
              "181    1\n",
              "182    1\n",
              "183    1\n",
              "184    1\n",
              "185    1\n",
              "Name: goal, Length: 186, dtype: int64"
            ]
          },
          "metadata": {
            "tags": []
          },
          "execution_count": 26
        }
      ]
    },
    {
      "cell_type": "code",
      "metadata": {
        "id": "AUFvqfKor5mO"
      },
      "source": [
        "#b=b.drop(columns='goal',axis=1)"
      ],
      "execution_count": 27,
      "outputs": []
    },
    {
      "cell_type": "code",
      "metadata": {
        "id": "vzZJjzDbr5mR"
      },
      "source": [
        "#b.insert(0,'goal','YES')"
      ],
      "execution_count": 28,
      "outputs": []
    },
    {
      "cell_type": "code",
      "metadata": {
        "id": "OioFuPjwr5mW"
      },
      "source": [
        "#dt=a.append(b)"
      ],
      "execution_count": 29,
      "outputs": []
    },
    {
      "cell_type": "code",
      "metadata": {
        "id": "cwKNqDipr5ma"
      },
      "source": [
        "#dt.head()\n"
      ],
      "execution_count": 30,
      "outputs": []
    },
    {
      "cell_type": "code",
      "metadata": {
        "id": "js21b9-kr5md",
        "outputId": "c26e01b7-ba2b-4fdc-e15b-3af35b2e7f33",
        "colab": {
          "base_uri": "https://localhost:8080/",
          "height": 237
        }
      },
      "source": [
        "b.columns\n"
      ],
      "execution_count": 31,
      "outputs": [
        {
          "output_type": "execute_result",
          "data": {
            "text/plain": [
              "Index(['age', 'sex', 'marital_status', 'broken_family', 'reln_status',\n",
              "       'happiness_in_relationship', 'financial_condition', 'fam_in_drugs',\n",
              "       'relation_w_parents', 'curse_for_exp', 'success_in_family',\n",
              "       'living_with', 'occupation_stat', 'occupation_succ', 'work_rating',\n",
              "       'occupation_v_friends', 'friends_no.', 'friends_influence',\n",
              "       'friends_w_drugs', 'hangout_type', 'party_join',\n",
              "       'socializing_capability', 'curiosity_in_drugs', 'access_to_drugs',\n",
              "       'hate_addict', 'life_satis.', 'outlook_concept', 'major_illness',\n",
              "       'lost_closed_ones', 'home_rating', 'religious_mindset', 'physical_ex.',\n",
              "       'failed_love', 'risk_tendency', 'lack_interest', 'Belief_in_notion',\n",
              "       'goal'],\n",
              "      dtype='object')"
            ]
          },
          "metadata": {
            "tags": []
          },
          "execution_count": 31
        }
      ]
    },
    {
      "cell_type": "code",
      "metadata": {
        "scrolled": false,
        "id": "8k99JtJ_r5mh",
        "outputId": "6f51e975-79df-4114-ab59-5aae7d4e5f8c",
        "colab": {
          "base_uri": "https://localhost:8080/",
          "height": 1000
        }
      },
      "source": [
        "for i in a.columns:\n",
        "    print(a[i].value_counts('kk'))"
      ],
      "execution_count": 32,
      "outputs": [
        {
          "output_type": "stream",
          "text": [
            "1.0    0.828859\n",
            "2.0    0.164430\n",
            "3.0    0.006711\n",
            "Name: age, dtype: float64\n",
            "1    0.68\n",
            "2    0.32\n",
            "Name: sex, dtype: float64\n",
            "2    0.963333\n",
            "1    0.030000\n",
            "3    0.006667\n",
            "Name: marital_status, dtype: float64\n",
            "2.0    0.613559\n",
            "1.0    0.386441\n",
            "Name: reln_status, dtype: float64\n",
            "2    0.96\n",
            "1    0.04\n",
            "Name: broken_family, dtype: float64\n",
            "1.0    0.474104\n",
            "2.0    0.394422\n",
            "3.0    0.131474\n",
            "Name: happiness_in_relationship, dtype: float64\n",
            "2.0    0.615385\n",
            "1.0    0.301003\n",
            "3.0    0.083612\n",
            "Name: financial_condition, dtype: float64\n",
            "3    0.893333\n",
            "1    0.056667\n",
            "2    0.050000\n",
            "Name: fam_in_drugs, dtype: float64\n",
            "1    0.516667\n",
            "2    0.440000\n",
            "3    0.043333\n",
            "Name: relation_w_parents, dtype: float64\n",
            "2.0    0.506944\n",
            "3.0    0.406250\n",
            "1.0    0.086806\n",
            "Name: curse_for_exp, dtype: float64\n",
            "2.0    0.702703\n",
            "1.0    0.195946\n",
            "3.0    0.101351\n",
            "Name: success_in_family, dtype: float64\n",
            "3.0    0.546980\n",
            "1.0    0.432886\n",
            "2.0    0.016779\n",
            "4.0    0.003356\n",
            "Name: living_with, dtype: float64\n",
            "1.0    0.568966\n",
            "3.0    0.334483\n",
            "2.0    0.096552\n",
            "Name: occupation_stat, dtype: float64\n",
            "2.0    0.670412\n",
            "1.0    0.176030\n",
            "3.0    0.153558\n",
            "Name: occupation_succ, dtype: float64\n",
            "2.0    0.670588\n",
            "1.0    0.176471\n",
            "3.0    0.152941\n",
            "Name: work_rating, dtype: float64\n",
            "2.0    0.553360\n",
            "3.0    0.264822\n",
            "1.0    0.181818\n",
            "Name: occupation_v_friends, dtype: float64\n",
            "1.0    0.571429\n",
            "2.0    0.374150\n",
            "3.0    0.054422\n",
            "Name: friends_no., dtype: float64\n",
            "2.0    0.682274\n",
            "3.0    0.193980\n",
            "1.0    0.123746\n",
            "Name: friends_influence, dtype: float64\n",
            "1.0    0.381757\n",
            "3.0    0.371622\n",
            "2.0    0.246622\n",
            "Name: friends_w_drugs, dtype: float64\n",
            "1.0    0.691525\n",
            "3.0    0.179661\n",
            "2.0    0.128814\n",
            "Name: hangout_type, dtype: float64\n",
            "2.0    0.772881\n",
            "1.0    0.227119\n",
            "Name: party_join, dtype: float64\n",
            "2.0    0.595238\n",
            "1.0    0.255102\n",
            "3.0    0.149660\n",
            "Name: socializing_capability, dtype: float64\n",
            "3.0    0.735593\n",
            "2.0    0.186441\n",
            "1.0    0.077966\n",
            "Name: curiosity_in_drugs, dtype: float64\n",
            "3.0    0.484536\n",
            "2.0    0.422680\n",
            "1.0    0.092784\n",
            "Name: access_to_drugs, dtype: float64\n",
            "1.0    0.551724\n",
            "2.0    0.448276\n",
            "Name: hate_addict, dtype: float64\n",
            "1.0    0.549488\n",
            "2.0    0.351536\n",
            "3.0    0.098976\n",
            "Name: life_satis., dtype: float64\n",
            "1.0    0.479310\n",
            "2.0    0.289655\n",
            "3.0    0.231034\n",
            "Name: outlook_concept, dtype: float64\n",
            "2.0    0.901361\n",
            "1.0    0.098639\n",
            "Name: major_illness, dtype: float64\n",
            "2.0    0.687075\n",
            "1.0    0.312925\n",
            "Name: lost_closed_ones, dtype: float64\n",
            "2.0    0.829352\n",
            "3.0    0.153584\n",
            "1.0    0.017065\n",
            "Name: home_rating, dtype: float64\n",
            "2.0    0.699324\n",
            "1.0    0.206081\n",
            "3.0    0.094595\n",
            "Name: religious_mindset, dtype: float64\n",
            "2.0    0.658784\n",
            "1.0    0.341216\n",
            "Name: physical_ex., dtype: float64\n",
            "3.0    0.472789\n",
            "2.0    0.391156\n",
            "1.0    0.136054\n",
            "Name: failed_love, dtype: float64\n",
            "1.0    0.742373\n",
            "2.0    0.257627\n",
            "Name: risk_tendency, dtype: float64\n",
            "2.0    0.589041\n",
            "1.0    0.410959\n",
            "Name: lack_interest, dtype: float64\n",
            "3.0    0.568966\n",
            "2.0    0.313793\n",
            "1.0    0.117241\n",
            "Name: Belief_in_notion, dtype: float64\n",
            "0    1.0\n",
            "Name: goal, dtype: float64\n"
          ],
          "name": "stdout"
        }
      ]
    },
    {
      "cell_type": "code",
      "metadata": {
        "id": "p1JqnFA9r5mm"
      },
      "source": [
        "a['reln_status'].replace('Prefer not to say','In a relationship',inplace= True)\n",
        "b['broken_family'].replace('Prefer not to say','yes',inplace= True)\n",
        "b['failed_love'].replace('yes both','yes, it bothers me all the time',inplace=True)\n"
      ],
      "execution_count": 33,
      "outputs": []
    },
    {
      "cell_type": "code",
      "metadata": {
        "id": "tX3_cZiEr5mq",
        "outputId": "1f135831-ed13-4ab5-b47e-3fc39ffb39e8",
        "colab": {
          "base_uri": "https://localhost:8080/",
          "height": 1000
        }
      },
      "source": [
        "for i in b.columns:\n",
        "    print(b[i].value_counts('jh'))"
      ],
      "execution_count": 34,
      "outputs": [
        {
          "output_type": "stream",
          "text": [
            "2    0.467742\n",
            "1    0.467742\n",
            "3    0.064516\n",
            "Name: age, dtype: float64\n",
            "1    0.887097\n",
            "2    0.112903\n",
            "Name: sex, dtype: float64\n",
            "2    0.919355\n",
            "1    0.080645\n",
            "Name: marital_status, dtype: float64\n",
            "2    0.844086\n",
            "1    0.155914\n",
            "Name: broken_family, dtype: float64\n",
            "2.0    0.821622\n",
            "1.0    0.178378\n",
            "Name: reln_status, dtype: float64\n",
            "2    0.424731\n",
            "3    0.413978\n",
            "1    0.161290\n",
            "Name: happiness_in_relationship, dtype: float64\n",
            "3    0.376344\n",
            "1    0.349462\n",
            "2    0.274194\n",
            "Name: financial_condition, dtype: float64\n",
            "3    0.430108\n",
            "1    0.360215\n",
            "2    0.209677\n",
            "Name: fam_in_drugs, dtype: float64\n",
            "3    0.526882\n",
            "2    0.381720\n",
            "1    0.091398\n",
            "Name: relation_w_parents, dtype: float64\n",
            "1    0.521505\n",
            "3    0.317204\n",
            "2    0.161290\n",
            "Name: curse_for_exp, dtype: float64\n",
            "3    0.467742\n",
            "2    0.376344\n",
            "1    0.155914\n",
            "Name: success_in_family, dtype: float64\n",
            "1    0.478495\n",
            "3    0.451613\n",
            "2    0.043011\n",
            "4    0.026882\n",
            "Name: living_with, dtype: float64\n",
            "1    0.440860\n",
            "2    0.322581\n",
            "3    0.236559\n",
            "Name: occupation_stat, dtype: float64\n",
            "3    0.494624\n",
            "2    0.451613\n",
            "1    0.053763\n",
            "Name: occupation_succ, dtype: float64\n",
            "3    0.419355\n",
            "2    0.349462\n",
            "1    0.231183\n",
            "Name: work_rating, dtype: float64\n",
            "3.0    0.600000\n",
            "2.0    0.259459\n",
            "1.0    0.140541\n",
            "Name: occupation_v_friends, dtype: float64\n",
            "2    0.435484\n",
            "3    0.327957\n",
            "1    0.236559\n",
            "Name: friends_no., dtype: float64\n",
            "2    0.516129\n",
            "1    0.284946\n",
            "3    0.198925\n",
            "Name: friends_influence, dtype: float64\n",
            "1    0.715054\n",
            "2    0.220430\n",
            "3    0.064516\n",
            "Name: friends_w_drugs, dtype: float64\n",
            "2    0.451613\n",
            "1    0.408602\n",
            "3    0.139785\n",
            "Name: hangout_type, dtype: float64\n",
            "1    0.795699\n",
            "2    0.204301\n",
            "Name: party_join, dtype: float64\n",
            "1    0.505376\n",
            "3    0.263441\n",
            "2    0.231183\n",
            "Name: socializing_capability, dtype: float64\n",
            "1    0.543011\n",
            "2    0.344086\n",
            "3    0.112903\n",
            "Name: curiosity_in_drugs, dtype: float64\n",
            "1    0.473118\n",
            "2    0.467742\n",
            "3    0.059140\n",
            "Name: access_to_drugs, dtype: float64\n",
            "2    0.768817\n",
            "1    0.231183\n",
            "Name: hate_addict, dtype: float64\n",
            "3    0.435484\n",
            "2    0.430108\n",
            "1    0.134409\n",
            "Name: life_satis., dtype: float64\n",
            "2    0.467742\n",
            "1    0.284946\n",
            "3    0.247312\n",
            "Name: outlook_concept, dtype: float64\n",
            "2    0.865591\n",
            "1    0.134409\n",
            "Name: major_illness, dtype: float64\n",
            "2    0.741935\n",
            "1    0.258065\n",
            "Name: lost_closed_ones, dtype: float64\n",
            "3    0.338710\n",
            "1    0.338710\n",
            "2    0.322581\n",
            "Name: home_rating, dtype: float64\n",
            "3    0.489247\n",
            "2    0.478495\n",
            "1    0.032258\n",
            "Name: religious_mindset, dtype: float64\n",
            "2    0.591398\n",
            "1    0.408602\n",
            "Name: physical_ex., dtype: float64\n",
            "1.0    0.470270\n",
            "2.0    0.313514\n",
            "3.0    0.216216\n",
            "Name: failed_love, dtype: float64\n",
            "2    0.5\n",
            "1    0.5\n",
            "Name: risk_tendency, dtype: float64\n",
            "2    0.61828\n",
            "1    0.38172\n",
            "Name: lack_interest, dtype: float64\n",
            "1    0.709677\n",
            "2    0.252688\n",
            "3    0.037634\n",
            "Name: Belief_in_notion, dtype: float64\n",
            "1    1.0\n",
            "Name: goal, dtype: float64\n"
          ],
          "name": "stdout"
        }
      ]
    },
    {
      "cell_type": "code",
      "metadata": {
        "id": "uOq0dXexr5mx"
      },
      "source": [
        ""
      ],
      "execution_count": 34,
      "outputs": []
    },
    {
      "cell_type": "code",
      "metadata": {
        "id": "lwIyIwepr5m0"
      },
      "source": [
        "df=a.append(b)"
      ],
      "execution_count": 35,
      "outputs": []
    },
    {
      "cell_type": "code",
      "metadata": {
        "id": "JXp_T7rJr5m5"
      },
      "source": [
        "#df.rename(columns= {'Are you satisfied with your life until 3w?':'life_satisfaction'},inplace=True)"
      ],
      "execution_count": 36,
      "outputs": []
    },
    {
      "cell_type": "code",
      "metadata": {
        "id": "Xc-5-2bKr5m9",
        "outputId": "4d0dc3ca-2442-4086-a2f6-8a8e0c66da34",
        "colab": {
          "base_uri": "https://localhost:8080/",
          "height": 90
        }
      },
      "source": [
        "a['age'].value_counts()"
      ],
      "execution_count": 37,
      "outputs": [
        {
          "output_type": "execute_result",
          "data": {
            "text/plain": [
              "1.0    247\n",
              "2.0     49\n",
              "3.0      2\n",
              "Name: age, dtype: int64"
            ]
          },
          "metadata": {
            "tags": []
          },
          "execution_count": 37
        }
      ]
    },
    {
      "cell_type": "code",
      "metadata": {
        "id": "ma1Ye3n-r5nB",
        "outputId": "0ba53ff8-ee2a-45e4-a2cf-07825f94c6de",
        "colab": {
          "base_uri": "https://localhost:8080/",
          "height": 256
        }
      },
      "source": [
        "a['goal']"
      ],
      "execution_count": 38,
      "outputs": [
        {
          "output_type": "execute_result",
          "data": {
            "text/plain": [
              "index\n",
              "0      0\n",
              "1      0\n",
              "2      0\n",
              "3      0\n",
              "4      0\n",
              "      ..\n",
              "295    0\n",
              "296    0\n",
              "297    0\n",
              "298    0\n",
              "299    0\n",
              "Name: goal, Length: 300, dtype: int64"
            ]
          },
          "metadata": {
            "tags": []
          },
          "execution_count": 38
        }
      ]
    },
    {
      "cell_type": "code",
      "metadata": {
        "id": "L3PQK6T8r5nE"
      },
      "source": [
        "df=a.append(b)"
      ],
      "execution_count": 39,
      "outputs": []
    },
    {
      "cell_type": "code",
      "metadata": {
        "id": "CwX5bP9Tr5nH",
        "outputId": "de0b71c4-5f4a-43cf-957b-cb14adb05fbb",
        "colab": {
          "base_uri": "https://localhost:8080/",
          "height": 475
        }
      },
      "source": [
        "df"
      ],
      "execution_count": 40,
      "outputs": [
        {
          "output_type": "execute_result",
          "data": {
            "text/html": [
              "<div>\n",
              "<style scoped>\n",
              "    .dataframe tbody tr th:only-of-type {\n",
              "        vertical-align: middle;\n",
              "    }\n",
              "\n",
              "    .dataframe tbody tr th {\n",
              "        vertical-align: top;\n",
              "    }\n",
              "\n",
              "    .dataframe thead th {\n",
              "        text-align: right;\n",
              "    }\n",
              "</style>\n",
              "<table border=\"1\" class=\"dataframe\">\n",
              "  <thead>\n",
              "    <tr style=\"text-align: right;\">\n",
              "      <th></th>\n",
              "      <th>age</th>\n",
              "      <th>sex</th>\n",
              "      <th>marital_status</th>\n",
              "      <th>reln_status</th>\n",
              "      <th>broken_family</th>\n",
              "      <th>happiness_in_relationship</th>\n",
              "      <th>financial_condition</th>\n",
              "      <th>fam_in_drugs</th>\n",
              "      <th>relation_w_parents</th>\n",
              "      <th>curse_for_exp</th>\n",
              "      <th>success_in_family</th>\n",
              "      <th>living_with</th>\n",
              "      <th>occupation_stat</th>\n",
              "      <th>occupation_succ</th>\n",
              "      <th>work_rating</th>\n",
              "      <th>occupation_v_friends</th>\n",
              "      <th>friends_no.</th>\n",
              "      <th>friends_influence</th>\n",
              "      <th>friends_w_drugs</th>\n",
              "      <th>hangout_type</th>\n",
              "      <th>party_join</th>\n",
              "      <th>socializing_capability</th>\n",
              "      <th>curiosity_in_drugs</th>\n",
              "      <th>access_to_drugs</th>\n",
              "      <th>hate_addict</th>\n",
              "      <th>life_satis.</th>\n",
              "      <th>outlook_concept</th>\n",
              "      <th>major_illness</th>\n",
              "      <th>lost_closed_ones</th>\n",
              "      <th>home_rating</th>\n",
              "      <th>religious_mindset</th>\n",
              "      <th>physical_ex.</th>\n",
              "      <th>failed_love</th>\n",
              "      <th>risk_tendency</th>\n",
              "      <th>lack_interest</th>\n",
              "      <th>Belief_in_notion</th>\n",
              "      <th>goal</th>\n",
              "    </tr>\n",
              "    <tr>\n",
              "      <th>index</th>\n",
              "      <th></th>\n",
              "      <th></th>\n",
              "      <th></th>\n",
              "      <th></th>\n",
              "      <th></th>\n",
              "      <th></th>\n",
              "      <th></th>\n",
              "      <th></th>\n",
              "      <th></th>\n",
              "      <th></th>\n",
              "      <th></th>\n",
              "      <th></th>\n",
              "      <th></th>\n",
              "      <th></th>\n",
              "      <th></th>\n",
              "      <th></th>\n",
              "      <th></th>\n",
              "      <th></th>\n",
              "      <th></th>\n",
              "      <th></th>\n",
              "      <th></th>\n",
              "      <th></th>\n",
              "      <th></th>\n",
              "      <th></th>\n",
              "      <th></th>\n",
              "      <th></th>\n",
              "      <th></th>\n",
              "      <th></th>\n",
              "      <th></th>\n",
              "      <th></th>\n",
              "      <th></th>\n",
              "      <th></th>\n",
              "      <th></th>\n",
              "      <th></th>\n",
              "      <th></th>\n",
              "      <th></th>\n",
              "      <th></th>\n",
              "    </tr>\n",
              "  </thead>\n",
              "  <tbody>\n",
              "    <tr>\n",
              "      <th>0</th>\n",
              "      <td>1.0</td>\n",
              "      <td>1</td>\n",
              "      <td>2</td>\n",
              "      <td>1.0</td>\n",
              "      <td>2</td>\n",
              "      <td>2.0</td>\n",
              "      <td>2.0</td>\n",
              "      <td>3</td>\n",
              "      <td>2</td>\n",
              "      <td>2.0</td>\n",
              "      <td>2.0</td>\n",
              "      <td>3.0</td>\n",
              "      <td>1.0</td>\n",
              "      <td>2.0</td>\n",
              "      <td>3.0</td>\n",
              "      <td>3.0</td>\n",
              "      <td>1.0</td>\n",
              "      <td>3.0</td>\n",
              "      <td>1.0</td>\n",
              "      <td>1.0</td>\n",
              "      <td>1.0</td>\n",
              "      <td>1.0</td>\n",
              "      <td>2.0</td>\n",
              "      <td>2.0</td>\n",
              "      <td>2.0</td>\n",
              "      <td>2.0</td>\n",
              "      <td>2.0</td>\n",
              "      <td>2.0</td>\n",
              "      <td>1.0</td>\n",
              "      <td>3.0</td>\n",
              "      <td>2.0</td>\n",
              "      <td>1.0</td>\n",
              "      <td>3.0</td>\n",
              "      <td>1.0</td>\n",
              "      <td>1.0</td>\n",
              "      <td>2.0</td>\n",
              "      <td>0</td>\n",
              "    </tr>\n",
              "    <tr>\n",
              "      <th>1</th>\n",
              "      <td>2.0</td>\n",
              "      <td>1</td>\n",
              "      <td>2</td>\n",
              "      <td>2.0</td>\n",
              "      <td>2</td>\n",
              "      <td>2.0</td>\n",
              "      <td>1.0</td>\n",
              "      <td>3</td>\n",
              "      <td>1</td>\n",
              "      <td>2.0</td>\n",
              "      <td>2.0</td>\n",
              "      <td>3.0</td>\n",
              "      <td>3.0</td>\n",
              "      <td>2.0</td>\n",
              "      <td>2.0</td>\n",
              "      <td>2.0</td>\n",
              "      <td>1.0</td>\n",
              "      <td>2.0</td>\n",
              "      <td>2.0</td>\n",
              "      <td>1.0</td>\n",
              "      <td>2.0</td>\n",
              "      <td>2.0</td>\n",
              "      <td>3.0</td>\n",
              "      <td>2.0</td>\n",
              "      <td>2.0</td>\n",
              "      <td>2.0</td>\n",
              "      <td>2.0</td>\n",
              "      <td>2.0</td>\n",
              "      <td>2.0</td>\n",
              "      <td>2.0</td>\n",
              "      <td>2.0</td>\n",
              "      <td>2.0</td>\n",
              "      <td>2.0</td>\n",
              "      <td>1.0</td>\n",
              "      <td>2.0</td>\n",
              "      <td>3.0</td>\n",
              "      <td>0</td>\n",
              "    </tr>\n",
              "    <tr>\n",
              "      <th>2</th>\n",
              "      <td>1.0</td>\n",
              "      <td>1</td>\n",
              "      <td>2</td>\n",
              "      <td>2.0</td>\n",
              "      <td>2</td>\n",
              "      <td>1.0</td>\n",
              "      <td>3.0</td>\n",
              "      <td>3</td>\n",
              "      <td>1</td>\n",
              "      <td>3.0</td>\n",
              "      <td>1.0</td>\n",
              "      <td>3.0</td>\n",
              "      <td>3.0</td>\n",
              "      <td>2.0</td>\n",
              "      <td>2.0</td>\n",
              "      <td>NaN</td>\n",
              "      <td>1.0</td>\n",
              "      <td>1.0</td>\n",
              "      <td>3.0</td>\n",
              "      <td>1.0</td>\n",
              "      <td>2.0</td>\n",
              "      <td>2.0</td>\n",
              "      <td>1.0</td>\n",
              "      <td>2.0</td>\n",
              "      <td>2.0</td>\n",
              "      <td>1.0</td>\n",
              "      <td>1.0</td>\n",
              "      <td>2.0</td>\n",
              "      <td>1.0</td>\n",
              "      <td>3.0</td>\n",
              "      <td>3.0</td>\n",
              "      <td>1.0</td>\n",
              "      <td>3.0</td>\n",
              "      <td>1.0</td>\n",
              "      <td>2.0</td>\n",
              "      <td>2.0</td>\n",
              "      <td>0</td>\n",
              "    </tr>\n",
              "    <tr>\n",
              "      <th>3</th>\n",
              "      <td>1.0</td>\n",
              "      <td>1</td>\n",
              "      <td>2</td>\n",
              "      <td>1.0</td>\n",
              "      <td>2</td>\n",
              "      <td>1.0</td>\n",
              "      <td>1.0</td>\n",
              "      <td>3</td>\n",
              "      <td>2</td>\n",
              "      <td>2.0</td>\n",
              "      <td>2.0</td>\n",
              "      <td>3.0</td>\n",
              "      <td>1.0</td>\n",
              "      <td>2.0</td>\n",
              "      <td>2.0</td>\n",
              "      <td>1.0</td>\n",
              "      <td>1.0</td>\n",
              "      <td>3.0</td>\n",
              "      <td>1.0</td>\n",
              "      <td>1.0</td>\n",
              "      <td>1.0</td>\n",
              "      <td>2.0</td>\n",
              "      <td>2.0</td>\n",
              "      <td>2.0</td>\n",
              "      <td>1.0</td>\n",
              "      <td>2.0</td>\n",
              "      <td>2.0</td>\n",
              "      <td>2.0</td>\n",
              "      <td>2.0</td>\n",
              "      <td>2.0</td>\n",
              "      <td>2.0</td>\n",
              "      <td>1.0</td>\n",
              "      <td>3.0</td>\n",
              "      <td>1.0</td>\n",
              "      <td>2.0</td>\n",
              "      <td>3.0</td>\n",
              "      <td>0</td>\n",
              "    </tr>\n",
              "    <tr>\n",
              "      <th>4</th>\n",
              "      <td>1.0</td>\n",
              "      <td>1</td>\n",
              "      <td>2</td>\n",
              "      <td>2.0</td>\n",
              "      <td>2</td>\n",
              "      <td>2.0</td>\n",
              "      <td>1.0</td>\n",
              "      <td>3</td>\n",
              "      <td>1</td>\n",
              "      <td>2.0</td>\n",
              "      <td>2.0</td>\n",
              "      <td>3.0</td>\n",
              "      <td>3.0</td>\n",
              "      <td>2.0</td>\n",
              "      <td>NaN</td>\n",
              "      <td>NaN</td>\n",
              "      <td>1.0</td>\n",
              "      <td>2.0</td>\n",
              "      <td>1.0</td>\n",
              "      <td>1.0</td>\n",
              "      <td>1.0</td>\n",
              "      <td>1.0</td>\n",
              "      <td>2.0</td>\n",
              "      <td>NaN</td>\n",
              "      <td>1.0</td>\n",
              "      <td>1.0</td>\n",
              "      <td>1.0</td>\n",
              "      <td>2.0</td>\n",
              "      <td>2.0</td>\n",
              "      <td>2.0</td>\n",
              "      <td>2.0</td>\n",
              "      <td>2.0</td>\n",
              "      <td>2.0</td>\n",
              "      <td>1.0</td>\n",
              "      <td>2.0</td>\n",
              "      <td>NaN</td>\n",
              "      <td>0</td>\n",
              "    </tr>\n",
              "    <tr>\n",
              "      <th>...</th>\n",
              "      <td>...</td>\n",
              "      <td>...</td>\n",
              "      <td>...</td>\n",
              "      <td>...</td>\n",
              "      <td>...</td>\n",
              "      <td>...</td>\n",
              "      <td>...</td>\n",
              "      <td>...</td>\n",
              "      <td>...</td>\n",
              "      <td>...</td>\n",
              "      <td>...</td>\n",
              "      <td>...</td>\n",
              "      <td>...</td>\n",
              "      <td>...</td>\n",
              "      <td>...</td>\n",
              "      <td>...</td>\n",
              "      <td>...</td>\n",
              "      <td>...</td>\n",
              "      <td>...</td>\n",
              "      <td>...</td>\n",
              "      <td>...</td>\n",
              "      <td>...</td>\n",
              "      <td>...</td>\n",
              "      <td>...</td>\n",
              "      <td>...</td>\n",
              "      <td>...</td>\n",
              "      <td>...</td>\n",
              "      <td>...</td>\n",
              "      <td>...</td>\n",
              "      <td>...</td>\n",
              "      <td>...</td>\n",
              "      <td>...</td>\n",
              "      <td>...</td>\n",
              "      <td>...</td>\n",
              "      <td>...</td>\n",
              "      <td>...</td>\n",
              "      <td>...</td>\n",
              "    </tr>\n",
              "    <tr>\n",
              "      <th>181</th>\n",
              "      <td>1.0</td>\n",
              "      <td>1</td>\n",
              "      <td>2</td>\n",
              "      <td>2.0</td>\n",
              "      <td>1</td>\n",
              "      <td>3.0</td>\n",
              "      <td>3.0</td>\n",
              "      <td>3</td>\n",
              "      <td>1</td>\n",
              "      <td>2.0</td>\n",
              "      <td>3.0</td>\n",
              "      <td>3.0</td>\n",
              "      <td>3.0</td>\n",
              "      <td>2.0</td>\n",
              "      <td>3.0</td>\n",
              "      <td>2.0</td>\n",
              "      <td>3.0</td>\n",
              "      <td>2.0</td>\n",
              "      <td>2.0</td>\n",
              "      <td>1.0</td>\n",
              "      <td>1.0</td>\n",
              "      <td>1.0</td>\n",
              "      <td>2.0</td>\n",
              "      <td>3.0</td>\n",
              "      <td>2.0</td>\n",
              "      <td>2.0</td>\n",
              "      <td>2.0</td>\n",
              "      <td>1.0</td>\n",
              "      <td>2.0</td>\n",
              "      <td>2.0</td>\n",
              "      <td>2.0</td>\n",
              "      <td>1.0</td>\n",
              "      <td>3.0</td>\n",
              "      <td>1.0</td>\n",
              "      <td>2.0</td>\n",
              "      <td>2.0</td>\n",
              "      <td>1</td>\n",
              "    </tr>\n",
              "    <tr>\n",
              "      <th>182</th>\n",
              "      <td>1.0</td>\n",
              "      <td>1</td>\n",
              "      <td>2</td>\n",
              "      <td>1.0</td>\n",
              "      <td>2</td>\n",
              "      <td>3.0</td>\n",
              "      <td>1.0</td>\n",
              "      <td>3</td>\n",
              "      <td>2</td>\n",
              "      <td>1.0</td>\n",
              "      <td>1.0</td>\n",
              "      <td>1.0</td>\n",
              "      <td>2.0</td>\n",
              "      <td>3.0</td>\n",
              "      <td>3.0</td>\n",
              "      <td>1.0</td>\n",
              "      <td>2.0</td>\n",
              "      <td>2.0</td>\n",
              "      <td>1.0</td>\n",
              "      <td>3.0</td>\n",
              "      <td>1.0</td>\n",
              "      <td>3.0</td>\n",
              "      <td>2.0</td>\n",
              "      <td>2.0</td>\n",
              "      <td>1.0</td>\n",
              "      <td>1.0</td>\n",
              "      <td>2.0</td>\n",
              "      <td>2.0</td>\n",
              "      <td>2.0</td>\n",
              "      <td>1.0</td>\n",
              "      <td>2.0</td>\n",
              "      <td>2.0</td>\n",
              "      <td>3.0</td>\n",
              "      <td>1.0</td>\n",
              "      <td>2.0</td>\n",
              "      <td>3.0</td>\n",
              "      <td>1</td>\n",
              "    </tr>\n",
              "    <tr>\n",
              "      <th>183</th>\n",
              "      <td>2.0</td>\n",
              "      <td>1</td>\n",
              "      <td>2</td>\n",
              "      <td>2.0</td>\n",
              "      <td>2</td>\n",
              "      <td>1.0</td>\n",
              "      <td>1.0</td>\n",
              "      <td>1</td>\n",
              "      <td>3</td>\n",
              "      <td>1.0</td>\n",
              "      <td>2.0</td>\n",
              "      <td>3.0</td>\n",
              "      <td>1.0</td>\n",
              "      <td>3.0</td>\n",
              "      <td>3.0</td>\n",
              "      <td>2.0</td>\n",
              "      <td>3.0</td>\n",
              "      <td>2.0</td>\n",
              "      <td>2.0</td>\n",
              "      <td>2.0</td>\n",
              "      <td>1.0</td>\n",
              "      <td>3.0</td>\n",
              "      <td>1.0</td>\n",
              "      <td>1.0</td>\n",
              "      <td>2.0</td>\n",
              "      <td>3.0</td>\n",
              "      <td>1.0</td>\n",
              "      <td>2.0</td>\n",
              "      <td>2.0</td>\n",
              "      <td>2.0</td>\n",
              "      <td>3.0</td>\n",
              "      <td>2.0</td>\n",
              "      <td>1.0</td>\n",
              "      <td>1.0</td>\n",
              "      <td>2.0</td>\n",
              "      <td>1.0</td>\n",
              "      <td>1</td>\n",
              "    </tr>\n",
              "    <tr>\n",
              "      <th>184</th>\n",
              "      <td>3.0</td>\n",
              "      <td>1</td>\n",
              "      <td>2</td>\n",
              "      <td>2.0</td>\n",
              "      <td>1</td>\n",
              "      <td>3.0</td>\n",
              "      <td>1.0</td>\n",
              "      <td>3</td>\n",
              "      <td>1</td>\n",
              "      <td>3.0</td>\n",
              "      <td>3.0</td>\n",
              "      <td>3.0</td>\n",
              "      <td>3.0</td>\n",
              "      <td>2.0</td>\n",
              "      <td>2.0</td>\n",
              "      <td>2.0</td>\n",
              "      <td>3.0</td>\n",
              "      <td>1.0</td>\n",
              "      <td>1.0</td>\n",
              "      <td>1.0</td>\n",
              "      <td>2.0</td>\n",
              "      <td>2.0</td>\n",
              "      <td>1.0</td>\n",
              "      <td>2.0</td>\n",
              "      <td>2.0</td>\n",
              "      <td>3.0</td>\n",
              "      <td>3.0</td>\n",
              "      <td>2.0</td>\n",
              "      <td>2.0</td>\n",
              "      <td>3.0</td>\n",
              "      <td>2.0</td>\n",
              "      <td>2.0</td>\n",
              "      <td>1.0</td>\n",
              "      <td>2.0</td>\n",
              "      <td>1.0</td>\n",
              "      <td>1.0</td>\n",
              "      <td>1</td>\n",
              "    </tr>\n",
              "    <tr>\n",
              "      <th>185</th>\n",
              "      <td>1.0</td>\n",
              "      <td>1</td>\n",
              "      <td>2</td>\n",
              "      <td>2.0</td>\n",
              "      <td>2</td>\n",
              "      <td>3.0</td>\n",
              "      <td>2.0</td>\n",
              "      <td>3</td>\n",
              "      <td>2</td>\n",
              "      <td>1.0</td>\n",
              "      <td>1.0</td>\n",
              "      <td>1.0</td>\n",
              "      <td>1.0</td>\n",
              "      <td>2.0</td>\n",
              "      <td>3.0</td>\n",
              "      <td>1.0</td>\n",
              "      <td>2.0</td>\n",
              "      <td>2.0</td>\n",
              "      <td>1.0</td>\n",
              "      <td>2.0</td>\n",
              "      <td>1.0</td>\n",
              "      <td>3.0</td>\n",
              "      <td>2.0</td>\n",
              "      <td>1.0</td>\n",
              "      <td>2.0</td>\n",
              "      <td>2.0</td>\n",
              "      <td>2.0</td>\n",
              "      <td>2.0</td>\n",
              "      <td>1.0</td>\n",
              "      <td>3.0</td>\n",
              "      <td>2.0</td>\n",
              "      <td>1.0</td>\n",
              "      <td>2.0</td>\n",
              "      <td>2.0</td>\n",
              "      <td>2.0</td>\n",
              "      <td>2.0</td>\n",
              "      <td>1</td>\n",
              "    </tr>\n",
              "  </tbody>\n",
              "</table>\n",
              "<p>486 rows × 37 columns</p>\n",
              "</div>"
            ],
            "text/plain": [
              "       age  sex  marital_status  ...  lack_interest  Belief_in_notion  goal\n",
              "index                            ...                                       \n",
              "0      1.0    1               2  ...            1.0               2.0     0\n",
              "1      2.0    1               2  ...            2.0               3.0     0\n",
              "2      1.0    1               2  ...            2.0               2.0     0\n",
              "3      1.0    1               2  ...            2.0               3.0     0\n",
              "4      1.0    1               2  ...            2.0               NaN     0\n",
              "...    ...  ...             ...  ...            ...               ...   ...\n",
              "181    1.0    1               2  ...            2.0               2.0     1\n",
              "182    1.0    1               2  ...            2.0               3.0     1\n",
              "183    2.0    1               2  ...            2.0               1.0     1\n",
              "184    3.0    1               2  ...            1.0               1.0     1\n",
              "185    1.0    1               2  ...            2.0               2.0     1\n",
              "\n",
              "[486 rows x 37 columns]"
            ]
          },
          "metadata": {
            "tags": []
          },
          "execution_count": 40
        }
      ]
    },
    {
      "cell_type": "code",
      "metadata": {
        "id": "SSllL5Ivr5nK"
      },
      "source": [
        "df=df.drop(columns='age')"
      ],
      "execution_count": 41,
      "outputs": []
    },
    {
      "cell_type": "code",
      "metadata": {
        "id": "PgBgdVR-r5nO"
      },
      "source": [
        "df['happiness_in_relationship']=df['happiness_in_relationship'].fillna(2)"
      ],
      "execution_count": 42,
      "outputs": []
    },
    {
      "cell_type": "code",
      "metadata": {
        "id": "ttab5M5Sr5nQ"
      },
      "source": [
        "df['occupation_succ']=df['occupation_succ'].fillna(2)"
      ],
      "execution_count": 43,
      "outputs": []
    },
    {
      "cell_type": "code",
      "metadata": {
        "id": "0JFTyWTor5nX"
      },
      "source": [
        "df['work_rating']=df['work_rating'].fillna(2)"
      ],
      "execution_count": 44,
      "outputs": []
    },
    {
      "cell_type": "code",
      "metadata": {
        "id": "GhWuKNsjr5na"
      },
      "source": [
        "df['occupation_v_friends']=df['occupation_v_friends'].fillna(2)"
      ],
      "execution_count": 45,
      "outputs": []
    },
    {
      "cell_type": "code",
      "metadata": {
        "id": "Q4Lq1gclr5nc"
      },
      "source": [
        "df=df.interpolate(method='nearest')"
      ],
      "execution_count": 46,
      "outputs": []
    },
    {
      "cell_type": "code",
      "metadata": {
        "id": "ez64cPd3r5ni"
      },
      "source": [
        "import sklearn"
      ],
      "execution_count": 47,
      "outputs": []
    },
    {
      "cell_type": "code",
      "metadata": {
        "id": "JaLYVnWGr5nl"
      },
      "source": [
        "df=sklearn.utils.shuffle(df)"
      ],
      "execution_count": 48,
      "outputs": []
    },
    {
      "cell_type": "code",
      "metadata": {
        "id": "RNhzMfiYr5ns"
      },
      "source": [
        "df=sklearn.utils.shuffle(df)"
      ],
      "execution_count": 49,
      "outputs": []
    },
    {
      "cell_type": "code",
      "metadata": {
        "id": "y4PHJeF9r5nu"
      },
      "source": [
        "df=sklearn.utils.shuffle(df)"
      ],
      "execution_count": 50,
      "outputs": []
    },
    {
      "cell_type": "code",
      "metadata": {
        "id": "SwOfSto-r5nw",
        "outputId": "4e56c390-cbee-42a6-f1d9-423ee43fdcba",
        "colab": {
          "base_uri": "https://localhost:8080/",
          "height": 414
        }
      },
      "source": [
        "df.head(10)"
      ],
      "execution_count": 51,
      "outputs": [
        {
          "output_type": "execute_result",
          "data": {
            "text/html": [
              "<div>\n",
              "<style scoped>\n",
              "    .dataframe tbody tr th:only-of-type {\n",
              "        vertical-align: middle;\n",
              "    }\n",
              "\n",
              "    .dataframe tbody tr th {\n",
              "        vertical-align: top;\n",
              "    }\n",
              "\n",
              "    .dataframe thead th {\n",
              "        text-align: right;\n",
              "    }\n",
              "</style>\n",
              "<table border=\"1\" class=\"dataframe\">\n",
              "  <thead>\n",
              "    <tr style=\"text-align: right;\">\n",
              "      <th></th>\n",
              "      <th>sex</th>\n",
              "      <th>marital_status</th>\n",
              "      <th>reln_status</th>\n",
              "      <th>broken_family</th>\n",
              "      <th>happiness_in_relationship</th>\n",
              "      <th>financial_condition</th>\n",
              "      <th>fam_in_drugs</th>\n",
              "      <th>relation_w_parents</th>\n",
              "      <th>curse_for_exp</th>\n",
              "      <th>success_in_family</th>\n",
              "      <th>living_with</th>\n",
              "      <th>occupation_stat</th>\n",
              "      <th>occupation_succ</th>\n",
              "      <th>work_rating</th>\n",
              "      <th>occupation_v_friends</th>\n",
              "      <th>friends_no.</th>\n",
              "      <th>friends_influence</th>\n",
              "      <th>friends_w_drugs</th>\n",
              "      <th>hangout_type</th>\n",
              "      <th>party_join</th>\n",
              "      <th>socializing_capability</th>\n",
              "      <th>curiosity_in_drugs</th>\n",
              "      <th>access_to_drugs</th>\n",
              "      <th>hate_addict</th>\n",
              "      <th>life_satis.</th>\n",
              "      <th>outlook_concept</th>\n",
              "      <th>major_illness</th>\n",
              "      <th>lost_closed_ones</th>\n",
              "      <th>home_rating</th>\n",
              "      <th>religious_mindset</th>\n",
              "      <th>physical_ex.</th>\n",
              "      <th>failed_love</th>\n",
              "      <th>risk_tendency</th>\n",
              "      <th>lack_interest</th>\n",
              "      <th>Belief_in_notion</th>\n",
              "      <th>goal</th>\n",
              "    </tr>\n",
              "    <tr>\n",
              "      <th>index</th>\n",
              "      <th></th>\n",
              "      <th></th>\n",
              "      <th></th>\n",
              "      <th></th>\n",
              "      <th></th>\n",
              "      <th></th>\n",
              "      <th></th>\n",
              "      <th></th>\n",
              "      <th></th>\n",
              "      <th></th>\n",
              "      <th></th>\n",
              "      <th></th>\n",
              "      <th></th>\n",
              "      <th></th>\n",
              "      <th></th>\n",
              "      <th></th>\n",
              "      <th></th>\n",
              "      <th></th>\n",
              "      <th></th>\n",
              "      <th></th>\n",
              "      <th></th>\n",
              "      <th></th>\n",
              "      <th></th>\n",
              "      <th></th>\n",
              "      <th></th>\n",
              "      <th></th>\n",
              "      <th></th>\n",
              "      <th></th>\n",
              "      <th></th>\n",
              "      <th></th>\n",
              "      <th></th>\n",
              "      <th></th>\n",
              "      <th></th>\n",
              "      <th></th>\n",
              "      <th></th>\n",
              "      <th></th>\n",
              "    </tr>\n",
              "  </thead>\n",
              "  <tbody>\n",
              "    <tr>\n",
              "      <th>215</th>\n",
              "      <td>2</td>\n",
              "      <td>2</td>\n",
              "      <td>2.0</td>\n",
              "      <td>2</td>\n",
              "      <td>2.0</td>\n",
              "      <td>2.0</td>\n",
              "      <td>3</td>\n",
              "      <td>2</td>\n",
              "      <td>1.0</td>\n",
              "      <td>2.0</td>\n",
              "      <td>1.0</td>\n",
              "      <td>1.0</td>\n",
              "      <td>2.0</td>\n",
              "      <td>3.0</td>\n",
              "      <td>3.0</td>\n",
              "      <td>3.0</td>\n",
              "      <td>3.0</td>\n",
              "      <td>3.0</td>\n",
              "      <td>2.0</td>\n",
              "      <td>2.0</td>\n",
              "      <td>2.0</td>\n",
              "      <td>3.0</td>\n",
              "      <td>3.0</td>\n",
              "      <td>1.0</td>\n",
              "      <td>1.0</td>\n",
              "      <td>1.0</td>\n",
              "      <td>2.0</td>\n",
              "      <td>1.0</td>\n",
              "      <td>2.0</td>\n",
              "      <td>1.0</td>\n",
              "      <td>1.0</td>\n",
              "      <td>3.0</td>\n",
              "      <td>2.0</td>\n",
              "      <td>1.0</td>\n",
              "      <td>3.0</td>\n",
              "      <td>0</td>\n",
              "    </tr>\n",
              "    <tr>\n",
              "      <th>268</th>\n",
              "      <td>1</td>\n",
              "      <td>2</td>\n",
              "      <td>2.0</td>\n",
              "      <td>2</td>\n",
              "      <td>2.0</td>\n",
              "      <td>2.0</td>\n",
              "      <td>3</td>\n",
              "      <td>1</td>\n",
              "      <td>2.0</td>\n",
              "      <td>2.0</td>\n",
              "      <td>1.0</td>\n",
              "      <td>1.0</td>\n",
              "      <td>2.0</td>\n",
              "      <td>1.0</td>\n",
              "      <td>1.0</td>\n",
              "      <td>1.0</td>\n",
              "      <td>2.0</td>\n",
              "      <td>1.0</td>\n",
              "      <td>3.0</td>\n",
              "      <td>1.0</td>\n",
              "      <td>2.0</td>\n",
              "      <td>3.0</td>\n",
              "      <td>2.0</td>\n",
              "      <td>2.0</td>\n",
              "      <td>1.0</td>\n",
              "      <td>2.0</td>\n",
              "      <td>2.0</td>\n",
              "      <td>2.0</td>\n",
              "      <td>2.0</td>\n",
              "      <td>2.0</td>\n",
              "      <td>2.0</td>\n",
              "      <td>2.0</td>\n",
              "      <td>1.0</td>\n",
              "      <td>2.0</td>\n",
              "      <td>3.0</td>\n",
              "      <td>0</td>\n",
              "    </tr>\n",
              "    <tr>\n",
              "      <th>181</th>\n",
              "      <td>1</td>\n",
              "      <td>2</td>\n",
              "      <td>2.0</td>\n",
              "      <td>1</td>\n",
              "      <td>3.0</td>\n",
              "      <td>3.0</td>\n",
              "      <td>3</td>\n",
              "      <td>1</td>\n",
              "      <td>2.0</td>\n",
              "      <td>3.0</td>\n",
              "      <td>3.0</td>\n",
              "      <td>3.0</td>\n",
              "      <td>2.0</td>\n",
              "      <td>3.0</td>\n",
              "      <td>2.0</td>\n",
              "      <td>3.0</td>\n",
              "      <td>2.0</td>\n",
              "      <td>2.0</td>\n",
              "      <td>1.0</td>\n",
              "      <td>1.0</td>\n",
              "      <td>1.0</td>\n",
              "      <td>2.0</td>\n",
              "      <td>3.0</td>\n",
              "      <td>2.0</td>\n",
              "      <td>2.0</td>\n",
              "      <td>2.0</td>\n",
              "      <td>1.0</td>\n",
              "      <td>2.0</td>\n",
              "      <td>2.0</td>\n",
              "      <td>2.0</td>\n",
              "      <td>1.0</td>\n",
              "      <td>3.0</td>\n",
              "      <td>1.0</td>\n",
              "      <td>2.0</td>\n",
              "      <td>2.0</td>\n",
              "      <td>1</td>\n",
              "    </tr>\n",
              "    <tr>\n",
              "      <th>0</th>\n",
              "      <td>1</td>\n",
              "      <td>2</td>\n",
              "      <td>2.0</td>\n",
              "      <td>2</td>\n",
              "      <td>2.0</td>\n",
              "      <td>1.0</td>\n",
              "      <td>3</td>\n",
              "      <td>3</td>\n",
              "      <td>1.0</td>\n",
              "      <td>2.0</td>\n",
              "      <td>1.0</td>\n",
              "      <td>2.0</td>\n",
              "      <td>2.0</td>\n",
              "      <td>1.0</td>\n",
              "      <td>3.0</td>\n",
              "      <td>1.0</td>\n",
              "      <td>3.0</td>\n",
              "      <td>1.0</td>\n",
              "      <td>2.0</td>\n",
              "      <td>1.0</td>\n",
              "      <td>1.0</td>\n",
              "      <td>3.0</td>\n",
              "      <td>2.0</td>\n",
              "      <td>2.0</td>\n",
              "      <td>3.0</td>\n",
              "      <td>1.0</td>\n",
              "      <td>2.0</td>\n",
              "      <td>1.0</td>\n",
              "      <td>1.0</td>\n",
              "      <td>2.0</td>\n",
              "      <td>1.0</td>\n",
              "      <td>2.0</td>\n",
              "      <td>2.0</td>\n",
              "      <td>2.0</td>\n",
              "      <td>1.0</td>\n",
              "      <td>1</td>\n",
              "    </tr>\n",
              "    <tr>\n",
              "      <th>250</th>\n",
              "      <td>1</td>\n",
              "      <td>2</td>\n",
              "      <td>2.0</td>\n",
              "      <td>2</td>\n",
              "      <td>1.0</td>\n",
              "      <td>2.0</td>\n",
              "      <td>3</td>\n",
              "      <td>2</td>\n",
              "      <td>1.0</td>\n",
              "      <td>2.0</td>\n",
              "      <td>3.0</td>\n",
              "      <td>1.0</td>\n",
              "      <td>3.0</td>\n",
              "      <td>2.0</td>\n",
              "      <td>3.0</td>\n",
              "      <td>1.0</td>\n",
              "      <td>1.0</td>\n",
              "      <td>3.0</td>\n",
              "      <td>3.0</td>\n",
              "      <td>2.0</td>\n",
              "      <td>1.0</td>\n",
              "      <td>3.0</td>\n",
              "      <td>2.0</td>\n",
              "      <td>1.0</td>\n",
              "      <td>1.0</td>\n",
              "      <td>1.0</td>\n",
              "      <td>2.0</td>\n",
              "      <td>2.0</td>\n",
              "      <td>3.0</td>\n",
              "      <td>2.0</td>\n",
              "      <td>2.0</td>\n",
              "      <td>3.0</td>\n",
              "      <td>2.0</td>\n",
              "      <td>2.0</td>\n",
              "      <td>2.0</td>\n",
              "      <td>0</td>\n",
              "    </tr>\n",
              "    <tr>\n",
              "      <th>107</th>\n",
              "      <td>2</td>\n",
              "      <td>2</td>\n",
              "      <td>2.0</td>\n",
              "      <td>2</td>\n",
              "      <td>2.0</td>\n",
              "      <td>1.0</td>\n",
              "      <td>3</td>\n",
              "      <td>3</td>\n",
              "      <td>1.0</td>\n",
              "      <td>2.0</td>\n",
              "      <td>3.0</td>\n",
              "      <td>2.0</td>\n",
              "      <td>2.0</td>\n",
              "      <td>1.0</td>\n",
              "      <td>3.0</td>\n",
              "      <td>2.0</td>\n",
              "      <td>1.0</td>\n",
              "      <td>1.0</td>\n",
              "      <td>2.0</td>\n",
              "      <td>1.0</td>\n",
              "      <td>3.0</td>\n",
              "      <td>1.0</td>\n",
              "      <td>1.0</td>\n",
              "      <td>2.0</td>\n",
              "      <td>1.0</td>\n",
              "      <td>3.0</td>\n",
              "      <td>2.0</td>\n",
              "      <td>2.0</td>\n",
              "      <td>1.0</td>\n",
              "      <td>2.0</td>\n",
              "      <td>1.0</td>\n",
              "      <td>1.0</td>\n",
              "      <td>1.0</td>\n",
              "      <td>2.0</td>\n",
              "      <td>2.0</td>\n",
              "      <td>1</td>\n",
              "    </tr>\n",
              "    <tr>\n",
              "      <th>294</th>\n",
              "      <td>1</td>\n",
              "      <td>2</td>\n",
              "      <td>2.0</td>\n",
              "      <td>2</td>\n",
              "      <td>1.0</td>\n",
              "      <td>2.0</td>\n",
              "      <td>3</td>\n",
              "      <td>1</td>\n",
              "      <td>2.0</td>\n",
              "      <td>1.0</td>\n",
              "      <td>1.0</td>\n",
              "      <td>3.0</td>\n",
              "      <td>2.0</td>\n",
              "      <td>2.0</td>\n",
              "      <td>3.0</td>\n",
              "      <td>1.0</td>\n",
              "      <td>2.0</td>\n",
              "      <td>1.0</td>\n",
              "      <td>3.0</td>\n",
              "      <td>1.0</td>\n",
              "      <td>1.0</td>\n",
              "      <td>3.0</td>\n",
              "      <td>3.0</td>\n",
              "      <td>1.0</td>\n",
              "      <td>2.0</td>\n",
              "      <td>3.0</td>\n",
              "      <td>2.0</td>\n",
              "      <td>2.0</td>\n",
              "      <td>2.0</td>\n",
              "      <td>1.0</td>\n",
              "      <td>2.0</td>\n",
              "      <td>3.0</td>\n",
              "      <td>1.0</td>\n",
              "      <td>2.0</td>\n",
              "      <td>3.0</td>\n",
              "      <td>0</td>\n",
              "    </tr>\n",
              "    <tr>\n",
              "      <th>279</th>\n",
              "      <td>1</td>\n",
              "      <td>2</td>\n",
              "      <td>2.0</td>\n",
              "      <td>2</td>\n",
              "      <td>2.0</td>\n",
              "      <td>2.0</td>\n",
              "      <td>3</td>\n",
              "      <td>2</td>\n",
              "      <td>1.0</td>\n",
              "      <td>1.0</td>\n",
              "      <td>1.0</td>\n",
              "      <td>3.0</td>\n",
              "      <td>2.0</td>\n",
              "      <td>2.0</td>\n",
              "      <td>2.0</td>\n",
              "      <td>1.0</td>\n",
              "      <td>2.0</td>\n",
              "      <td>3.0</td>\n",
              "      <td>1.0</td>\n",
              "      <td>2.0</td>\n",
              "      <td>2.0</td>\n",
              "      <td>3.0</td>\n",
              "      <td>2.0</td>\n",
              "      <td>2.0</td>\n",
              "      <td>2.0</td>\n",
              "      <td>2.0</td>\n",
              "      <td>2.0</td>\n",
              "      <td>2.0</td>\n",
              "      <td>3.0</td>\n",
              "      <td>1.0</td>\n",
              "      <td>2.0</td>\n",
              "      <td>3.0</td>\n",
              "      <td>2.0</td>\n",
              "      <td>2.0</td>\n",
              "      <td>3.0</td>\n",
              "      <td>0</td>\n",
              "    </tr>\n",
              "    <tr>\n",
              "      <th>5</th>\n",
              "      <td>2</td>\n",
              "      <td>2</td>\n",
              "      <td>2.0</td>\n",
              "      <td>2</td>\n",
              "      <td>2.0</td>\n",
              "      <td>1.0</td>\n",
              "      <td>3</td>\n",
              "      <td>1</td>\n",
              "      <td>2.0</td>\n",
              "      <td>3.0</td>\n",
              "      <td>1.0</td>\n",
              "      <td>1.0</td>\n",
              "      <td>2.0</td>\n",
              "      <td>2.0</td>\n",
              "      <td>2.0</td>\n",
              "      <td>1.0</td>\n",
              "      <td>3.0</td>\n",
              "      <td>1.0</td>\n",
              "      <td>3.0</td>\n",
              "      <td>2.0</td>\n",
              "      <td>2.0</td>\n",
              "      <td>3.0</td>\n",
              "      <td>3.0</td>\n",
              "      <td>1.0</td>\n",
              "      <td>1.0</td>\n",
              "      <td>1.0</td>\n",
              "      <td>2.0</td>\n",
              "      <td>2.0</td>\n",
              "      <td>2.0</td>\n",
              "      <td>2.0</td>\n",
              "      <td>2.0</td>\n",
              "      <td>3.0</td>\n",
              "      <td>1.0</td>\n",
              "      <td>2.0</td>\n",
              "      <td>3.0</td>\n",
              "      <td>0</td>\n",
              "    </tr>\n",
              "    <tr>\n",
              "      <th>125</th>\n",
              "      <td>1</td>\n",
              "      <td>2</td>\n",
              "      <td>2.0</td>\n",
              "      <td>2</td>\n",
              "      <td>2.0</td>\n",
              "      <td>3.0</td>\n",
              "      <td>2</td>\n",
              "      <td>3</td>\n",
              "      <td>1.0</td>\n",
              "      <td>2.0</td>\n",
              "      <td>3.0</td>\n",
              "      <td>1.0</td>\n",
              "      <td>2.0</td>\n",
              "      <td>3.0</td>\n",
              "      <td>3.0</td>\n",
              "      <td>3.0</td>\n",
              "      <td>3.0</td>\n",
              "      <td>1.0</td>\n",
              "      <td>2.0</td>\n",
              "      <td>1.0</td>\n",
              "      <td>3.0</td>\n",
              "      <td>2.0</td>\n",
              "      <td>2.0</td>\n",
              "      <td>2.0</td>\n",
              "      <td>2.0</td>\n",
              "      <td>3.0</td>\n",
              "      <td>2.0</td>\n",
              "      <td>1.0</td>\n",
              "      <td>2.0</td>\n",
              "      <td>2.0</td>\n",
              "      <td>1.0</td>\n",
              "      <td>1.0</td>\n",
              "      <td>1.0</td>\n",
              "      <td>2.0</td>\n",
              "      <td>1.0</td>\n",
              "      <td>1</td>\n",
              "    </tr>\n",
              "  </tbody>\n",
              "</table>\n",
              "</div>"
            ],
            "text/plain": [
              "       sex  marital_status  reln_status  ...  lack_interest  Belief_in_notion  goal\n",
              "index                                    ...                                       \n",
              "215      2               2          2.0  ...            1.0               3.0     0\n",
              "268      1               2          2.0  ...            2.0               3.0     0\n",
              "181      1               2          2.0  ...            2.0               2.0     1\n",
              "0        1               2          2.0  ...            2.0               1.0     1\n",
              "250      1               2          2.0  ...            2.0               2.0     0\n",
              "107      2               2          2.0  ...            2.0               2.0     1\n",
              "294      1               2          2.0  ...            2.0               3.0     0\n",
              "279      1               2          2.0  ...            2.0               3.0     0\n",
              "5        2               2          2.0  ...            2.0               3.0     0\n",
              "125      1               2          2.0  ...            2.0               1.0     1\n",
              "\n",
              "[10 rows x 36 columns]"
            ]
          },
          "metadata": {
            "tags": []
          },
          "execution_count": 51
        }
      ]
    },
    {
      "cell_type": "markdown",
      "metadata": {
        "id": "xw72gS0qr5nz"
      },
      "source": [
        "##  Feature importance "
      ]
    },
    {
      "cell_type": "code",
      "metadata": {
        "id": "klNoOsu2r5n0",
        "outputId": "04140339-9551-4188-945c-b21025dbbc3c",
        "colab": {
          "base_uri": "https://localhost:8080/",
          "height": 908
        }
      },
      "source": [
        "# example of chi squared feature selection for categorical data\n",
        "from pandas import read_csv\n",
        "from sklearn.model_selection import train_test_split\n",
        "from sklearn.preprocessing import LabelEncoder\n",
        "from sklearn.preprocessing import OrdinalEncoder\n",
        "from sklearn.feature_selection import SelectKBest\n",
        "from sklearn.feature_selection import chi2\n",
        "from matplotlib import pyplot\n",
        " \n",
        "dataset=df.values\n",
        "X = dataset[:, :-1]\n",
        "y = dataset[:,-1]\n",
        "X = X.astype(str)\n",
        "\n",
        "\n",
        "def prepare_inputs(X_train, X_test):\n",
        "    oe = OrdinalEncoder()\n",
        "    oe.fit(X_train)\n",
        "    X_train_enc = oe.transform(X_train)\n",
        "    X_test_enc = oe.transform(X_test)\n",
        "    return X_train_enc, X_test_enc\n",
        "\n",
        "def prepare_targets(y_train, y_test):\n",
        "    le = LabelEncoder()\n",
        "    le.fit(y_train)\n",
        "    y_train_enc = le.transform(y_train)\n",
        "    y_test_enc = le.transform(y_test)\n",
        "    return y_train_enc, y_test_enc\n",
        " \n",
        "# feature selection\n",
        "def select_features(X_train, y_train, X_test):\n",
        "\tfs = SelectKBest(score_func=chi2)\n",
        "\tfs.fit(X_train, y_train)\n",
        "\tX_train_fs = fs.transform(X_train)\n",
        "\tX_test_fs = fs.transform(X_test)\n",
        "\treturn X_train_fs, X_test_fs, fs\n",
        "\n",
        "# split into train and test sets\n",
        "X_train, X_test, y_train, y_test = train_test_split(X, y, test_size=0.33, random_state=1)\n",
        "# prepare input data\n",
        "X_train_enc, X_test_enc = prepare_inputs(X_train, X_test)\n",
        "# prepare output data\n",
        "y_train_enc, y_test_enc = prepare_targets(y_train, y_test)\n",
        "# feature selection\n",
        "X_train_fs, X_test_fs, fs = select_features(X_train_enc, y_train_enc, X_test_enc)\n",
        "# what are scores for the features\n",
        "for i in range(len(fs.scores_)):\n",
        "\tprint('Feature %d: %f' % (i, fs.scores_[i]))\n",
        "# plot the scores\n",
        "pyplot.bar([i for i in range(len(fs.scores_))], fs.scores_)\n",
        "pyplot.show()"
      ],
      "execution_count": 52,
      "outputs": [
        {
          "output_type": "stream",
          "text": [
            "Feature 0: 11.535277\n",
            "Feature 1: 0.497805\n",
            "Feature 2: 3.463206\n",
            "Feature 3: 1.196516\n",
            "Feature 4: 21.773373\n",
            "Feature 5: 3.897877\n",
            "Feature 6: 32.440733\n",
            "Feature 7: 72.078865\n",
            "Feature 8: 13.911419\n",
            "Feature 9: 8.289804\n",
            "Feature 10: 0.005350\n",
            "Feature 11: 0.260093\n",
            "Feature 12: 13.873950\n",
            "Feature 13: 3.390074\n",
            "Feature 14: 7.791295\n",
            "Feature 15: 47.124170\n",
            "Feature 16: 1.177002\n",
            "Feature 17: 45.208052\n",
            "Feature 18: 10.329169\n",
            "Feature 19: 43.688366\n",
            "Feature 20: 1.857622\n",
            "Feature 21: 60.643637\n",
            "Feature 22: 39.702613\n",
            "Feature 23: 12.074262\n",
            "Feature 24: 46.563299\n",
            "Feature 25: 6.083421\n",
            "Feature 26: 0.108683\n",
            "Feature 27: 0.140355\n",
            "Feature 28: 1.478690\n",
            "Feature 29: 23.725514\n",
            "Feature 30: 0.638730\n",
            "Feature 31: 22.580593\n",
            "Feature 32: 14.251374\n",
            "Feature 33: 0.128692\n",
            "Feature 34: 86.530731\n"
          ],
          "name": "stdout"
        },
        {
          "output_type": "display_data",
          "data": {
            "image/png": "[encoded data removed]",
            "text/plain": [
              "<Figure size 432x288 with 1 Axes>"
            ]
          },
          "metadata": {
            "tags": [],
            "needs_background": "light"
          }
        }
      ]
    },
    {
      "cell_type": "code",
      "metadata": {
        "id": "b5U21sEtr5oG",
        "outputId": "5b2522e0-425f-4019-d6bc-08025902ee05",
        "colab": {
          "base_uri": "https://localhost:8080/",
          "height": 1000
        }
      },
      "source": [
        "chis=fs.scores_.tolist()\n",
        "chidf=pd.DataFrame()\n",
        "chidf['feature']=df.columns.drop('goal')\n",
        "chidf['feature_importance X2']= chis\n",
        "chidf=chidf.sort_values(by='feature_importance X2', ascending =False)\n",
        "chidf=chidf.set_index('feature')\n",
        "chidf"
      ],
      "execution_count": 53,
      "outputs": [
        {
          "output_type": "execute_result",
          "data": {
            "text/html": [
              "<div>\n",
              "<style scoped>\n",
              "    .dataframe tbody tr th:only-of-type {\n",
              "        vertical-align: middle;\n",
              "    }\n",
              "\n",
              "    .dataframe tbody tr th {\n",
              "        vertical-align: top;\n",
              "    }\n",
              "\n",
              "    .dataframe thead th {\n",
              "        text-align: right;\n",
              "    }\n",
              "</style>\n",
              "<table border=\"1\" class=\"dataframe\">\n",
              "  <thead>\n",
              "    <tr style=\"text-align: right;\">\n",
              "      <th></th>\n",
              "      <th>feature_importance X2</th>\n",
              "    </tr>\n",
              "    <tr>\n",
              "      <th>feature</th>\n",
              "      <th></th>\n",
              "    </tr>\n",
              "  </thead>\n",
              "  <tbody>\n",
              "    <tr>\n",
              "      <th>Belief_in_notion</th>\n",
              "      <td>86.530731</td>\n",
              "    </tr>\n",
              "    <tr>\n",
              "      <th>relation_w_parents</th>\n",
              "      <td>72.078865</td>\n",
              "    </tr>\n",
              "    <tr>\n",
              "      <th>curiosity_in_drugs</th>\n",
              "      <td>60.643637</td>\n",
              "    </tr>\n",
              "    <tr>\n",
              "      <th>friends_no.</th>\n",
              "      <td>47.124170</td>\n",
              "    </tr>\n",
              "    <tr>\n",
              "      <th>life_satis.</th>\n",
              "      <td>46.563299</td>\n",
              "    </tr>\n",
              "    <tr>\n",
              "      <th>friends_w_drugs</th>\n",
              "      <td>45.208052</td>\n",
              "    </tr>\n",
              "    <tr>\n",
              "      <th>party_join</th>\n",
              "      <td>43.688366</td>\n",
              "    </tr>\n",
              "    <tr>\n",
              "      <th>access_to_drugs</th>\n",
              "      <td>39.702613</td>\n",
              "    </tr>\n",
              "    <tr>\n",
              "      <th>fam_in_drugs</th>\n",
              "      <td>32.440733</td>\n",
              "    </tr>\n",
              "    <tr>\n",
              "      <th>religious_mindset</th>\n",
              "      <td>23.725514</td>\n",
              "    </tr>\n",
              "    <tr>\n",
              "      <th>failed_love</th>\n",
              "      <td>22.580593</td>\n",
              "    </tr>\n",
              "    <tr>\n",
              "      <th>happiness_in_relationship</th>\n",
              "      <td>21.773373</td>\n",
              "    </tr>\n",
              "    <tr>\n",
              "      <th>risk_tendency</th>\n",
              "      <td>14.251374</td>\n",
              "    </tr>\n",
              "    <tr>\n",
              "      <th>curse_for_exp</th>\n",
              "      <td>13.911419</td>\n",
              "    </tr>\n",
              "    <tr>\n",
              "      <th>occupation_succ</th>\n",
              "      <td>13.873950</td>\n",
              "    </tr>\n",
              "    <tr>\n",
              "      <th>hate_addict</th>\n",
              "      <td>12.074262</td>\n",
              "    </tr>\n",
              "    <tr>\n",
              "      <th>sex</th>\n",
              "      <td>11.535277</td>\n",
              "    </tr>\n",
              "    <tr>\n",
              "      <th>hangout_type</th>\n",
              "      <td>10.329169</td>\n",
              "    </tr>\n",
              "    <tr>\n",
              "      <th>success_in_family</th>\n",
              "      <td>8.289804</td>\n",
              "    </tr>\n",
              "    <tr>\n",
              "      <th>occupation_v_friends</th>\n",
              "      <td>7.791295</td>\n",
              "    </tr>\n",
              "    <tr>\n",
              "      <th>outlook_concept</th>\n",
              "      <td>6.083421</td>\n",
              "    </tr>\n",
              "    <tr>\n",
              "      <th>financial_condition</th>\n",
              "      <td>3.897877</td>\n",
              "    </tr>\n",
              "    <tr>\n",
              "      <th>reln_status</th>\n",
              "      <td>3.463206</td>\n",
              "    </tr>\n",
              "    <tr>\n",
              "      <th>work_rating</th>\n",
              "      <td>3.390074</td>\n",
              "    </tr>\n",
              "    <tr>\n",
              "      <th>socializing_capability</th>\n",
              "      <td>1.857622</td>\n",
              "    </tr>\n",
              "    <tr>\n",
              "      <th>home_rating</th>\n",
              "      <td>1.478690</td>\n",
              "    </tr>\n",
              "    <tr>\n",
              "      <th>broken_family</th>\n",
              "      <td>1.196516</td>\n",
              "    </tr>\n",
              "    <tr>\n",
              "      <th>friends_influence</th>\n",
              "      <td>1.177002</td>\n",
              "    </tr>\n",
              "    <tr>\n",
              "      <th>physical_ex.</th>\n",
              "      <td>0.638730</td>\n",
              "    </tr>\n",
              "    <tr>\n",
              "      <th>marital_status</th>\n",
              "      <td>0.497805</td>\n",
              "    </tr>\n",
              "    <tr>\n",
              "      <th>occupation_stat</th>\n",
              "      <td>0.260093</td>\n",
              "    </tr>\n",
              "    <tr>\n",
              "      <th>lost_closed_ones</th>\n",
              "      <td>0.140355</td>\n",
              "    </tr>\n",
              "    <tr>\n",
              "      <th>lack_interest</th>\n",
              "      <td>0.128692</td>\n",
              "    </tr>\n",
              "    <tr>\n",
              "      <th>major_illness</th>\n",
              "      <td>0.108683</td>\n",
              "    </tr>\n",
              "    <tr>\n",
              "      <th>living_with</th>\n",
              "      <td>0.005350</td>\n",
              "    </tr>\n",
              "  </tbody>\n",
              "</table>\n",
              "</div>"
            ],
            "text/plain": [
              "                           feature_importance X2\n",
              "feature                                         \n",
              "Belief_in_notion                       86.530731\n",
              "relation_w_parents                     72.078865\n",
              "curiosity_in_drugs                     60.643637\n",
              "friends_no.                            47.124170\n",
              "life_satis.                            46.563299\n",
              "friends_w_drugs                        45.208052\n",
              "party_join                             43.688366\n",
              "access_to_drugs                        39.702613\n",
              "fam_in_drugs                           32.440733\n",
              "religious_mindset                      23.725514\n",
              "failed_love                            22.580593\n",
              "happiness_in_relationship              21.773373\n",
              "risk_tendency                          14.251374\n",
              "curse_for_exp                          13.911419\n",
              "occupation_succ                        13.873950\n",
              "hate_addict                            12.074262\n",
              "sex                                    11.535277\n",
              "hangout_type                           10.329169\n",
              "success_in_family                       8.289804\n",
              "occupation_v_friends                    7.791295\n",
              "outlook_concept                         6.083421\n",
              "financial_condition                     3.897877\n",
              "reln_status                             3.463206\n",
              "work_rating                             3.390074\n",
              "socializing_capability                  1.857622\n",
              "home_rating                             1.478690\n",
              "broken_family                           1.196516\n",
              "friends_influence                       1.177002\n",
              "physical_ex.                            0.638730\n",
              "marital_status                          0.497805\n",
              "occupation_stat                         0.260093\n",
              "lost_closed_ones                        0.140355\n",
              "lack_interest                           0.128692\n",
              "major_illness                           0.108683\n",
              "living_with                             0.005350"
            ]
          },
          "metadata": {
            "tags": []
          },
          "execution_count": 53
        }
      ]
    },
    {
      "cell_type": "code",
      "metadata": {
        "id": "M3i53vNpr5oO",
        "outputId": "f68b89bd-01d9-4153-ae4d-786a5f79ded5",
        "colab": {
          "base_uri": "https://localhost:8080/",
          "height": 416
        }
      },
      "source": [
        "chidf.plot(kind= 'bar')"
      ],
      "execution_count": 54,
      "outputs": [
        {
          "output_type": "execute_result",
          "data": {
            "text/plain": [
              "<matplotlib.axes._subplots.AxesSubplot at 0x7fe7f99269b0>"
            ]
          },
          "metadata": {
            "tags": []
          },
          "execution_count": 54
        },
        {
          "output_type": "display_data",
          "data": {
            "image/png": "[encoded data removed]",
            "text/plain": [
              "<Figure size 432x288 with 1 Axes>"
            ]
          },
          "metadata": {
            "tags": [],
            "needs_background": "light"
          }
        }
      ]
    },
    {
      "cell_type": "code",
      "metadata": {
        "id": "FIDeu6n1r5oR",
        "outputId": "c1c56890-767c-4af2-effe-cd30e821b799",
        "colab": {
          "base_uri": "https://localhost:8080/",
          "height": 416
        }
      },
      "source": [
        "chidf[:15].plot(kind='bar')"
      ],
      "execution_count": 55,
      "outputs": [
        {
          "output_type": "execute_result",
          "data": {
            "text/plain": [
              "<matplotlib.axes._subplots.AxesSubplot at 0x7fe7f9806080>"
            ]
          },
          "metadata": {
            "tags": []
          },
          "execution_count": 55
        },
        {
          "output_type": "display_data",
          "data": {
            "image/png": "[encoded data removed]",
            "text/plain": [
              "<Figure size 432x288 with 1 Axes>"
            ]
          },
          "metadata": {
            "tags": [],
            "needs_background": "light"
          }
        }
      ]
    },
    {
      "cell_type": "code",
      "metadata": {
        "id": "NWoXZGE3r5oU"
      },
      "source": [
        "chidf1=chidf[:10]\n",
        "chisquared=df[chidf1.index]"
      ],
      "execution_count": 56,
      "outputs": []
    },
    {
      "cell_type": "code",
      "metadata": {
        "id": "9iPpkIEAr5oW"
      },
      "source": [
        "chidf2=chidf[:11]\n",
        "chisquared1= df[chidf2.index]"
      ],
      "execution_count": 57,
      "outputs": []
    },
    {
      "cell_type": "code",
      "metadata": {
        "id": "s-s4SD3Er5oY"
      },
      "source": [
        "chidf3=chidf[:12]\n",
        "chisquared2=df[chidf3.index]"
      ],
      "execution_count": 58,
      "outputs": []
    },
    {
      "cell_type": "code",
      "metadata": {
        "id": "s4mT7J6Lr5oa"
      },
      "source": [
        "chidf4=chidf[:13]\n",
        "chisquared3=df[chidf4.index]"
      ],
      "execution_count": 59,
      "outputs": []
    },
    {
      "cell_type": "code",
      "metadata": {
        "id": "LhFUfYlar5od"
      },
      "source": [
        "chidf5=chidf[:14]\n",
        "chisquared4=df[chidf5.index]"
      ],
      "execution_count": 60,
      "outputs": []
    },
    {
      "cell_type": "code",
      "metadata": {
        "id": "bqgP6zs8r5og"
      },
      "source": [
        "chidf6=chidf[:15]\n",
        "chisquared5=df[chidf6.index]"
      ],
      "execution_count": 61,
      "outputs": []
    },
    {
      "cell_type": "code",
      "metadata": {
        "id": "5xBEc2Bfr5oi"
      },
      "source": [
        "chidf7=chidf[:16]\n",
        "chisquared6=df[chidf7.index]"
      ],
      "execution_count": 62,
      "outputs": []
    },
    {
      "cell_type": "code",
      "metadata": {
        "id": "Qn5Oh8S_r5ok"
      },
      "source": [
        "chidf8=chidf[:17]\n",
        "chisquared7=df[chidf8.index]"
      ],
      "execution_count": 63,
      "outputs": []
    },
    {
      "cell_type": "code",
      "metadata": {
        "id": "7hhAiSuQr5om"
      },
      "source": [
        "chidf9=chidf[:18]\n",
        "chisquared8=df[chidf9.index]"
      ],
      "execution_count": 64,
      "outputs": []
    },
    {
      "cell_type": "code",
      "metadata": {
        "id": "uvaFPIJdr5op"
      },
      "source": [
        "chidf10=chidf[:19]\n",
        "chisquared9=df[chidf10.index]"
      ],
      "execution_count": 65,
      "outputs": []
    },
    {
      "cell_type": "code",
      "metadata": {
        "id": "NHUzl2mOr5or"
      },
      "source": [
        "chidf11=chidf[:20]\n",
        "chisquared10=df[chidf11.index]"
      ],
      "execution_count": 66,
      "outputs": []
    },
    {
      "cell_type": "markdown",
      "metadata": {
        "id": "Yy8vxtzzr5ou"
      },
      "source": [
        "# training with whole of dataset\n"
      ]
    },
    {
      "cell_type": "code",
      "metadata": {
        "id": "frlpceaXr5ou"
      },
      "source": [
        "from sklearn.model_selection import train_test_split\n",
        "\n",
        "train, test = train_test_split(df, test_size=0.33)"
      ],
      "execution_count": 67,
      "outputs": []
    },
    {
      "cell_type": "code",
      "metadata": {
        "id": "sdaOgiHQr5ox"
      },
      "source": [
        "a=df.columns\n",
        "features=a.drop('goal')"
      ],
      "execution_count": 68,
      "outputs": []
    },
    {
      "cell_type": "code",
      "metadata": {
        "id": "9lu_07hLr5o1"
      },
      "source": [
        "X = df[features]\n",
        "y = df['goal']\n",
        "from sklearn.model_selection import train_test_split\n",
        "X_train, X_test, y_train, y_test = train_test_split(X, y, random_state=0)\n",
        "from sklearn.preprocessing import MinMaxScaler\n",
        "scaler = MinMaxScaler()\n",
        "X_train = scaler.fit_transform(X_train)\n",
        "X_test = scaler.transform(X_test)"
      ],
      "execution_count": 69,
      "outputs": []
    },
    {
      "cell_type": "code",
      "metadata": {
        "id": "wy5_014wr5o8"
      },
      "source": [
        "from sklearn.metrics import accuracy_score"
      ],
      "execution_count": 70,
      "outputs": []
    },
    {
      "cell_type": "code",
      "metadata": {
        "id": "29nKqO5ur5o_",
        "outputId": "7a1612d1-7e81-4d7c-dff5-2a381a812815",
        "colab": {
          "base_uri": "https://localhost:8080/",
          "height": 35
        }
      },
      "source": [
        "from sklearn.linear_model import LogisticRegression\n",
        "logreg=LogisticRegression()\n",
        "logreg.fit(X_train,y_train)\n",
        "y_pred=logreg.predict(X_test)\n",
        "acc_logreg= accuracy_score(y_pred,y_test)*100\n",
        "acc_logreg"
      ],
      "execution_count": 71,
      "outputs": [
        {
          "output_type": "execute_result",
          "data": {
            "text/plain": [
              "94.26229508196722"
            ]
          },
          "metadata": {
            "tags": []
          },
          "execution_count": 71
        }
      ]
    },
    {
      "cell_type": "code",
      "metadata": {
        "id": "4xyqNh3Xr5pE",
        "outputId": "df6a47c6-23f5-41a4-ec26-7397b9cafa17",
        "colab": {
          "base_uri": "https://localhost:8080/",
          "height": 182
        }
      },
      "source": [
        "from sklearn.metrics import classification_report\n",
        "target_names = ['Healthy ', 'Addicted']\n",
        "print(classification_report(y_test, y_pred, target_names=target_names))"
      ],
      "execution_count": 72,
      "outputs": [
        {
          "output_type": "stream",
          "text": [
            "              precision    recall  f1-score   support\n",
            "\n",
            "    Healthy        0.99      0.93      0.95        80\n",
            "    Addicted       0.87      0.98      0.92        42\n",
            "\n",
            "    accuracy                           0.94       122\n",
            "   macro avg       0.93      0.95      0.94       122\n",
            "weighted avg       0.95      0.94      0.94       122\n",
            "\n"
          ],
          "name": "stdout"
        }
      ]
    },
    {
      "cell_type": "code",
      "metadata": {
        "id": "7X1VPzuXr5pG"
      },
      "source": [
        "from sklearn.svm import LinearSVC\n",
        "linear_svc = LinearSVC()\n",
        "linear_svc.fit(X_train, y_train)\n",
        "\n",
        "y_pred = linear_svc.predict(X_test)\n",
        "\n",
        "acc_linear_svc = accuracy_score(y_pred, y_test) * 100"
      ],
      "execution_count": 73,
      "outputs": []
    },
    {
      "cell_type": "code",
      "metadata": {
        "id": "Gk_yHTTGr5pJ",
        "outputId": "0e173c75-b96d-4ac8-ffee-91d6bd00e217",
        "colab": {
          "base_uri": "https://localhost:8080/",
          "height": 35
        }
      },
      "source": [
        "acc_linear_svc"
      ],
      "execution_count": 74,
      "outputs": [
        {
          "output_type": "execute_result",
          "data": {
            "text/plain": [
              "95.90163934426229"
            ]
          },
          "metadata": {
            "tags": []
          },
          "execution_count": 74
        }
      ]
    },
    {
      "cell_type": "code",
      "metadata": {
        "id": "fmTi6w6Br5pL",
        "outputId": "d3eebbf7-58f8-4328-d345-35795f41068e",
        "colab": {
          "base_uri": "https://localhost:8080/",
          "height": 182
        }
      },
      "source": [
        "from sklearn.metrics import classification_report\n",
        "target_names = ['Healthy ', 'Addicted']\n",
        "print(classification_report(y_test, y_pred, target_names=target_names))"
      ],
      "execution_count": 75,
      "outputs": [
        {
          "output_type": "stream",
          "text": [
            "              precision    recall  f1-score   support\n",
            "\n",
            "    Healthy        0.99      0.95      0.97        80\n",
            "    Addicted       0.91      0.98      0.94        42\n",
            "\n",
            "    accuracy                           0.96       122\n",
            "   macro avg       0.95      0.96      0.96       122\n",
            "weighted avg       0.96      0.96      0.96       122\n",
            "\n"
          ],
          "name": "stdout"
        }
      ]
    },
    {
      "cell_type": "code",
      "metadata": {
        "id": "NpuWsONYr5pO"
      },
      "source": [
        "from sklearn.tree import DecisionTreeClassifier\n",
        "decision_tree = DecisionTreeClassifier()\n",
        "decision_tree.fit(X_train, y_train)  \n",
        "y_pred = decision_tree.predict(X_test)  \n",
        "acc_decision_tree = accuracy_score(y_pred, y_test) * 100"
      ],
      "execution_count": 76,
      "outputs": []
    },
    {
      "cell_type": "code",
      "metadata": {
        "id": "wdTZn1LIr5pQ",
        "outputId": "8385f5bf-075d-42a5-84d8-140ae90f5d7f",
        "colab": {
          "base_uri": "https://localhost:8080/",
          "height": 35
        }
      },
      "source": [
        "acc_decision_tree"
      ],
      "execution_count": 77,
      "outputs": [
        {
          "output_type": "execute_result",
          "data": {
            "text/plain": [
              "85.24590163934425"
            ]
          },
          "metadata": {
            "tags": []
          },
          "execution_count": 77
        }
      ]
    },
    {
      "cell_type": "code",
      "metadata": {
        "id": "1hfvyWdfr5pT",
        "outputId": "180a2477-e2b0-4bc9-940d-b3f3f08ef6aa",
        "colab": {
          "base_uri": "https://localhost:8080/",
          "height": 182
        }
      },
      "source": [
        "from sklearn.metrics import classification_report\n",
        "target_names = ['Healthy ', 'Addicted']\n",
        "print(classification_report(y_test, y_pred, target_names=target_names))"
      ],
      "execution_count": 78,
      "outputs": [
        {
          "output_type": "stream",
          "text": [
            "              precision    recall  f1-score   support\n",
            "\n",
            "    Healthy        0.88      0.90      0.89        80\n",
            "    Addicted       0.80      0.76      0.78        42\n",
            "\n",
            "    accuracy                           0.85       122\n",
            "   macro avg       0.84      0.83      0.83       122\n",
            "weighted avg       0.85      0.85      0.85       122\n",
            "\n"
          ],
          "name": "stdout"
        }
      ]
    },
    {
      "cell_type": "code",
      "metadata": {
        "id": "vSpr_i0Ar5pU",
        "outputId": "8199991c-9d22-4854-d7c7-778289325906",
        "colab": {
          "base_uri": "https://localhost:8080/",
          "height": 35
        }
      },
      "source": [
        "from sklearn.naive_bayes import GaussianNB\n",
        "gaussian = GaussianNB()\n",
        "gaussian.fit(X_train, y_train) \n",
        "y_pred = gaussian.predict(X_test)\n",
        "acc_gaussian = accuracy_score(y_pred, y_test) * 100\n",
        "acc_gaussian"
      ],
      "execution_count": 79,
      "outputs": [
        {
          "output_type": "execute_result",
          "data": {
            "text/plain": [
              "92.62295081967213"
            ]
          },
          "metadata": {
            "tags": []
          },
          "execution_count": 79
        }
      ]
    },
    {
      "cell_type": "code",
      "metadata": {
        "id": "OF0wvoQYr5pX",
        "outputId": "3535b480-a2b2-42e6-de59-5f0862991d4d",
        "colab": {
          "base_uri": "https://localhost:8080/",
          "height": 182
        }
      },
      "source": [
        "from sklearn.metrics import classification_report\n",
        "target_names = ['Healthy ', 'Addicted']\n",
        "print(classification_report(y_test, y_pred, target_names=target_names))"
      ],
      "execution_count": 80,
      "outputs": [
        {
          "output_type": "stream",
          "text": [
            "              precision    recall  f1-score   support\n",
            "\n",
            "    Healthy        0.97      0.91      0.94        80\n",
            "    Addicted       0.85      0.95      0.90        42\n",
            "\n",
            "    accuracy                           0.93       122\n",
            "   macro avg       0.91      0.93      0.92       122\n",
            "weighted avg       0.93      0.93      0.93       122\n",
            "\n"
          ],
          "name": "stdout"
        }
      ]
    },
    {
      "cell_type": "code",
      "metadata": {
        "id": "a3EHwWYXr5pc",
        "outputId": "331dcb50-d603-40c6-ae2a-db633e3fe9f6",
        "colab": {
          "base_uri": "https://localhost:8080/",
          "height": 35
        }
      },
      "source": [
        "from sklearn.neighbors import KNeighborsClassifier\n",
        "knn = KNeighborsClassifier(n_neighbors = 2) \n",
        "knn.fit(X_train, y_train)  \n",
        "y_pred = knn.predict(X_test)  \n",
        "acc_knn = accuracy_score(y_pred, y_test) * 100\n",
        "acc_knn"
      ],
      "execution_count": 81,
      "outputs": [
        {
          "output_type": "execute_result",
          "data": {
            "text/plain": [
              "88.52459016393442"
            ]
          },
          "metadata": {
            "tags": []
          },
          "execution_count": 81
        }
      ]
    },
    {
      "cell_type": "code",
      "metadata": {
        "id": "EL9deHYSr5pg",
        "outputId": "e3a871c0-53ab-4b02-ca4d-3d8773c94cf6",
        "colab": {
          "base_uri": "https://localhost:8080/",
          "height": 182
        }
      },
      "source": [
        "from sklearn.metrics import classification_report\n",
        "target_names = ['Healthy ', 'Addicted']\n",
        "print(classification_report(y_test, y_pred, target_names=target_names))"
      ],
      "execution_count": 82,
      "outputs": [
        {
          "output_type": "stream",
          "text": [
            "              precision    recall  f1-score   support\n",
            "\n",
            "    Healthy        0.86      0.99      0.92        80\n",
            "    Addicted       0.97      0.69      0.81        42\n",
            "\n",
            "    accuracy                           0.89       122\n",
            "   macro avg       0.91      0.84      0.86       122\n",
            "weighted avg       0.90      0.89      0.88       122\n",
            "\n"
          ],
          "name": "stdout"
        }
      ]
    },
    {
      "cell_type": "code",
      "metadata": {
        "id": "iS5YUFdrr5pi",
        "outputId": "aa072e78-b196-4867-da06-db01bb7d2c1e",
        "colab": {
          "base_uri": "https://localhost:8080/",
          "height": 35
        }
      },
      "source": [
        "from sklearn.ensemble import RandomForestClassifier\n",
        "random_forest= RandomForestClassifier()\n",
        "random_forest.fit(X_train,y_train)\n",
        "y_pred = random_forest.predict(X_test)\n",
        "acc_random_forest = accuracy_score(y_pred,y_test)*100\n",
        "acc_random_forest"
      ],
      "execution_count": 83,
      "outputs": [
        {
          "output_type": "execute_result",
          "data": {
            "text/plain": [
              "95.08196721311475"
            ]
          },
          "metadata": {
            "tags": []
          },
          "execution_count": 83
        }
      ]
    },
    {
      "cell_type": "code",
      "metadata": {
        "id": "8m_FibSPr5pk",
        "outputId": "14f244fb-1df7-4938-d3ca-e1c9cf5005b8",
        "colab": {
          "base_uri": "https://localhost:8080/",
          "height": 182
        }
      },
      "source": [
        "from sklearn.metrics import classification_report\n",
        "target_names = ['Healthy ', 'Addicted']\n",
        "print(classification_report(y_test, y_pred, target_names=target_names))"
      ],
      "execution_count": 84,
      "outputs": [
        {
          "output_type": "stream",
          "text": [
            "              precision    recall  f1-score   support\n",
            "\n",
            "    Healthy        0.97      0.95      0.96        80\n",
            "    Addicted       0.91      0.95      0.93        42\n",
            "\n",
            "    accuracy                           0.95       122\n",
            "   macro avg       0.94      0.95      0.95       122\n",
            "weighted avg       0.95      0.95      0.95       122\n",
            "\n"
          ],
          "name": "stdout"
        }
      ]
    },
    {
      "cell_type": "code",
      "metadata": {
        "id": "VHDRYLQLr5pm",
        "outputId": "62933f5c-0be1-46c7-8a92-92e05452fca2",
        "colab": {
          "base_uri": "https://localhost:8080/",
          "height": 269
        }
      },
      "source": [
        "results = pd.DataFrame({\n",
        "    'Model': ['Support Vector Machines', 'Logistic Regression', \n",
        "              'Random Forest', 'Decision Tree', 'kNearest Neighbors','Gaussian Naive Bayes'],\n",
        "    'Score': [acc_linear_svc, acc_logreg, \n",
        "              acc_random_forest, acc_decision_tree,acc_knn, acc_gaussian]})\n",
        "result_df = results.sort_values(by='Score', ascending=False)\n",
        "result_df = result_df.set_index('Model')\n",
        "result_df"
      ],
      "execution_count": 85,
      "outputs": [
        {
          "output_type": "execute_result",
          "data": {
            "text/html": [
              "<div>\n",
              "<style scoped>\n",
              "    .dataframe tbody tr th:only-of-type {\n",
              "        vertical-align: middle;\n",
              "    }\n",
              "\n",
              "    .dataframe tbody tr th {\n",
              "        vertical-align: top;\n",
              "    }\n",
              "\n",
              "    .dataframe thead th {\n",
              "        text-align: right;\n",
              "    }\n",
              "</style>\n",
              "<table border=\"1\" class=\"dataframe\">\n",
              "  <thead>\n",
              "    <tr style=\"text-align: right;\">\n",
              "      <th></th>\n",
              "      <th>Score</th>\n",
              "    </tr>\n",
              "    <tr>\n",
              "      <th>Model</th>\n",
              "      <th></th>\n",
              "    </tr>\n",
              "  </thead>\n",
              "  <tbody>\n",
              "    <tr>\n",
              "      <th>Support Vector Machines</th>\n",
              "      <td>95.901639</td>\n",
              "    </tr>\n",
              "    <tr>\n",
              "      <th>Random Forest</th>\n",
              "      <td>95.081967</td>\n",
              "    </tr>\n",
              "    <tr>\n",
              "      <th>Logistic Regression</th>\n",
              "      <td>94.262295</td>\n",
              "    </tr>\n",
              "    <tr>\n",
              "      <th>Gaussian Naive Bayes</th>\n",
              "      <td>92.622951</td>\n",
              "    </tr>\n",
              "    <tr>\n",
              "      <th>kNearest Neighbors</th>\n",
              "      <td>88.524590</td>\n",
              "    </tr>\n",
              "    <tr>\n",
              "      <th>Decision Tree</th>\n",
              "      <td>85.245902</td>\n",
              "    </tr>\n",
              "  </tbody>\n",
              "</table>\n",
              "</div>"
            ],
            "text/plain": [
              "                             Score\n",
              "Model                             \n",
              "Support Vector Machines  95.901639\n",
              "Random Forest            95.081967\n",
              "Logistic Regression      94.262295\n",
              "Gaussian Naive Bayes     92.622951\n",
              "kNearest Neighbors       88.524590\n",
              "Decision Tree            85.245902"
            ]
          },
          "metadata": {
            "tags": []
          },
          "execution_count": 85
        }
      ]
    },
    {
      "cell_type": "code",
      "metadata": {
        "id": "UAMJDY3jr5po",
        "outputId": "8fcebd92-81f9-457d-e02f-55cfcee75113",
        "colab": {
          "base_uri": "https://localhost:8080/",
          "height": 279
        }
      },
      "source": [
        "import matplotlib.pyplot as plt\n",
        "from sklearn.metrics import plot_roc_curve\n",
        "ax = plt.gca()\n",
        "rfc_disp = plot_roc_curve(random_forest, X_test, y_test, ax=ax, alpha=1)\n",
        "knn_disp= plot_roc_curve(knn,X_test,y_test,ax=ax,alpha=1)\n",
        "dt_disp= plot_roc_curve(decision_tree, X_test,y_test, ax=ax,alpha=1)\n",
        "svc_disp = plot_roc_curve(linear_svc,X_test,y_test,ax=ax,alpha=1)\n",
        "gnb_disp=plot_roc_curve(gaussian, X_test, y_test, ax=ax, alpha = 1)\n",
        "logreg_disp = plot_roc_curve(logreg, X_test, y_test, ax=ax, alpha=1)\n",
        "plt.show()"
      ],
      "execution_count": 86,
      "outputs": [
        {
          "output_type": "display_data",
          "data": {
            "image/png": "[encoded data removed]",
            "text/plain": [
              "<Figure size 432x288 with 1 Axes>"
            ]
          },
          "metadata": {
            "tags": [],
            "needs_background": "light"
          }
        }
      ]
    },
    {
      "cell_type": "markdown",
      "metadata": {
        "id": "AjRmofCer5pq"
      },
      "source": [
        "## Training with 10 chi squared features\n"
      ]
    },
    {
      "cell_type": "code",
      "metadata": {
        "id": "q_eXKvZ6r5pr"
      },
      "source": [
        "from sklearn.model_selection import train_test_split\n",
        "train, test = train_test_split(df, test_size=0.33)"
      ],
      "execution_count": 87,
      "outputs": []
    },
    {
      "cell_type": "code",
      "metadata": {
        "id": "_TyGo817r5pt"
      },
      "source": [
        "X = chisquared\n",
        "y = df['goal']\n",
        "from sklearn.model_selection import train_test_split\n",
        "X_train, X_test, y_train, y_test = train_test_split(X, y, random_state=0)\n",
        "from sklearn.preprocessing import MinMaxScaler\n",
        "scaler = MinMaxScaler()\n",
        "X_train = scaler.fit_transform(X_train)\n",
        "X_test = scaler.transform(X_test)"
      ],
      "execution_count": 88,
      "outputs": []
    },
    {
      "cell_type": "code",
      "metadata": {
        "id": "SXV0CpXqr5p2"
      },
      "source": [
        "from sklearn.metrics import accuracy_score"
      ],
      "execution_count": 89,
      "outputs": []
    },
    {
      "cell_type": "code",
      "metadata": {
        "id": "H3KlJator5p5",
        "outputId": "4c989945-5ff6-4ab4-8d30-3c2a863fb740",
        "colab": {
          "base_uri": "https://localhost:8080/",
          "height": 35
        }
      },
      "source": [
        "from sklearn.linear_model import LogisticRegression\n",
        "logreg=LogisticRegression()\n",
        "logreg.fit(X_train,y_train)\n",
        "y_pred=logreg.predict(X_test)\n",
        "acc_logreg= accuracy_score(y_pred,y_test)*100\n",
        "acc_logreg"
      ],
      "execution_count": 90,
      "outputs": [
        {
          "output_type": "execute_result",
          "data": {
            "text/plain": [
              "90.98360655737704"
            ]
          },
          "metadata": {
            "tags": []
          },
          "execution_count": 90
        }
      ]
    },
    {
      "cell_type": "code",
      "metadata": {
        "id": "WIZJr4jwr5p6",
        "outputId": "222a491e-7ec5-48cd-e719-298fe308c7e1",
        "colab": {
          "base_uri": "https://localhost:8080/",
          "height": 182
        }
      },
      "source": [
        "from sklearn.metrics import classification_report\n",
        "target_names = ['Healthy ', 'Addicted']\n",
        "print(classification_report(y_test, y_pred, target_names=target_names))"
      ],
      "execution_count": 91,
      "outputs": [
        {
          "output_type": "stream",
          "text": [
            "              precision    recall  f1-score   support\n",
            "\n",
            "    Healthy        0.95      0.91      0.93        80\n",
            "    Addicted       0.84      0.90      0.87        42\n",
            "\n",
            "    accuracy                           0.91       122\n",
            "   macro avg       0.90      0.91      0.90       122\n",
            "weighted avg       0.91      0.91      0.91       122\n",
            "\n"
          ],
          "name": "stdout"
        }
      ]
    },
    {
      "cell_type": "code",
      "metadata": {
        "id": "9lhWPYgdr5p9",
        "outputId": "3db4e461-83ab-4c2e-87e4-2d6b6c6f92ae",
        "colab": {
          "base_uri": "https://localhost:8080/",
          "height": 35
        }
      },
      "source": [
        "from sklearn.svm import LinearSVC\n",
        "linear_svc = LinearSVC(dual= False)\n",
        "linear_svc.fit(X_train, y_train)\n",
        "\n",
        "y_pred = linear_svc.predict(X_test)\n",
        "\n",
        "acc_linear_svc = accuracy_score(y_pred, y_test) * 100\n",
        "acc_linear_svc"
      ],
      "execution_count": 92,
      "outputs": [
        {
          "output_type": "execute_result",
          "data": {
            "text/plain": [
              "90.1639344262295"
            ]
          },
          "metadata": {
            "tags": []
          },
          "execution_count": 92
        }
      ]
    },
    {
      "cell_type": "code",
      "metadata": {
        "id": "zWUbMjY7r5p-",
        "outputId": "cecdb0c0-9516-439e-a372-a607be056e9f",
        "colab": {
          "base_uri": "https://localhost:8080/",
          "height": 182
        }
      },
      "source": [
        "from sklearn.metrics import classification_report\n",
        "target_names = ['Healthy ', 'Addicted']\n",
        "print(classification_report(y_test, y_pred, target_names=target_names))"
      ],
      "execution_count": 93,
      "outputs": [
        {
          "output_type": "stream",
          "text": [
            "              precision    recall  f1-score   support\n",
            "\n",
            "    Healthy        0.94      0.91      0.92        80\n",
            "    Addicted       0.84      0.88      0.86        42\n",
            "\n",
            "    accuracy                           0.90       122\n",
            "   macro avg       0.89      0.90      0.89       122\n",
            "weighted avg       0.90      0.90      0.90       122\n",
            "\n"
          ],
          "name": "stdout"
        }
      ]
    },
    {
      "cell_type": "code",
      "metadata": {
        "id": "anUMYHhUr5qA",
        "outputId": "6b676d86-e079-4712-9a46-0b834d1bf580",
        "colab": {
          "base_uri": "https://localhost:8080/",
          "height": 35
        }
      },
      "source": [
        "from sklearn.tree import DecisionTreeClassifier\n",
        "decision_tree = DecisionTreeClassifier()\n",
        "decision_tree.fit(X_train, y_train)  \n",
        "y_pred = decision_tree.predict(X_test)  \n",
        "acc_decision_tree = accuracy_score(y_pred, y_test) * 100\n",
        "acc_decision_tree"
      ],
      "execution_count": 94,
      "outputs": [
        {
          "output_type": "execute_result",
          "data": {
            "text/plain": [
              "83.60655737704919"
            ]
          },
          "metadata": {
            "tags": []
          },
          "execution_count": 94
        }
      ]
    },
    {
      "cell_type": "code",
      "metadata": {
        "id": "A5gTziLIr5qC",
        "outputId": "b1fcfd12-3d26-478e-e726-23e5d9e41e99",
        "colab": {
          "base_uri": "https://localhost:8080/",
          "height": 182
        }
      },
      "source": [
        "from sklearn.metrics import classification_report\n",
        "target_names = ['Healthy ', 'Addicted']\n",
        "print(classification_report(y_test, y_pred, target_names=target_names))"
      ],
      "execution_count": 95,
      "outputs": [
        {
          "output_type": "stream",
          "text": [
            "              precision    recall  f1-score   support\n",
            "\n",
            "    Healthy        0.89      0.85      0.87        80\n",
            "    Addicted       0.74      0.81      0.77        42\n",
            "\n",
            "    accuracy                           0.84       122\n",
            "   macro avg       0.82      0.83      0.82       122\n",
            "weighted avg       0.84      0.84      0.84       122\n",
            "\n"
          ],
          "name": "stdout"
        }
      ]
    },
    {
      "cell_type": "code",
      "metadata": {
        "id": "C7hi-rGXr5qF",
        "outputId": "1b54a9f7-7e49-40a4-8198-a21b409d58c9",
        "colab": {
          "base_uri": "https://localhost:8080/",
          "height": 35
        }
      },
      "source": [
        "from sklearn.naive_bayes import GaussianNB\n",
        "gaussian = GaussianNB()\n",
        "gaussian.fit(X_train, y_train) \n",
        "y_pred = gaussian.predict(X_test)\n",
        "acc_gaussian = accuracy_score(y_pred, y_test) * 100\n",
        "acc_gaussian"
      ],
      "execution_count": 96,
      "outputs": [
        {
          "output_type": "execute_result",
          "data": {
            "text/plain": [
              "90.98360655737704"
            ]
          },
          "metadata": {
            "tags": []
          },
          "execution_count": 96
        }
      ]
    },
    {
      "cell_type": "code",
      "metadata": {
        "id": "S6Q8_e_gr5qH",
        "outputId": "ba130dbd-d7dc-45df-fe3d-997eaf417f49",
        "colab": {
          "base_uri": "https://localhost:8080/",
          "height": 182
        }
      },
      "source": [
        "from sklearn.metrics import classification_report\n",
        "target_names = ['Healthy ', 'Addicted']\n",
        "print(classification_report(y_test, y_pred, target_names=target_names))"
      ],
      "execution_count": 97,
      "outputs": [
        {
          "output_type": "stream",
          "text": [
            "              precision    recall  f1-score   support\n",
            "\n",
            "    Healthy        0.99      0.88      0.93        80\n",
            "    Addicted       0.80      0.98      0.88        42\n",
            "\n",
            "    accuracy                           0.91       122\n",
            "   macro avg       0.89      0.93      0.90       122\n",
            "weighted avg       0.92      0.91      0.91       122\n",
            "\n"
          ],
          "name": "stdout"
        }
      ]
    },
    {
      "cell_type": "code",
      "metadata": {
        "id": "bXPHpcIkr5qJ",
        "outputId": "dc96f5c2-835f-4947-be92-72616489ac24",
        "colab": {
          "base_uri": "https://localhost:8080/",
          "height": 35
        }
      },
      "source": [
        "from sklearn.neighbors import KNeighborsClassifier\n",
        "knn = KNeighborsClassifier(n_neighbors = 2) \n",
        "knn.fit(X_train, y_train)  \n",
        "y_pred = knn.predict(X_test)  \n",
        "acc_knn = accuracy_score(y_pred, y_test) * 100\n",
        "acc_knn"
      ],
      "execution_count": 98,
      "outputs": [
        {
          "output_type": "execute_result",
          "data": {
            "text/plain": [
              "91.80327868852459"
            ]
          },
          "metadata": {
            "tags": []
          },
          "execution_count": 98
        }
      ]
    },
    {
      "cell_type": "code",
      "metadata": {
        "id": "ACG3DS3zr5qN",
        "outputId": "89339334-4575-468c-f986-52cfb7fda405",
        "colab": {
          "base_uri": "https://localhost:8080/",
          "height": 182
        }
      },
      "source": [
        "from sklearn.metrics import classification_report\n",
        "target_names = ['Healthy ', 'Addicted']\n",
        "print(classification_report(y_test, y_pred, target_names=target_names))"
      ],
      "execution_count": 99,
      "outputs": [
        {
          "output_type": "stream",
          "text": [
            "              precision    recall  f1-score   support\n",
            "\n",
            "    Healthy        0.92      0.96      0.94        80\n",
            "    Addicted       0.92      0.83      0.88        42\n",
            "\n",
            "    accuracy                           0.92       122\n",
            "   macro avg       0.92      0.90      0.91       122\n",
            "weighted avg       0.92      0.92      0.92       122\n",
            "\n"
          ],
          "name": "stdout"
        }
      ]
    },
    {
      "cell_type": "code",
      "metadata": {
        "id": "DZ9oR1sJr5qP",
        "outputId": "3085699c-c53f-43b9-8747-792f5f71e251",
        "colab": {
          "base_uri": "https://localhost:8080/",
          "height": 35
        }
      },
      "source": [
        "from sklearn.ensemble import RandomForestClassifier\n",
        "random_forest= RandomForestClassifier()\n",
        "random_forest.fit(X_train,y_train)\n",
        "y_pred = random_forest.predict(X_test)\n",
        "acc_random_forest = accuracy_score(y_pred,y_test)*100\n",
        "acc_random_forest"
      ],
      "execution_count": 100,
      "outputs": [
        {
          "output_type": "execute_result",
          "data": {
            "text/plain": [
              "90.1639344262295"
            ]
          },
          "metadata": {
            "tags": []
          },
          "execution_count": 100
        }
      ]
    },
    {
      "cell_type": "code",
      "metadata": {
        "id": "hzcQYm1_r5qR",
        "outputId": "6bd0e33a-2338-47d0-dce1-1c2bb23f549c",
        "colab": {
          "base_uri": "https://localhost:8080/",
          "height": 182
        }
      },
      "source": [
        "from sklearn.metrics import classification_report\n",
        "target_names = ['Healthy ', 'Addicted']\n",
        "print(classification_report(y_test, y_pred, target_names=target_names))"
      ],
      "execution_count": 101,
      "outputs": [
        {
          "output_type": "stream",
          "text": [
            "              precision    recall  f1-score   support\n",
            "\n",
            "    Healthy        0.96      0.89      0.92        80\n",
            "    Addicted       0.81      0.93      0.87        42\n",
            "\n",
            "    accuracy                           0.90       122\n",
            "   macro avg       0.89      0.91      0.89       122\n",
            "weighted avg       0.91      0.90      0.90       122\n",
            "\n"
          ],
          "name": "stdout"
        }
      ]
    },
    {
      "cell_type": "code",
      "metadata": {
        "id": "q7B1frTar5qT",
        "outputId": "112abc35-a8d5-4fb3-d09e-4da4df85337f",
        "colab": {
          "base_uri": "https://localhost:8080/",
          "height": 269
        }
      },
      "source": [
        "results = pd.DataFrame({\n",
        "    'Model': ['Support Vector Machines', 'Logistic Regression', \n",
        "              'Random Forest', 'Decision Tree', 'kNearest Neighbors','Gaussian Naive Bayes'],\n",
        "    'Score': [acc_linear_svc, acc_logreg, \n",
        "              acc_random_forest, acc_decision_tree,acc_knn, acc_gaussian]})\n",
        "result_df = results.sort_values(by='Score', ascending=False)\n",
        "result_df = result_df.set_index('Model')\n",
        "result_df"
      ],
      "execution_count": 102,
      "outputs": [
        {
          "output_type": "execute_result",
          "data": {
            "text/html": [
              "<div>\n",
              "<style scoped>\n",
              "    .dataframe tbody tr th:only-of-type {\n",
              "        vertical-align: middle;\n",
              "    }\n",
              "\n",
              "    .dataframe tbody tr th {\n",
              "        vertical-align: top;\n",
              "    }\n",
              "\n",
              "    .dataframe thead th {\n",
              "        text-align: right;\n",
              "    }\n",
              "</style>\n",
              "<table border=\"1\" class=\"dataframe\">\n",
              "  <thead>\n",
              "    <tr style=\"text-align: right;\">\n",
              "      <th></th>\n",
              "      <th>Score</th>\n",
              "    </tr>\n",
              "    <tr>\n",
              "      <th>Model</th>\n",
              "      <th></th>\n",
              "    </tr>\n",
              "  </thead>\n",
              "  <tbody>\n",
              "    <tr>\n",
              "      <th>kNearest Neighbors</th>\n",
              "      <td>91.803279</td>\n",
              "    </tr>\n",
              "    <tr>\n",
              "      <th>Logistic Regression</th>\n",
              "      <td>90.983607</td>\n",
              "    </tr>\n",
              "    <tr>\n",
              "      <th>Gaussian Naive Bayes</th>\n",
              "      <td>90.983607</td>\n",
              "    </tr>\n",
              "    <tr>\n",
              "      <th>Support Vector Machines</th>\n",
              "      <td>90.163934</td>\n",
              "    </tr>\n",
              "    <tr>\n",
              "      <th>Random Forest</th>\n",
              "      <td>90.163934</td>\n",
              "    </tr>\n",
              "    <tr>\n",
              "      <th>Decision Tree</th>\n",
              "      <td>83.606557</td>\n",
              "    </tr>\n",
              "  </tbody>\n",
              "</table>\n",
              "</div>"
            ],
            "text/plain": [
              "                             Score\n",
              "Model                             \n",
              "kNearest Neighbors       91.803279\n",
              "Logistic Regression      90.983607\n",
              "Gaussian Naive Bayes     90.983607\n",
              "Support Vector Machines  90.163934\n",
              "Random Forest            90.163934\n",
              "Decision Tree            83.606557"
            ]
          },
          "metadata": {
            "tags": []
          },
          "execution_count": 102
        }
      ]
    },
    {
      "cell_type": "code",
      "metadata": {
        "id": "0KIOrzdvr5qV",
        "outputId": "f53075a0-1a9b-4890-b3f3-0ecf1c6f84aa",
        "colab": {
          "base_uri": "https://localhost:8080/",
          "height": 279
        }
      },
      "source": [
        "from sklearn.metrics import plot_roc_curve\n",
        "import matplotlib.pyplot as plt\n",
        "ax = plt.gca()\n",
        "\n",
        "rfc_disp = plot_roc_curve(random_forest, X_test, y_test, ax=ax, alpha=1)\n",
        "knn_disp= plot_roc_curve(knn,X_test,y_test,ax=ax,alpha=1)\n",
        "dt_disp= plot_roc_curve(decision_tree, X_test,y_test, ax=ax,alpha=1)\n",
        "svc_disp = plot_roc_curve(linear_svc,X_test,y_test,ax=ax,alpha=1)\n",
        "gnb_disp=plot_roc_curve(gaussian, X_test, y_test, ax=ax, alpha = 1)\n",
        "logreg_disp = plot_roc_curve(logreg, X_test, y_test, ax=ax, alpha=1)\n",
        "plt.show()"
      ],
      "execution_count": 103,
      "outputs": [
        {
          "output_type": "display_data",
          "data": {
            "image/png": "[encoded data removed]",
            "text/plain": [
              "<Figure size 432x288 with 1 Axes>"
            ]
          },
          "metadata": {
            "tags": [],
            "needs_background": "light"
          }
        }
      ]
    },
    {
      "cell_type": "markdown",
      "metadata": {
        "id": "GdGZgzQjr5qW"
      },
      "source": [
        "# Training with 11chi squared features\n"
      ]
    },
    {
      "cell_type": "code",
      "metadata": {
        "id": "BPcVxpzxr5qX"
      },
      "source": [
        "from sklearn.model_selection import train_test_split\n",
        "\n",
        "train, test = train_test_split(df, test_size=0.33)"
      ],
      "execution_count": 104,
      "outputs": []
    },
    {
      "cell_type": "code",
      "metadata": {
        "id": "2Vxoput9r5qZ"
      },
      "source": [
        "X = chisquared1\n",
        "y = df['goal']\n",
        "from sklearn.model_selection import train_test_split\n",
        "X_train, X_test, y_train, y_test = train_test_split(X, y, random_state=0)\n",
        "from sklearn.preprocessing import MinMaxScaler\n",
        "scaler = MinMaxScaler()\n",
        "X_train = scaler.fit_transform(X_train)\n",
        "X_test = scaler.transform(X_test)"
      ],
      "execution_count": 105,
      "outputs": []
    },
    {
      "cell_type": "code",
      "metadata": {
        "id": "YKoveA44r5qb"
      },
      "source": [
        "from sklearn.metrics import accuracy_score"
      ],
      "execution_count": 106,
      "outputs": []
    },
    {
      "cell_type": "code",
      "metadata": {
        "id": "Ssonn8pTr5qo",
        "outputId": "4b8aa388-2398-4327-a4f0-5d72fedcef82",
        "colab": {
          "base_uri": "https://localhost:8080/",
          "height": 35
        }
      },
      "source": [
        "from sklearn.linear_model import LogisticRegression\n",
        "logreg=LogisticRegression()\n",
        "logreg.fit(X_train,y_train)\n",
        "y_pred=logreg.predict(X_test)\n",
        "acc_logreg= accuracy_score(y_pred,y_test)*100\n",
        "acc_logreg"
      ],
      "execution_count": 107,
      "outputs": [
        {
          "output_type": "execute_result",
          "data": {
            "text/plain": [
              "91.80327868852459"
            ]
          },
          "metadata": {
            "tags": []
          },
          "execution_count": 107
        }
      ]
    },
    {
      "cell_type": "code",
      "metadata": {
        "id": "nJvTUgRyr5qt",
        "outputId": "809e71e8-998d-45d2-dd17-64342011dec0",
        "colab": {
          "base_uri": "https://localhost:8080/",
          "height": 182
        }
      },
      "source": [
        "from sklearn.metrics import classification_report\n",
        "target_names = ['Healthy ', 'Addicted']\n",
        "print(classification_report(y_test, y_pred, target_names=target_names))"
      ],
      "execution_count": 108,
      "outputs": [
        {
          "output_type": "stream",
          "text": [
            "              precision    recall  f1-score   support\n",
            "\n",
            "    Healthy        0.95      0.93      0.94        80\n",
            "    Addicted       0.86      0.90      0.88        42\n",
            "\n",
            "    accuracy                           0.92       122\n",
            "   macro avg       0.91      0.91      0.91       122\n",
            "weighted avg       0.92      0.92      0.92       122\n",
            "\n"
          ],
          "name": "stdout"
        }
      ]
    },
    {
      "cell_type": "code",
      "metadata": {
        "id": "8DKG1uLXr5qy",
        "outputId": "e14753b2-9983-44a1-8881-fa12ff564f10",
        "colab": {
          "base_uri": "https://localhost:8080/",
          "height": 35
        }
      },
      "source": [
        "from sklearn.svm import LinearSVC\n",
        "linear_svc = LinearSVC(dual=False)\n",
        "linear_svc.fit(X_train, y_train)\n",
        "\n",
        "y_pred = linear_svc.predict(X_test)\n",
        "\n",
        "acc_linear_svc = accuracy_score(y_pred, y_test) * 100\n",
        "acc_linear_svc"
      ],
      "execution_count": 109,
      "outputs": [
        {
          "output_type": "execute_result",
          "data": {
            "text/plain": [
              "90.98360655737704"
            ]
          },
          "metadata": {
            "tags": []
          },
          "execution_count": 109
        }
      ]
    },
    {
      "cell_type": "code",
      "metadata": {
        "id": "SLllYL8Er5q2",
        "outputId": "7fa810fb-e564-4299-c0d1-e19d35abdeeb",
        "colab": {
          "base_uri": "https://localhost:8080/",
          "height": 182
        }
      },
      "source": [
        "from sklearn.metrics import classification_report\n",
        "target_names = ['Healthy ', 'Addicted']\n",
        "print(classification_report(y_test, y_pred, target_names=target_names))"
      ],
      "execution_count": 110,
      "outputs": [
        {
          "output_type": "stream",
          "text": [
            "              precision    recall  f1-score   support\n",
            "\n",
            "    Healthy        0.95      0.91      0.93        80\n",
            "    Addicted       0.84      0.90      0.87        42\n",
            "\n",
            "    accuracy                           0.91       122\n",
            "   macro avg       0.90      0.91      0.90       122\n",
            "weighted avg       0.91      0.91      0.91       122\n",
            "\n"
          ],
          "name": "stdout"
        }
      ]
    },
    {
      "cell_type": "code",
      "metadata": {
        "id": "nsPRqz9Xr5q4",
        "outputId": "0d4ebef3-71f0-433f-a515-07980f3c31d4",
        "colab": {
          "base_uri": "https://localhost:8080/",
          "height": 35
        }
      },
      "source": [
        "from sklearn.tree import DecisionTreeClassifier\n",
        "decision_tree = DecisionTreeClassifier()\n",
        "decision_tree.fit(X_train, y_train)  \n",
        "y_pred = decision_tree.predict(X_test)  \n",
        "acc_decision_tree = accuracy_score(y_pred, y_test) * 100\n",
        "acc_decision_tree"
      ],
      "execution_count": 111,
      "outputs": [
        {
          "output_type": "execute_result",
          "data": {
            "text/plain": [
              "83.60655737704919"
            ]
          },
          "metadata": {
            "tags": []
          },
          "execution_count": 111
        }
      ]
    },
    {
      "cell_type": "code",
      "metadata": {
        "id": "QQtZT7KHr5q6",
        "outputId": "fadbeb89-d56e-4a52-b6f2-7cdf086b5d0f",
        "colab": {
          "base_uri": "https://localhost:8080/",
          "height": 182
        }
      },
      "source": [
        "from sklearn.metrics import classification_report\n",
        "target_names = ['Healthy ', 'Addicted']\n",
        "print(classification_report(y_test, y_pred, target_names=target_names))"
      ],
      "execution_count": 112,
      "outputs": [
        {
          "output_type": "stream",
          "text": [
            "              precision    recall  f1-score   support\n",
            "\n",
            "    Healthy        0.88      0.86      0.87        80\n",
            "    Addicted       0.75      0.79      0.77        42\n",
            "\n",
            "    accuracy                           0.84       122\n",
            "   macro avg       0.82      0.82      0.82       122\n",
            "weighted avg       0.84      0.84      0.84       122\n",
            "\n"
          ],
          "name": "stdout"
        }
      ]
    },
    {
      "cell_type": "code",
      "metadata": {
        "id": "lR4XURadr5q8",
        "outputId": "7cbd9f9b-1b09-4a99-8e04-fae80a63a136",
        "colab": {
          "base_uri": "https://localhost:8080/",
          "height": 35
        }
      },
      "source": [
        "from sklearn.naive_bayes import GaussianNB\n",
        "gaussian = GaussianNB()\n",
        "gaussian.fit(X_train, y_train) \n",
        "y_pred = gaussian.predict(X_test)\n",
        "acc_gaussian = accuracy_score(y_pred, y_test) * 100\n",
        "acc_gaussian"
      ],
      "execution_count": 113,
      "outputs": [
        {
          "output_type": "execute_result",
          "data": {
            "text/plain": [
              "90.98360655737704"
            ]
          },
          "metadata": {
            "tags": []
          },
          "execution_count": 113
        }
      ]
    },
    {
      "cell_type": "code",
      "metadata": {
        "id": "xmX3HqClr5q-",
        "outputId": "fefb9b9e-d0f1-498f-dab6-a72f62dcbdfd",
        "colab": {
          "base_uri": "https://localhost:8080/",
          "height": 182
        }
      },
      "source": [
        "from sklearn.metrics import classification_report\n",
        "target_names = ['Healthy ', 'Addicted']\n",
        "print(classification_report(y_test, y_pred, target_names=target_names))"
      ],
      "execution_count": 114,
      "outputs": [
        {
          "output_type": "stream",
          "text": [
            "              precision    recall  f1-score   support\n",
            "\n",
            "    Healthy        0.99      0.88      0.93        80\n",
            "    Addicted       0.80      0.98      0.88        42\n",
            "\n",
            "    accuracy                           0.91       122\n",
            "   macro avg       0.89      0.93      0.90       122\n",
            "weighted avg       0.92      0.91      0.91       122\n",
            "\n"
          ],
          "name": "stdout"
        }
      ]
    },
    {
      "cell_type": "code",
      "metadata": {
        "id": "DUDR3wF7r5rA",
        "outputId": "18a69bd7-3b22-4699-f235-33d991750773",
        "colab": {
          "base_uri": "https://localhost:8080/",
          "height": 35
        }
      },
      "source": [
        "from sklearn.neighbors import KNeighborsClassifier\n",
        "knn = KNeighborsClassifier(n_neighbors = 2) \n",
        "knn.fit(X_train, y_train)  \n",
        "y_pred = knn.predict(X_test)  \n",
        "acc_knn = accuracy_score(y_pred, y_test) * 100\n",
        "acc_knn"
      ],
      "execution_count": 115,
      "outputs": [
        {
          "output_type": "execute_result",
          "data": {
            "text/plain": [
              "86.0655737704918"
            ]
          },
          "metadata": {
            "tags": []
          },
          "execution_count": 115
        }
      ]
    },
    {
      "cell_type": "code",
      "metadata": {
        "id": "Yx5ZonN3r5rC",
        "outputId": "226fbe70-1539-4118-df25-c4c9eb9b5eb4",
        "colab": {
          "base_uri": "https://localhost:8080/",
          "height": 182
        }
      },
      "source": [
        "from sklearn.metrics import classification_report\n",
        "target_names = ['Healthy ', 'Addicted']\n",
        "print(classification_report(y_test, y_pred, target_names=target_names))"
      ],
      "execution_count": 116,
      "outputs": [
        {
          "output_type": "stream",
          "text": [
            "              precision    recall  f1-score   support\n",
            "\n",
            "    Healthy        0.86      0.94      0.90        80\n",
            "    Addicted       0.86      0.71      0.78        42\n",
            "\n",
            "    accuracy                           0.86       122\n",
            "   macro avg       0.86      0.83      0.84       122\n",
            "weighted avg       0.86      0.86      0.86       122\n",
            "\n"
          ],
          "name": "stdout"
        }
      ]
    },
    {
      "cell_type": "code",
      "metadata": {
        "id": "Ia6Yfwndr5rE",
        "outputId": "49c03494-358e-40da-fe0f-bbc7b9ca26d8",
        "colab": {
          "base_uri": "https://localhost:8080/",
          "height": 35
        }
      },
      "source": [
        "from sklearn.ensemble import RandomForestClassifier\n",
        "random_forest= RandomForestClassifier()\n",
        "random_forest.fit(X_train,y_train)\n",
        "y_pred = random_forest.predict(X_test)\n",
        "acc_random_forest = accuracy_score(y_pred,y_test)*100\n",
        "acc_random_forest"
      ],
      "execution_count": 117,
      "outputs": [
        {
          "output_type": "execute_result",
          "data": {
            "text/plain": [
              "91.80327868852459"
            ]
          },
          "metadata": {
            "tags": []
          },
          "execution_count": 117
        }
      ]
    },
    {
      "cell_type": "code",
      "metadata": {
        "id": "hqQbtY09r5rG",
        "outputId": "61ff7246-8434-4178-af6e-dc01a73de754",
        "colab": {
          "base_uri": "https://localhost:8080/",
          "height": 182
        }
      },
      "source": [
        "from sklearn.metrics import classification_report\n",
        "target_names = ['Healthy ', 'Addicted']\n",
        "print(classification_report(y_test, y_pred, target_names=target_names))"
      ],
      "execution_count": 118,
      "outputs": [
        {
          "output_type": "stream",
          "text": [
            "              precision    recall  f1-score   support\n",
            "\n",
            "    Healthy        0.96      0.91      0.94        80\n",
            "    Addicted       0.85      0.93      0.89        42\n",
            "\n",
            "    accuracy                           0.92       122\n",
            "   macro avg       0.90      0.92      0.91       122\n",
            "weighted avg       0.92      0.92      0.92       122\n",
            "\n"
          ],
          "name": "stdout"
        }
      ]
    },
    {
      "cell_type": "code",
      "metadata": {
        "id": "e9_CCunpr5rI",
        "outputId": "6e59faf8-bcdd-4379-ba4c-071b704d457b",
        "colab": {
          "base_uri": "https://localhost:8080/",
          "height": 269
        }
      },
      "source": [
        "results = pd.DataFrame({\n",
        "    'Model': ['Support Vector Machines', 'Logistic Regression', \n",
        "              'Random Forest', 'Decision Tree', 'kNearest Neighbors','Gaussian Naive Bayes'],\n",
        "    'Score': [acc_linear_svc, acc_logreg, \n",
        "              acc_random_forest, acc_decision_tree,acc_knn, acc_gaussian]})\n",
        "result_df = results.sort_values(by='Score', ascending=False)\n",
        "result_df = result_df.set_index('Model')\n",
        "result_df"
      ],
      "execution_count": 119,
      "outputs": [
        {
          "output_type": "execute_result",
          "data": {
            "text/html": [
              "<div>\n",
              "<style scoped>\n",
              "    .dataframe tbody tr th:only-of-type {\n",
              "        vertical-align: middle;\n",
              "    }\n",
              "\n",
              "    .dataframe tbody tr th {\n",
              "        vertical-align: top;\n",
              "    }\n",
              "\n",
              "    .dataframe thead th {\n",
              "        text-align: right;\n",
              "    }\n",
              "</style>\n",
              "<table border=\"1\" class=\"dataframe\">\n",
              "  <thead>\n",
              "    <tr style=\"text-align: right;\">\n",
              "      <th></th>\n",
              "      <th>Score</th>\n",
              "    </tr>\n",
              "    <tr>\n",
              "      <th>Model</th>\n",
              "      <th></th>\n",
              "    </tr>\n",
              "  </thead>\n",
              "  <tbody>\n",
              "    <tr>\n",
              "      <th>Logistic Regression</th>\n",
              "      <td>91.803279</td>\n",
              "    </tr>\n",
              "    <tr>\n",
              "      <th>Random Forest</th>\n",
              "      <td>91.803279</td>\n",
              "    </tr>\n",
              "    <tr>\n",
              "      <th>Support Vector Machines</th>\n",
              "      <td>90.983607</td>\n",
              "    </tr>\n",
              "    <tr>\n",
              "      <th>Gaussian Naive Bayes</th>\n",
              "      <td>90.983607</td>\n",
              "    </tr>\n",
              "    <tr>\n",
              "      <th>kNearest Neighbors</th>\n",
              "      <td>86.065574</td>\n",
              "    </tr>\n",
              "    <tr>\n",
              "      <th>Decision Tree</th>\n",
              "      <td>83.606557</td>\n",
              "    </tr>\n",
              "  </tbody>\n",
              "</table>\n",
              "</div>"
            ],
            "text/plain": [
              "                             Score\n",
              "Model                             \n",
              "Logistic Regression      91.803279\n",
              "Random Forest            91.803279\n",
              "Support Vector Machines  90.983607\n",
              "Gaussian Naive Bayes     90.983607\n",
              "kNearest Neighbors       86.065574\n",
              "Decision Tree            83.606557"
            ]
          },
          "metadata": {
            "tags": []
          },
          "execution_count": 119
        }
      ]
    },
    {
      "cell_type": "code",
      "metadata": {
        "id": "iok35fYnr5rJ",
        "outputId": "8b8718cc-1d5b-46f0-ea6d-9fa1059a3e3b",
        "colab": {
          "base_uri": "https://localhost:8080/",
          "height": 279
        }
      },
      "source": [
        "from sklearn.metrics import plot_roc_curve\n",
        "import matplotlib.pyplot as plt\n",
        "ax = plt.gca()\n",
        "\n",
        "rfc_disp = plot_roc_curve(random_forest, X_test, y_test, ax=ax, alpha=1)\n",
        "knn_disp= plot_roc_curve(knn,X_test,y_test,ax=ax,alpha=1)\n",
        "dt_disp= plot_roc_curve(decision_tree, X_test,y_test, ax=ax,alpha=1)\n",
        "svc_disp = plot_roc_curve(linear_svc,X_test,y_test,ax=ax,alpha=1)\n",
        "gnb_disp=plot_roc_curve(gaussian, X_test, y_test, ax=ax, alpha = 1)\n",
        "logreg_disp = plot_roc_curve(logreg, X_test, y_test, ax=ax, alpha=1)\n",
        "plt.show()"
      ],
      "execution_count": 120,
      "outputs": [
        {
          "output_type": "display_data",
          "data": {
            "image/png": "[encoded data removed]",
            "text/plain": [
              "<Figure size 432x288 with 1 Axes>"
            ]
          },
          "metadata": {
            "tags": [],
            "needs_background": "light"
          }
        }
      ]
    },
    {
      "cell_type": "markdown",
      "metadata": {
        "id": "yGUu9_N_r5rL"
      },
      "source": [
        "# training with 12 chi squared features\n"
      ]
    },
    {
      "cell_type": "code",
      "metadata": {
        "id": "6bYKf_jmr5rM"
      },
      "source": [
        "from sklearn.model_selection import train_test_split\n",
        "\n",
        "train, test = train_test_split(df, test_size=0.33)"
      ],
      "execution_count": 121,
      "outputs": []
    },
    {
      "cell_type": "code",
      "metadata": {
        "id": "UJVZx-Rkr5rO"
      },
      "source": [
        "X = chisquared2\n",
        "y = df['goal']\n",
        "from sklearn.model_selection import train_test_split\n",
        "X_train, X_test, y_train, y_test = train_test_split(X, y, random_state=0)\n",
        "from sklearn.preprocessing import MinMaxScaler\n",
        "scaler = MinMaxScaler()\n",
        "X_train = scaler.fit_transform(X_train)\n",
        "X_test = scaler.transform(X_test)"
      ],
      "execution_count": 122,
      "outputs": []
    },
    {
      "cell_type": "code",
      "metadata": {
        "id": "dcjT7ABrr5rP"
      },
      "source": [
        "from sklearn.metrics import accuracy_score"
      ],
      "execution_count": 123,
      "outputs": []
    },
    {
      "cell_type": "code",
      "metadata": {
        "id": "3b0xciaGr5rR",
        "outputId": "81599048-8bd2-40e6-e657-ae7e035aa913",
        "colab": {
          "base_uri": "https://localhost:8080/",
          "height": 35
        }
      },
      "source": [
        "from sklearn.linear_model import LogisticRegression\n",
        "logreg=LogisticRegression()\n",
        "logreg.fit(X_train,y_train)\n",
        "y_pred=logreg.predict(X_test)\n",
        "acc_logreg= accuracy_score(y_pred,y_test)*100\n",
        "acc_logreg"
      ],
      "execution_count": 124,
      "outputs": [
        {
          "output_type": "execute_result",
          "data": {
            "text/plain": [
              "93.44262295081968"
            ]
          },
          "metadata": {
            "tags": []
          },
          "execution_count": 124
        }
      ]
    },
    {
      "cell_type": "code",
      "metadata": {
        "id": "r6PyqSmMr5rT",
        "outputId": "d154ba61-1838-4b6a-d358-5f394fba463c",
        "colab": {
          "base_uri": "https://localhost:8080/",
          "height": 182
        }
      },
      "source": [
        "from sklearn.metrics import classification_report\n",
        "target_names = ['Healthy ', 'Addicted']\n",
        "print(classification_report(y_test, y_pred, target_names=target_names))"
      ],
      "execution_count": 125,
      "outputs": [
        {
          "output_type": "stream",
          "text": [
            "              precision    recall  f1-score   support\n",
            "\n",
            "    Healthy        0.95      0.95      0.95        80\n",
            "    Addicted       0.90      0.90      0.90        42\n",
            "\n",
            "    accuracy                           0.93       122\n",
            "   macro avg       0.93      0.93      0.93       122\n",
            "weighted avg       0.93      0.93      0.93       122\n",
            "\n"
          ],
          "name": "stdout"
        }
      ]
    },
    {
      "cell_type": "code",
      "metadata": {
        "id": "J8YcaNygr5rV",
        "outputId": "cda33cb7-1355-486d-be29-d400d31e9ff8",
        "colab": {
          "base_uri": "https://localhost:8080/",
          "height": 35
        }
      },
      "source": [
        "from sklearn.svm import LinearSVC\n",
        "linear_svc = LinearSVC()\n",
        "linear_svc.fit(X_train, y_train)\n",
        "\n",
        "y_pred = linear_svc.predict(X_test)\n",
        "\n",
        "acc_linear_svc = accuracy_score(y_pred, y_test) * 100\n",
        "acc_linear_svc"
      ],
      "execution_count": 126,
      "outputs": [
        {
          "output_type": "execute_result",
          "data": {
            "text/plain": [
              "93.44262295081968"
            ]
          },
          "metadata": {
            "tags": []
          },
          "execution_count": 126
        }
      ]
    },
    {
      "cell_type": "code",
      "metadata": {
        "id": "kPnRl1DDr5rX",
        "outputId": "2dcee56f-0737-4f02-a80c-b4fa9cb88ddf",
        "colab": {
          "base_uri": "https://localhost:8080/",
          "height": 182
        }
      },
      "source": [
        "from sklearn.metrics import classification_report\n",
        "target_names = ['Healthy ', 'Addicted']\n",
        "print(classification_report(y_test, y_pred, target_names=target_names))"
      ],
      "execution_count": 127,
      "outputs": [
        {
          "output_type": "stream",
          "text": [
            "              precision    recall  f1-score   support\n",
            "\n",
            "    Healthy        0.95      0.95      0.95        80\n",
            "    Addicted       0.90      0.90      0.90        42\n",
            "\n",
            "    accuracy                           0.93       122\n",
            "   macro avg       0.93      0.93      0.93       122\n",
            "weighted avg       0.93      0.93      0.93       122\n",
            "\n"
          ],
          "name": "stdout"
        }
      ]
    },
    {
      "cell_type": "code",
      "metadata": {
        "id": "xrGQ7fiWr5rZ",
        "outputId": "6a296344-a350-4109-c3a4-aba03f2fcce8",
        "colab": {
          "base_uri": "https://localhost:8080/",
          "height": 35
        }
      },
      "source": [
        "from sklearn.tree import DecisionTreeClassifier\n",
        "decision_tree = DecisionTreeClassifier()\n",
        "decision_tree.fit(X_train, y_train)  \n",
        "y_pred = decision_tree.predict(X_test)  \n",
        "acc_decision_tree = accuracy_score(y_pred, y_test) * 100\n",
        "acc_decision_tree"
      ],
      "execution_count": 128,
      "outputs": [
        {
          "output_type": "execute_result",
          "data": {
            "text/plain": [
              "86.0655737704918"
            ]
          },
          "metadata": {
            "tags": []
          },
          "execution_count": 128
        }
      ]
    },
    {
      "cell_type": "code",
      "metadata": {
        "id": "cDF9m25yr5ra",
        "outputId": "60bafbdd-d87a-4d36-bea3-efd7883de303",
        "colab": {
          "base_uri": "https://localhost:8080/",
          "height": 182
        }
      },
      "source": [
        "from sklearn.metrics import classification_report\n",
        "target_names = ['Healthy ', 'Addicted']\n",
        "print(classification_report(y_test, y_pred, target_names=target_names))"
      ],
      "execution_count": 129,
      "outputs": [
        {
          "output_type": "stream",
          "text": [
            "              precision    recall  f1-score   support\n",
            "\n",
            "    Healthy        0.90      0.89      0.89        80\n",
            "    Addicted       0.79      0.81      0.80        42\n",
            "\n",
            "    accuracy                           0.86       122\n",
            "   macro avg       0.84      0.85      0.85       122\n",
            "weighted avg       0.86      0.86      0.86       122\n",
            "\n"
          ],
          "name": "stdout"
        }
      ]
    },
    {
      "cell_type": "code",
      "metadata": {
        "id": "-5wpC9R4r5rc",
        "outputId": "e4e55473-32e3-40af-9504-525874b1c377",
        "colab": {
          "base_uri": "https://localhost:8080/",
          "height": 35
        }
      },
      "source": [
        "from sklearn.naive_bayes import GaussianNB\n",
        "gaussian = GaussianNB()\n",
        "gaussian.fit(X_train, y_train) \n",
        "y_pred = gaussian.predict(X_test)\n",
        "acc_gaussian = accuracy_score(y_pred, y_test) * 100\n",
        "acc_gaussian"
      ],
      "execution_count": 130,
      "outputs": [
        {
          "output_type": "execute_result",
          "data": {
            "text/plain": [
              "90.98360655737704"
            ]
          },
          "metadata": {
            "tags": []
          },
          "execution_count": 130
        }
      ]
    },
    {
      "cell_type": "code",
      "metadata": {
        "id": "uHZRczU0r5re",
        "outputId": "a9d43f14-afb5-4416-bad7-58de3dc22610",
        "colab": {
          "base_uri": "https://localhost:8080/",
          "height": 182
        }
      },
      "source": [
        "from sklearn.metrics import classification_report\n",
        "target_names = ['Healthy ', 'Addicted']\n",
        "print(classification_report(y_test, y_pred, target_names=target_names))"
      ],
      "execution_count": 131,
      "outputs": [
        {
          "output_type": "stream",
          "text": [
            "              precision    recall  f1-score   support\n",
            "\n",
            "    Healthy        0.99      0.88      0.93        80\n",
            "    Addicted       0.80      0.98      0.88        42\n",
            "\n",
            "    accuracy                           0.91       122\n",
            "   macro avg       0.89      0.93      0.90       122\n",
            "weighted avg       0.92      0.91      0.91       122\n",
            "\n"
          ],
          "name": "stdout"
        }
      ]
    },
    {
      "cell_type": "code",
      "metadata": {
        "id": "7ZLjjlcwr5rg",
        "outputId": "c43d7c68-7e47-4d18-ce4e-1d0bb794c626",
        "colab": {
          "base_uri": "https://localhost:8080/",
          "height": 35
        }
      },
      "source": [
        "from sklearn.neighbors import KNeighborsClassifier\n",
        "knn = KNeighborsClassifier(n_neighbors = 2) \n",
        "knn.fit(X_train, y_train)  \n",
        "y_pred = knn.predict(X_test)  \n",
        "acc_knn = accuracy_score(y_pred, y_test) * 100\n",
        "acc_knn"
      ],
      "execution_count": 132,
      "outputs": [
        {
          "output_type": "execute_result",
          "data": {
            "text/plain": [
              "90.1639344262295"
            ]
          },
          "metadata": {
            "tags": []
          },
          "execution_count": 132
        }
      ]
    },
    {
      "cell_type": "code",
      "metadata": {
        "id": "VTSLOdhpr5ri",
        "outputId": "9a6bb24f-e152-465c-a055-a30d2e953344",
        "colab": {
          "base_uri": "https://localhost:8080/",
          "height": 182
        }
      },
      "source": [
        "from sklearn.metrics import classification_report\n",
        "target_names = ['Healthy ', 'Addicted']\n",
        "print(classification_report(y_test, y_pred, target_names=target_names))"
      ],
      "execution_count": 133,
      "outputs": [
        {
          "output_type": "stream",
          "text": [
            "              precision    recall  f1-score   support\n",
            "\n",
            "    Healthy        0.90      0.95      0.93        80\n",
            "    Addicted       0.89      0.81      0.85        42\n",
            "\n",
            "    accuracy                           0.90       122\n",
            "   macro avg       0.90      0.88      0.89       122\n",
            "weighted avg       0.90      0.90      0.90       122\n",
            "\n"
          ],
          "name": "stdout"
        }
      ]
    },
    {
      "cell_type": "code",
      "metadata": {
        "id": "bb3aKTUlr5rk",
        "outputId": "750c4993-a5cd-449c-907e-a5195d60337c",
        "colab": {
          "base_uri": "https://localhost:8080/",
          "height": 35
        }
      },
      "source": [
        "from sklearn.ensemble import RandomForestClassifier\n",
        "random_forest= RandomForestClassifier()\n",
        "random_forest.fit(X_train,y_train)\n",
        "y_pred = random_forest.predict(X_test)\n",
        "acc_random_forest = accuracy_score(y_pred,y_test)*100\n",
        "acc_random_forest"
      ],
      "execution_count": 134,
      "outputs": [
        {
          "output_type": "execute_result",
          "data": {
            "text/plain": [
              "92.62295081967213"
            ]
          },
          "metadata": {
            "tags": []
          },
          "execution_count": 134
        }
      ]
    },
    {
      "cell_type": "code",
      "metadata": {
        "id": "nHyE_imQr5rm",
        "outputId": "b6361acc-bb8e-4f75-e78b-43560b9e3607",
        "colab": {
          "base_uri": "https://localhost:8080/",
          "height": 182
        }
      },
      "source": [
        "from sklearn.metrics import classification_report\n",
        "target_names = ['Healthy ', 'Addicted']\n",
        "print(classification_report(y_test, y_pred, target_names=target_names))"
      ],
      "execution_count": 135,
      "outputs": [
        {
          "output_type": "stream",
          "text": [
            "              precision    recall  f1-score   support\n",
            "\n",
            "    Healthy        0.97      0.91      0.94        80\n",
            "    Addicted       0.85      0.95      0.90        42\n",
            "\n",
            "    accuracy                           0.93       122\n",
            "   macro avg       0.91      0.93      0.92       122\n",
            "weighted avg       0.93      0.93      0.93       122\n",
            "\n"
          ],
          "name": "stdout"
        }
      ]
    },
    {
      "cell_type": "code",
      "metadata": {
        "id": "Aney2L-ur5rn",
        "outputId": "9d843383-ce17-4ab8-ee90-e86237fb2ab6",
        "colab": {
          "base_uri": "https://localhost:8080/",
          "height": 269
        }
      },
      "source": [
        "results = pd.DataFrame({\n",
        "    'Model': ['Support Vector Machines', 'Logistic Regression', \n",
        "              'Random Forest', 'Decision Tree', 'kNearest Neighbors','Gaussian Naive Bayes'],\n",
        "    'Score': [acc_linear_svc, acc_logreg, \n",
        "              acc_random_forest, acc_decision_tree,acc_knn, acc_gaussian]})\n",
        "result_df = results.sort_values(by='Score', ascending=False)\n",
        "result_df = result_df.set_index('Model')\n",
        "result_df"
      ],
      "execution_count": 136,
      "outputs": [
        {
          "output_type": "execute_result",
          "data": {
            "text/html": [
              "<div>\n",
              "<style scoped>\n",
              "    .dataframe tbody tr th:only-of-type {\n",
              "        vertical-align: middle;\n",
              "    }\n",
              "\n",
              "    .dataframe tbody tr th {\n",
              "        vertical-align: top;\n",
              "    }\n",
              "\n",
              "    .dataframe thead th {\n",
              "        text-align: right;\n",
              "    }\n",
              "</style>\n",
              "<table border=\"1\" class=\"dataframe\">\n",
              "  <thead>\n",
              "    <tr style=\"text-align: right;\">\n",
              "      <th></th>\n",
              "      <th>Score</th>\n",
              "    </tr>\n",
              "    <tr>\n",
              "      <th>Model</th>\n",
              "      <th></th>\n",
              "    </tr>\n",
              "  </thead>\n",
              "  <tbody>\n",
              "    <tr>\n",
              "      <th>Support Vector Machines</th>\n",
              "      <td>93.442623</td>\n",
              "    </tr>\n",
              "    <tr>\n",
              "      <th>Logistic Regression</th>\n",
              "      <td>93.442623</td>\n",
              "    </tr>\n",
              "    <tr>\n",
              "      <th>Random Forest</th>\n",
              "      <td>92.622951</td>\n",
              "    </tr>\n",
              "    <tr>\n",
              "      <th>Gaussian Naive Bayes</th>\n",
              "      <td>90.983607</td>\n",
              "    </tr>\n",
              "    <tr>\n",
              "      <th>kNearest Neighbors</th>\n",
              "      <td>90.163934</td>\n",
              "    </tr>\n",
              "    <tr>\n",
              "      <th>Decision Tree</th>\n",
              "      <td>86.065574</td>\n",
              "    </tr>\n",
              "  </tbody>\n",
              "</table>\n",
              "</div>"
            ],
            "text/plain": [
              "                             Score\n",
              "Model                             \n",
              "Support Vector Machines  93.442623\n",
              "Logistic Regression      93.442623\n",
              "Random Forest            92.622951\n",
              "Gaussian Naive Bayes     90.983607\n",
              "kNearest Neighbors       90.163934\n",
              "Decision Tree            86.065574"
            ]
          },
          "metadata": {
            "tags": []
          },
          "execution_count": 136
        }
      ]
    },
    {
      "cell_type": "code",
      "metadata": {
        "id": "bLy-WnvDr5rq",
        "outputId": "2f5e0562-4c65-491b-9580-eb087f706f4b",
        "colab": {
          "base_uri": "https://localhost:8080/",
          "height": 279
        }
      },
      "source": [
        "from sklearn.metrics import plot_roc_curve\n",
        "import matplotlib.pyplot as plt\n",
        "ax = plt.gca()\n",
        "\n",
        "rfc_disp = plot_roc_curve(random_forest, X_test, y_test, ax=ax, alpha=1)\n",
        "knn_disp= plot_roc_curve(knn,X_test,y_test,ax=ax,alpha=1)\n",
        "dt_disp= plot_roc_curve(decision_tree, X_test,y_test, ax=ax,alpha=1)\n",
        "svc_disp = plot_roc_curve(linear_svc,X_test,y_test,ax=ax,alpha=1)\n",
        "gnb_disp=plot_roc_curve(gaussian, X_test, y_test, ax=ax, alpha = 1)\n",
        "logreg_disp = plot_roc_curve(logreg, X_test, y_test, ax=ax, alpha=1)\n",
        "plt.show()"
      ],
      "execution_count": 137,
      "outputs": [
        {
          "output_type": "display_data",
          "data": {
            "image/png": "[encoded data removed]",
            "text/plain": [
              "<Figure size 432x288 with 1 Axes>"
            ]
          },
          "metadata": {
            "tags": [],
            "needs_background": "light"
          }
        }
      ]
    },
    {
      "cell_type": "markdown",
      "metadata": {
        "id": "uIgZ92e1r5rr"
      },
      "source": [
        "## "
      ]
    },
    {
      "cell_type": "markdown",
      "metadata": {
        "id": "04EKUOL7r5rr"
      },
      "source": [
        "# with 13 chi square selected features"
      ]
    },
    {
      "cell_type": "code",
      "metadata": {
        "id": "N0DmJgwVr5rs"
      },
      "source": [
        "from sklearn.model_selection import train_test_split\n",
        "train, test = train_test_split(df, test_size=0.33)"
      ],
      "execution_count": 138,
      "outputs": []
    },
    {
      "cell_type": "code",
      "metadata": {
        "id": "z7KUb6Ybr5rt"
      },
      "source": [
        "X = chisquared3\n",
        "y = df['goal']\n",
        "from sklearn.model_selection import train_test_split\n",
        "X_train, X_test, y_train, y_test = train_test_split(X, y, random_state=0)\n",
        "from sklearn.preprocessing import MinMaxScaler\n",
        "scaler = MinMaxScaler()\n",
        "X_train = scaler.fit_transform(X_train)\n",
        "X_test = scaler.transform(X_test)"
      ],
      "execution_count": 139,
      "outputs": []
    },
    {
      "cell_type": "code",
      "metadata": {
        "id": "_kxxcDlvr5rx"
      },
      "source": [
        "from sklearn.metrics import accuracy_score"
      ],
      "execution_count": 140,
      "outputs": []
    },
    {
      "cell_type": "code",
      "metadata": {
        "id": "ELn5DhZwr5r2",
        "outputId": "824ee8db-5212-41c7-d55a-061bfc5498da",
        "colab": {
          "base_uri": "https://localhost:8080/",
          "height": 35
        }
      },
      "source": [
        "from sklearn.linear_model import LogisticRegression\n",
        "logreg=LogisticRegression()\n",
        "logreg.fit(X_train,y_train)\n",
        "y_pred=logreg.predict(X_test)\n",
        "acc_logreg= accuracy_score(y_pred,y_test)*100\n",
        "acc_logreg"
      ],
      "execution_count": 141,
      "outputs": [
        {
          "output_type": "execute_result",
          "data": {
            "text/plain": [
              "93.44262295081968"
            ]
          },
          "metadata": {
            "tags": []
          },
          "execution_count": 141
        }
      ]
    },
    {
      "cell_type": "code",
      "metadata": {
        "id": "Gt6FGecZr5r4",
        "outputId": "ae8d8c04-faf0-4a4d-bb35-d41c9c5c1e8e",
        "colab": {
          "base_uri": "https://localhost:8080/",
          "height": 182
        }
      },
      "source": [
        "from sklearn.metrics import classification_report\n",
        "target_names = ['Healthy ', 'Addicted']\n",
        "print(classification_report(y_test, y_pred, target_names=target_names))"
      ],
      "execution_count": 142,
      "outputs": [
        {
          "output_type": "stream",
          "text": [
            "              precision    recall  f1-score   support\n",
            "\n",
            "    Healthy        0.97      0.93      0.95        80\n",
            "    Addicted       0.87      0.95      0.91        42\n",
            "\n",
            "    accuracy                           0.93       122\n",
            "   macro avg       0.92      0.94      0.93       122\n",
            "weighted avg       0.94      0.93      0.94       122\n",
            "\n"
          ],
          "name": "stdout"
        }
      ]
    },
    {
      "cell_type": "code",
      "metadata": {
        "id": "m1gyOnfHr5r6",
        "outputId": "3436e32a-940a-4b29-e7a7-a525cb47b3d1",
        "colab": {
          "base_uri": "https://localhost:8080/",
          "height": 35
        }
      },
      "source": [
        "from sklearn.svm import LinearSVC\n",
        "linear_svc = LinearSVC()\n",
        "linear_svc.fit(X_train, y_train)\n",
        "\n",
        "y_pred = linear_svc.predict(X_test)\n",
        "\n",
        "acc_linear_svc = accuracy_score(y_pred, y_test) * 100\n",
        "acc_linear_svc"
      ],
      "execution_count": 143,
      "outputs": [
        {
          "output_type": "execute_result",
          "data": {
            "text/plain": [
              "93.44262295081968"
            ]
          },
          "metadata": {
            "tags": []
          },
          "execution_count": 143
        }
      ]
    },
    {
      "cell_type": "code",
      "metadata": {
        "id": "N-HC7xL7r5r7",
        "outputId": "3d1d6418-4ae1-4cbe-fa26-b8911404ac5f",
        "colab": {
          "base_uri": "https://localhost:8080/",
          "height": 182
        }
      },
      "source": [
        "from sklearn.metrics import classification_report\n",
        "target_names = ['Healthy ', 'Addicted']\n",
        "print(classification_report(y_test, y_pred, target_names=target_names))"
      ],
      "execution_count": 144,
      "outputs": [
        {
          "output_type": "stream",
          "text": [
            "              precision    recall  f1-score   support\n",
            "\n",
            "    Healthy        0.97      0.93      0.95        80\n",
            "    Addicted       0.87      0.95      0.91        42\n",
            "\n",
            "    accuracy                           0.93       122\n",
            "   macro avg       0.92      0.94      0.93       122\n",
            "weighted avg       0.94      0.93      0.94       122\n",
            "\n"
          ],
          "name": "stdout"
        }
      ]
    },
    {
      "cell_type": "code",
      "metadata": {
        "id": "fgLVZDrMr5r8",
        "outputId": "e61a5da9-5c32-4d52-f529-328d29c235c8",
        "colab": {
          "base_uri": "https://localhost:8080/",
          "height": 35
        }
      },
      "source": [
        "from sklearn.tree import DecisionTreeClassifier\n",
        "decision_tree = DecisionTreeClassifier()\n",
        "decision_tree.fit(X_train, y_train)  \n",
        "y_pred = decision_tree.predict(X_test)  \n",
        "acc_decision_tree = accuracy_score(y_pred, y_test) * 100\n",
        "acc_decision_tree"
      ],
      "execution_count": 145,
      "outputs": [
        {
          "output_type": "execute_result",
          "data": {
            "text/plain": [
              "85.24590163934425"
            ]
          },
          "metadata": {
            "tags": []
          },
          "execution_count": 145
        }
      ]
    },
    {
      "cell_type": "code",
      "metadata": {
        "id": "ICd7SWfdr5r_",
        "outputId": "1095bb64-0ca3-4c38-a940-23e82f055f4a",
        "colab": {
          "base_uri": "https://localhost:8080/",
          "height": 182
        }
      },
      "source": [
        "from sklearn.metrics import classification_report\n",
        "target_names = ['Healthy ', 'Addicted']\n",
        "print(classification_report(y_test, y_pred, target_names=target_names))"
      ],
      "execution_count": 146,
      "outputs": [
        {
          "output_type": "stream",
          "text": [
            "              precision    recall  f1-score   support\n",
            "\n",
            "    Healthy        0.89      0.89      0.89        80\n",
            "    Addicted       0.79      0.79      0.79        42\n",
            "\n",
            "    accuracy                           0.85       122\n",
            "   macro avg       0.84      0.84      0.84       122\n",
            "weighted avg       0.85      0.85      0.85       122\n",
            "\n"
          ],
          "name": "stdout"
        }
      ]
    },
    {
      "cell_type": "code",
      "metadata": {
        "id": "oG9EkCD4r5sA",
        "outputId": "82fa6047-a243-413f-a95d-d57f62803fd6",
        "colab": {
          "base_uri": "https://localhost:8080/",
          "height": 35
        }
      },
      "source": [
        "from sklearn.naive_bayes import GaussianNB\n",
        "gaussian = GaussianNB()\n",
        "gaussian.fit(X_train, y_train) \n",
        "y_pred = gaussian.predict(X_test)\n",
        "acc_gaussian = accuracy_score(y_pred, y_test) * 100\n",
        "acc_gaussian"
      ],
      "execution_count": 147,
      "outputs": [
        {
          "output_type": "execute_result",
          "data": {
            "text/plain": [
              "91.80327868852459"
            ]
          },
          "metadata": {
            "tags": []
          },
          "execution_count": 147
        }
      ]
    },
    {
      "cell_type": "code",
      "metadata": {
        "id": "ZXSFadHvr5sC",
        "outputId": "20c932ae-a1b4-40af-ffcd-5c42db8ba192",
        "colab": {
          "base_uri": "https://localhost:8080/",
          "height": 182
        }
      },
      "source": [
        "from sklearn.metrics import classification_report\n",
        "target_names = ['Healthy ', 'Addicted']\n",
        "print(classification_report(y_test, y_pred, target_names=target_names))"
      ],
      "execution_count": 148,
      "outputs": [
        {
          "output_type": "stream",
          "text": [
            "              precision    recall  f1-score   support\n",
            "\n",
            "    Healthy        0.99      0.89      0.93        80\n",
            "    Addicted       0.82      0.98      0.89        42\n",
            "\n",
            "    accuracy                           0.92       122\n",
            "   macro avg       0.90      0.93      0.91       122\n",
            "weighted avg       0.93      0.92      0.92       122\n",
            "\n"
          ],
          "name": "stdout"
        }
      ]
    },
    {
      "cell_type": "code",
      "metadata": {
        "id": "6P3jbgERr5sE",
        "outputId": "b39416a7-2d99-4e85-9ab5-887cee315f28",
        "colab": {
          "base_uri": "https://localhost:8080/",
          "height": 35
        }
      },
      "source": [
        "from sklearn.neighbors import KNeighborsClassifier\n",
        "knn = KNeighborsClassifier(n_neighbors = 2) \n",
        "knn.fit(X_train, y_train)  \n",
        "y_pred = knn.predict(X_test)  \n",
        "acc_knn = accuracy_score(y_pred, y_test) * 100\n",
        "acc_knn"
      ],
      "execution_count": 149,
      "outputs": [
        {
          "output_type": "execute_result",
          "data": {
            "text/plain": [
              "87.70491803278688"
            ]
          },
          "metadata": {
            "tags": []
          },
          "execution_count": 149
        }
      ]
    },
    {
      "cell_type": "code",
      "metadata": {
        "id": "HH59NxU9r5sG",
        "outputId": "98ce1efc-a17f-41df-a0c2-3ea12b8bcd4b",
        "colab": {
          "base_uri": "https://localhost:8080/",
          "height": 182
        }
      },
      "source": [
        "from sklearn.metrics import classification_report\n",
        "target_names = ['Healthy ', 'Addicted']\n",
        "print(classification_report(y_test, y_pred, target_names=target_names))"
      ],
      "execution_count": 151,
      "outputs": [
        {
          "output_type": "stream",
          "text": [
            "              precision    recall  f1-score   support\n",
            "\n",
            "    Healthy        0.89      0.93      0.91        80\n",
            "    Addicted       0.85      0.79      0.81        42\n",
            "\n",
            "    accuracy                           0.88       122\n",
            "   macro avg       0.87      0.86      0.86       122\n",
            "weighted avg       0.88      0.88      0.88       122\n",
            "\n"
          ],
          "name": "stdout"
        }
      ]
    },
    {
      "cell_type": "code",
      "metadata": {
        "id": "mnB__yFUr5sI",
        "outputId": "9a850b42-829a-4e37-bb26-9603ec6f5038",
        "colab": {
          "base_uri": "https://localhost:8080/",
          "height": 35
        }
      },
      "source": [
        "from sklearn.ensemble import RandomForestClassifier\n",
        "random_forest= RandomForestClassifier()\n",
        "random_forest.fit(X_train,y_train)\n",
        "y_pred = random_forest.predict(X_test)\n",
        "acc_random_forest = accuracy_score(y_pred,y_test)*100\n",
        "acc_random_forest"
      ],
      "execution_count": 152,
      "outputs": [
        {
          "output_type": "execute_result",
          "data": {
            "text/plain": [
              "93.44262295081968"
            ]
          },
          "metadata": {
            "tags": []
          },
          "execution_count": 152
        }
      ]
    },
    {
      "cell_type": "code",
      "metadata": {
        "id": "2tuQk0o_r5sL",
        "outputId": "5205558f-3f2a-43d8-f85c-5d1789edf446",
        "colab": {
          "base_uri": "https://localhost:8080/",
          "height": 182
        }
      },
      "source": [
        "from sklearn.metrics import classification_report\n",
        "target_names = ['Healthy ', 'Addicted']\n",
        "print(classification_report(y_test, y_pred, target_names=target_names))"
      ],
      "execution_count": 154,
      "outputs": [
        {
          "output_type": "stream",
          "text": [
            "              precision    recall  f1-score   support\n",
            "\n",
            "    Healthy        0.99      0.91      0.95        80\n",
            "    Addicted       0.85      0.98      0.91        42\n",
            "\n",
            "    accuracy                           0.93       122\n",
            "   macro avg       0.92      0.94      0.93       122\n",
            "weighted avg       0.94      0.93      0.94       122\n",
            "\n"
          ],
          "name": "stdout"
        }
      ]
    },
    {
      "cell_type": "code",
      "metadata": {
        "id": "x7osmbs-r5sN",
        "outputId": "b905020b-500f-497a-f5a1-183eaed1f9fe",
        "colab": {
          "base_uri": "https://localhost:8080/",
          "height": 269
        }
      },
      "source": [
        "results = pd.DataFrame({\n",
        "    'Model': ['Support Vector Machines', 'Logistic Regression', \n",
        "              'Random Forest', 'Decision Tree', 'kNearest Neighbors','Gaussian Naive Bayes'],\n",
        "    'Score': [acc_linear_svc, acc_logreg, \n",
        "              acc_random_forest, acc_decision_tree,acc_knn, acc_gaussian]})\n",
        "result_df = results.sort_values(by='Score', ascending=False)\n",
        "result_df = result_df.set_index('Model')\n",
        "result_df"
      ],
      "execution_count": 155,
      "outputs": [
        {
          "output_type": "execute_result",
          "data": {
            "text/html": [
              "<div>\n",
              "<style scoped>\n",
              "    .dataframe tbody tr th:only-of-type {\n",
              "        vertical-align: middle;\n",
              "    }\n",
              "\n",
              "    .dataframe tbody tr th {\n",
              "        vertical-align: top;\n",
              "    }\n",
              "\n",
              "    .dataframe thead th {\n",
              "        text-align: right;\n",
              "    }\n",
              "</style>\n",
              "<table border=\"1\" class=\"dataframe\">\n",
              "  <thead>\n",
              "    <tr style=\"text-align: right;\">\n",
              "      <th></th>\n",
              "      <th>Score</th>\n",
              "    </tr>\n",
              "    <tr>\n",
              "      <th>Model</th>\n",
              "      <th></th>\n",
              "    </tr>\n",
              "  </thead>\n",
              "  <tbody>\n",
              "    <tr>\n",
              "      <th>Support Vector Machines</th>\n",
              "      <td>93.442623</td>\n",
              "    </tr>\n",
              "    <tr>\n",
              "      <th>Logistic Regression</th>\n",
              "      <td>93.442623</td>\n",
              "    </tr>\n",
              "    <tr>\n",
              "      <th>Random Forest</th>\n",
              "      <td>93.442623</td>\n",
              "    </tr>\n",
              "    <tr>\n",
              "      <th>Gaussian Naive Bayes</th>\n",
              "      <td>91.803279</td>\n",
              "    </tr>\n",
              "    <tr>\n",
              "      <th>kNearest Neighbors</th>\n",
              "      <td>87.704918</td>\n",
              "    </tr>\n",
              "    <tr>\n",
              "      <th>Decision Tree</th>\n",
              "      <td>85.245902</td>\n",
              "    </tr>\n",
              "  </tbody>\n",
              "</table>\n",
              "</div>"
            ],
            "text/plain": [
              "                             Score\n",
              "Model                             \n",
              "Support Vector Machines  93.442623\n",
              "Logistic Regression      93.442623\n",
              "Random Forest            93.442623\n",
              "Gaussian Naive Bayes     91.803279\n",
              "kNearest Neighbors       87.704918\n",
              "Decision Tree            85.245902"
            ]
          },
          "metadata": {
            "tags": []
          },
          "execution_count": 155
        }
      ]
    },
    {
      "cell_type": "code",
      "metadata": {
        "id": "rdn0q0WTr5sP",
        "outputId": "28c60ab4-8ff2-43f0-c8e1-6ffe70feeec0",
        "colab": {
          "base_uri": "https://localhost:8080/",
          "height": 279
        }
      },
      "source": [
        "from sklearn.metrics import plot_roc_curve\n",
        "import matplotlib.pyplot as plt\n",
        "ax = plt.gca()\n",
        "\n",
        "rfc_disp = plot_roc_curve(random_forest, X_test, y_test, ax=ax, alpha=1)\n",
        "knn_disp= plot_roc_curve(knn,X_test,y_test,ax=ax,alpha=1)\n",
        "dt_disp= plot_roc_curve(decision_tree, X_test,y_test, ax=ax,alpha=1)\n",
        "svc_disp = plot_roc_curve(linear_svc,X_test,y_test,ax=ax,alpha=1)\n",
        "gnb_disp=plot_roc_curve(gaussian, X_test, y_test, ax=ax, alpha = 1)\n",
        "logreg_disp = plot_roc_curve(logreg, X_test, y_test, ax=ax, alpha=1)\n",
        "plt.show()"
      ],
      "execution_count": 156,
      "outputs": [
        {
          "output_type": "display_data",
          "data": {
            "image/png": "[encoded data removed]",
            "text/plain": [
              "<Figure size 432x288 with 1 Axes>"
            ]
          },
          "metadata": {
            "tags": [],
            "needs_background": "light"
          }
        }
      ]
    },
    {
      "cell_type": "markdown",
      "metadata": {
        "id": "Nu8_tz1_r5sS"
      },
      "source": [
        "#  14 features\n"
      ]
    },
    {
      "cell_type": "code",
      "metadata": {
        "id": "PX6mOQ6Mr5sS"
      },
      "source": [
        "from sklearn.model_selection import train_test_split\n",
        "train, test = train_test_split(df, test_size=0.33)"
      ],
      "execution_count": 157,
      "outputs": []
    },
    {
      "cell_type": "code",
      "metadata": {
        "id": "3f5Ah5QLr5sT"
      },
      "source": [
        "X = chisquared4\n",
        "y = df['goal']\n",
        "from sklearn.model_selection import train_test_split\n",
        "X_train, X_test, y_train, y_test = train_test_split(X, y, random_state=0)\n",
        "from sklearn.preprocessing import MinMaxScaler\n",
        "scaler = MinMaxScaler()\n",
        "X_train = scaler.fit_transform(X_train)\n",
        "X_test = scaler.transform(X_test)"
      ],
      "execution_count": 158,
      "outputs": []
    },
    {
      "cell_type": "code",
      "metadata": {
        "id": "qhSeLk3Zr5sV",
        "outputId": "4e516937-855d-4beb-ca4b-d3994244f47d",
        "colab": {
          "base_uri": "https://localhost:8080/",
          "height": 35
        }
      },
      "source": [
        "from sklearn.metrics import accuracy_score\n",
        "from sklearn.linear_model import LogisticRegression\n",
        "logreg=LogisticRegression()\n",
        "logreg.fit(X_train,y_train)\n",
        "y_pred=logreg.predict(X_test)\n",
        "acc_logreg= accuracy_score(y_pred,y_test)*100\n",
        "acc_logreg"
      ],
      "execution_count": 159,
      "outputs": [
        {
          "output_type": "execute_result",
          "data": {
            "text/plain": [
              "93.44262295081968"
            ]
          },
          "metadata": {
            "tags": []
          },
          "execution_count": 159
        }
      ]
    },
    {
      "cell_type": "code",
      "metadata": {
        "id": "vuaYWZNWr5sY",
        "outputId": "263a636b-32eb-4ccd-e332-6a8632f7f790",
        "colab": {
          "base_uri": "https://localhost:8080/",
          "height": 182
        }
      },
      "source": [
        "from sklearn.metrics import classification_report\n",
        "target_names = ['Healthy ', 'Addicted']\n",
        "print(classification_report(y_test, y_pred, target_names=target_names))"
      ],
      "execution_count": 160,
      "outputs": [
        {
          "output_type": "stream",
          "text": [
            "              precision    recall  f1-score   support\n",
            "\n",
            "    Healthy        0.97      0.93      0.95        80\n",
            "    Addicted       0.87      0.95      0.91        42\n",
            "\n",
            "    accuracy                           0.93       122\n",
            "   macro avg       0.92      0.94      0.93       122\n",
            "weighted avg       0.94      0.93      0.94       122\n",
            "\n"
          ],
          "name": "stdout"
        }
      ]
    },
    {
      "cell_type": "code",
      "metadata": {
        "id": "JE99kFb9r5sm",
        "outputId": "904c27d0-fc7e-4122-a9e4-98105f7853a3",
        "colab": {
          "base_uri": "https://localhost:8080/",
          "height": 35
        }
      },
      "source": [
        "from sklearn.svm import LinearSVC\n",
        "linear_svc = LinearSVC()\n",
        "linear_svc.fit(X_train, y_train)\n",
        "\n",
        "y_pred = linear_svc.predict(X_test)\n",
        "\n",
        "acc_linear_svc = accuracy_score(y_pred, y_test) * 100\n",
        "acc_linear_svc"
      ],
      "execution_count": 161,
      "outputs": [
        {
          "output_type": "execute_result",
          "data": {
            "text/plain": [
              "93.44262295081968"
            ]
          },
          "metadata": {
            "tags": []
          },
          "execution_count": 161
        }
      ]
    },
    {
      "cell_type": "code",
      "metadata": {
        "id": "qwjrzE43r5sp",
        "outputId": "25502458-547e-42ef-9c9c-d7785be6d68d",
        "colab": {
          "base_uri": "https://localhost:8080/",
          "height": 182
        }
      },
      "source": [
        "from sklearn.metrics import classification_report\n",
        "target_names = ['Healthy ', 'Addicted']\n",
        "print(classification_report(y_test, y_pred, target_names=target_names))"
      ],
      "execution_count": 162,
      "outputs": [
        {
          "output_type": "stream",
          "text": [
            "              precision    recall  f1-score   support\n",
            "\n",
            "    Healthy        0.97      0.93      0.95        80\n",
            "    Addicted       0.87      0.95      0.91        42\n",
            "\n",
            "    accuracy                           0.93       122\n",
            "   macro avg       0.92      0.94      0.93       122\n",
            "weighted avg       0.94      0.93      0.94       122\n",
            "\n"
          ],
          "name": "stdout"
        }
      ]
    },
    {
      "cell_type": "code",
      "metadata": {
        "id": "VnG18Rxpr5ss",
        "outputId": "dc8a8831-7efa-41f5-dd73-1dea5b31c4f0",
        "colab": {
          "base_uri": "https://localhost:8080/",
          "height": 35
        }
      },
      "source": [
        "from sklearn.tree import DecisionTreeClassifier\n",
        "decision_tree = DecisionTreeClassifier()\n",
        "decision_tree.fit(X_train, y_train)  \n",
        "y_pred = decision_tree.predict(X_test)  \n",
        "acc_decision_tree = accuracy_score(y_pred, y_test) * 100\n",
        "acc_decision_tree"
      ],
      "execution_count": 163,
      "outputs": [
        {
          "output_type": "execute_result",
          "data": {
            "text/plain": [
              "86.0655737704918"
            ]
          },
          "metadata": {
            "tags": []
          },
          "execution_count": 163
        }
      ]
    },
    {
      "cell_type": "code",
      "metadata": {
        "id": "EhOw6qu5r5st",
        "outputId": "1d821422-888d-45d4-e5b9-2d94664f0c47",
        "colab": {
          "base_uri": "https://localhost:8080/",
          "height": 182
        }
      },
      "source": [
        "from sklearn.metrics import classification_report\n",
        "target_names = ['Healthy ', 'Addicted']\n",
        "print(classification_report(y_test, y_pred, target_names=target_names))"
      ],
      "execution_count": 164,
      "outputs": [
        {
          "output_type": "stream",
          "text": [
            "              precision    recall  f1-score   support\n",
            "\n",
            "    Healthy        0.91      0.88      0.89        80\n",
            "    Addicted       0.78      0.83      0.80        42\n",
            "\n",
            "    accuracy                           0.86       122\n",
            "   macro avg       0.84      0.85      0.85       122\n",
            "weighted avg       0.86      0.86      0.86       122\n",
            "\n"
          ],
          "name": "stdout"
        }
      ]
    },
    {
      "cell_type": "code",
      "metadata": {
        "id": "M9zlmc1Ar5sv",
        "outputId": "b561971f-507f-4d11-c974-79baa9b25b63",
        "colab": {
          "base_uri": "https://localhost:8080/",
          "height": 35
        }
      },
      "source": [
        "from sklearn.naive_bayes import GaussianNB\n",
        "gaussian = GaussianNB()\n",
        "gaussian.fit(X_train, y_train) \n",
        "y_pred = gaussian.predict(X_test)\n",
        "acc_gaussian = accuracy_score(y_pred, y_test) * 100\n",
        "acc_gaussian"
      ],
      "execution_count": 165,
      "outputs": [
        {
          "output_type": "execute_result",
          "data": {
            "text/plain": [
              "92.62295081967213"
            ]
          },
          "metadata": {
            "tags": []
          },
          "execution_count": 165
        }
      ]
    },
    {
      "cell_type": "code",
      "metadata": {
        "id": "AOTQdgber5sx",
        "outputId": "1f057931-6002-4176-f91f-8679df707f4f",
        "colab": {
          "base_uri": "https://localhost:8080/",
          "height": 182
        }
      },
      "source": [
        "from sklearn.metrics import classification_report\n",
        "target_names = ['Healthy ', 'Addicted']\n",
        "print(classification_report(y_test, y_pred, target_names=target_names))"
      ],
      "execution_count": 166,
      "outputs": [
        {
          "output_type": "stream",
          "text": [
            "              precision    recall  f1-score   support\n",
            "\n",
            "    Healthy        0.99      0.90      0.94        80\n",
            "    Addicted       0.84      0.98      0.90        42\n",
            "\n",
            "    accuracy                           0.93       122\n",
            "   macro avg       0.91      0.94      0.92       122\n",
            "weighted avg       0.93      0.93      0.93       122\n",
            "\n"
          ],
          "name": "stdout"
        }
      ]
    },
    {
      "cell_type": "code",
      "metadata": {
        "id": "Si6QI5pvr5sz",
        "outputId": "ca010edd-7577-4f01-b810-d6ec997d4c34",
        "colab": {
          "base_uri": "https://localhost:8080/",
          "height": 35
        }
      },
      "source": [
        "from sklearn.neighbors import KNeighborsClassifier\n",
        "knn = KNeighborsClassifier(n_neighbors = 2) \n",
        "knn.fit(X_train, y_train)  \n",
        "y_pred = knn.predict(X_test)  \n",
        "acc_knn = accuracy_score(y_pred, y_test) * 100\n",
        "acc_knn"
      ],
      "execution_count": 167,
      "outputs": [
        {
          "output_type": "execute_result",
          "data": {
            "text/plain": [
              "87.70491803278688"
            ]
          },
          "metadata": {
            "tags": []
          },
          "execution_count": 167
        }
      ]
    },
    {
      "cell_type": "code",
      "metadata": {
        "id": "-P5Y_3qJr5s0",
        "outputId": "741c8aca-44ae-4809-c966-37808c826a19",
        "colab": {
          "base_uri": "https://localhost:8080/",
          "height": 182
        }
      },
      "source": [
        "from sklearn.metrics import classification_report\n",
        "target_names = ['Healthy ', 'Addicted']\n",
        "print(classification_report(y_test, y_pred, target_names=target_names))"
      ],
      "execution_count": 168,
      "outputs": [
        {
          "output_type": "stream",
          "text": [
            "              precision    recall  f1-score   support\n",
            "\n",
            "    Healthy        0.88      0.94      0.91        80\n",
            "    Addicted       0.86      0.76      0.81        42\n",
            "\n",
            "    accuracy                           0.88       122\n",
            "   macro avg       0.87      0.85      0.86       122\n",
            "weighted avg       0.88      0.88      0.88       122\n",
            "\n"
          ],
          "name": "stdout"
        }
      ]
    },
    {
      "cell_type": "code",
      "metadata": {
        "id": "bvlA4y8ur5s2",
        "outputId": "77c9551c-c81f-45f4-c99b-b2b9eab002b9",
        "colab": {
          "base_uri": "https://localhost:8080/",
          "height": 35
        }
      },
      "source": [
        "from sklearn.ensemble import RandomForestClassifier\n",
        "random_forest= RandomForestClassifier()\n",
        "random_forest.fit(X_train,y_train)\n",
        "y_pred = random_forest.predict(X_test)\n",
        "acc_random_forest = accuracy_score(y_pred,y_test)*100\n",
        "acc_random_forest"
      ],
      "execution_count": 169,
      "outputs": [
        {
          "output_type": "execute_result",
          "data": {
            "text/plain": [
              "93.44262295081968"
            ]
          },
          "metadata": {
            "tags": []
          },
          "execution_count": 169
        }
      ]
    },
    {
      "cell_type": "code",
      "metadata": {
        "id": "ln3rUFOGr5s7",
        "outputId": "422fa626-8d96-425c-ae24-432b3b92bff7",
        "colab": {
          "base_uri": "https://localhost:8080/",
          "height": 182
        }
      },
      "source": [
        "from sklearn.metrics import classification_report\n",
        "target_names = ['Healthy ', 'Addicted']\n",
        "print(classification_report(y_test, y_pred, target_names=target_names))"
      ],
      "execution_count": 170,
      "outputs": [
        {
          "output_type": "stream",
          "text": [
            "              precision    recall  f1-score   support\n",
            "\n",
            "    Healthy        0.97      0.93      0.95        80\n",
            "    Addicted       0.87      0.95      0.91        42\n",
            "\n",
            "    accuracy                           0.93       122\n",
            "   macro avg       0.92      0.94      0.93       122\n",
            "weighted avg       0.94      0.93      0.94       122\n",
            "\n"
          ],
          "name": "stdout"
        }
      ]
    },
    {
      "cell_type": "code",
      "metadata": {
        "id": "GbCbpcbCr5s_",
        "outputId": "45b3fdd7-b823-4de3-a014-e3f03ba9f27d",
        "colab": {
          "base_uri": "https://localhost:8080/",
          "height": 269
        }
      },
      "source": [
        "results = pd.DataFrame({\n",
        "    'Model': ['Support Vector Machines', 'Logistic Regression', \n",
        "              'Random Forest', 'Decision Tree', 'kNearest Neighbors','Gaussian Naive Bayes'],\n",
        "    'Score': [acc_linear_svc, acc_logreg, \n",
        "              acc_random_forest, acc_decision_tree,acc_knn, acc_gaussian]})\n",
        "result_df = results.sort_values(by='Score', ascending=False)\n",
        "result_df = result_df.set_index('Model')\n",
        "result_df"
      ],
      "execution_count": 171,
      "outputs": [
        {
          "output_type": "execute_result",
          "data": {
            "text/html": [
              "<div>\n",
              "<style scoped>\n",
              "    .dataframe tbody tr th:only-of-type {\n",
              "        vertical-align: middle;\n",
              "    }\n",
              "\n",
              "    .dataframe tbody tr th {\n",
              "        vertical-align: top;\n",
              "    }\n",
              "\n",
              "    .dataframe thead th {\n",
              "        text-align: right;\n",
              "    }\n",
              "</style>\n",
              "<table border=\"1\" class=\"dataframe\">\n",
              "  <thead>\n",
              "    <tr style=\"text-align: right;\">\n",
              "      <th></th>\n",
              "      <th>Score</th>\n",
              "    </tr>\n",
              "    <tr>\n",
              "      <th>Model</th>\n",
              "      <th></th>\n",
              "    </tr>\n",
              "  </thead>\n",
              "  <tbody>\n",
              "    <tr>\n",
              "      <th>Support Vector Machines</th>\n",
              "      <td>93.442623</td>\n",
              "    </tr>\n",
              "    <tr>\n",
              "      <th>Logistic Regression</th>\n",
              "      <td>93.442623</td>\n",
              "    </tr>\n",
              "    <tr>\n",
              "      <th>Random Forest</th>\n",
              "      <td>93.442623</td>\n",
              "    </tr>\n",
              "    <tr>\n",
              "      <th>Gaussian Naive Bayes</th>\n",
              "      <td>92.622951</td>\n",
              "    </tr>\n",
              "    <tr>\n",
              "      <th>kNearest Neighbors</th>\n",
              "      <td>87.704918</td>\n",
              "    </tr>\n",
              "    <tr>\n",
              "      <th>Decision Tree</th>\n",
              "      <td>86.065574</td>\n",
              "    </tr>\n",
              "  </tbody>\n",
              "</table>\n",
              "</div>"
            ],
            "text/plain": [
              "                             Score\n",
              "Model                             \n",
              "Support Vector Machines  93.442623\n",
              "Logistic Regression      93.442623\n",
              "Random Forest            93.442623\n",
              "Gaussian Naive Bayes     92.622951\n",
              "kNearest Neighbors       87.704918\n",
              "Decision Tree            86.065574"
            ]
          },
          "metadata": {
            "tags": []
          },
          "execution_count": 171
        }
      ]
    },
    {
      "cell_type": "code",
      "metadata": {
        "id": "N1h44g7sr5tE",
        "outputId": "452c069d-966d-4e96-dfe2-a5babb61aab1",
        "colab": {
          "base_uri": "https://localhost:8080/",
          "height": 279
        }
      },
      "source": [
        "from sklearn.metrics import plot_roc_curve\n",
        "import matplotlib.pyplot as plt\n",
        "ax = plt.gca()\n",
        "\n",
        "rfc_disp = plot_roc_curve(random_forest, X_test, y_test, ax=ax, alpha=1)\n",
        "knn_disp= plot_roc_curve(knn,X_test,y_test,ax=ax,alpha=1)\n",
        "dt_disp= plot_roc_curve(decision_tree, X_test,y_test, ax=ax,alpha=1)\n",
        "svc_disp = plot_roc_curve(linear_svc,X_test,y_test,ax=ax,alpha=1)\n",
        "gnb_disp=plot_roc_curve(gaussian, X_test, y_test, ax=ax, alpha = 1)\n",
        "logreg_disp = plot_roc_curve(logreg, X_test, y_test, ax=ax, alpha=1)\n",
        "plt.show()"
      ],
      "execution_count": 172,
      "outputs": [
        {
          "output_type": "display_data",
          "data": {
            "image/png": "[encoded data removed]",
            "text/plain": [
              "<Figure size 432x288 with 1 Axes>"
            ]
          },
          "metadata": {
            "tags": [],
            "needs_background": "light"
          }
        }
      ]
    },
    {
      "cell_type": "markdown",
      "metadata": {
        "id": "R1GMtQoZr5tG"
      },
      "source": [
        "#  15 features\n"
      ]
    },
    {
      "cell_type": "code",
      "metadata": {
        "id": "-_jU7Mzhr5tH"
      },
      "source": [
        "from sklearn.model_selection import train_test_split\n",
        "train, test = train_test_split(df, test_size=0.33)"
      ],
      "execution_count": 173,
      "outputs": []
    },
    {
      "cell_type": "code",
      "metadata": {
        "id": "dv3rUqRAr5tJ"
      },
      "source": [
        "X = chisquared5\n",
        "y = df['goal']\n",
        "from sklearn.model_selection import train_test_split\n",
        "X_train, X_test, y_train, y_test = train_test_split(X, y, random_state=0)\n",
        "from sklearn.preprocessing import MinMaxScaler\n",
        "scaler = MinMaxScaler()\n",
        "X_train = scaler.fit_transform(X_train)\n",
        "X_test = scaler.transform(X_test)"
      ],
      "execution_count": 174,
      "outputs": []
    },
    {
      "cell_type": "code",
      "metadata": {
        "id": "ttSV0zpLr5tK",
        "outputId": "307b9f3b-e826-4104-8248-55ca029fac72",
        "colab": {
          "base_uri": "https://localhost:8080/",
          "height": 35
        }
      },
      "source": [
        "from sklearn.metrics import accuracy_score\n",
        "from sklearn.linear_model import LogisticRegression\n",
        "logreg=LogisticRegression()\n",
        "logreg.fit(X_train,y_train)\n",
        "y_pred=logreg.predict(X_test)\n",
        "acc_logreg= accuracy_score(y_pred,y_test)*100\n",
        "acc_logreg"
      ],
      "execution_count": 175,
      "outputs": [
        {
          "output_type": "execute_result",
          "data": {
            "text/plain": [
              "93.44262295081968"
            ]
          },
          "metadata": {
            "tags": []
          },
          "execution_count": 175
        }
      ]
    },
    {
      "cell_type": "code",
      "metadata": {
        "id": "7IE3J62vr5tM",
        "outputId": "4e3e9d47-f20f-4a50-8cd0-d54f42cc14b3",
        "colab": {
          "base_uri": "https://localhost:8080/",
          "height": 182
        }
      },
      "source": [
        "from sklearn.metrics import classification_report\n",
        "target_names = ['Healthy ', 'Addicted']\n",
        "print(classification_report(y_test, y_pred, target_names=target_names))"
      ],
      "execution_count": 176,
      "outputs": [
        {
          "output_type": "stream",
          "text": [
            "              precision    recall  f1-score   support\n",
            "\n",
            "    Healthy        0.97      0.93      0.95        80\n",
            "    Addicted       0.87      0.95      0.91        42\n",
            "\n",
            "    accuracy                           0.93       122\n",
            "   macro avg       0.92      0.94      0.93       122\n",
            "weighted avg       0.94      0.93      0.94       122\n",
            "\n"
          ],
          "name": "stdout"
        }
      ]
    },
    {
      "cell_type": "code",
      "metadata": {
        "id": "WzK8_Vz2r5tO",
        "outputId": "5f159ea0-16f0-4ac0-ef64-1f3133074f34",
        "colab": {
          "base_uri": "https://localhost:8080/",
          "height": 35
        }
      },
      "source": [
        "from sklearn.svm import LinearSVC\n",
        "linear_svc = LinearSVC()\n",
        "linear_svc.fit(X_train, y_train)\n",
        "\n",
        "y_pred = linear_svc.predict(X_test)\n",
        "\n",
        "acc_linear_svc = accuracy_score(y_pred, y_test) * 100\n",
        "acc_linear_svc"
      ],
      "execution_count": 177,
      "outputs": [
        {
          "output_type": "execute_result",
          "data": {
            "text/plain": [
              "94.26229508196722"
            ]
          },
          "metadata": {
            "tags": []
          },
          "execution_count": 177
        }
      ]
    },
    {
      "cell_type": "code",
      "metadata": {
        "id": "GB1XrSpZr5tP",
        "outputId": "67fc0bd2-8e3b-443e-e5db-dfd2152c3ee9",
        "colab": {
          "base_uri": "https://localhost:8080/",
          "height": 182
        }
      },
      "source": [
        "from sklearn.metrics import classification_report\n",
        "target_names = ['Healthy ', 'Addicted']\n",
        "print(classification_report(y_test, y_pred, target_names=target_names))"
      ],
      "execution_count": 178,
      "outputs": [
        {
          "output_type": "stream",
          "text": [
            "              precision    recall  f1-score   support\n",
            "\n",
            "    Healthy        0.99      0.93      0.95        80\n",
            "    Addicted       0.87      0.98      0.92        42\n",
            "\n",
            "    accuracy                           0.94       122\n",
            "   macro avg       0.93      0.95      0.94       122\n",
            "weighted avg       0.95      0.94      0.94       122\n",
            "\n"
          ],
          "name": "stdout"
        }
      ]
    },
    {
      "cell_type": "code",
      "metadata": {
        "id": "S06kwmXFr5tR",
        "outputId": "bc828e93-414a-4c81-b1b9-2fe60e01940c",
        "colab": {
          "base_uri": "https://localhost:8080/",
          "height": 35
        }
      },
      "source": [
        "from sklearn.tree import DecisionTreeClassifier\n",
        "decision_tree = DecisionTreeClassifier()\n",
        "decision_tree.fit(X_train, y_train)  \n",
        "y_pred = decision_tree.predict(X_test)  \n",
        "acc_decision_tree = accuracy_score(y_pred, y_test) * 100\n",
        "acc_decision_tree"
      ],
      "execution_count": 179,
      "outputs": [
        {
          "output_type": "execute_result",
          "data": {
            "text/plain": [
              "87.70491803278688"
            ]
          },
          "metadata": {
            "tags": []
          },
          "execution_count": 179
        }
      ]
    },
    {
      "cell_type": "code",
      "metadata": {
        "id": "D-c2rD7Lr5tT",
        "outputId": "3fa7bf1e-daac-40ce-c9cd-a77b03e719ef",
        "colab": {
          "base_uri": "https://localhost:8080/",
          "height": 182
        }
      },
      "source": [
        "from sklearn.metrics import classification_report\n",
        "target_names = ['Healthy ', 'Addicted']\n",
        "print(classification_report(y_test, y_pred, target_names=target_names))"
      ],
      "execution_count": 180,
      "outputs": [
        {
          "output_type": "stream",
          "text": [
            "              precision    recall  f1-score   support\n",
            "\n",
            "    Healthy        0.91      0.90      0.91        80\n",
            "    Addicted       0.81      0.83      0.82        42\n",
            "\n",
            "    accuracy                           0.88       122\n",
            "   macro avg       0.86      0.87      0.86       122\n",
            "weighted avg       0.88      0.88      0.88       122\n",
            "\n"
          ],
          "name": "stdout"
        }
      ]
    },
    {
      "cell_type": "code",
      "metadata": {
        "id": "04ECT0y9r5tU",
        "outputId": "1a457018-35f8-48fd-e1b4-cef3d2d2b9a9",
        "colab": {
          "base_uri": "https://localhost:8080/",
          "height": 35
        }
      },
      "source": [
        "from sklearn.naive_bayes import GaussianNB\n",
        "gaussian = GaussianNB()\n",
        "gaussian.fit(X_train, y_train) \n",
        "y_pred = gaussian.predict(X_test)\n",
        "acc_gaussian = accuracy_score(y_pred, y_test) * 100\n",
        "acc_gaussian"
      ],
      "execution_count": 181,
      "outputs": [
        {
          "output_type": "execute_result",
          "data": {
            "text/plain": [
              "93.44262295081968"
            ]
          },
          "metadata": {
            "tags": []
          },
          "execution_count": 181
        }
      ]
    },
    {
      "cell_type": "code",
      "metadata": {
        "id": "JNxG5bEsr5tW",
        "outputId": "fc5da0b7-f9a5-489d-8290-06967e9b9062",
        "colab": {
          "base_uri": "https://localhost:8080/",
          "height": 182
        }
      },
      "source": [
        "from sklearn.metrics import classification_report\n",
        "target_names = ['Healthy ', 'Addicted']\n",
        "print(classification_report(y_test, y_pred, target_names=target_names))"
      ],
      "execution_count": 182,
      "outputs": [
        {
          "output_type": "stream",
          "text": [
            "              precision    recall  f1-score   support\n",
            "\n",
            "    Healthy        0.99      0.91      0.95        80\n",
            "    Addicted       0.85      0.98      0.91        42\n",
            "\n",
            "    accuracy                           0.93       122\n",
            "   macro avg       0.92      0.94      0.93       122\n",
            "weighted avg       0.94      0.93      0.94       122\n",
            "\n"
          ],
          "name": "stdout"
        }
      ]
    },
    {
      "cell_type": "code",
      "metadata": {
        "id": "FNNNfdA1r5tY",
        "outputId": "16ce96d8-c2c7-42f6-b171-3fe9bcc47940",
        "colab": {
          "base_uri": "https://localhost:8080/",
          "height": 35
        }
      },
      "source": [
        "from sklearn.neighbors import KNeighborsClassifier\n",
        "knn = KNeighborsClassifier(n_neighbors = 2) \n",
        "knn.fit(X_train, y_train)  \n",
        "y_pred = knn.predict(X_test)  \n",
        "acc_knn = accuracy_score(y_pred, y_test) * 100\n",
        "acc_knn"
      ],
      "execution_count": 183,
      "outputs": [
        {
          "output_type": "execute_result",
          "data": {
            "text/plain": [
              "90.1639344262295"
            ]
          },
          "metadata": {
            "tags": []
          },
          "execution_count": 183
        }
      ]
    },
    {
      "cell_type": "code",
      "metadata": {
        "id": "YY5bwffUr5tZ",
        "outputId": "da04fbc2-b628-478e-cc7e-30e2697ba218",
        "colab": {
          "base_uri": "https://localhost:8080/",
          "height": 182
        }
      },
      "source": [
        "from sklearn.metrics import classification_report\n",
        "target_names = ['Healthy ', 'Addicted']\n",
        "print(classification_report(y_test, y_pred, target_names=target_names))"
      ],
      "execution_count": 184,
      "outputs": [
        {
          "output_type": "stream",
          "text": [
            "              precision    recall  f1-score   support\n",
            "\n",
            "    Healthy        0.91      0.94      0.93        80\n",
            "    Addicted       0.88      0.83      0.85        42\n",
            "\n",
            "    accuracy                           0.90       122\n",
            "   macro avg       0.89      0.89      0.89       122\n",
            "weighted avg       0.90      0.90      0.90       122\n",
            "\n"
          ],
          "name": "stdout"
        }
      ]
    },
    {
      "cell_type": "code",
      "metadata": {
        "id": "mjEtsicar5tb",
        "outputId": "1513ef25-d6bd-437f-dc05-3146a454a52d",
        "colab": {
          "base_uri": "https://localhost:8080/",
          "height": 35
        }
      },
      "source": [
        "from sklearn.ensemble import RandomForestClassifier\n",
        "random_forest= RandomForestClassifier()\n",
        "random_forest.fit(X_train,y_train)\n",
        "y_pred = random_forest.predict(X_test)\n",
        "acc_random_forest = accuracy_score(y_pred,y_test)*100\n",
        "acc_random_forest"
      ],
      "execution_count": 185,
      "outputs": [
        {
          "output_type": "execute_result",
          "data": {
            "text/plain": [
              "91.80327868852459"
            ]
          },
          "metadata": {
            "tags": []
          },
          "execution_count": 185
        }
      ]
    },
    {
      "cell_type": "code",
      "metadata": {
        "id": "n_vGbVqXr5td",
        "outputId": "5398e5e2-55a4-4173-8c5f-c826841bcb2d",
        "colab": {
          "base_uri": "https://localhost:8080/",
          "height": 182
        }
      },
      "source": [
        "from sklearn.metrics import classification_report\n",
        "target_names = ['Healthy ', 'Addicted']\n",
        "print(classification_report(y_test, y_pred, target_names=target_names))"
      ],
      "execution_count": 186,
      "outputs": [
        {
          "output_type": "stream",
          "text": [
            "              precision    recall  f1-score   support\n",
            "\n",
            "    Healthy        0.96      0.91      0.94        80\n",
            "    Addicted       0.85      0.93      0.89        42\n",
            "\n",
            "    accuracy                           0.92       122\n",
            "   macro avg       0.90      0.92      0.91       122\n",
            "weighted avg       0.92      0.92      0.92       122\n",
            "\n"
          ],
          "name": "stdout"
        }
      ]
    },
    {
      "cell_type": "code",
      "metadata": {
        "id": "hxU8F1WGr5tf",
        "outputId": "fb3fb627-ae89-4500-a658-e5f8c3315d7c",
        "colab": {
          "base_uri": "https://localhost:8080/",
          "height": 269
        }
      },
      "source": [
        "results = pd.DataFrame({\n",
        "    'Model': ['Support Vector Machines', 'Logistic Regression', \n",
        "              'Random Forest', 'Decision Tree', 'kNearest Neighbors','Gaussian Naive Bayes'],\n",
        "    'Score': [acc_linear_svc, acc_logreg, \n",
        "              acc_random_forest, acc_decision_tree,acc_knn, acc_gaussian]})\n",
        "result_df = results.sort_values(by='Score', ascending=False)\n",
        "result_df = result_df.set_index('Model')\n",
        "result_df"
      ],
      "execution_count": 187,
      "outputs": [
        {
          "output_type": "execute_result",
          "data": {
            "text/html": [
              "<div>\n",
              "<style scoped>\n",
              "    .dataframe tbody tr th:only-of-type {\n",
              "        vertical-align: middle;\n",
              "    }\n",
              "\n",
              "    .dataframe tbody tr th {\n",
              "        vertical-align: top;\n",
              "    }\n",
              "\n",
              "    .dataframe thead th {\n",
              "        text-align: right;\n",
              "    }\n",
              "</style>\n",
              "<table border=\"1\" class=\"dataframe\">\n",
              "  <thead>\n",
              "    <tr style=\"text-align: right;\">\n",
              "      <th></th>\n",
              "      <th>Score</th>\n",
              "    </tr>\n",
              "    <tr>\n",
              "      <th>Model</th>\n",
              "      <th></th>\n",
              "    </tr>\n",
              "  </thead>\n",
              "  <tbody>\n",
              "    <tr>\n",
              "      <th>Support Vector Machines</th>\n",
              "      <td>94.262295</td>\n",
              "    </tr>\n",
              "    <tr>\n",
              "      <th>Logistic Regression</th>\n",
              "      <td>93.442623</td>\n",
              "    </tr>\n",
              "    <tr>\n",
              "      <th>Gaussian Naive Bayes</th>\n",
              "      <td>93.442623</td>\n",
              "    </tr>\n",
              "    <tr>\n",
              "      <th>Random Forest</th>\n",
              "      <td>91.803279</td>\n",
              "    </tr>\n",
              "    <tr>\n",
              "      <th>kNearest Neighbors</th>\n",
              "      <td>90.163934</td>\n",
              "    </tr>\n",
              "    <tr>\n",
              "      <th>Decision Tree</th>\n",
              "      <td>87.704918</td>\n",
              "    </tr>\n",
              "  </tbody>\n",
              "</table>\n",
              "</div>"
            ],
            "text/plain": [
              "                             Score\n",
              "Model                             \n",
              "Support Vector Machines  94.262295\n",
              "Logistic Regression      93.442623\n",
              "Gaussian Naive Bayes     93.442623\n",
              "Random Forest            91.803279\n",
              "kNearest Neighbors       90.163934\n",
              "Decision Tree            87.704918"
            ]
          },
          "metadata": {
            "tags": []
          },
          "execution_count": 187
        }
      ]
    },
    {
      "cell_type": "code",
      "metadata": {
        "id": "wc0M5ZR-r5th",
        "outputId": "a021866d-c0e4-4ee9-8461-0663afa5c83a",
        "colab": {
          "base_uri": "https://localhost:8080/",
          "height": 279
        }
      },
      "source": [
        "from sklearn.metrics import plot_roc_curve\n",
        "import matplotlib.pyplot as plt\n",
        "ax = plt.gca()\n",
        "\n",
        "rfc_disp = plot_roc_curve(random_forest, X_test, y_test, ax=ax, alpha=1)\n",
        "knn_disp= plot_roc_curve(knn,X_test,y_test,ax=ax,alpha=1)\n",
        "dt_disp= plot_roc_curve(decision_tree, X_test,y_test, ax=ax,alpha=1)\n",
        "svc_disp = plot_roc_curve(linear_svc,X_test,y_test,ax=ax,alpha=1)\n",
        "gnb_disp=plot_roc_curve(gaussian, X_test, y_test, ax=ax, alpha = 1)\n",
        "logreg_disp = plot_roc_curve(logreg, X_test, y_test, ax=ax, alpha=1)\n",
        "plt.show()"
      ],
      "execution_count": 188,
      "outputs": [
        {
          "output_type": "display_data",
          "data": {
            "image/png": "[encoded data removed]",
            "text/plain": [
              "<Figure size 432x288 with 1 Axes>"
            ]
          },
          "metadata": {
            "tags": [],
            "needs_background": "light"
          }
        }
      ]
    },
    {
      "cell_type": "markdown",
      "metadata": {
        "id": "TjSTf4zZr5ti"
      },
      "source": [
        "# 16 features\n"
      ]
    },
    {
      "cell_type": "code",
      "metadata": {
        "id": "97GUECscr5tj"
      },
      "source": [
        "from sklearn.model_selection import train_test_split\n",
        "train, test = train_test_split(df, test_size=0.33)"
      ],
      "execution_count": 189,
      "outputs": []
    },
    {
      "cell_type": "code",
      "metadata": {
        "id": "oGaWE4WRr5tk"
      },
      "source": [
        "X = chisquared6\n",
        "y = df['goal']\n",
        "from sklearn.model_selection import train_test_split\n",
        "X_train, X_test, y_train, y_test = train_test_split(X, y, random_state=0)\n",
        "from sklearn.preprocessing import MinMaxScaler\n",
        "scaler = MinMaxScaler()\n",
        "X_train = scaler.fit_transform(X_train)\n",
        "X_test = scaler.transform(X_test)"
      ],
      "execution_count": 190,
      "outputs": []
    },
    {
      "cell_type": "code",
      "metadata": {
        "id": "1hxNVIcHr5tm",
        "outputId": "59fefb17-45ba-490d-d69c-997f91e1036c",
        "colab": {
          "base_uri": "https://localhost:8080/",
          "height": 35
        }
      },
      "source": [
        "from sklearn.metrics import accuracy_score\n",
        "from sklearn.linear_model import LogisticRegression\n",
        "logreg=LogisticRegression()\n",
        "logreg.fit(X_train,y_train)\n",
        "y_pred=logreg.predict(X_test)\n",
        "acc_logreg= accuracy_score(y_pred,y_test)*100\n",
        "acc_logreg"
      ],
      "execution_count": 191,
      "outputs": [
        {
          "output_type": "execute_result",
          "data": {
            "text/plain": [
              "95.08196721311475"
            ]
          },
          "metadata": {
            "tags": []
          },
          "execution_count": 191
        }
      ]
    },
    {
      "cell_type": "code",
      "metadata": {
        "id": "P5RC-vs3r5to",
        "outputId": "a4c6b077-bd85-4d66-ae11-615e509ced4f",
        "colab": {
          "base_uri": "https://localhost:8080/",
          "height": 182
        }
      },
      "source": [
        "from sklearn.metrics import classification_report\n",
        "target_names = ['Healthy ', 'Addicted']\n",
        "print(classification_report(y_test, y_pred, target_names=target_names))"
      ],
      "execution_count": 192,
      "outputs": [
        {
          "output_type": "stream",
          "text": [
            "              precision    recall  f1-score   support\n",
            "\n",
            "    Healthy        0.97      0.95      0.96        80\n",
            "    Addicted       0.91      0.95      0.93        42\n",
            "\n",
            "    accuracy                           0.95       122\n",
            "   macro avg       0.94      0.95      0.95       122\n",
            "weighted avg       0.95      0.95      0.95       122\n",
            "\n"
          ],
          "name": "stdout"
        }
      ]
    },
    {
      "cell_type": "code",
      "metadata": {
        "id": "TfP_eZ4ar5tq",
        "outputId": "ea688eb1-0509-4de2-b135-689be6a73f0c",
        "colab": {
          "base_uri": "https://localhost:8080/",
          "height": 35
        }
      },
      "source": [
        "from sklearn.svm import LinearSVC\n",
        "linear_svc = LinearSVC()\n",
        "linear_svc.fit(X_train, y_train)\n",
        "\n",
        "y_pred = linear_svc.predict(X_test)\n",
        "\n",
        "acc_linear_svc = accuracy_score(y_pred, y_test) * 100\n",
        "acc_linear_svc"
      ],
      "execution_count": 193,
      "outputs": [
        {
          "output_type": "execute_result",
          "data": {
            "text/plain": [
              "95.08196721311475"
            ]
          },
          "metadata": {
            "tags": []
          },
          "execution_count": 193
        }
      ]
    },
    {
      "cell_type": "code",
      "metadata": {
        "id": "_zC8zP3Nr5tr",
        "outputId": "bff9d03f-0be7-4995-dcef-9bbfc0cc947d",
        "colab": {
          "base_uri": "https://localhost:8080/",
          "height": 182
        }
      },
      "source": [
        "from sklearn.metrics import classification_report\n",
        "target_names = ['Healthy ', 'Addicted']\n",
        "print(classification_report(y_test, y_pred, target_names=target_names))"
      ],
      "execution_count": 194,
      "outputs": [
        {
          "output_type": "stream",
          "text": [
            "              precision    recall  f1-score   support\n",
            "\n",
            "    Healthy        0.97      0.95      0.96        80\n",
            "    Addicted       0.91      0.95      0.93        42\n",
            "\n",
            "    accuracy                           0.95       122\n",
            "   macro avg       0.94      0.95      0.95       122\n",
            "weighted avg       0.95      0.95      0.95       122\n",
            "\n"
          ],
          "name": "stdout"
        }
      ]
    },
    {
      "cell_type": "code",
      "metadata": {
        "id": "fzd50DeLr5tu",
        "outputId": "001938c9-4507-42a8-86cd-307d79479349",
        "colab": {
          "base_uri": "https://localhost:8080/",
          "height": 35
        }
      },
      "source": [
        "from sklearn.tree import DecisionTreeClassifier\n",
        "decision_tree = DecisionTreeClassifier()\n",
        "decision_tree.fit(X_train, y_train)  \n",
        "y_pred = decision_tree.predict(X_test)  \n",
        "acc_decision_tree = accuracy_score(y_pred, y_test) * 100\n",
        "acc_decision_tree"
      ],
      "execution_count": 195,
      "outputs": [
        {
          "output_type": "execute_result",
          "data": {
            "text/plain": [
              "86.0655737704918"
            ]
          },
          "metadata": {
            "tags": []
          },
          "execution_count": 195
        }
      ]
    },
    {
      "cell_type": "code",
      "metadata": {
        "id": "WHqh_iEor5tw",
        "outputId": "8a6a3d63-a8e2-4cbb-c868-8566bdc83100",
        "colab": {
          "base_uri": "https://localhost:8080/",
          "height": 182
        }
      },
      "source": [
        "from sklearn.metrics import classification_report\n",
        "target_names = ['Healthy ', 'Addicted']\n",
        "print(classification_report(y_test, y_pred, target_names=target_names))"
      ],
      "execution_count": 196,
      "outputs": [
        {
          "output_type": "stream",
          "text": [
            "              precision    recall  f1-score   support\n",
            "\n",
            "    Healthy        0.89      0.90      0.89        80\n",
            "    Addicted       0.80      0.79      0.80        42\n",
            "\n",
            "    accuracy                           0.86       122\n",
            "   macro avg       0.85      0.84      0.84       122\n",
            "weighted avg       0.86      0.86      0.86       122\n",
            "\n"
          ],
          "name": "stdout"
        }
      ]
    },
    {
      "cell_type": "code",
      "metadata": {
        "id": "x3wfO5jvr5tx",
        "outputId": "8f4c4d00-f51c-4702-a047-a971fe8c0c92",
        "colab": {
          "base_uri": "https://localhost:8080/",
          "height": 35
        }
      },
      "source": [
        "from sklearn.naive_bayes import GaussianNB\n",
        "gaussian = GaussianNB()\n",
        "gaussian.fit(X_train, y_train) \n",
        "y_pred = gaussian.predict(X_test)\n",
        "acc_gaussian = accuracy_score(y_pred, y_test) * 100\n",
        "acc_gaussian"
      ],
      "execution_count": 197,
      "outputs": [
        {
          "output_type": "execute_result",
          "data": {
            "text/plain": [
              "91.80327868852459"
            ]
          },
          "metadata": {
            "tags": []
          },
          "execution_count": 197
        }
      ]
    },
    {
      "cell_type": "code",
      "metadata": {
        "id": "Fxq-1Xr5r5tz",
        "outputId": "ea9fe8aa-7c04-4514-abba-04b7ab672bf4",
        "colab": {
          "base_uri": "https://localhost:8080/",
          "height": 182
        }
      },
      "source": [
        "from sklearn.metrics import classification_report\n",
        "target_names = ['Healthy ', 'Addicted']\n",
        "print(classification_report(y_test, y_pred, target_names=target_names))"
      ],
      "execution_count": 198,
      "outputs": [
        {
          "output_type": "stream",
          "text": [
            "              precision    recall  f1-score   support\n",
            "\n",
            "    Healthy        0.99      0.89      0.93        80\n",
            "    Addicted       0.82      0.98      0.89        42\n",
            "\n",
            "    accuracy                           0.92       122\n",
            "   macro avg       0.90      0.93      0.91       122\n",
            "weighted avg       0.93      0.92      0.92       122\n",
            "\n"
          ],
          "name": "stdout"
        }
      ]
    },
    {
      "cell_type": "code",
      "metadata": {
        "id": "ZZDL6Nw1r5t1",
        "outputId": "2c54cd75-e82a-4c19-a38c-b7a663110de1",
        "colab": {
          "base_uri": "https://localhost:8080/",
          "height": 35
        }
      },
      "source": [
        "from sklearn.neighbors import KNeighborsClassifier\n",
        "knn = KNeighborsClassifier(n_neighbors = 2) \n",
        "knn.fit(X_train, y_train)  \n",
        "y_pred = knn.predict(X_test)  \n",
        "acc_knn = accuracy_score(y_pred, y_test) * 100\n",
        "acc_knn"
      ],
      "execution_count": 199,
      "outputs": [
        {
          "output_type": "execute_result",
          "data": {
            "text/plain": [
              "87.70491803278688"
            ]
          },
          "metadata": {
            "tags": []
          },
          "execution_count": 199
        }
      ]
    },
    {
      "cell_type": "code",
      "metadata": {
        "id": "8sTHMsJCr5t2",
        "outputId": "cf5cdb62-1e22-40a2-a8b2-1f1b820d2958",
        "colab": {
          "base_uri": "https://localhost:8080/",
          "height": 182
        }
      },
      "source": [
        "from sklearn.metrics import classification_report\n",
        "target_names = ['Healthy ', 'Addicted']\n",
        "print(classification_report(y_test, y_pred, target_names=target_names))"
      ],
      "execution_count": 200,
      "outputs": [
        {
          "output_type": "stream",
          "text": [
            "              precision    recall  f1-score   support\n",
            "\n",
            "    Healthy        0.87      0.95      0.91        80\n",
            "    Addicted       0.89      0.74      0.81        42\n",
            "\n",
            "    accuracy                           0.88       122\n",
            "   macro avg       0.88      0.84      0.86       122\n",
            "weighted avg       0.88      0.88      0.87       122\n",
            "\n"
          ],
          "name": "stdout"
        }
      ]
    },
    {
      "cell_type": "code",
      "metadata": {
        "id": "nNyBtBnFr5t4",
        "outputId": "90ec8a10-54ed-4001-b1c1-e2a3ec67b53c",
        "colab": {
          "base_uri": "https://localhost:8080/",
          "height": 35
        }
      },
      "source": [
        "from sklearn.ensemble import RandomForestClassifier\n",
        "random_forest= RandomForestClassifier()\n",
        "random_forest.fit(X_train,y_train)\n",
        "y_pred = random_forest.predict(X_test)\n",
        "acc_random_forest = accuracy_score(y_pred,y_test)*100\n",
        "acc_random_forest"
      ],
      "execution_count": 201,
      "outputs": [
        {
          "output_type": "execute_result",
          "data": {
            "text/plain": [
              "92.62295081967213"
            ]
          },
          "metadata": {
            "tags": []
          },
          "execution_count": 201
        }
      ]
    },
    {
      "cell_type": "code",
      "metadata": {
        "id": "3zUmyWYFr5t5",
        "outputId": "918b8ede-42a9-414f-ae8c-256e135aeba6",
        "colab": {
          "base_uri": "https://localhost:8080/",
          "height": 182
        }
      },
      "source": [
        "from sklearn.metrics import classification_report\n",
        "target_names = ['Healthy ', 'Addicted']\n",
        "print(classification_report(y_test, y_pred, target_names=target_names))"
      ],
      "execution_count": 202,
      "outputs": [
        {
          "output_type": "stream",
          "text": [
            "              precision    recall  f1-score   support\n",
            "\n",
            "    Healthy        0.96      0.93      0.94        80\n",
            "    Addicted       0.87      0.93      0.90        42\n",
            "\n",
            "    accuracy                           0.93       122\n",
            "   macro avg       0.91      0.93      0.92       122\n",
            "weighted avg       0.93      0.93      0.93       122\n",
            "\n"
          ],
          "name": "stdout"
        }
      ]
    },
    {
      "cell_type": "code",
      "metadata": {
        "id": "m9y0KocVr5t7",
        "outputId": "93fba599-1e91-4bb1-f290-fb2bf0c7bc87",
        "colab": {
          "base_uri": "https://localhost:8080/",
          "height": 269
        }
      },
      "source": [
        "results = pd.DataFrame({\n",
        "    'Model': ['Support Vector Machines', 'Logistic Regression', \n",
        "              'Random Forest', 'Decision Tree', 'kNearest Neighbors','Gaussian Naive Bayes'],\n",
        "    'Score': [acc_linear_svc, acc_logreg, \n",
        "              acc_random_forest, acc_decision_tree,acc_knn, acc_gaussian]})\n",
        "result_df = results.sort_values(by='Score', ascending=False)\n",
        "result_df = result_df.set_index('Model')\n",
        "result_df"
      ],
      "execution_count": 203,
      "outputs": [
        {
          "output_type": "execute_result",
          "data": {
            "text/html": [
              "<div>\n",
              "<style scoped>\n",
              "    .dataframe tbody tr th:only-of-type {\n",
              "        vertical-align: middle;\n",
              "    }\n",
              "\n",
              "    .dataframe tbody tr th {\n",
              "        vertical-align: top;\n",
              "    }\n",
              "\n",
              "    .dataframe thead th {\n",
              "        text-align: right;\n",
              "    }\n",
              "</style>\n",
              "<table border=\"1\" class=\"dataframe\">\n",
              "  <thead>\n",
              "    <tr style=\"text-align: right;\">\n",
              "      <th></th>\n",
              "      <th>Score</th>\n",
              "    </tr>\n",
              "    <tr>\n",
              "      <th>Model</th>\n",
              "      <th></th>\n",
              "    </tr>\n",
              "  </thead>\n",
              "  <tbody>\n",
              "    <tr>\n",
              "      <th>Support Vector Machines</th>\n",
              "      <td>95.081967</td>\n",
              "    </tr>\n",
              "    <tr>\n",
              "      <th>Logistic Regression</th>\n",
              "      <td>95.081967</td>\n",
              "    </tr>\n",
              "    <tr>\n",
              "      <th>Random Forest</th>\n",
              "      <td>92.622951</td>\n",
              "    </tr>\n",
              "    <tr>\n",
              "      <th>Gaussian Naive Bayes</th>\n",
              "      <td>91.803279</td>\n",
              "    </tr>\n",
              "    <tr>\n",
              "      <th>kNearest Neighbors</th>\n",
              "      <td>87.704918</td>\n",
              "    </tr>\n",
              "    <tr>\n",
              "      <th>Decision Tree</th>\n",
              "      <td>86.065574</td>\n",
              "    </tr>\n",
              "  </tbody>\n",
              "</table>\n",
              "</div>"
            ],
            "text/plain": [
              "                             Score\n",
              "Model                             \n",
              "Support Vector Machines  95.081967\n",
              "Logistic Regression      95.081967\n",
              "Random Forest            92.622951\n",
              "Gaussian Naive Bayes     91.803279\n",
              "kNearest Neighbors       87.704918\n",
              "Decision Tree            86.065574"
            ]
          },
          "metadata": {
            "tags": []
          },
          "execution_count": 203
        }
      ]
    },
    {
      "cell_type": "code",
      "metadata": {
        "id": "0MbpDcIgr5t9",
        "outputId": "82bdbd3e-1d9b-402c-dd07-596a6f723dbd",
        "colab": {
          "base_uri": "https://localhost:8080/",
          "height": 279
        }
      },
      "source": [
        "from sklearn.metrics import plot_roc_curve\n",
        "import matplotlib.pyplot as plt\n",
        "ax = plt.gca()\n",
        "\n",
        "rfc_disp = plot_roc_curve(random_forest, X_test, y_test, ax=ax, alpha=1)\n",
        "knn_disp= plot_roc_curve(knn,X_test,y_test,ax=ax,alpha=1)\n",
        "dt_disp= plot_roc_curve(decision_tree, X_test,y_test, ax=ax,alpha=1)\n",
        "svc_disp = plot_roc_curve(linear_svc,X_test,y_test,ax=ax,alpha=1)\n",
        "gnb_disp=plot_roc_curve(gaussian, X_test, y_test, ax=ax, alpha = 1)\n",
        "logreg_disp = plot_roc_curve(logreg, X_test, y_test, ax=ax, alpha=1)\n",
        "plt.show()"
      ],
      "execution_count": 204,
      "outputs": [
        {
          "output_type": "display_data",
          "data": {
            "image/png": "[encoded data removed]",
            "text/plain": [
              "<Figure size 432x288 with 1 Axes>"
            ]
          },
          "metadata": {
            "tags": [],
            "needs_background": "light"
          }
        }
      ]
    },
    {
      "cell_type": "markdown",
      "metadata": {
        "id": "AENXSyjyr5t-"
      },
      "source": [
        "# 17 features"
      ]
    },
    {
      "cell_type": "code",
      "metadata": {
        "id": "1W-9gfi3r5t_"
      },
      "source": [
        "from sklearn.model_selection import train_test_split\n",
        "train, test = train_test_split(df, test_size=0.33)"
      ],
      "execution_count": 205,
      "outputs": []
    },
    {
      "cell_type": "code",
      "metadata": {
        "id": "SNwU2Iupr5uA"
      },
      "source": [
        "X = chisquared7\n",
        "y = df['goal']\n",
        "from sklearn.model_selection import train_test_split\n",
        "X_train, X_test, y_train, y_test = train_test_split(X, y, random_state=0)\n",
        "from sklearn.preprocessing import MinMaxScaler\n",
        "scaler = MinMaxScaler()\n",
        "X_train = scaler.fit_transform(X_train)\n",
        "X_test = scaler.transform(X_test)"
      ],
      "execution_count": 206,
      "outputs": []
    },
    {
      "cell_type": "code",
      "metadata": {
        "id": "G4oJpElQr5uC",
        "outputId": "902f81e9-7f20-4e14-acd9-c0368685b237",
        "colab": {
          "base_uri": "https://localhost:8080/",
          "height": 35
        }
      },
      "source": [
        "from sklearn.metrics import accuracy_score\n",
        "from sklearn.linear_model import LogisticRegression\n",
        "logreg=LogisticRegression()\n",
        "logreg.fit(X_train,y_train)\n",
        "y_pred=logreg.predict(X_test)\n",
        "acc_logreg= accuracy_score(y_pred,y_test)*100\n",
        "acc_logreg"
      ],
      "execution_count": 207,
      "outputs": [
        {
          "output_type": "execute_result",
          "data": {
            "text/plain": [
              "95.08196721311475"
            ]
          },
          "metadata": {
            "tags": []
          },
          "execution_count": 207
        }
      ]
    },
    {
      "cell_type": "code",
      "metadata": {
        "id": "JGWgLDOor5uD",
        "outputId": "bc010c3e-3290-4987-93a4-2640d43d8714",
        "colab": {
          "base_uri": "https://localhost:8080/",
          "height": 182
        }
      },
      "source": [
        "from sklearn.metrics import classification_report\n",
        "target_names = ['Healthy ', 'Addicted']\n",
        "print(classification_report(y_test, y_pred, target_names=target_names))"
      ],
      "execution_count": 208,
      "outputs": [
        {
          "output_type": "stream",
          "text": [
            "              precision    recall  f1-score   support\n",
            "\n",
            "    Healthy        0.97      0.95      0.96        80\n",
            "    Addicted       0.91      0.95      0.93        42\n",
            "\n",
            "    accuracy                           0.95       122\n",
            "   macro avg       0.94      0.95      0.95       122\n",
            "weighted avg       0.95      0.95      0.95       122\n",
            "\n"
          ],
          "name": "stdout"
        }
      ]
    },
    {
      "cell_type": "code",
      "metadata": {
        "id": "Tj-2GA5pr5uF",
        "outputId": "650323df-1d77-4924-837b-91c5b96b3ec7",
        "colab": {
          "base_uri": "https://localhost:8080/",
          "height": 35
        }
      },
      "source": [
        "from sklearn.svm import LinearSVC\n",
        "linear_svc = LinearSVC()\n",
        "linear_svc.fit(X_train, y_train)\n",
        "\n",
        "y_pred = linear_svc.predict(X_test)\n",
        "\n",
        "acc_linear_svc = accuracy_score(y_pred, y_test) * 100\n",
        "acc_linear_svc"
      ],
      "execution_count": 209,
      "outputs": [
        {
          "output_type": "execute_result",
          "data": {
            "text/plain": [
              "95.08196721311475"
            ]
          },
          "metadata": {
            "tags": []
          },
          "execution_count": 209
        }
      ]
    },
    {
      "cell_type": "code",
      "metadata": {
        "id": "8BjMEk4-r5uH",
        "outputId": "118c3cf8-3abf-4a2e-a121-59682d779232",
        "colab": {
          "base_uri": "https://localhost:8080/",
          "height": 182
        }
      },
      "source": [
        "from sklearn.metrics import classification_report\n",
        "target_names = ['Healthy ', 'Addicted']\n",
        "print(classification_report(y_test, y_pred, target_names=target_names))"
      ],
      "execution_count": 210,
      "outputs": [
        {
          "output_type": "stream",
          "text": [
            "              precision    recall  f1-score   support\n",
            "\n",
            "    Healthy        0.97      0.95      0.96        80\n",
            "    Addicted       0.91      0.95      0.93        42\n",
            "\n",
            "    accuracy                           0.95       122\n",
            "   macro avg       0.94      0.95      0.95       122\n",
            "weighted avg       0.95      0.95      0.95       122\n",
            "\n"
          ],
          "name": "stdout"
        }
      ]
    },
    {
      "cell_type": "code",
      "metadata": {
        "id": "TBbDHR5Er5uK",
        "outputId": "7d758e9d-e36a-45e9-d618-f9b2db573ae5",
        "colab": {
          "base_uri": "https://localhost:8080/",
          "height": 35
        }
      },
      "source": [
        "from sklearn.tree import DecisionTreeClassifier\n",
        "decision_tree = DecisionTreeClassifier()\n",
        "decision_tree.fit(X_train, y_train)  \n",
        "y_pred = decision_tree.predict(X_test)  \n",
        "acc_decision_tree = accuracy_score(y_pred, y_test) * 100\n",
        "acc_decision_tree"
      ],
      "execution_count": 211,
      "outputs": [
        {
          "output_type": "execute_result",
          "data": {
            "text/plain": [
              "85.24590163934425"
            ]
          },
          "metadata": {
            "tags": []
          },
          "execution_count": 211
        }
      ]
    },
    {
      "cell_type": "code",
      "metadata": {
        "id": "ebmVOCv0r5uL",
        "outputId": "bb41d30e-1c23-4dd9-faee-6c91d7c967c6",
        "colab": {
          "base_uri": "https://localhost:8080/",
          "height": 182
        }
      },
      "source": [
        "from sklearn.metrics import classification_report\n",
        "target_names = ['Healthy ', 'Addicted']\n",
        "print(classification_report(y_test, y_pred, target_names=target_names))"
      ],
      "execution_count": 212,
      "outputs": [
        {
          "output_type": "stream",
          "text": [
            "              precision    recall  f1-score   support\n",
            "\n",
            "    Healthy        0.89      0.89      0.89        80\n",
            "    Addicted       0.79      0.79      0.79        42\n",
            "\n",
            "    accuracy                           0.85       122\n",
            "   macro avg       0.84      0.84      0.84       122\n",
            "weighted avg       0.85      0.85      0.85       122\n",
            "\n"
          ],
          "name": "stdout"
        }
      ]
    },
    {
      "cell_type": "code",
      "metadata": {
        "id": "GaBMy1ACr5uN",
        "outputId": "f0f74d10-1599-4f38-e3c6-b9f07362cb4f",
        "colab": {
          "base_uri": "https://localhost:8080/",
          "height": 35
        }
      },
      "source": [
        "from sklearn.naive_bayes import GaussianNB\n",
        "gaussian = GaussianNB()\n",
        "gaussian.fit(X_train, y_train) \n",
        "y_pred = gaussian.predict(X_test)\n",
        "acc_gaussian = accuracy_score(y_pred, y_test) * 100\n",
        "acc_gaussian"
      ],
      "execution_count": 213,
      "outputs": [
        {
          "output_type": "execute_result",
          "data": {
            "text/plain": [
              "91.80327868852459"
            ]
          },
          "metadata": {
            "tags": []
          },
          "execution_count": 213
        }
      ]
    },
    {
      "cell_type": "code",
      "metadata": {
        "id": "dQ1ExFEfr5uO",
        "outputId": "0f3ef7e1-125d-407b-8a58-26d61c401ab7",
        "colab": {
          "base_uri": "https://localhost:8080/",
          "height": 182
        }
      },
      "source": [
        "from sklearn.metrics import classification_report\n",
        "target_names = ['Healthy ', 'Addicted']\n",
        "print(classification_report(y_test, y_pred, target_names=target_names))"
      ],
      "execution_count": 214,
      "outputs": [
        {
          "output_type": "stream",
          "text": [
            "              precision    recall  f1-score   support\n",
            "\n",
            "    Healthy        0.99      0.89      0.93        80\n",
            "    Addicted       0.82      0.98      0.89        42\n",
            "\n",
            "    accuracy                           0.92       122\n",
            "   macro avg       0.90      0.93      0.91       122\n",
            "weighted avg       0.93      0.92      0.92       122\n",
            "\n"
          ],
          "name": "stdout"
        }
      ]
    },
    {
      "cell_type": "code",
      "metadata": {
        "id": "xVip5qxcr5uv",
        "outputId": "d8edf0fd-e8b7-44ca-f24c-32661d4bc024",
        "colab": {
          "base_uri": "https://localhost:8080/",
          "height": 35
        }
      },
      "source": [
        "from sklearn.neighbors import KNeighborsClassifier\n",
        "knn = KNeighborsClassifier(n_neighbors = 2) \n",
        "knn.fit(X_train, y_train)  \n",
        "y_pred = knn.predict(X_test)  \n",
        "acc_knn = accuracy_score(y_pred, y_test) * 100\n",
        "acc_knn"
      ],
      "execution_count": 215,
      "outputs": [
        {
          "output_type": "execute_result",
          "data": {
            "text/plain": [
              "86.0655737704918"
            ]
          },
          "metadata": {
            "tags": []
          },
          "execution_count": 215
        }
      ]
    },
    {
      "cell_type": "code",
      "metadata": {
        "id": "v-lwl9P9r5ux",
        "outputId": "6a53be67-0a25-443a-ec67-8731aadb9e16",
        "colab": {
          "base_uri": "https://localhost:8080/",
          "height": 182
        }
      },
      "source": [
        "from sklearn.metrics import classification_report\n",
        "target_names = ['Healthy ', 'Addicted']\n",
        "print(classification_report(y_test, y_pred, target_names=target_names))"
      ],
      "execution_count": 216,
      "outputs": [
        {
          "output_type": "stream",
          "text": [
            "              precision    recall  f1-score   support\n",
            "\n",
            "    Healthy        0.85      0.95      0.90        80\n",
            "    Addicted       0.88      0.69      0.77        42\n",
            "\n",
            "    accuracy                           0.86       122\n",
            "   macro avg       0.87      0.82      0.84       122\n",
            "weighted avg       0.86      0.86      0.86       122\n",
            "\n"
          ],
          "name": "stdout"
        }
      ]
    },
    {
      "cell_type": "code",
      "metadata": {
        "id": "zlchygqor5uy",
        "outputId": "054e4e78-736a-4c2b-dadf-004128537272",
        "colab": {
          "base_uri": "https://localhost:8080/",
          "height": 35
        }
      },
      "source": [
        "from sklearn.ensemble import RandomForestClassifier\n",
        "random_forest= RandomForestClassifier()\n",
        "random_forest.fit(X_train,y_train)\n",
        "y_pred = random_forest.predict(X_test)\n",
        "acc_random_forest = accuracy_score(y_pred,y_test)*100\n",
        "acc_random_forest"
      ],
      "execution_count": 217,
      "outputs": [
        {
          "output_type": "execute_result",
          "data": {
            "text/plain": [
              "90.98360655737704"
            ]
          },
          "metadata": {
            "tags": []
          },
          "execution_count": 217
        }
      ]
    },
    {
      "cell_type": "code",
      "metadata": {
        "id": "p4k9SE-0r5u0",
        "outputId": "67f5496d-7668-4563-c558-5a3c6af0dc02",
        "colab": {
          "base_uri": "https://localhost:8080/",
          "height": 182
        }
      },
      "source": [
        "from sklearn.metrics import classification_report\n",
        "target_names = ['Healthy ', 'Addicted']\n",
        "print(classification_report(y_test, y_pred, target_names=target_names))"
      ],
      "execution_count": 218,
      "outputs": [
        {
          "output_type": "stream",
          "text": [
            "              precision    recall  f1-score   support\n",
            "\n",
            "    Healthy        0.96      0.90      0.93        80\n",
            "    Addicted       0.83      0.93      0.88        42\n",
            "\n",
            "    accuracy                           0.91       122\n",
            "   macro avg       0.89      0.91      0.90       122\n",
            "weighted avg       0.92      0.91      0.91       122\n",
            "\n"
          ],
          "name": "stdout"
        }
      ]
    },
    {
      "cell_type": "code",
      "metadata": {
        "id": "Cl_94v_0r5u1",
        "outputId": "1f293fd3-5f18-4eda-fd32-3e16cb0b7977",
        "colab": {
          "base_uri": "https://localhost:8080/",
          "height": 269
        }
      },
      "source": [
        "results = pd.DataFrame({\n",
        "    'Model': ['Support Vector Machines', 'Logistic Regression', \n",
        "              'Random Forest', 'Decision Tree', 'kNearest Neighbors','Gaussian Naive Bayes'],\n",
        "    'Score': [acc_linear_svc, acc_logreg, \n",
        "              acc_random_forest, acc_decision_tree,acc_knn, acc_gaussian]})\n",
        "result_df = results.sort_values(by='Score', ascending=False)\n",
        "result_df = result_df.set_index('Model')\n",
        "result_df"
      ],
      "execution_count": 219,
      "outputs": [
        {
          "output_type": "execute_result",
          "data": {
            "text/html": [
              "<div>\n",
              "<style scoped>\n",
              "    .dataframe tbody tr th:only-of-type {\n",
              "        vertical-align: middle;\n",
              "    }\n",
              "\n",
              "    .dataframe tbody tr th {\n",
              "        vertical-align: top;\n",
              "    }\n",
              "\n",
              "    .dataframe thead th {\n",
              "        text-align: right;\n",
              "    }\n",
              "</style>\n",
              "<table border=\"1\" class=\"dataframe\">\n",
              "  <thead>\n",
              "    <tr style=\"text-align: right;\">\n",
              "      <th></th>\n",
              "      <th>Score</th>\n",
              "    </tr>\n",
              "    <tr>\n",
              "      <th>Model</th>\n",
              "      <th></th>\n",
              "    </tr>\n",
              "  </thead>\n",
              "  <tbody>\n",
              "    <tr>\n",
              "      <th>Support Vector Machines</th>\n",
              "      <td>95.081967</td>\n",
              "    </tr>\n",
              "    <tr>\n",
              "      <th>Logistic Regression</th>\n",
              "      <td>95.081967</td>\n",
              "    </tr>\n",
              "    <tr>\n",
              "      <th>Gaussian Naive Bayes</th>\n",
              "      <td>91.803279</td>\n",
              "    </tr>\n",
              "    <tr>\n",
              "      <th>Random Forest</th>\n",
              "      <td>90.983607</td>\n",
              "    </tr>\n",
              "    <tr>\n",
              "      <th>kNearest Neighbors</th>\n",
              "      <td>86.065574</td>\n",
              "    </tr>\n",
              "    <tr>\n",
              "      <th>Decision Tree</th>\n",
              "      <td>85.245902</td>\n",
              "    </tr>\n",
              "  </tbody>\n",
              "</table>\n",
              "</div>"
            ],
            "text/plain": [
              "                             Score\n",
              "Model                             \n",
              "Support Vector Machines  95.081967\n",
              "Logistic Regression      95.081967\n",
              "Gaussian Naive Bayes     91.803279\n",
              "Random Forest            90.983607\n",
              "kNearest Neighbors       86.065574\n",
              "Decision Tree            85.245902"
            ]
          },
          "metadata": {
            "tags": []
          },
          "execution_count": 219
        }
      ]
    },
    {
      "cell_type": "code",
      "metadata": {
        "id": "PiK3Hl4nr5u4",
        "outputId": "69b2233a-c284-4242-e61f-6c182ad0b8cf",
        "colab": {
          "base_uri": "https://localhost:8080/",
          "height": 279
        }
      },
      "source": [
        "from sklearn.metrics import plot_roc_curve\n",
        "import matplotlib.pyplot as plt\n",
        "ax = plt.gca()\n",
        "\n",
        "rfc_disp = plot_roc_curve(random_forest, X_test, y_test, ax=ax, alpha=1)\n",
        "knn_disp= plot_roc_curve(knn,X_test,y_test,ax=ax,alpha=1)\n",
        "dt_disp= plot_roc_curve(decision_tree, X_test,y_test, ax=ax,alpha=1)\n",
        "svc_disp = plot_roc_curve(linear_svc,X_test,y_test,ax=ax,alpha=1)\n",
        "gnb_disp=plot_roc_curve(gaussian, X_test, y_test, ax=ax, alpha = 1)\n",
        "logreg_disp = plot_roc_curve(logreg, X_test, y_test, ax=ax, alpha=1)\n",
        "plt.show()"
      ],
      "execution_count": 220,
      "outputs": [
        {
          "output_type": "display_data",
          "data": {
            "image/png": "[encoded data removed]",
            "text/plain": [
              "<Figure size 432x288 with 1 Axes>"
            ]
          },
          "metadata": {
            "tags": [],
            "needs_background": "light"
          }
        }
      ]
    },
    {
      "cell_type": "markdown",
      "metadata": {
        "id": "R8roSKNFr5u5"
      },
      "source": [
        "#  18 features"
      ]
    },
    {
      "cell_type": "code",
      "metadata": {
        "id": "u90fno3Nr5u6"
      },
      "source": [
        "from sklearn.model_selection import train_test_split\n",
        "train, test = train_test_split(df, test_size=0.33)"
      ],
      "execution_count": 221,
      "outputs": []
    },
    {
      "cell_type": "code",
      "metadata": {
        "id": "G9Q8TLtTr5u8"
      },
      "source": [
        "X = chisquared8\n",
        "y = df['goal']\n",
        "from sklearn.model_selection import train_test_split\n",
        "X_train, X_test, y_train, y_test = train_test_split(X, y, random_state=0)\n",
        "from sklearn.preprocessing import MinMaxScaler\n",
        "scaler = MinMaxScaler()\n",
        "X_train = scaler.fit_transform(X_train)\n",
        "X_test = scaler.transform(X_test)"
      ],
      "execution_count": 222,
      "outputs": []
    },
    {
      "cell_type": "code",
      "metadata": {
        "id": "DgQM3O35r5u9",
        "outputId": "9bd08c7a-3ed2-4552-85ae-c4130a67169b",
        "colab": {
          "base_uri": "https://localhost:8080/",
          "height": 35
        }
      },
      "source": [
        "from sklearn.metrics import accuracy_score\n",
        "from sklearn.linear_model import LogisticRegression\n",
        "logreg=LogisticRegression()\n",
        "logreg.fit(X_train,y_train)\n",
        "y_pred=logreg.predict(X_test)\n",
        "acc_logreg= accuracy_score(y_pred,y_test)*100\n",
        "acc_logreg"
      ],
      "execution_count": 223,
      "outputs": [
        {
          "output_type": "execute_result",
          "data": {
            "text/plain": [
              "96.72131147540983"
            ]
          },
          "metadata": {
            "tags": []
          },
          "execution_count": 223
        }
      ]
    },
    {
      "cell_type": "code",
      "metadata": {
        "id": "WH_zm1Xtr5u_",
        "outputId": "1f204949-75d8-43b7-bc8d-8b7066a4c289",
        "colab": {
          "base_uri": "https://localhost:8080/",
          "height": 182
        }
      },
      "source": [
        "from sklearn.metrics import classification_report\n",
        "target_names = ['Healthy ', 'Addicted']\n",
        "print(classification_report(y_test, y_pred, target_names=target_names))"
      ],
      "execution_count": 224,
      "outputs": [
        {
          "output_type": "stream",
          "text": [
            "              precision    recall  f1-score   support\n",
            "\n",
            "    Healthy        0.99      0.96      0.97        80\n",
            "    Addicted       0.93      0.98      0.95        42\n",
            "\n",
            "    accuracy                           0.97       122\n",
            "   macro avg       0.96      0.97      0.96       122\n",
            "weighted avg       0.97      0.97      0.97       122\n",
            "\n"
          ],
          "name": "stdout"
        }
      ]
    },
    {
      "cell_type": "code",
      "metadata": {
        "id": "iKwym1HPr5vB",
        "outputId": "12aaae6d-da8f-46d2-928f-fb04c5cb76a1",
        "colab": {
          "base_uri": "https://localhost:8080/",
          "height": 35
        }
      },
      "source": [
        "from sklearn.svm import LinearSVC\n",
        "linear_svc = LinearSVC()\n",
        "linear_svc.fit(X_train, y_train)\n",
        "\n",
        "y_pred = linear_svc.predict(X_test)\n",
        "\n",
        "acc_linear_svc = accuracy_score(y_pred, y_test) * 100\n",
        "acc_linear_svc"
      ],
      "execution_count": 225,
      "outputs": [
        {
          "output_type": "execute_result",
          "data": {
            "text/plain": [
              "95.08196721311475"
            ]
          },
          "metadata": {
            "tags": []
          },
          "execution_count": 225
        }
      ]
    },
    {
      "cell_type": "code",
      "metadata": {
        "id": "wJUey4fir5vC",
        "outputId": "214742cb-a4de-4da3-c520-5433f0c5825d",
        "colab": {
          "base_uri": "https://localhost:8080/",
          "height": 182
        }
      },
      "source": [
        "from sklearn.metrics import classification_report\n",
        "target_names = ['Healthy ', 'Addicted']\n",
        "print(classification_report(y_test, y_pred, target_names=target_names))"
      ],
      "execution_count": 226,
      "outputs": [
        {
          "output_type": "stream",
          "text": [
            "              precision    recall  f1-score   support\n",
            "\n",
            "    Healthy        0.97      0.95      0.96        80\n",
            "    Addicted       0.91      0.95      0.93        42\n",
            "\n",
            "    accuracy                           0.95       122\n",
            "   macro avg       0.94      0.95      0.95       122\n",
            "weighted avg       0.95      0.95      0.95       122\n",
            "\n"
          ],
          "name": "stdout"
        }
      ]
    },
    {
      "cell_type": "code",
      "metadata": {
        "id": "iH38WNdQr5vE",
        "outputId": "fc305b0d-7df6-4571-a33f-a870fc8323f9",
        "colab": {
          "base_uri": "https://localhost:8080/",
          "height": 35
        }
      },
      "source": [
        "from sklearn.tree import DecisionTreeClassifier\n",
        "decision_tree = DecisionTreeClassifier()\n",
        "decision_tree.fit(X_train, y_train)  \n",
        "y_pred = decision_tree.predict(X_test)  \n",
        "acc_decision_tree = accuracy_score(y_pred, y_test) * 100\n",
        "acc_decision_tree"
      ],
      "execution_count": 227,
      "outputs": [
        {
          "output_type": "execute_result",
          "data": {
            "text/plain": [
              "86.88524590163934"
            ]
          },
          "metadata": {
            "tags": []
          },
          "execution_count": 227
        }
      ]
    },
    {
      "cell_type": "code",
      "metadata": {
        "id": "JnA6RJ_gr5vG",
        "outputId": "a231c9ad-361f-4e9f-be70-b05637960d13",
        "colab": {
          "base_uri": "https://localhost:8080/",
          "height": 182
        }
      },
      "source": [
        "from sklearn.metrics import classification_report\n",
        "target_names = ['Healthy ', 'Addicted']\n",
        "print(classification_report(y_test, y_pred, target_names=target_names))"
      ],
      "execution_count": 228,
      "outputs": [
        {
          "output_type": "stream",
          "text": [
            "              precision    recall  f1-score   support\n",
            "\n",
            "    Healthy        0.90      0.90      0.90        80\n",
            "    Addicted       0.81      0.81      0.81        42\n",
            "\n",
            "    accuracy                           0.87       122\n",
            "   macro avg       0.85      0.85      0.85       122\n",
            "weighted avg       0.87      0.87      0.87       122\n",
            "\n"
          ],
          "name": "stdout"
        }
      ]
    },
    {
      "cell_type": "code",
      "metadata": {
        "id": "srZVnlHMr5vH",
        "outputId": "75b89a13-7f46-45a1-ec99-bc9d0f08d57f",
        "colab": {
          "base_uri": "https://localhost:8080/",
          "height": 35
        }
      },
      "source": [
        "from sklearn.naive_bayes import GaussianNB\n",
        "gaussian = GaussianNB()\n",
        "gaussian.fit(X_train, y_train) \n",
        "y_pred = gaussian.predict(X_test)\n",
        "acc_gaussian = accuracy_score(y_pred, y_test) * 100\n",
        "acc_gaussian"
      ],
      "execution_count": 229,
      "outputs": [
        {
          "output_type": "execute_result",
          "data": {
            "text/plain": [
              "91.80327868852459"
            ]
          },
          "metadata": {
            "tags": []
          },
          "execution_count": 229
        }
      ]
    },
    {
      "cell_type": "code",
      "metadata": {
        "id": "ncLD0VkSr5vJ",
        "outputId": "33f3ab31-b6a3-44cf-dc4a-eafb080babc6",
        "colab": {
          "base_uri": "https://localhost:8080/",
          "height": 182
        }
      },
      "source": [
        "from sklearn.metrics import classification_report\n",
        "target_names = ['Healthy ', 'Addicted']\n",
        "print(classification_report(y_test, y_pred, target_names=target_names))"
      ],
      "execution_count": 230,
      "outputs": [
        {
          "output_type": "stream",
          "text": [
            "              precision    recall  f1-score   support\n",
            "\n",
            "    Healthy        0.99      0.89      0.93        80\n",
            "    Addicted       0.82      0.98      0.89        42\n",
            "\n",
            "    accuracy                           0.92       122\n",
            "   macro avg       0.90      0.93      0.91       122\n",
            "weighted avg       0.93      0.92      0.92       122\n",
            "\n"
          ],
          "name": "stdout"
        }
      ]
    },
    {
      "cell_type": "code",
      "metadata": {
        "id": "Ti9v3u1Or5vL",
        "outputId": "f25ca809-83d8-4d00-9647-8fc7373ba3a4",
        "colab": {
          "base_uri": "https://localhost:8080/",
          "height": 35
        }
      },
      "source": [
        "from sklearn.neighbors import KNeighborsClassifier\n",
        "knn = KNeighborsClassifier(n_neighbors = 2) \n",
        "knn.fit(X_train, y_train)  \n",
        "y_pred = knn.predict(X_test)  \n",
        "acc_knn = accuracy_score(y_pred, y_test) * 100\n",
        "acc_knn"
      ],
      "execution_count": 231,
      "outputs": [
        {
          "output_type": "execute_result",
          "data": {
            "text/plain": [
              "85.24590163934425"
            ]
          },
          "metadata": {
            "tags": []
          },
          "execution_count": 231
        }
      ]
    },
    {
      "cell_type": "code",
      "metadata": {
        "id": "3AV98N1kr5vM",
        "outputId": "a2188c7f-d319-4f35-be8a-b0d8dddb569b",
        "colab": {
          "base_uri": "https://localhost:8080/",
          "height": 182
        }
      },
      "source": [
        "from sklearn.metrics import classification_report\n",
        "target_names = ['Healthy ', 'Addicted']\n",
        "print(classification_report(y_test, y_pred, target_names=target_names))"
      ],
      "execution_count": 232,
      "outputs": [
        {
          "output_type": "stream",
          "text": [
            "              precision    recall  f1-score   support\n",
            "\n",
            "    Healthy        0.85      0.94      0.89        80\n",
            "    Addicted       0.85      0.69      0.76        42\n",
            "\n",
            "    accuracy                           0.85       122\n",
            "   macro avg       0.85      0.81      0.83       122\n",
            "weighted avg       0.85      0.85      0.85       122\n",
            "\n"
          ],
          "name": "stdout"
        }
      ]
    },
    {
      "cell_type": "code",
      "metadata": {
        "id": "BjEQyPDpr5vN",
        "outputId": "ba8feb21-1e9a-486d-d858-a57299b0275b",
        "colab": {
          "base_uri": "https://localhost:8080/",
          "height": 35
        }
      },
      "source": [
        "from sklearn.ensemble import RandomForestClassifier\n",
        "random_forest= RandomForestClassifier()\n",
        "random_forest.fit(X_train,y_train)\n",
        "y_pred = random_forest.predict(X_test)\n",
        "acc_random_forest = accuracy_score(y_pred,y_test)*100\n",
        "acc_random_forest"
      ],
      "execution_count": 233,
      "outputs": [
        {
          "output_type": "execute_result",
          "data": {
            "text/plain": [
              "92.62295081967213"
            ]
          },
          "metadata": {
            "tags": []
          },
          "execution_count": 233
        }
      ]
    },
    {
      "cell_type": "code",
      "metadata": {
        "id": "jOr4bbCGr5vP",
        "outputId": "4e1e9e06-e1f2-4f6e-a888-bcc3bdf88d75",
        "colab": {
          "base_uri": "https://localhost:8080/",
          "height": 182
        }
      },
      "source": [
        "from sklearn.metrics import classification_report\n",
        "target_names = ['Healthy ', 'Addicted']\n",
        "print(classification_report(y_test, y_pred, target_names=target_names))"
      ],
      "execution_count": 234,
      "outputs": [
        {
          "output_type": "stream",
          "text": [
            "              precision    recall  f1-score   support\n",
            "\n",
            "    Healthy        0.97      0.91      0.94        80\n",
            "    Addicted       0.85      0.95      0.90        42\n",
            "\n",
            "    accuracy                           0.93       122\n",
            "   macro avg       0.91      0.93      0.92       122\n",
            "weighted avg       0.93      0.93      0.93       122\n",
            "\n"
          ],
          "name": "stdout"
        }
      ]
    },
    {
      "cell_type": "code",
      "metadata": {
        "id": "k2t7A1XUr5vR",
        "outputId": "6bd207ff-81f5-434a-de1a-aedd7fb0a9e6",
        "colab": {
          "base_uri": "https://localhost:8080/",
          "height": 269
        }
      },
      "source": [
        "results = pd.DataFrame({\n",
        "    'Model': ['Support Vector Machines', 'Logistic Regression', \n",
        "              'Random Forest', 'Decision Tree', 'kNearest Neighbors','Gaussian Naive Bayes'],\n",
        "    'Score': [acc_linear_svc, acc_logreg, \n",
        "              acc_random_forest, acc_decision_tree,acc_knn, acc_gaussian]})\n",
        "result_df = results.sort_values(by='Score', ascending=False)\n",
        "result_df = result_df.set_index('Model')\n",
        "result_df"
      ],
      "execution_count": 235,
      "outputs": [
        {
          "output_type": "execute_result",
          "data": {
            "text/html": [
              "<div>\n",
              "<style scoped>\n",
              "    .dataframe tbody tr th:only-of-type {\n",
              "        vertical-align: middle;\n",
              "    }\n",
              "\n",
              "    .dataframe tbody tr th {\n",
              "        vertical-align: top;\n",
              "    }\n",
              "\n",
              "    .dataframe thead th {\n",
              "        text-align: right;\n",
              "    }\n",
              "</style>\n",
              "<table border=\"1\" class=\"dataframe\">\n",
              "  <thead>\n",
              "    <tr style=\"text-align: right;\">\n",
              "      <th></th>\n",
              "      <th>Score</th>\n",
              "    </tr>\n",
              "    <tr>\n",
              "      <th>Model</th>\n",
              "      <th></th>\n",
              "    </tr>\n",
              "  </thead>\n",
              "  <tbody>\n",
              "    <tr>\n",
              "      <th>Logistic Regression</th>\n",
              "      <td>96.721311</td>\n",
              "    </tr>\n",
              "    <tr>\n",
              "      <th>Support Vector Machines</th>\n",
              "      <td>95.081967</td>\n",
              "    </tr>\n",
              "    <tr>\n",
              "      <th>Random Forest</th>\n",
              "      <td>92.622951</td>\n",
              "    </tr>\n",
              "    <tr>\n",
              "      <th>Gaussian Naive Bayes</th>\n",
              "      <td>91.803279</td>\n",
              "    </tr>\n",
              "    <tr>\n",
              "      <th>Decision Tree</th>\n",
              "      <td>86.885246</td>\n",
              "    </tr>\n",
              "    <tr>\n",
              "      <th>kNearest Neighbors</th>\n",
              "      <td>85.245902</td>\n",
              "    </tr>\n",
              "  </tbody>\n",
              "</table>\n",
              "</div>"
            ],
            "text/plain": [
              "                             Score\n",
              "Model                             \n",
              "Logistic Regression      96.721311\n",
              "Support Vector Machines  95.081967\n",
              "Random Forest            92.622951\n",
              "Gaussian Naive Bayes     91.803279\n",
              "Decision Tree            86.885246\n",
              "kNearest Neighbors       85.245902"
            ]
          },
          "metadata": {
            "tags": []
          },
          "execution_count": 235
        }
      ]
    },
    {
      "cell_type": "code",
      "metadata": {
        "id": "m3nz7bLWr5vT",
        "outputId": "f467088b-e1cd-4f64-b882-5f3a6414cc05",
        "colab": {
          "base_uri": "https://localhost:8080/",
          "height": 279
        }
      },
      "source": [
        "from sklearn.metrics import plot_roc_curve\n",
        "import matplotlib.pyplot as plt\n",
        "ax = plt.gca()\n",
        "\n",
        "rfc_disp = plot_roc_curve(random_forest, X_test, y_test, ax=ax, alpha=1)\n",
        "knn_disp= plot_roc_curve(knn,X_test,y_test,ax=ax,alpha=1)\n",
        "dt_disp= plot_roc_curve(decision_tree, X_test,y_test, ax=ax,alpha=1)\n",
        "svc_disp = plot_roc_curve(linear_svc,X_test,y_test,ax=ax,alpha=1)\n",
        "gnb_disp=plot_roc_curve(gaussian, X_test, y_test, ax=ax, alpha = 1)\n",
        "logreg_disp = plot_roc_curve(logreg, X_test, y_test, ax=ax, alpha=1)\n",
        "plt.show()"
      ],
      "execution_count": 236,
      "outputs": [
        {
          "output_type": "display_data",
          "data": {
            "image/png": "[encoded data removed]",
            "text/plain": [
              "<Figure size 432x288 with 1 Axes>"
            ]
          },
          "metadata": {
            "tags": [],
            "needs_background": "light"
          }
        }
      ]
    },
    {
      "cell_type": "markdown",
      "metadata": {
        "id": "J_CcqmHer5vU"
      },
      "source": [
        "#  19 features"
      ]
    },
    {
      "cell_type": "code",
      "metadata": {
        "id": "nUKwRNVSr5vU"
      },
      "source": [
        "from sklearn.model_selection import train_test_split\n",
        "train, test = train_test_split(df, test_size=0.33)"
      ],
      "execution_count": 237,
      "outputs": []
    },
    {
      "cell_type": "code",
      "metadata": {
        "id": "iqR5xiTXr5vW"
      },
      "source": [
        "X = chisquared9\n",
        "y = df['goal']\n",
        "from sklearn.model_selection import train_test_split\n",
        "X_train, X_test, y_train, y_test = train_test_split(X, y, random_state=0)\n",
        "from sklearn.preprocessing import MinMaxScaler\n",
        "scaler = MinMaxScaler()\n",
        "X_train = scaler.fit_transform(X_train)\n",
        "X_test = scaler.transform(X_test)"
      ],
      "execution_count": 238,
      "outputs": []
    },
    {
      "cell_type": "code",
      "metadata": {
        "id": "uFLf1r6Er5vX",
        "outputId": "05875c26-6170-4fc6-f401-2001bd1bc9ae",
        "colab": {
          "base_uri": "https://localhost:8080/",
          "height": 35
        }
      },
      "source": [
        "from sklearn.metrics import accuracy_score\n",
        "from sklearn.linear_model import LogisticRegression\n",
        "logreg=LogisticRegression()\n",
        "logreg.fit(X_train,y_train)\n",
        "y_pred=logreg.predict(X_test)\n",
        "acc_logreg= accuracy_score(y_pred,y_test)*100\n",
        "acc_logreg"
      ],
      "execution_count": 239,
      "outputs": [
        {
          "output_type": "execute_result",
          "data": {
            "text/plain": [
              "95.90163934426229"
            ]
          },
          "metadata": {
            "tags": []
          },
          "execution_count": 239
        }
      ]
    },
    {
      "cell_type": "code",
      "metadata": {
        "id": "ZpsexC3Kr5va",
        "outputId": "fcfed975-c008-4d9d-a6da-0ecc3a47de38",
        "colab": {
          "base_uri": "https://localhost:8080/",
          "height": 182
        }
      },
      "source": [
        "from sklearn.metrics import classification_report\n",
        "target_names = ['Healthy ', 'Addicted']\n",
        "print(classification_report(y_test, y_pred, target_names=target_names))"
      ],
      "execution_count": 240,
      "outputs": [
        {
          "output_type": "stream",
          "text": [
            "              precision    recall  f1-score   support\n",
            "\n",
            "    Healthy        0.99      0.95      0.97        80\n",
            "    Addicted       0.91      0.98      0.94        42\n",
            "\n",
            "    accuracy                           0.96       122\n",
            "   macro avg       0.95      0.96      0.96       122\n",
            "weighted avg       0.96      0.96      0.96       122\n",
            "\n"
          ],
          "name": "stdout"
        }
      ]
    },
    {
      "cell_type": "code",
      "metadata": {
        "id": "A3LRSQdzr5vd",
        "outputId": "9d1ecf9e-1c37-4f30-8536-8be64c042956",
        "colab": {
          "base_uri": "https://localhost:8080/",
          "height": 35
        }
      },
      "source": [
        "from sklearn.svm import LinearSVC\n",
        "linear_svc = LinearSVC()\n",
        "linear_svc.fit(X_train, y_train)\n",
        "\n",
        "y_pred = linear_svc.predict(X_test)\n",
        "\n",
        "acc_linear_svc = accuracy_score(y_pred, y_test) * 100\n",
        "acc_linear_svc"
      ],
      "execution_count": 241,
      "outputs": [
        {
          "output_type": "execute_result",
          "data": {
            "text/plain": [
              "95.08196721311475"
            ]
          },
          "metadata": {
            "tags": []
          },
          "execution_count": 241
        }
      ]
    },
    {
      "cell_type": "code",
      "metadata": {
        "id": "8KWRdqcKr5ve",
        "outputId": "eed26016-7aee-4d25-c01e-d13e7a997303",
        "colab": {
          "base_uri": "https://localhost:8080/",
          "height": 182
        }
      },
      "source": [
        "from sklearn.metrics import classification_report\n",
        "target_names = ['Healthy ', 'Addicted']\n",
        "print(classification_report(y_test, y_pred, target_names=target_names))"
      ],
      "execution_count": 242,
      "outputs": [
        {
          "output_type": "stream",
          "text": [
            "              precision    recall  f1-score   support\n",
            "\n",
            "    Healthy        0.99      0.94      0.96        80\n",
            "    Addicted       0.89      0.98      0.93        42\n",
            "\n",
            "    accuracy                           0.95       122\n",
            "   macro avg       0.94      0.96      0.95       122\n",
            "weighted avg       0.95      0.95      0.95       122\n",
            "\n"
          ],
          "name": "stdout"
        }
      ]
    },
    {
      "cell_type": "code",
      "metadata": {
        "id": "-0z87X2nr5vg",
        "outputId": "abb8b885-c564-47e3-b76c-9cfe6bcc8297",
        "colab": {
          "base_uri": "https://localhost:8080/",
          "height": 35
        }
      },
      "source": [
        "from sklearn.tree import DecisionTreeClassifier\n",
        "decision_tree = DecisionTreeClassifier()\n",
        "decision_tree.fit(X_train, y_train)  \n",
        "y_pred = decision_tree.predict(X_test)  \n",
        "acc_decision_tree = accuracy_score(y_pred, y_test) * 100\n",
        "acc_decision_tree"
      ],
      "execution_count": 243,
      "outputs": [
        {
          "output_type": "execute_result",
          "data": {
            "text/plain": [
              "88.52459016393442"
            ]
          },
          "metadata": {
            "tags": []
          },
          "execution_count": 243
        }
      ]
    },
    {
      "cell_type": "code",
      "metadata": {
        "id": "L7_ZIiMcr5vh",
        "outputId": "205ab6b1-d573-497f-9bf4-7174a8d4c069",
        "colab": {
          "base_uri": "https://localhost:8080/",
          "height": 182
        }
      },
      "source": [
        "from sklearn.metrics import classification_report\n",
        "target_names = ['Healthy ', 'Addicted']\n",
        "print(classification_report(y_test, y_pred, target_names=target_names))"
      ],
      "execution_count": 244,
      "outputs": [
        {
          "output_type": "stream",
          "text": [
            "              precision    recall  f1-score   support\n",
            "\n",
            "    Healthy        0.91      0.91      0.91        80\n",
            "    Addicted       0.83      0.83      0.83        42\n",
            "\n",
            "    accuracy                           0.89       122\n",
            "   macro avg       0.87      0.87      0.87       122\n",
            "weighted avg       0.89      0.89      0.89       122\n",
            "\n"
          ],
          "name": "stdout"
        }
      ]
    },
    {
      "cell_type": "code",
      "metadata": {
        "id": "zUKsGP4lr5vj",
        "outputId": "982ab015-6017-4940-de78-a46cdd106a8f",
        "colab": {
          "base_uri": "https://localhost:8080/",
          "height": 35
        }
      },
      "source": [
        "from sklearn.naive_bayes import GaussianNB\n",
        "gaussian = GaussianNB()\n",
        "gaussian.fit(X_train, y_train) \n",
        "y_pred = gaussian.predict(X_test)\n",
        "acc_gaussian = accuracy_score(y_pred, y_test) * 100\n",
        "acc_gaussian"
      ],
      "execution_count": 245,
      "outputs": [
        {
          "output_type": "execute_result",
          "data": {
            "text/plain": [
              "90.1639344262295"
            ]
          },
          "metadata": {
            "tags": []
          },
          "execution_count": 245
        }
      ]
    },
    {
      "cell_type": "code",
      "metadata": {
        "id": "tNouas_br5vk",
        "outputId": "82168e3d-62cc-4575-bb49-53491158c006",
        "colab": {
          "base_uri": "https://localhost:8080/",
          "height": 182
        }
      },
      "source": [
        "from sklearn.metrics import classification_report\n",
        "target_names = ['Healthy ', 'Addicted']\n",
        "print(classification_report(y_test, y_pred, target_names=target_names))"
      ],
      "execution_count": 246,
      "outputs": [
        {
          "output_type": "stream",
          "text": [
            "              precision    recall  f1-score   support\n",
            "\n",
            "    Healthy        0.99      0.86      0.92        80\n",
            "    Addicted       0.79      0.98      0.87        42\n",
            "\n",
            "    accuracy                           0.90       122\n",
            "   macro avg       0.89      0.92      0.90       122\n",
            "weighted avg       0.92      0.90      0.90       122\n",
            "\n"
          ],
          "name": "stdout"
        }
      ]
    },
    {
      "cell_type": "code",
      "metadata": {
        "id": "JTkH5LFmr5vm",
        "outputId": "3bc3ea3a-00e3-4423-c04a-ec8dd12dc077",
        "colab": {
          "base_uri": "https://localhost:8080/",
          "height": 35
        }
      },
      "source": [
        "from sklearn.neighbors import KNeighborsClassifier\n",
        "knn = KNeighborsClassifier(n_neighbors = 2) \n",
        "knn.fit(X_train, y_train)  \n",
        "y_pred = knn.predict(X_test)  \n",
        "acc_knn = accuracy_score(y_pred, y_test) * 100\n",
        "acc_knn"
      ],
      "execution_count": 247,
      "outputs": [
        {
          "output_type": "execute_result",
          "data": {
            "text/plain": [
              "86.0655737704918"
            ]
          },
          "metadata": {
            "tags": []
          },
          "execution_count": 247
        }
      ]
    },
    {
      "cell_type": "code",
      "metadata": {
        "id": "uAymn5ADr5vn",
        "outputId": "c0d26169-c1f8-4d7a-b079-92fac1ef02b6",
        "colab": {
          "base_uri": "https://localhost:8080/",
          "height": 182
        }
      },
      "source": [
        "from sklearn.metrics import classification_report\n",
        "target_names = ['Healthy ', 'Addicted']\n",
        "print(classification_report(y_test, y_pred, target_names=target_names))"
      ],
      "execution_count": 248,
      "outputs": [
        {
          "output_type": "stream",
          "text": [
            "              precision    recall  f1-score   support\n",
            "\n",
            "    Healthy        0.85      0.95      0.90        80\n",
            "    Addicted       0.88      0.69      0.77        42\n",
            "\n",
            "    accuracy                           0.86       122\n",
            "   macro avg       0.87      0.82      0.84       122\n",
            "weighted avg       0.86      0.86      0.86       122\n",
            "\n"
          ],
          "name": "stdout"
        }
      ]
    },
    {
      "cell_type": "code",
      "metadata": {
        "id": "4u9R9l7Er5vr",
        "outputId": "8f141be7-6467-4747-e2b8-6c3666a49a2e",
        "colab": {
          "base_uri": "https://localhost:8080/",
          "height": 35
        }
      },
      "source": [
        "from sklearn.ensemble import RandomForestClassifier\n",
        "random_forest= RandomForestClassifier()\n",
        "random_forest.fit(X_train,y_train)\n",
        "y_pred = random_forest.predict(X_test)\n",
        "acc_random_forest = accuracy_score(y_pred,y_test)*100\n",
        "acc_random_forest"
      ],
      "execution_count": 249,
      "outputs": [
        {
          "output_type": "execute_result",
          "data": {
            "text/plain": [
              "92.62295081967213"
            ]
          },
          "metadata": {
            "tags": []
          },
          "execution_count": 249
        }
      ]
    },
    {
      "cell_type": "code",
      "metadata": {
        "id": "M4XF1gmTr5vt",
        "outputId": "61adb30a-7441-46d4-95b3-ae8c231e4180",
        "colab": {
          "base_uri": "https://localhost:8080/",
          "height": 182
        }
      },
      "source": [
        "from sklearn.metrics import classification_report\n",
        "target_names = ['Healthy ', 'Addicted']\n",
        "print(classification_report(y_test, y_pred, target_names=target_names))"
      ],
      "execution_count": 250,
      "outputs": [
        {
          "output_type": "stream",
          "text": [
            "              precision    recall  f1-score   support\n",
            "\n",
            "    Healthy        0.97      0.91      0.94        80\n",
            "    Addicted       0.85      0.95      0.90        42\n",
            "\n",
            "    accuracy                           0.93       122\n",
            "   macro avg       0.91      0.93      0.92       122\n",
            "weighted avg       0.93      0.93      0.93       122\n",
            "\n"
          ],
          "name": "stdout"
        }
      ]
    },
    {
      "cell_type": "code",
      "metadata": {
        "id": "C0eOqQolr5vv",
        "outputId": "55ba13d3-2be2-498b-bb83-bc57aac966d4",
        "colab": {
          "base_uri": "https://localhost:8080/",
          "height": 269
        }
      },
      "source": [
        "results = pd.DataFrame({\n",
        "    'Model': ['Support Vector Machines', 'Logistic Regression', \n",
        "              'Random Forest', 'Decision Tree', 'kNearest Neighbors','Gaussian Naive Bayes'],\n",
        "    'Score': [acc_linear_svc, acc_logreg, \n",
        "              acc_random_forest, acc_decision_tree,acc_knn, acc_gaussian]})\n",
        "result_df = results.sort_values(by='Score', ascending=False)\n",
        "result_df = result_df.set_index('Model')\n",
        "result_df"
      ],
      "execution_count": 251,
      "outputs": [
        {
          "output_type": "execute_result",
          "data": {
            "text/html": [
              "<div>\n",
              "<style scoped>\n",
              "    .dataframe tbody tr th:only-of-type {\n",
              "        vertical-align: middle;\n",
              "    }\n",
              "\n",
              "    .dataframe tbody tr th {\n",
              "        vertical-align: top;\n",
              "    }\n",
              "\n",
              "    .dataframe thead th {\n",
              "        text-align: right;\n",
              "    }\n",
              "</style>\n",
              "<table border=\"1\" class=\"dataframe\">\n",
              "  <thead>\n",
              "    <tr style=\"text-align: right;\">\n",
              "      <th></th>\n",
              "      <th>Score</th>\n",
              "    </tr>\n",
              "    <tr>\n",
              "      <th>Model</th>\n",
              "      <th></th>\n",
              "    </tr>\n",
              "  </thead>\n",
              "  <tbody>\n",
              "    <tr>\n",
              "      <th>Logistic Regression</th>\n",
              "      <td>95.901639</td>\n",
              "    </tr>\n",
              "    <tr>\n",
              "      <th>Support Vector Machines</th>\n",
              "      <td>95.081967</td>\n",
              "    </tr>\n",
              "    <tr>\n",
              "      <th>Random Forest</th>\n",
              "      <td>92.622951</td>\n",
              "    </tr>\n",
              "    <tr>\n",
              "      <th>Gaussian Naive Bayes</th>\n",
              "      <td>90.163934</td>\n",
              "    </tr>\n",
              "    <tr>\n",
              "      <th>Decision Tree</th>\n",
              "      <td>88.524590</td>\n",
              "    </tr>\n",
              "    <tr>\n",
              "      <th>kNearest Neighbors</th>\n",
              "      <td>86.065574</td>\n",
              "    </tr>\n",
              "  </tbody>\n",
              "</table>\n",
              "</div>"
            ],
            "text/plain": [
              "                             Score\n",
              "Model                             \n",
              "Logistic Regression      95.901639\n",
              "Support Vector Machines  95.081967\n",
              "Random Forest            92.622951\n",
              "Gaussian Naive Bayes     90.163934\n",
              "Decision Tree            88.524590\n",
              "kNearest Neighbors       86.065574"
            ]
          },
          "metadata": {
            "tags": []
          },
          "execution_count": 251
        }
      ]
    },
    {
      "cell_type": "code",
      "metadata": {
        "id": "9K-Itoi3r5vw",
        "outputId": "58a3f139-39f6-49e2-ca11-4a8c8deff16d",
        "colab": {
          "base_uri": "https://localhost:8080/",
          "height": 279
        }
      },
      "source": [
        "from sklearn.metrics import plot_roc_curve\n",
        "import matplotlib.pyplot as plt\n",
        "ax = plt.gca()\n",
        "\n",
        "rfc_disp = plot_roc_curve(random_forest, X_test, y_test, ax=ax, alpha=1)\n",
        "knn_disp= plot_roc_curve(knn,X_test,y_test,ax=ax,alpha=1)\n",
        "dt_disp= plot_roc_curve(decision_tree, X_test,y_test, ax=ax,alpha=1)\n",
        "svc_disp = plot_roc_curve(linear_svc,X_test,y_test,ax=ax,alpha=1)\n",
        "gnb_disp=plot_roc_curve(gaussian, X_test, y_test, ax=ax, alpha = 1)\n",
        "logreg_disp = plot_roc_curve(logreg, X_test, y_test, ax=ax, alpha=1)\n",
        "plt.show()"
      ],
      "execution_count": 252,
      "outputs": [
        {
          "output_type": "display_data",
          "data": {
            "image/png": "[encoded data removed]",
            "text/plain": [
              "<Figure size 432x288 with 1 Axes>"
            ]
          },
          "metadata": {
            "tags": [],
            "needs_background": "light"
          }
        }
      ]
    },
    {
      "cell_type": "markdown",
      "metadata": {
        "id": "mUUaWEKwr5vy"
      },
      "source": [
        "#  20 features"
      ]
    },
    {
      "cell_type": "code",
      "metadata": {
        "id": "4ubfW0ATr5vy"
      },
      "source": [
        "from sklearn.model_selection import train_test_split\n",
        "train, test = train_test_split(df, test_size=0.33)"
      ],
      "execution_count": 253,
      "outputs": []
    },
    {
      "cell_type": "code",
      "metadata": {
        "id": "HWZh-oPxr5v0"
      },
      "source": [
        "X = chisquared10\n",
        "y = df['goal']\n",
        "from sklearn.model_selection import train_test_split\n",
        "X_train, X_test, y_train, y_test = train_test_split(X, y, random_state=0)\n",
        "from sklearn.preprocessing import MinMaxScaler\n",
        "scaler = MinMaxScaler()\n",
        "X_train = scaler.fit_transform(X_train)\n",
        "X_test = scaler.transform(X_test)"
      ],
      "execution_count": 254,
      "outputs": []
    },
    {
      "cell_type": "code",
      "metadata": {
        "id": "X6gkuY2qr5v1",
        "outputId": "eeecc481-6ddd-404a-dbae-88462c003c79",
        "colab": {
          "base_uri": "https://localhost:8080/",
          "height": 35
        }
      },
      "source": [
        "from sklearn.metrics import accuracy_score\n",
        "from sklearn.linear_model import LogisticRegression\n",
        "logreg=LogisticRegression()\n",
        "logreg.fit(X_train,y_train)\n",
        "y_pred=logreg.predict(X_test)\n",
        "acc_logreg= accuracy_score(y_pred,y_test)*100\n",
        "acc_logreg"
      ],
      "execution_count": 255,
      "outputs": [
        {
          "output_type": "execute_result",
          "data": {
            "text/plain": [
              "95.90163934426229"
            ]
          },
          "metadata": {
            "tags": []
          },
          "execution_count": 255
        }
      ]
    },
    {
      "cell_type": "code",
      "metadata": {
        "id": "T29VAc7gr5v2",
        "outputId": "5eba7f8f-6470-4be8-84e3-325ab02089a8",
        "colab": {
          "base_uri": "https://localhost:8080/",
          "height": 182
        }
      },
      "source": [
        "from sklearn.metrics import classification_report\n",
        "target_names = ['Healthy ', 'Addicted']\n",
        "print(classification_report(y_test, y_pred, target_names=target_names))"
      ],
      "execution_count": 256,
      "outputs": [
        {
          "output_type": "stream",
          "text": [
            "              precision    recall  f1-score   support\n",
            "\n",
            "    Healthy        0.99      0.95      0.97        80\n",
            "    Addicted       0.91      0.98      0.94        42\n",
            "\n",
            "    accuracy                           0.96       122\n",
            "   macro avg       0.95      0.96      0.96       122\n",
            "weighted avg       0.96      0.96      0.96       122\n",
            "\n"
          ],
          "name": "stdout"
        }
      ]
    },
    {
      "cell_type": "code",
      "metadata": {
        "id": "1M33ou4_r5v4",
        "outputId": "058786a1-f5b0-4fa2-be1f-8d78ffbbc3d7",
        "colab": {
          "base_uri": "https://localhost:8080/",
          "height": 35
        }
      },
      "source": [
        "from sklearn.tree import DecisionTreeClassifier\n",
        "decision_tree = DecisionTreeClassifier()\n",
        "decision_tree.fit(X_train, y_train)  \n",
        "y_pred = decision_tree.predict(X_test)  \n",
        "acc_decision_tree = accuracy_score(y_pred, y_test) * 100\n",
        "acc_decision_tree"
      ],
      "execution_count": 257,
      "outputs": [
        {
          "output_type": "execute_result",
          "data": {
            "text/plain": [
              "86.88524590163934"
            ]
          },
          "metadata": {
            "tags": []
          },
          "execution_count": 257
        }
      ]
    },
    {
      "cell_type": "code",
      "metadata": {
        "id": "vIpVHFuir5v5",
        "outputId": "35748f76-c991-4d12-b51d-293d06fd9039",
        "colab": {
          "base_uri": "https://localhost:8080/",
          "height": 182
        }
      },
      "source": [
        "from sklearn.metrics import classification_report\n",
        "target_names = ['Healthy ', 'Addicted']\n",
        "print(classification_report(y_test, y_pred, target_names=target_names))"
      ],
      "execution_count": 258,
      "outputs": [
        {
          "output_type": "stream",
          "text": [
            "              precision    recall  f1-score   support\n",
            "\n",
            "    Healthy        0.90      0.90      0.90        80\n",
            "    Addicted       0.81      0.81      0.81        42\n",
            "\n",
            "    accuracy                           0.87       122\n",
            "   macro avg       0.85      0.85      0.85       122\n",
            "weighted avg       0.87      0.87      0.87       122\n",
            "\n"
          ],
          "name": "stdout"
        }
      ]
    },
    {
      "cell_type": "code",
      "metadata": {
        "id": "IIRmpvz6r5v7",
        "outputId": "3f86b6fc-feeb-4457-f11d-885239acbdf1",
        "colab": {
          "base_uri": "https://localhost:8080/",
          "height": 35
        }
      },
      "source": [
        "from sklearn.svm import LinearSVC\n",
        "linear_svc = LinearSVC()\n",
        "linear_svc.fit(X_train, y_train)\n",
        "\n",
        "y_pred = linear_svc.predict(X_test)\n",
        "\n",
        "acc_linear_svc = accuracy_score(y_pred, y_test) * 100\n",
        "acc_linear_svc"
      ],
      "execution_count": 259,
      "outputs": [
        {
          "output_type": "execute_result",
          "data": {
            "text/plain": [
              "95.08196721311475"
            ]
          },
          "metadata": {
            "tags": []
          },
          "execution_count": 259
        }
      ]
    },
    {
      "cell_type": "code",
      "metadata": {
        "id": "HVwv1ua4r5v9",
        "outputId": "19a06e9a-75ad-45e6-fc48-08c2038978c6",
        "colab": {
          "base_uri": "https://localhost:8080/",
          "height": 182
        }
      },
      "source": [
        "from sklearn.metrics import classification_report\n",
        "target_names = ['Healthy ', 'Addicted']\n",
        "print(classification_report(y_test, y_pred, target_names=target_names))"
      ],
      "execution_count": 260,
      "outputs": [
        {
          "output_type": "stream",
          "text": [
            "              precision    recall  f1-score   support\n",
            "\n",
            "    Healthy        0.99      0.94      0.96        80\n",
            "    Addicted       0.89      0.98      0.93        42\n",
            "\n",
            "    accuracy                           0.95       122\n",
            "   macro avg       0.94      0.96      0.95       122\n",
            "weighted avg       0.95      0.95      0.95       122\n",
            "\n"
          ],
          "name": "stdout"
        }
      ]
    },
    {
      "cell_type": "code",
      "metadata": {
        "id": "QpmR_-DDr5v-",
        "outputId": "065431dd-5f7d-427a-b1c9-a0b284476dc3",
        "colab": {
          "base_uri": "https://localhost:8080/",
          "height": 35
        }
      },
      "source": [
        "from sklearn.naive_bayes import GaussianNB\n",
        "gaussian = GaussianNB()\n",
        "gaussian.fit(X_train, y_train) \n",
        "y_pred = gaussian.predict(X_test)\n",
        "acc_gaussian = accuracy_score(y_pred, y_test) * 100\n",
        "acc_gaussian"
      ],
      "execution_count": 261,
      "outputs": [
        {
          "output_type": "execute_result",
          "data": {
            "text/plain": [
              "91.80327868852459"
            ]
          },
          "metadata": {
            "tags": []
          },
          "execution_count": 261
        }
      ]
    },
    {
      "cell_type": "code",
      "metadata": {
        "id": "eJt9NSQAr5v_",
        "outputId": "2c8a5022-2d64-478f-d072-da27b2cbfae1",
        "colab": {
          "base_uri": "https://localhost:8080/",
          "height": 182
        }
      },
      "source": [
        "from sklearn.metrics import classification_report\n",
        "target_names = ['Healthy ', 'Addicted']\n",
        "print(classification_report(y_test, y_pred, target_names=target_names))"
      ],
      "execution_count": 262,
      "outputs": [
        {
          "output_type": "stream",
          "text": [
            "              precision    recall  f1-score   support\n",
            "\n",
            "    Healthy        0.99      0.89      0.93        80\n",
            "    Addicted       0.82      0.98      0.89        42\n",
            "\n",
            "    accuracy                           0.92       122\n",
            "   macro avg       0.90      0.93      0.91       122\n",
            "weighted avg       0.93      0.92      0.92       122\n",
            "\n"
          ],
          "name": "stdout"
        }
      ]
    },
    {
      "cell_type": "code",
      "metadata": {
        "id": "QV5UCYCir5wB",
        "outputId": "21a70350-5133-4df4-e452-744ec9932e07",
        "colab": {
          "base_uri": "https://localhost:8080/",
          "height": 35
        }
      },
      "source": [
        "from sklearn.neighbors import KNeighborsClassifier\n",
        "knn = KNeighborsClassifier(n_neighbors = 2) \n",
        "knn.fit(X_train, y_train)  \n",
        "y_pred = knn.predict(X_test)  \n",
        "acc_knn = accuracy_score(y_pred, y_test) * 100\n",
        "acc_knn"
      ],
      "execution_count": 263,
      "outputs": [
        {
          "output_type": "execute_result",
          "data": {
            "text/plain": [
              "86.88524590163934"
            ]
          },
          "metadata": {
            "tags": []
          },
          "execution_count": 263
        }
      ]
    },
    {
      "cell_type": "code",
      "metadata": {
        "id": "-QJKYUgqr5wD",
        "outputId": "a5c8ce22-d5b8-4429-a3d5-ca445cd7a323",
        "colab": {
          "base_uri": "https://localhost:8080/",
          "height": 182
        }
      },
      "source": [
        "from sklearn.metrics import classification_report\n",
        "target_names = ['Healthy ', 'Addicted']\n",
        "print(classification_report(y_test, y_pred, target_names=target_names))"
      ],
      "execution_count": 264,
      "outputs": [
        {
          "output_type": "stream",
          "text": [
            "              precision    recall  f1-score   support\n",
            "\n",
            "    Healthy        0.86      0.95      0.90        80\n",
            "    Addicted       0.88      0.71      0.79        42\n",
            "\n",
            "    accuracy                           0.87       122\n",
            "   macro avg       0.87      0.83      0.85       122\n",
            "weighted avg       0.87      0.87      0.87       122\n",
            "\n"
          ],
          "name": "stdout"
        }
      ]
    },
    {
      "cell_type": "code",
      "metadata": {
        "id": "woJQ_IXHr5wE",
        "outputId": "b154c9ce-316e-4c4f-f057-38aec8d6da21",
        "colab": {
          "base_uri": "https://localhost:8080/",
          "height": 35
        }
      },
      "source": [
        "from sklearn.ensemble import RandomForestClassifier\n",
        "random_forest= RandomForestClassifier()\n",
        "random_forest.fit(X_train,y_train)\n",
        "y_pred = random_forest.predict(X_test)\n",
        "acc_random_forest = accuracy_score(y_pred,y_test)*100\n",
        "acc_random_forest"
      ],
      "execution_count": 265,
      "outputs": [
        {
          "output_type": "execute_result",
          "data": {
            "text/plain": [
              "93.44262295081968"
            ]
          },
          "metadata": {
            "tags": []
          },
          "execution_count": 265
        }
      ]
    },
    {
      "cell_type": "code",
      "metadata": {
        "id": "iZK95WShr5wG",
        "outputId": "e96ffb91-f0a3-4f54-b55a-28cace0ad710",
        "colab": {
          "base_uri": "https://localhost:8080/",
          "height": 182
        }
      },
      "source": [
        "from sklearn.metrics import classification_report\n",
        "target_names = ['Healthy ', 'Addicted']\n",
        "print(classification_report(y_test, y_pred, target_names=target_names))"
      ],
      "execution_count": 266,
      "outputs": [
        {
          "output_type": "stream",
          "text": [
            "              precision    recall  f1-score   support\n",
            "\n",
            "    Healthy        0.96      0.94      0.95        80\n",
            "    Addicted       0.89      0.93      0.91        42\n",
            "\n",
            "    accuracy                           0.93       122\n",
            "   macro avg       0.92      0.93      0.93       122\n",
            "weighted avg       0.94      0.93      0.93       122\n",
            "\n"
          ],
          "name": "stdout"
        }
      ]
    },
    {
      "cell_type": "code",
      "metadata": {
        "id": "8iKufvbVr5wI",
        "outputId": "01baea45-aff0-4208-fde6-82d4f47e61f5",
        "colab": {
          "base_uri": "https://localhost:8080/",
          "height": 269
        }
      },
      "source": [
        "results = pd.DataFrame({\n",
        "    'Model': ['Support Vector Machines', 'Logistic Regression', \n",
        "              'Random Forest', 'Decision Tree', 'kNearest Neighbors','Gaussian Naive Bayes'],\n",
        "    'Score': [acc_linear_svc, acc_logreg, \n",
        "              acc_random_forest, acc_decision_tree,acc_knn, acc_gaussian]})\n",
        "result_df = results.sort_values(by='Score', ascending=False)\n",
        "result_df = result_df.set_index('Model')\n",
        "result_df"
      ],
      "execution_count": 267,
      "outputs": [
        {
          "output_type": "execute_result",
          "data": {
            "text/html": [
              "<div>\n",
              "<style scoped>\n",
              "    .dataframe tbody tr th:only-of-type {\n",
              "        vertical-align: middle;\n",
              "    }\n",
              "\n",
              "    .dataframe tbody tr th {\n",
              "        vertical-align: top;\n",
              "    }\n",
              "\n",
              "    .dataframe thead th {\n",
              "        text-align: right;\n",
              "    }\n",
              "</style>\n",
              "<table border=\"1\" class=\"dataframe\">\n",
              "  <thead>\n",
              "    <tr style=\"text-align: right;\">\n",
              "      <th></th>\n",
              "      <th>Score</th>\n",
              "    </tr>\n",
              "    <tr>\n",
              "      <th>Model</th>\n",
              "      <th></th>\n",
              "    </tr>\n",
              "  </thead>\n",
              "  <tbody>\n",
              "    <tr>\n",
              "      <th>Logistic Regression</th>\n",
              "      <td>95.901639</td>\n",
              "    </tr>\n",
              "    <tr>\n",
              "      <th>Support Vector Machines</th>\n",
              "      <td>95.081967</td>\n",
              "    </tr>\n",
              "    <tr>\n",
              "      <th>Random Forest</th>\n",
              "      <td>93.442623</td>\n",
              "    </tr>\n",
              "    <tr>\n",
              "      <th>Gaussian Naive Bayes</th>\n",
              "      <td>91.803279</td>\n",
              "    </tr>\n",
              "    <tr>\n",
              "      <th>Decision Tree</th>\n",
              "      <td>86.885246</td>\n",
              "    </tr>\n",
              "    <tr>\n",
              "      <th>kNearest Neighbors</th>\n",
              "      <td>86.885246</td>\n",
              "    </tr>\n",
              "  </tbody>\n",
              "</table>\n",
              "</div>"
            ],
            "text/plain": [
              "                             Score\n",
              "Model                             \n",
              "Logistic Regression      95.901639\n",
              "Support Vector Machines  95.081967\n",
              "Random Forest            93.442623\n",
              "Gaussian Naive Bayes     91.803279\n",
              "Decision Tree            86.885246\n",
              "kNearest Neighbors       86.885246"
            ]
          },
          "metadata": {
            "tags": []
          },
          "execution_count": 267
        }
      ]
    },
    {
      "cell_type": "code",
      "metadata": {
        "id": "Kdw6-uxQr5wJ",
        "outputId": "7bb2d52d-b581-46b8-fd93-ea1dc0c5f0b6",
        "colab": {
          "base_uri": "https://localhost:8080/",
          "height": 279
        }
      },
      "source": [
        "from sklearn.metrics import plot_roc_curve\n",
        "import matplotlib.pyplot as plt\n",
        "ax = plt.gca()\n",
        "\n",
        "rfc_disp = plot_roc_curve(random_forest, X_test, y_test, ax=ax, alpha=1)\n",
        "knn_disp= plot_roc_curve(knn,X_test,y_test,ax=ax,alpha=1)\n",
        "dt_disp= plot_roc_curve(decision_tree, X_test,y_test, ax=ax,alpha=1)\n",
        "svc_disp = plot_roc_curve(linear_svc,X_test,y_test,ax=ax,alpha=1)\n",
        "gnb_disp=plot_roc_curve(gaussian, X_test, y_test, ax=ax, alpha = 1)\n",
        "logreg_disp = plot_roc_curve(logreg, X_test, y_test, ax=ax, alpha=1)\n",
        "plt.show()"
      ],
      "execution_count": 268,
      "outputs": [
        {
          "output_type": "display_data",
          "data": {
            "image/png": "[encoded data removed]",
            "text/plain": [
              "<Figure size 432x288 with 1 Axes>"
            ]
          },
          "metadata": {
            "tags": [],
            "needs_background": "light"
          }
        }
      ]
    },
    {
      "cell_type": "markdown",
      "metadata": {
        "id": "5LghbYLgr5wc"
      },
      "source": [
        "#  comparison"
      ]
    },
    {
      "cell_type": "code",
      "metadata": {
        "id": "kQQIRkTCr5wc",
        "outputId": "13cf3d45-c7b0-473e-ad22-3644f5684eac",
        "colab": {
          "base_uri": "https://localhost:8080/",
          "height": 457
        }
      },
      "source": [
        "import pandas as pd\n",
        "results = pd.DataFrame({\n",
        "    'Classifier': ['10','11','12','13', '14','15','16','17','18','19','20', 'all'],\n",
        "    'Accuracy Score(%)': [91.80,91.80,93.44,93.44,93.44,94.26,95.08,95.08,96.72, 95.90, 95.90,95.90],\n",
        "    'AUC value*100': [98, 95, 97, 97, 97, 97, 97, 98, 98, 98, 98, 98],\n",
        "    'weighted avg f1 score*100':[92,92,93,94,94,94,95,95,97,96,96,96]\n",
        "    })\n",
        "result_df = results.set_index('Classifier')\n",
        "result_df"
      ],
      "execution_count": 294,
      "outputs": [
        {
          "output_type": "execute_result",
          "data": {
            "text/html": [
              "<div>\n",
              "<style scoped>\n",
              "    .dataframe tbody tr th:only-of-type {\n",
              "        vertical-align: middle;\n",
              "    }\n",
              "\n",
              "    .dataframe tbody tr th {\n",
              "        vertical-align: top;\n",
              "    }\n",
              "\n",
              "    .dataframe thead th {\n",
              "        text-align: right;\n",
              "    }\n",
              "</style>\n",
              "<table border=\"1\" class=\"dataframe\">\n",
              "  <thead>\n",
              "    <tr style=\"text-align: right;\">\n",
              "      <th></th>\n",
              "      <th>Accuracy Score(%)</th>\n",
              "      <th>AUC value*100</th>\n",
              "      <th>weighted avg f1 score*100</th>\n",
              "    </tr>\n",
              "    <tr>\n",
              "      <th>Classifier</th>\n",
              "      <th></th>\n",
              "      <th></th>\n",
              "      <th></th>\n",
              "    </tr>\n",
              "  </thead>\n",
              "  <tbody>\n",
              "    <tr>\n",
              "      <th>10</th>\n",
              "      <td>91.80</td>\n",
              "      <td>98</td>\n",
              "      <td>92</td>\n",
              "    </tr>\n",
              "    <tr>\n",
              "      <th>11</th>\n",
              "      <td>91.80</td>\n",
              "      <td>95</td>\n",
              "      <td>92</td>\n",
              "    </tr>\n",
              "    <tr>\n",
              "      <th>12</th>\n",
              "      <td>93.44</td>\n",
              "      <td>97</td>\n",
              "      <td>93</td>\n",
              "    </tr>\n",
              "    <tr>\n",
              "      <th>13</th>\n",
              "      <td>93.44</td>\n",
              "      <td>97</td>\n",
              "      <td>94</td>\n",
              "    </tr>\n",
              "    <tr>\n",
              "      <th>14</th>\n",
              "      <td>93.44</td>\n",
              "      <td>97</td>\n",
              "      <td>94</td>\n",
              "    </tr>\n",
              "    <tr>\n",
              "      <th>15</th>\n",
              "      <td>94.26</td>\n",
              "      <td>97</td>\n",
              "      <td>94</td>\n",
              "    </tr>\n",
              "    <tr>\n",
              "      <th>16</th>\n",
              "      <td>95.08</td>\n",
              "      <td>97</td>\n",
              "      <td>95</td>\n",
              "    </tr>\n",
              "    <tr>\n",
              "      <th>17</th>\n",
              "      <td>95.08</td>\n",
              "      <td>98</td>\n",
              "      <td>95</td>\n",
              "    </tr>\n",
              "    <tr>\n",
              "      <th>18</th>\n",
              "      <td>96.72</td>\n",
              "      <td>98</td>\n",
              "      <td>97</td>\n",
              "    </tr>\n",
              "    <tr>\n",
              "      <th>19</th>\n",
              "      <td>95.90</td>\n",
              "      <td>98</td>\n",
              "      <td>96</td>\n",
              "    </tr>\n",
              "    <tr>\n",
              "      <th>20</th>\n",
              "      <td>95.90</td>\n",
              "      <td>98</td>\n",
              "      <td>96</td>\n",
              "    </tr>\n",
              "    <tr>\n",
              "      <th>all</th>\n",
              "      <td>95.90</td>\n",
              "      <td>98</td>\n",
              "      <td>96</td>\n",
              "    </tr>\n",
              "  </tbody>\n",
              "</table>\n",
              "</div>"
            ],
            "text/plain": [
              "            Accuracy Score(%)  AUC value*100  weighted avg f1 score*100\n",
              "Classifier                                                             \n",
              "10                      91.80             98                         92\n",
              "11                      91.80             95                         92\n",
              "12                      93.44             97                         93\n",
              "13                      93.44             97                         94\n",
              "14                      93.44             97                         94\n",
              "15                      94.26             97                         94\n",
              "16                      95.08             97                         95\n",
              "17                      95.08             98                         95\n",
              "18                      96.72             98                         97\n",
              "19                      95.90             98                         96\n",
              "20                      95.90             98                         96\n",
              "all                     95.90             98                         96"
            ]
          },
          "metadata": {
            "tags": []
          },
          "execution_count": 294
        }
      ]
    },
    {
      "cell_type": "code",
      "metadata": {
        "id": "Ie9v6xiXr5wf",
        "outputId": "05008bc8-b2ff-4b38-903e-f2db2898b6af",
        "colab": {
          "base_uri": "https://localhost:8080/",
          "height": 297
        }
      },
      "source": [
        "result_df.plot()"
      ],
      "execution_count": 295,
      "outputs": [
        {
          "output_type": "execute_result",
          "data": {
            "text/plain": [
              "<matplotlib.axes._subplots.AxesSubplot at 0x7fe7ed482080>"
            ]
          },
          "metadata": {
            "tags": []
          },
          "execution_count": 295
        },
        {
          "output_type": "display_data",
          "data": {
            "image/png": "[encoded data removed]",
            "text/plain": [
              "<Figure size 432x288 with 1 Axes>"
            ]
          },
          "metadata": {
            "tags": [],
            "needs_background": "light"
          }
        }
      ]
    },
    {
      "cell_type": "code",
      "metadata": {
        "id": "yVp6bN4Wr5wf",
        "outputId": "80e48655-0578-4166-962a-4a52fe59c579",
        "colab": {
          "base_uri": "https://localhost:8080/",
          "height": 383
        }
      },
      "source": [
        "import seaborn as sns\n",
        "df=result_df\n",
        "df=df.reset_index()\n",
        "df = df.melt('Classifier', var_name='cols',  value_name='vals')\n",
        "g = sns.catplot(x=\"Classifier\", y=\"vals\", hue='cols', data=df, kind='point')"
      ],
      "execution_count": 296,
      "outputs": [
        {
          "output_type": "display_data",
          "data": {
            "image/png": "[encoded data removed]",
            "text/plain": [
              "<Figure size 530.625x360 with 1 Axes>"
            ]
          },
          "metadata": {
            "tags": [],
            "needs_background": "light"
          }
        }
      ]
    },
    {
      "cell_type": "code",
      "metadata": {
        "id": "Zf94NLvMr5wi"
      },
      "source": [
        ""
      ],
      "execution_count": null,
      "outputs": []
    },
    {
      "cell_type": "code",
      "metadata": {
        "id": "PFDP7nqhr5wj"
      },
      "source": [
        ""
      ],
      "execution_count": null,
      "outputs": []
    },
    {
      "cell_type": "code",
      "metadata": {
        "id": "JqZl0SSvr5wk"
      },
      "source": [
        ""
      ],
      "execution_count": null,
      "outputs": []
    },
    {
      "cell_type": "code",
      "metadata": {
        "id": "Pc8RFXBbr5wm"
      },
      "source": [
        ""
      ],
      "execution_count": null,
      "outputs": []
    }
  ]
}